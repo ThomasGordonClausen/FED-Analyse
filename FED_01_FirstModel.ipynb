{
 "cells": [
  {
   "cell_type": "markdown",
   "metadata": {},
   "source": [
    "## Kan man forudsige hvor stort et problem bliver et sekund efter vi har konstateret det?\n",
    "Ideen i denne KERAS model er at undersøge om man kan forudsige hvor stor en forstyrrelse i trafikken bliver et sekund efter at vi har konstaret problemet. \n",
    "\n",
    "I FED skriver driftslederen hvad der er sket i en kort tekst. Derefter begynder driftslederen at skrive en masse aktioner. Det er aflysninger, ændringer til hvordan trafikken skal køre osv. Problemets størrelse måler jeg her som antallet af aktioner (linjer) der skrives til overskriften. \n",
    "\n",
    "For simpelhedens skyld har jeg opdelt data i små og store problemer. Hvis der er op til 10 aktioner, så er det et \"lille\" problem. Hvis der 10 eller flere aktioner, så er det et \"stort\" priblem.\n",
    "\n",
    "**Konklusionen** er længere nede, at en \"machine learning\" model kan lære at spotte problemets størrelse med meget stor sikkerhed (98%) blot ud fra overskriften.\n",
    "\n",
    "Næste opgave bliver at arbejde med \n",
    "- \"predictions\" er ikke tæt nok på at være 0 eller 1, de er nærmere 0.1 og 0.5. Underligt ...\n",
    "- Lave en model, som kan estimere antallet af aktioner ud fra overskriften\n",
    "- Skifte fra \"one hot\" tekst-input til \"embedding\"\n",
    "- prøve modellen med \"validation_split=0.2\""
   ]
  },
  {
   "cell_type": "code",
   "execution_count": 1,
   "metadata": {},
   "outputs": [
    {
     "data": {
      "text/plain": [
       "['.ipynb_checkpoints', 'FEDData.xlsx', 'FED_01_FirstModel.ipynb']"
      ]
     },
     "execution_count": 1,
     "metadata": {},
     "output_type": "execute_result"
    }
   ],
   "source": [
    "# vi sætter stien til data\n",
    "import os\n",
    "import pandas as pd\n",
    "import numpy as np\n",
    "\n",
    "os.chdir('/Users/ThomasGordon/Documents/PythonScripts/FED')\n",
    "os.listdir()"
   ]
  },
  {
   "cell_type": "markdown",
   "metadata": {},
   "source": [
    "Vi indlæser regnearket:"
   ]
  },
  {
   "cell_type": "code",
   "execution_count": 2,
   "metadata": {},
   "outputs": [
    {
     "name": "stdout",
     "output_type": "stream",
     "text": [
      "['RaaData_Forespørgsel']\n",
      "(26185, 4)\n"
     ]
    }
   ],
   "source": [
    "file = 'FEDData.xlsx'\n",
    "xl = pd.ExcelFile(file)\n",
    "df = xl.parse('RaaData_Forespørgsel')\n",
    "print(xl.sheet_names)\n",
    "print(df.shape)"
   ]
  },
  {
   "cell_type": "markdown",
   "metadata": {},
   "source": [
    "Vi lægger data over i to tabeller:"
   ]
  },
  {
   "cell_type": "code",
   "execution_count": 3,
   "metadata": {},
   "outputs": [
    {
     "name": "stdout",
     "output_type": "stream",
     "text": [
      "[    1     2     3 ... 26183 26184 26185]\n"
     ]
    }
   ],
   "source": [
    "labels = df.loc[:,'FEDsize']\n",
    "texts  = df.loc[:,'FEDtext']\n",
    "FEDid  = df.loc[:,'FEDid']\n",
    "labels = labels.values\n",
    "texts  = texts.values\n",
    "FEDid  = FEDid.values\n",
    "\n",
    "for i in range(len(texts)):\n",
    "    if not isinstance(texts[i],(str,)):\n",
    "        print(i, texts[i])\n",
    "print(FEDid)\n"
   ]
  },
  {
   "cell_type": "markdown",
   "metadata": {},
   "source": [
    "Vi laver en \"one-hot\" input vektor:"
   ]
  },
  {
   "cell_type": "code",
   "execution_count": 4,
   "metadata": {},
   "outputs": [
    {
     "name": "stderr",
     "output_type": "stream",
     "text": [
      "C:\\Users\\ThomasGordon\\Anaconda3\\lib\\site-packages\\h5py\\__init__.py:36: FutureWarning: Conversion of the second argument of issubdtype from `float` to `np.floating` is deprecated. In future, it will be treated as `np.float64 == np.dtype(float).type`.\n",
      "  from ._conv import register_converters as _register_converters\n",
      "Using TensorFlow backend.\n"
     ]
    },
    {
     "name": "stdout",
     "output_type": "stream",
     "text": [
      "Found 14290 unique tokens.\n",
      "Her er et eksempel:\n",
      "[286, 4, 6, 34, 1057, 116, 94]\n",
      "PT er der ingen kørestrøm Ok-HG\n",
      "1\n",
      "[   0    0    0    0    0    0    0    0    0    0    0    0    0    0\n",
      "    0    0    0    0    0    0    0    0    0    0    0    0    0    0\n",
      "    0    0    0    0    0    0    0    0    0    0    0    0    0    0\n",
      "    0    0    0    0  286    4    6   34 1057  116   94]\n"
     ]
    }
   ],
   "source": [
    "from keras.preprocessing.text import Tokenizer\n",
    "from keras.preprocessing.sequence import pad_sequences\n",
    "\n",
    "max_words = 10000  # Vi ser kun på de 10.000 mest almindelige ord\n",
    "\n",
    "# vi laver ordene i FED om til tilsvarende tal (som igen kan laves til en \"one-hot)\n",
    "tokenizer = Tokenizer(num_words=max_words)\n",
    "tokenizer.fit_on_texts(texts)\n",
    "sequences = tokenizer.texts_to_sequences(texts)\n",
    "\n",
    "# udfyld de tomme pladser med \"0\" og gem vores fulde input-datasæt i \"data\"\n",
    "data = pad_sequences(sequences)\n",
    "\n",
    "word_index = tokenizer.word_index\n",
    "\n",
    "# lad os lige se hvad vi har lavet ind til nu\n",
    "print('Found %s unique tokens.' % len(word_index))\n",
    "print('Her er et eksempel:')\n",
    "print(sequences[0])\n",
    "print(texts[0])\n",
    "print(labels[0])\n",
    "print(data[0])"
   ]
  },
  {
   "cell_type": "markdown",
   "metadata": {},
   "source": [
    "Her prøver jeg lige at dekode teksten ingen:"
   ]
  },
  {
   "cell_type": "code",
   "execution_count": 5,
   "metadata": {},
   "outputs": [
    {
     "name": "stdout",
     "output_type": "stream",
     "text": [
      "? ? ? ? ? ? ? ? ? ? ? ? ? ? ? ? ? ? ? ? ? ? ? ? ? ? ? ? ? ? ? ? ? ? ? ? ? ? ? ? ? ? ? ? ? ? pt er der ingen kørestrøm ok hg\n"
     ]
    }
   ],
   "source": [
    "# Vi vender word-index om, så vi kan omsætte retur til forståelig tekst\n",
    "reverse_word_index = dict([(value, key) for (key, value) in word_index.items()])\n",
    "decoded_review = ' '.join([reverse_word_index.get(i, '?') for i in data[0]])\n",
    "print(decoded_review) "
   ]
  },
  {
   "cell_type": "markdown",
   "metadata": {},
   "source": [
    "Labels skal også over i et Numpy array, og lad os se formen:"
   ]
  },
  {
   "cell_type": "code",
   "execution_count": 6,
   "metadata": {},
   "outputs": [
    {
     "name": "stdout",
     "output_type": "stream",
     "text": [
      "Shape of data tensor: (26185, 53)\n",
      "Shape of label tensor: (26185,)\n"
     ]
    }
   ],
   "source": [
    "labels = np.asarray(labels)\n",
    "\n",
    "print('Shape of data tensor:', data.shape)\n",
    "print('Shape of label tensor:', labels.shape)"
   ]
  },
  {
   "cell_type": "markdown",
   "metadata": {},
   "source": [
    "Nu \"rafler\" vi data, da de er sorteret med de største først i regnearket. Efterfølgende deles der op i data til træning, validering og test:"
   ]
  },
  {
   "cell_type": "code",
   "execution_count": 7,
   "metadata": {},
   "outputs": [
    {
     "name": "stdout",
     "output_type": "stream",
     "text": [
      "(19000, 53)\n",
      "(19000,)\n",
      "(19000,)\n",
      "(1000, 53)\n",
      "(1000,)\n",
      "(1000,)\n",
      "(6000, 53)\n",
      "(6000,)\n",
      "(6000,)\n"
     ]
    }
   ],
   "source": [
    "# vi rafler data rundt tilfældigt (vi laver et tilfældigt index)\n",
    "indices = np.arange(data.shape[0])\n",
    "np.random.shuffle(indices)\n",
    "data   = data[indices]\n",
    "labels = labels[indices]\n",
    "FEDid  = FEDid[indices]\n",
    "\n",
    "# halvdelen bruges til træning\n",
    "training_samples = 19000\n",
    "validation_samples = 1000\n",
    "test_samples = 6000\n",
    "\n",
    "x_train = data[:training_samples]\n",
    "y_train = labels[:training_samples]\n",
    "FEDid_train = FEDid[:training_samples]\n",
    "\n",
    "x_val = data[training_samples: training_samples + validation_samples]\n",
    "y_val = labels[training_samples: training_samples + validation_samples]\n",
    "FEDid_val = FEDid[training_samples: training_samples + validation_samples]\n",
    "\n",
    "x_test = data[training_samples + validation_samples: training_samples + validation_samples + test_samples]\n",
    "y_test = labels[training_samples + validation_samples: training_samples + validation_samples + test_samples]\n",
    "FEDid_test = FEDid[training_samples + validation_samples: training_samples + validation_samples + test_samples]\n",
    "\n",
    "print(x_train.shape)\n",
    "print(y_train.shape)\n",
    "print(FEDid_train.shape)\n",
    "print(x_val.shape)\n",
    "print(y_val.shape)\n",
    "print(FEDid_val.shape)\n",
    "print(x_test.shape)\n",
    "print(y_test.shape)\n",
    "print(FEDid_test.shape)"
   ]
  },
  {
   "cell_type": "markdown",
   "metadata": {},
   "source": [
    "Lidt print for at forstå mine data ..."
   ]
  },
  {
   "cell_type": "code",
   "execution_count": 8,
   "metadata": {},
   "outputs": [
    {
     "name": "stdout",
     "output_type": "stream",
     "text": [
      "[   0    0    0    0    0    0    0    0    0    0    0    0    0    0\n",
      "    0    0    0    0    0    0    0    0    0    0    0  361    2  134\n",
      " 1556  653    2   42  170   28 1740    5 6912  152 2540   15  124 5020\n",
      " 1613 2313 1691  519    4  601  322    1  633   60   16]\n",
      "[0 0 0 0 0 0 0 0 0 0 0 0 0 0 0 0 0 0 0 0 0 0 0 0 0 0 0 0 0 0 0 0 0 0 0 0 0\n",
      " 1 0 0 0 0 0 0 0 0 0 0 0 0 0 0 0 0 0 0 0 0 0 0 0 0 0 0 0 0 0 0 0 0 0 0 0 0\n",
      " 0 0 0 0 0 0 0 0 0 0 0 0 0 0 0 0 0 0 0 0 0 0 0 0 0 0 0 0 0 0 0 0 0 0 0 0 0\n",
      " 0 0 0 0 0 0 0 0 0 0 0 0 1 0 0 0 0 0 0 0 0 0 0 0 0 0 0 0 0 0 0 0 0 0 0 0 0\n",
      " 0 0 0 0 0 0 0 0 0 0 0 0 0 0 0 0 0 0 0 0 0 0 0 0 0 0 0 0 0 0 0 0 0 0 0 0 0\n",
      " 0 0 0 0 0 0 0 0 0 0 0 0 0 0]\n",
      "[17989 18330 17250 ...  9316 14181 25414]\n"
     ]
    }
   ],
   "source": [
    "print(data[1])\n",
    "print(labels[1:200])\n",
    "print(FEDid_test)"
   ]
  },
  {
   "cell_type": "markdown",
   "metadata": {},
   "source": [
    "Så skal vi lave input om til en \"one-hot\":"
   ]
  },
  {
   "cell_type": "code",
   "execution_count": 9,
   "metadata": {},
   "outputs": [
    {
     "name": "stdout",
     "output_type": "stream",
     "text": [
      "[[1. 0. 0. ... 0. 0. 0.]\n",
      " [1. 1. 1. ... 0. 0. 0.]\n",
      " [1. 1. 0. ... 0. 0. 0.]\n",
      " ...\n",
      " [1. 0. 0. ... 0. 0. 0.]\n",
      " [1. 1. 0. ... 0. 0. 0.]\n",
      " [1. 1. 0. ... 0. 0. 0.]]\n",
      " \n",
      "[[0. 1. 0. ... 0. 0. 0.]\n",
      " [0. 1. 0. ... 0. 0. 0.]\n",
      " [1. 0. 0. ... 0. 0. 0.]\n",
      " ...\n",
      " [1. 0. 0. ... 0. 0. 0.]\n",
      " [1. 0. 0. ... 0. 0. 0.]\n",
      " [1. 0. 0. ... 0. 0. 0.]]\n",
      " \n",
      "[[1. 0. 0. ... 0. 0. 0.]\n",
      " [1. 0. 0. ... 0. 0. 0.]\n",
      " [1. 0. 0. ... 0. 0. 0.]\n",
      " ...\n",
      " [1. 0. 0. ... 0. 0. 0.]\n",
      " [1. 0. 0. ... 0. 0. 0.]\n",
      " [1. 0. 0. ... 0. 0. 0.]]\n"
     ]
    }
   ],
   "source": [
    "# funktion som lave one-hot vektorer\n",
    "def vectorize_sequences(sequences, dimension=10000):\n",
    "    # lave en all-zero matrix af formen (len(sequences), dimension)\n",
    "    results = np.zeros((len(sequences), dimension))\n",
    "    for i, sequence in enumerate(sequences):\n",
    "        results[i, sequence] = 1.  # set specific indices of results[i] to 1s\n",
    "    return results\n",
    "\n",
    "# One-hot training data\n",
    "x_train = vectorize_sequences(x_train, dimension=max_words)\n",
    "# One-hot test data\n",
    "x_val = vectorize_sequences(y_val, dimension=max_words)\n",
    "# One-hot test data\n",
    "x_test = vectorize_sequences(y_test, dimension=max_words)\n",
    "\n",
    "print(x_train)\n",
    "print(' ')\n",
    "print(x_val)\n",
    "print(' ')\n",
    "print(x_test)"
   ]
  },
  {
   "cell_type": "markdown",
   "metadata": {},
   "source": [
    "Vi skal også vektorisere vores labels:"
   ]
  },
  {
   "cell_type": "code",
   "execution_count": 10,
   "metadata": {},
   "outputs": [],
   "source": [
    "# Our vectorized labels\n",
    "y_train = np.asarray(y_train).astype('float32')\n",
    "y_val = np.asarray(y_val).astype('float32')\n",
    "y_test = np.asarray(y_test).astype('float32')"
   ]
  },
  {
   "cell_type": "markdown",
   "metadata": {},
   "source": [
    "Nu bygger vi modellen:"
   ]
  },
  {
   "cell_type": "code",
   "execution_count": 11,
   "metadata": {},
   "outputs": [],
   "source": [
    "from keras import models\n",
    "from keras import layers\n",
    "\n",
    "model = models.Sequential()\n",
    "model.add(layers.Dense(16, activation='relu', input_shape=(10000,)))\n",
    "model.add(layers.Dense(16, activation='relu'))\n",
    "model.add(layers.Dense(1, activation='sigmoid'))"
   ]
  },
  {
   "cell_type": "markdown",
   "metadata": {},
   "source": [
    "Modellen oversættes og vi bruger følgende parametre:\n",
    "    - Optimizer: rmsprop\n",
    "    - Loss function: binary_crossentropy\n",
    "    - Målemetode: Accuracy"
   ]
  },
  {
   "cell_type": "code",
   "execution_count": 12,
   "metadata": {},
   "outputs": [],
   "source": [
    "model.compile(optimizer='rmsprop',\n",
    "              loss='binary_crossentropy',\n",
    "              metrics=['accuracy'])"
   ]
  },
  {
   "cell_type": "markdown",
   "metadata": {},
   "source": [
    "Træn modellen:"
   ]
  },
  {
   "cell_type": "code",
   "execution_count": 13,
   "metadata": {},
   "outputs": [
    {
     "name": "stdout",
     "output_type": "stream",
     "text": [
      "Train on 19000 samples, validate on 1000 samples\n",
      "Epoch 1/20\n",
      "19000/19000 [==============================] - 4s 209us/step - loss: 0.4045 - acc: 0.9693 - val_loss: 0.4636 - val_acc: 0.9790\n",
      "Epoch 2/20\n",
      "19000/19000 [==============================] - 2s 103us/step - loss: 0.1667 - acc: 0.9806 - val_loss: 0.3117 - val_acc: 0.9790\n",
      "Epoch 3/20\n",
      "19000/19000 [==============================] - 2s 102us/step - loss: 0.1091 - acc: 0.9806 - val_loss: 0.2022 - val_acc: 0.9790\n",
      "Epoch 4/20\n",
      "19000/19000 [==============================] - 2s 102us/step - loss: 0.0919 - acc: 0.9806 - val_loss: 0.1699 - val_acc: 0.9790\n",
      "Epoch 5/20\n",
      "19000/19000 [==============================] - 2s 100us/step - loss: 0.0813 - acc: 0.9806 - val_loss: 0.1458 - val_acc: 0.9790\n",
      "Epoch 6/20\n",
      "19000/19000 [==============================] - 2s 100us/step - loss: 0.0730 - acc: 0.9806 - val_loss: 0.1325 - val_acc: 0.9790\n",
      "Epoch 7/20\n",
      "19000/19000 [==============================] - 2s 100us/step - loss: 0.0661 - acc: 0.9807 - val_loss: 0.1136 - val_acc: 0.9790\n",
      "Epoch 8/20\n",
      "19000/19000 [==============================] - 2s 100us/step - loss: 0.0606 - acc: 0.9809 - val_loss: 0.1070 - val_acc: 0.9790\n",
      "Epoch 9/20\n",
      "19000/19000 [==============================] - 2s 100us/step - loss: 0.0567 - acc: 0.9817 - val_loss: 0.1048 - val_acc: 0.9790\n",
      "Epoch 10/20\n",
      "19000/19000 [==============================] - 2s 100us/step - loss: 0.0535 - acc: 0.9827 - val_loss: 0.0969 - val_acc: 0.9790\n",
      "Epoch 11/20\n",
      "19000/19000 [==============================] - 2s 105us/step - loss: 0.0509 - acc: 0.9835 - val_loss: 0.0905 - val_acc: 0.9790\n",
      "Epoch 12/20\n",
      "19000/19000 [==============================] - 2s 100us/step - loss: 0.0483 - acc: 0.9839 - val_loss: 0.0980 - val_acc: 0.9790\n",
      "Epoch 13/20\n",
      "19000/19000 [==============================] - 2s 101us/step - loss: 0.0462 - acc: 0.9847 - val_loss: 0.0875 - val_acc: 0.9790\n",
      "Epoch 14/20\n",
      "19000/19000 [==============================] - 2s 100us/step - loss: 0.0440 - acc: 0.9852 - val_loss: 0.0924 - val_acc: 0.9790\n",
      "Epoch 15/20\n",
      "19000/19000 [==============================] - 2s 101us/step - loss: 0.0423 - acc: 0.9858 - val_loss: 0.0952 - val_acc: 1.0000\n",
      "Epoch 16/20\n",
      "19000/19000 [==============================] - 2s 101us/step - loss: 0.0405 - acc: 0.9863 - val_loss: 0.1103 - val_acc: 1.0000\n",
      "Epoch 17/20\n",
      "19000/19000 [==============================] - 2s 101us/step - loss: 0.0389 - acc: 0.9869 - val_loss: 0.1115 - val_acc: 1.0000\n",
      "Epoch 18/20\n",
      "19000/19000 [==============================] - 2s 100us/step - loss: 0.0375 - acc: 0.9876 - val_loss: 0.1059 - val_acc: 1.0000\n",
      "Epoch 19/20\n",
      "19000/19000 [==============================] - 2s 101us/step - loss: 0.0360 - acc: 0.9882 - val_loss: 0.1124 - val_acc: 1.0000\n",
      "Epoch 20/20\n",
      "19000/19000 [==============================] - 2s 100us/step - loss: 0.0346 - acc: 0.9886 - val_loss: 0.0995 - val_acc: 1.0000\n"
     ]
    }
   ],
   "source": [
    "history = model.fit(x_train,\n",
    "                    y_train,\n",
    "                    epochs=20,\n",
    "                    batch_size=512,\n",
    "                    validation_data=(x_val, y_val))"
   ]
  },
  {
   "cell_type": "markdown",
   "metadata": {},
   "source": [
    "Nu skal vi se hvordan læringen skrider frem. Vi henter lærings-historien ud af modellen:"
   ]
  },
  {
   "cell_type": "code",
   "execution_count": 14,
   "metadata": {},
   "outputs": [
    {
     "data": {
      "text/plain": [
       "dict_keys(['val_loss', 'val_acc', 'loss', 'acc'])"
      ]
     },
     "execution_count": 14,
     "metadata": {},
     "output_type": "execute_result"
    }
   ],
   "source": [
    "history_dict = history.history\n",
    "history_dict.keys()"
   ]
  },
  {
   "cell_type": "markdown",
   "metadata": {},
   "source": [
    "Vi plotter læringen:"
   ]
  },
  {
   "cell_type": "code",
   "execution_count": 20,
   "metadata": {},
   "outputs": [
    {
     "data": {
      "image/png": "[encoded data removed]",
      "text/plain": [
       "<matplotlib.figure.Figure at 0x1cae43490b8>"
      ]
     },
     "metadata": {},
     "output_type": "display_data"
    }
   ],
   "source": [
    "import matplotlib.pyplot as plt\n",
    "\n",
    "accu = history.history['acc']\n",
    "val_acc = history.history['val_acc']\n",
    "loss = history.history['loss']\n",
    "val_loss = history.history['val_loss']\n",
    "\n",
    "#epochs = range(1, len(history_dict['binary_accuracy']) + 1)\n",
    "epochs = range(1, 21)\n",
    "\n",
    "# \"bo\" is for \"blue dot\"\n",
    "plt.plot(epochs, loss, 'bo', label='Training loss')\n",
    "# b is for \"solid blue line\"\n",
    "plt.plot(epochs, val_loss, 'b', label='Validation loss')\n",
    "plt.title('Training and validation loss')\n",
    "plt.xlabel('Epochs')\n",
    "plt.ylabel('Loss')\n",
    "plt.legend()\n",
    "\n",
    "plt.show()"
   ]
  },
  {
   "cell_type": "code",
   "execution_count": 16,
   "metadata": {},
   "outputs": [
    {
     "data": {
      "image/png": "[encoded data removed]",
      "text/plain": [
       "<matplotlib.figure.Figure at 0x1ca84eab2b0>"
      ]
     },
     "metadata": {},
     "output_type": "display_data"
    }
   ],
   "source": [
    "plt.clf()   # clear figure\n",
    "acc_values = history_dict['acc']\n",
    "val_acc_values = history_dict['val_acc']\n",
    "\n",
    "plt.plot(epochs, acc_values, 'bo', label='Training acc')\n",
    "plt.plot(epochs, val_acc_values, 'b', label='Validation acc')\n",
    "plt.title('Training and validation accuracy')\n",
    "plt.xlabel('Epochs')\n",
    "plt.ylabel('Loss')\n",
    "plt.legend()\n",
    "\n",
    "plt.show()"
   ]
  },
  {
   "cell_type": "markdown",
   "metadata": {},
   "source": [
    "Vi afprøver modellens styrke ved at teste den på nye data (test-data):"
   ]
  },
  {
   "cell_type": "code",
   "execution_count": 17,
   "metadata": {},
   "outputs": [
    {
     "name": "stdout",
     "output_type": "stream",
     "text": [
      "[0.08876688] [0.6675684]\n"
     ]
    },
    {
     "data": {
      "text/plain": [
       "array([[0.08876688],\n",
       "       [0.08876688],\n",
       "       [0.08876688],\n",
       "       [0.08876688],\n",
       "       [0.08876688],\n",
       "       [0.08876688],\n",
       "       [0.08876688],\n",
       "       [0.08876688],\n",
       "       [0.08876688],\n",
       "       [0.08876688],\n",
       "       [0.08876688],\n",
       "       [0.08876688],\n",
       "       [0.08876688],\n",
       "       [0.08876688],\n",
       "       [0.08876688],\n",
       "       [0.08876688],\n",
       "       [0.08876688],\n",
       "       [0.08876688],\n",
       "       [0.08876688],\n",
       "       [0.08876688],\n",
       "       [0.08876688],\n",
       "       [0.08876688],\n",
       "       [0.08876688],\n",
       "       [0.08876688],\n",
       "       [0.08876688],\n",
       "       [0.08876688],\n",
       "       [0.08876688],\n",
       "       [0.08876688],\n",
       "       [0.08876688],\n",
       "       [0.08876688],\n",
       "       [0.08876688],\n",
       "       [0.08876688],\n",
       "       [0.08876688],\n",
       "       [0.08876688],\n",
       "       [0.08876688],\n",
       "       [0.08876688],\n",
       "       [0.08876688],\n",
       "       [0.08876688],\n",
       "       [0.6675684 ],\n",
       "       [0.08876688],\n",
       "       [0.08876688],\n",
       "       [0.6675684 ],\n",
       "       [0.08876688],\n",
       "       [0.08876688],\n",
       "       [0.08876688],\n",
       "       [0.08876688],\n",
       "       [0.08876688],\n",
       "       [0.08876688],\n",
       "       [0.08876688],\n",
       "       [0.08876688],\n",
       "       [0.08876688],\n",
       "       [0.08876688],\n",
       "       [0.08876688],\n",
       "       [0.08876688],\n",
       "       [0.08876688],\n",
       "       [0.08876688],\n",
       "       [0.08876688],\n",
       "       [0.08876688],\n",
       "       [0.08876688],\n",
       "       [0.08876688],\n",
       "       [0.08876688],\n",
       "       [0.08876688],\n",
       "       [0.08876688],\n",
       "       [0.08876688],\n",
       "       [0.08876688],\n",
       "       [0.08876688],\n",
       "       [0.08876688],\n",
       "       [0.08876688],\n",
       "       [0.08876688],\n",
       "       [0.08876688],\n",
       "       [0.08876688],\n",
       "       [0.08876688],\n",
       "       [0.08876688],\n",
       "       [0.08876688],\n",
       "       [0.08876688],\n",
       "       [0.08876688],\n",
       "       [0.08876688],\n",
       "       [0.08876688],\n",
       "       [0.08876688],\n",
       "       [0.08876688],\n",
       "       [0.08876688],\n",
       "       [0.08876688],\n",
       "       [0.08876688],\n",
       "       [0.08876688],\n",
       "       [0.08876688],\n",
       "       [0.08876688],\n",
       "       [0.08876688],\n",
       "       [0.08876688],\n",
       "       [0.08876688],\n",
       "       [0.08876688],\n",
       "       [0.08876688],\n",
       "       [0.08876688],\n",
       "       [0.08876688],\n",
       "       [0.08876688],\n",
       "       [0.08876688],\n",
       "       [0.08876688],\n",
       "       [0.08876688],\n",
       "       [0.08876688],\n",
       "       [0.08876688],\n",
       "       [0.08876688],\n",
       "       [0.08876688],\n",
       "       [0.08876688],\n",
       "       [0.08876688],\n",
       "       [0.08876688],\n",
       "       [0.08876688],\n",
       "       [0.6675684 ],\n",
       "       [0.08876688],\n",
       "       [0.08876688],\n",
       "       [0.08876688],\n",
       "       [0.08876688],\n",
       "       [0.08876688],\n",
       "       [0.08876688],\n",
       "       [0.08876688],\n",
       "       [0.08876688],\n",
       "       [0.08876688],\n",
       "       [0.08876688],\n",
       "       [0.08876688],\n",
       "       [0.08876688],\n",
       "       [0.08876688],\n",
       "       [0.08876688],\n",
       "       [0.08876688],\n",
       "       [0.08876688],\n",
       "       [0.08876688],\n",
       "       [0.08876688],\n",
       "       [0.08876688],\n",
       "       [0.08876688],\n",
       "       [0.08876688],\n",
       "       [0.08876688],\n",
       "       [0.08876688],\n",
       "       [0.08876688],\n",
       "       [0.08876688],\n",
       "       [0.08876688],\n",
       "       [0.08876688],\n",
       "       [0.08876688],\n",
       "       [0.08876688],\n",
       "       [0.08876688],\n",
       "       [0.08876688],\n",
       "       [0.08876688],\n",
       "       [0.08876688],\n",
       "       [0.08876688],\n",
       "       [0.08876688],\n",
       "       [0.08876688],\n",
       "       [0.08876688],\n",
       "       [0.08876688],\n",
       "       [0.08876688],\n",
       "       [0.08876688],\n",
       "       [0.08876688],\n",
       "       [0.08876688],\n",
       "       [0.08876688],\n",
       "       [0.08876688],\n",
       "       [0.08876688],\n",
       "       [0.08876688],\n",
       "       [0.08876688],\n",
       "       [0.08876688],\n",
       "       [0.08876688],\n",
       "       [0.08876688],\n",
       "       [0.08876688],\n",
       "       [0.08876688],\n",
       "       [0.08876688],\n",
       "       [0.08876688],\n",
       "       [0.08876688],\n",
       "       [0.08876688],\n",
       "       [0.08876688],\n",
       "       [0.08876688],\n",
       "       [0.08876688],\n",
       "       [0.08876688],\n",
       "       [0.08876688],\n",
       "       [0.08876688],\n",
       "       [0.08876688],\n",
       "       [0.08876688],\n",
       "       [0.08876688],\n",
       "       [0.08876688],\n",
       "       [0.08876688],\n",
       "       [0.08876688],\n",
       "       [0.08876688],\n",
       "       [0.08876688],\n",
       "       [0.08876688],\n",
       "       [0.08876688],\n",
       "       [0.08876688],\n",
       "       [0.08876688],\n",
       "       [0.08876688],\n",
       "       [0.08876688],\n",
       "       [0.08876688],\n",
       "       [0.08876688],\n",
       "       [0.08876688],\n",
       "       [0.08876688],\n",
       "       [0.08876688],\n",
       "       [0.08876688],\n",
       "       [0.08876688],\n",
       "       [0.08876688],\n",
       "       [0.08876688],\n",
       "       [0.08876688],\n",
       "       [0.08876688],\n",
       "       [0.08876688],\n",
       "       [0.08876688],\n",
       "       [0.08876688],\n",
       "       [0.08876688],\n",
       "       [0.08876688],\n",
       "       [0.08876688],\n",
       "       [0.08876688],\n",
       "       [0.08876688],\n",
       "       [0.08876688],\n",
       "       [0.08876688],\n",
       "       [0.08876688],\n",
       "       [0.08876688],\n",
       "       [0.08876688],\n",
       "       [0.08876688],\n",
       "       [0.08876688],\n",
       "       [0.08876688],\n",
       "       [0.08876688],\n",
       "       [0.08876688],\n",
       "       [0.08876688],\n",
       "       [0.08876688],\n",
       "       [0.08876688],\n",
       "       [0.08876688],\n",
       "       [0.08876688],\n",
       "       [0.08876688],\n",
       "       [0.08876688],\n",
       "       [0.08876688],\n",
       "       [0.08876688],\n",
       "       [0.08876688],\n",
       "       [0.08876688],\n",
       "       [0.08876688],\n",
       "       [0.08876688],\n",
       "       [0.08876688],\n",
       "       [0.08876688],\n",
       "       [0.08876688],\n",
       "       [0.08876688],\n",
       "       [0.08876688],\n",
       "       [0.08876688],\n",
       "       [0.08876688],\n",
       "       [0.08876688],\n",
       "       [0.08876688],\n",
       "       [0.08876688],\n",
       "       [0.08876688],\n",
       "       [0.08876688],\n",
       "       [0.08876688],\n",
       "       [0.08876688],\n",
       "       [0.08876688],\n",
       "       [0.08876688],\n",
       "       [0.08876688],\n",
       "       [0.08876688],\n",
       "       [0.08876688],\n",
       "       [0.08876688],\n",
       "       [0.6675684 ],\n",
       "       [0.08876688],\n",
       "       [0.08876688],\n",
       "       [0.08876688],\n",
       "       [0.6675684 ],\n",
       "       [0.08876688],\n",
       "       [0.08876688],\n",
       "       [0.08876688],\n",
       "       [0.08876688],\n",
       "       [0.08876688],\n",
       "       [0.08876688],\n",
       "       [0.08876688],\n",
       "       [0.08876688],\n",
       "       [0.08876688],\n",
       "       [0.08876688],\n",
       "       [0.08876688],\n",
       "       [0.08876688],\n",
       "       [0.6675684 ],\n",
       "       [0.08876688],\n",
       "       [0.08876688],\n",
       "       [0.08876688],\n",
       "       [0.08876688],\n",
       "       [0.08876688],\n",
       "       [0.08876688],\n",
       "       [0.08876688],\n",
       "       [0.08876688],\n",
       "       [0.08876688],\n",
       "       [0.08876688],\n",
       "       [0.08876688],\n",
       "       [0.08876688],\n",
       "       [0.08876688],\n",
       "       [0.08876688],\n",
       "       [0.08876688],\n",
       "       [0.08876688],\n",
       "       [0.08876688],\n",
       "       [0.08876688],\n",
       "       [0.08876688],\n",
       "       [0.08876688],\n",
       "       [0.08876688],\n",
       "       [0.08876688],\n",
       "       [0.08876688],\n",
       "       [0.08876688],\n",
       "       [0.08876688],\n",
       "       [0.08876688],\n",
       "       [0.08876688],\n",
       "       [0.08876688],\n",
       "       [0.08876688],\n",
       "       [0.08876688],\n",
       "       [0.08876688],\n",
       "       [0.08876688],\n",
       "       [0.08876688],\n",
       "       [0.08876688],\n",
       "       [0.08876688],\n",
       "       [0.08876688],\n",
       "       [0.08876688]], dtype=float32)"
      ]
     },
     "execution_count": 17,
     "metadata": {},
     "output_type": "execute_result"
    }
   ],
   "source": [
    "predictions = model.predict(x_test)\n",
    "\n",
    "print(min(predictions), max(predictions))\n",
    "SplitVal = (min(predictions) + max(predictions))/2\n",
    "predictions[1:300]"
   ]
  },
  {
   "cell_type": "markdown",
   "metadata": {},
   "source": [
    "Et print af de linjer som modellen har fundet som \"store\". Første værdi er den ID jeg har givet hver linje i regnearket. alle IE'er under eller lig 493 er store:"
   ]
  },
  {
   "cell_type": "code",
   "execution_count": 18,
   "metadata": {},
   "outputs": [
    {
     "name": "stdout",
     "output_type": "stream",
     "text": [
      "328 [0.6675684]\n",
      "42 [0.6675684]\n",
      "399 [0.6675684]\n",
      "101 [0.6675684]\n",
      "437 [0.6675684]\n",
      "451 [0.6675684]\n",
      "412 [0.6675684]\n",
      "383 [0.6675684]\n",
      "332 [0.6675684]\n",
      "73 [0.6675684]\n",
      "75 [0.6675684]\n",
      "438 [0.6675684]\n",
      "364 [0.6675684]\n",
      "107 [0.6675684]\n",
      "126 [0.6675684]\n",
      "180 [0.6675684]\n",
      "476 [0.6675684]\n",
      "171 [0.6675684]\n",
      "228 [0.6675684]\n",
      "58 [0.6675684]\n",
      "41 [0.6675684]\n",
      "95 [0.6675684]\n",
      "391 [0.6675684]\n",
      "422 [0.6675684]\n",
      "90 [0.6675684]\n",
      "414 [0.6675684]\n",
      "432 [0.6675684]\n",
      "403 [0.6675684]\n",
      "448 [0.6675684]\n",
      "148 [0.6675684]\n",
      "118 [0.6675684]\n",
      "308 [0.6675684]\n",
      "3 [0.6675684]\n",
      "179 [0.6675684]\n",
      "7 [0.6675684]\n",
      "131 [0.6675684]\n",
      "104 [0.6675684]\n",
      "30 [0.6675684]\n",
      "102 [0.6675684]\n",
      "182 [0.6675684]\n",
      "359 [0.6675684]\n",
      "262 [0.6675684]\n",
      "91 [0.6675684]\n",
      "304 [0.6675684]\n",
      "103 [0.6675684]\n",
      "132 [0.6675684]\n",
      "320 [0.6675684]\n",
      "93 [0.6675684]\n",
      "319 [0.6675684]\n",
      "415 [0.6675684]\n",
      "346 [0.6675684]\n",
      "356 [0.6675684]\n",
      "144 [0.6675684]\n",
      "277 [0.6675684]\n",
      "435 [0.6675684]\n",
      "69 [0.6675684]\n",
      "12 [0.6675684]\n",
      "38 [0.6675684]\n",
      "398 [0.6675684]\n",
      "410 [0.6675684]\n",
      "53 [0.6675684]\n",
      "174 [0.6675684]\n",
      "34 [0.6675684]\n",
      "238 [0.6675684]\n",
      "468 [0.6675684]\n",
      "371 [0.6675684]\n",
      "485 [0.6675684]\n",
      "439 [0.6675684]\n",
      "274 [0.6675684]\n",
      "458 [0.6675684]\n",
      "10 [0.6675684]\n",
      "282 [0.6675684]\n",
      "463 [0.6675684]\n",
      "427 [0.6675684]\n",
      "384 [0.6675684]\n",
      "379 [0.6675684]\n",
      "87 [0.6675684]\n",
      "212 [0.6675684]\n",
      "164 [0.6675684]\n",
      "158 [0.6675684]\n",
      "373 [0.6675684]\n",
      "374 [0.6675684]\n",
      "151 [0.6675684]\n",
      "72 [0.6675684]\n",
      "27 [0.6675684]\n",
      "455 [0.6675684]\n",
      "421 [0.6675684]\n",
      "388 [0.6675684]\n",
      "133 [0.6675684]\n",
      "35 [0.6675684]\n",
      "479 [0.6675684]\n",
      "351 [0.6675684]\n",
      "363 [0.6675684]\n",
      "33 [0.6675684]\n",
      "210 [0.6675684]\n",
      "394 [0.6675684]\n",
      "16 [0.6675684]\n",
      "205 [0.6675684]\n"
     ]
    }
   ],
   "source": [
    "for i in range(1,6000):\n",
    "    if predictions[i]>SplitVal:\n",
    "        print(FEDid_test[i], predictions[i])\n"
   ]
  },
  {
   "cell_type": "markdown",
   "metadata": {},
   "source": [
    "Vi ser hvor præcis modellen er ved at sammenlige hvor mange store der er registreret i datasættet i forhold til hvor mange modellen gætter på der er:"
   ]
  },
  {
   "cell_type": "code",
   "execution_count": 22,
   "metadata": {},
   "outputs": [
    {
     "name": "stdout",
     "output_type": "stream",
     "text": [
      "Antal store i datasættet:     98.0\n",
      "antal estimeret af modellen:  98\n",
      "Modellens præcision:          100.0 %\n"
     ]
    }
   ],
   "source": [
    "print('Antal store i datasættet:    ', sum(y_test))\n",
    "\n",
    "NumEstimated = 0\n",
    "for i in range(1,6000):\n",
    "    if predictions[i]>SplitVal and FEDid_test[i]<=493:\n",
    "        NumEstimated += 1\n",
    "print('antal estimeret af modellen: ', NumEstimated)\n",
    "\n",
    "print('Modellens præcision:         ', round(NumEstimated/sum(y_test)*100), '%')"
   ]
  },
  {
   "cell_type": "code",
   "execution_count": null,
   "metadata": {},
   "outputs": [],
   "source": [
    "# ekstra kode, som måske skal bruges senere ...\n",
    "\n",
    "for i in range(0,24000):\n",
    "    if indices[i] == 328:\n",
    "        print(i)\n",
    "        break\n",
    "print(texts[indices[i]])\n",
    "print('-'*40)\n",
    "\n",
    "\n",
    "# her ville det nok være mere pythonic at lave en omvendt oversættelse ved at gøre noget i retningen af:\n",
    "# reverse_line_index = dict([(value, key) for (key, value) in indices])\n",
    "# decoded_line = ' '.join([reverse_line_index.get(i, '?') for i in texts[0]])\n",
    "\n",
    "# reverse_line_index = [idx for idx in enumerate(indices, 1)]\n",
    "# print(reverse_line_index)\n"
   ]
  }
 ],
 "metadata": {
  "kernelspec": {
   "display_name": "Python 3",
   "language": "python",
   "name": "python3"
  },
  "language_info": {
   "codemirror_mode": {
    "name": "ipython",
    "version": 3
   },
   "file_extension": ".py",
   "mimetype": "text/x-python",
   "name": "python",
   "nbconvert_exporter": "python",
   "pygments_lexer": "ipython3",
   "version": "3.6.4"
  }
 },
 "nbformat": 4,
 "nbformat_minor": 2
}
