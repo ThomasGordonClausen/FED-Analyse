{
 "cells": [
  {
   "cell_type": "markdown",
   "metadata": {},
   "source": [
    "## Kan man forudsige hvor stort et problem bliver et sekund efter vi har konstateret det?\n",
    "Ideen i denne KERAS model er at undersøge om man kan forudsige hvor stor en forstyrrelse i trafikken bliver et sekund efter at vi har konstaret problemet. \n",
    "\n",
    "I FED skriver driftslederen hvad der er sket i en kort tekst. Derefter begynder driftslederen at skrive en masse aktioner. Det er aflysninger, ændringer til hvordan trafikken skal køre osv. Problemets størrelse måler jeg her som antallet af aktioner (linjer) der skrives til overskriften. \n",
    "\n",
    "For simpelhedens skyld har jeg opdelt data i små og store problemer. Hvis der er op til 10 aktioner, så er det et \"lille\" problem. Hvis der 10 eller flere aktioner, så er det et \"stort\" priblem.\n",
    "\n",
    "**Konklusionen** er længere nede, at en \"machine learning\" model kan lære at spotte problemets størrelse med meget stor sikkerhed (98%) blot ud fra overskriften.\n",
    "\n",
    "Næste opgave bliver at arbejde med \n",
    "- \"predictions\" er ikke tæt nok på at være 0 eller 1, de er nærmere 0.1 og 0.5. Underligt ...\n",
    "- Lave en model, som kan estimere antallet af aktioner ud fra overskriften\n",
    "- Skifte fra \"one hot\" tekst-input til \"embedding\"\n",
    "- prøve modellen med \"validation_split=0.2\""
   ]
  },
  {
   "cell_type": "code",
   "execution_count": 1,
   "metadata": {},
   "outputs": [
    {
     "data": {
      "text/plain": [
       "['.ipynb_checkpoints',\n",
       " 'FEDData.xlsx',\n",
       " 'FED_01_FirstModel.ipynb',\n",
       " '~$FEDData.xlsx']"
      ]
     },
     "execution_count": 1,
     "metadata": {},
     "output_type": "execute_result"
    }
   ],
   "source": [
    "# vi sætter stien til data\n",
    "import os\n",
    "import pandas as pd\n",
    "import numpy as np\n",
    "\n",
    "os.chdir('/Users/ThomasGordon/Documents/PythonScripts/FED')\n",
    "os.listdir()"
   ]
  },
  {
   "cell_type": "markdown",
   "metadata": {},
   "source": [
    "Vi indlæser regnearket"
   ]
  },
  {
   "cell_type": "code",
   "execution_count": 2,
   "metadata": {},
   "outputs": [
    {
     "name": "stdout",
     "output_type": "stream",
     "text": [
      "['RaaData_Forespørgsel']\n",
      "(26185, 4)\n"
     ]
    }
   ],
   "source": [
    "file = 'FEDData.xlsx'\n",
    "xl = pd.ExcelFile(file)\n",
    "df = xl.parse('RaaData_Forespørgsel')\n",
    "print(xl.sheet_names)\n",
    "print(df.shape)"
   ]
  },
  {
   "cell_type": "markdown",
   "metadata": {},
   "source": [
    "Vi lægger data pover i to tabeller"
   ]
  },
  {
   "cell_type": "code",
   "execution_count": 3,
   "metadata": {},
   "outputs": [
    {
     "name": "stdout",
     "output_type": "stream",
     "text": [
      "[    1     2     3 ... 26183 26184 26185]\n"
     ]
    }
   ],
   "source": [
    "labels = df.loc[:,'FEDsize']\n",
    "texts  = df.loc[:,'FEDtext']\n",
    "FEDid  = df.loc[:,'FEDid']\n",
    "labels = labels.values\n",
    "texts  = texts.values\n",
    "FEDid  = FEDid.values\n",
    "\n",
    "for i in range(len(texts)):\n",
    "    if not isinstance(texts[i],(str,)):\n",
    "        print(i, texts[i])\n",
    "print(FEDid)\n"
   ]
  },
  {
   "cell_type": "markdown",
   "metadata": {},
   "source": [
    "Vi laver en \"one-hot\" vektor input"
   ]
  },
  {
   "cell_type": "code",
   "execution_count": 4,
   "metadata": {},
   "outputs": [
    {
     "name": "stderr",
     "output_type": "stream",
     "text": [
      "C:\\Users\\ThomasGordon\\Anaconda3\\lib\\site-packages\\h5py\\__init__.py:36: FutureWarning: Conversion of the second argument of issubdtype from `float` to `np.floating` is deprecated. In future, it will be treated as `np.float64 == np.dtype(float).type`.\n",
      "  from ._conv import register_converters as _register_converters\n",
      "Using TensorFlow backend.\n"
     ]
    },
    {
     "name": "stdout",
     "output_type": "stream",
     "text": [
      "Found 14290 unique tokens.\n",
      "Her er et eksempel:\n",
      "[286, 4, 6, 34, 1057, 116, 94]\n",
      "PT er der ingen kørestrøm Ok-HG\n",
      "1\n",
      "[   0    0    0    0    0    0    0    0    0    0    0    0    0    0\n",
      "    0    0    0    0    0    0    0    0    0    0    0    0    0    0\n",
      "    0    0    0    0    0    0    0    0    0    0    0    0    0    0\n",
      "    0    0    0    0  286    4    6   34 1057  116   94]\n"
     ]
    }
   ],
   "source": [
    "from keras.preprocessing.text import Tokenizer\n",
    "from keras.preprocessing.sequence import pad_sequences\n",
    "\n",
    "max_words = 10000  # Vi ser kun på de 10.000 mest almindelige ord\n",
    "\n",
    "# vi laver ordene i FED om til tilsvarende tal (som igen kan laves til en \"one-hot)\n",
    "tokenizer = Tokenizer(num_words=max_words)\n",
    "tokenizer.fit_on_texts(texts)\n",
    "sequences = tokenizer.texts_to_sequences(texts)\n",
    "\n",
    "# udfyld de tomme pladser med \"0\" og gem vores fulde input-datasæt i \"data\"\n",
    "data = pad_sequences(sequences)\n",
    "\n",
    "word_index = tokenizer.word_index\n",
    "\n",
    "# lad os lige se hvad vi har lavet ind til nu\n",
    "print('Found %s unique tokens.' % len(word_index))\n",
    "print('Her er et eksempel:')\n",
    "print(sequences[0])\n",
    "print(texts[0])\n",
    "print(labels[0])\n",
    "print(data[0])"
   ]
  },
  {
   "cell_type": "markdown",
   "metadata": {},
   "source": [
    "HER PRØVER JEG AT OMVENDTE TEKSTEN IGEN"
   ]
  },
  {
   "cell_type": "code",
   "execution_count": 5,
   "metadata": {},
   "outputs": [
    {
     "name": "stdout",
     "output_type": "stream",
     "text": [
      "? ? ? ? ? ? ? ? ? ? ? ? ? ? ? ? ? ? ? ? ? ? ? ? ? ? ? ? ? ? ? ? ? ? ? ? ? ? ? ? ? ? ? ? ? ? pt er der ingen kørestrøm ok hg\n"
     ]
    }
   ],
   "source": [
    "# Vi vender word-index om, så vi kan omsætte retur til forståelig tekst\n",
    "reverse_word_index = dict([(value, key) for (key, value) in word_index.items()])\n",
    "decoded_review = ' '.join([reverse_word_index.get(i, '?') for i in data[0]])\n",
    "print(decoded_review) "
   ]
  },
  {
   "cell_type": "markdown",
   "metadata": {},
   "source": [
    "Labels skal også over i et Numpy array, og lad os se formen"
   ]
  },
  {
   "cell_type": "code",
   "execution_count": 6,
   "metadata": {},
   "outputs": [
    {
     "name": "stdout",
     "output_type": "stream",
     "text": [
      "Shape of data tensor: (26185, 53)\n",
      "Shape of label tensor: (26185,)\n"
     ]
    }
   ],
   "source": [
    "labels = np.asarray(labels)\n",
    "\n",
    "print('Shape of data tensor:', data.shape)\n",
    "print('Shape of label tensor:', labels.shape)"
   ]
  },
  {
   "cell_type": "markdown",
   "metadata": {},
   "source": [
    "Nu \"rafler\" vi data, da de er sorteret med de største først. Efterfølgende deles der op i data til træning og data til validering"
   ]
  },
  {
   "cell_type": "code",
   "execution_count": 7,
   "metadata": {},
   "outputs": [
    {
     "name": "stdout",
     "output_type": "stream",
     "text": [
      "(10000, 53)\n",
      "(10000,)\n",
      "(10000,)\n",
      "(10000, 53)\n",
      "(10000,)\n",
      "(10000,)\n",
      "(6000, 53)\n",
      "(6000,)\n",
      "(6000,)\n"
     ]
    }
   ],
   "source": [
    "# vi rafler data rundt tilfældigt (vi laver et tilfældigt index)\n",
    "indices = np.arange(data.shape[0])\n",
    "np.random.shuffle(indices)\n",
    "data   = data[indices]\n",
    "labels = labels[indices]\n",
    "FEDid  = FEDid[indices]\n",
    "\n",
    "# halvdelen bruges til træning\n",
    "training_samples = 10000\n",
    "validation_samples = 10000\n",
    "test_samples = 6000\n",
    "\n",
    "x_train = data[:training_samples]\n",
    "y_train = labels[:training_samples]\n",
    "FEDid_train = FEDid[:training_samples]\n",
    "\n",
    "x_val = data[training_samples: training_samples + validation_samples]\n",
    "y_val = labels[training_samples: training_samples + validation_samples]\n",
    "FEDid_val = FEDid[training_samples: training_samples + validation_samples]\n",
    "\n",
    "x_test = data[training_samples + validation_samples: training_samples + validation_samples + test_samples]\n",
    "y_test = labels[training_samples + validation_samples: training_samples + validation_samples + test_samples]\n",
    "FEDid_test = FEDid[training_samples + validation_samples: training_samples + validation_samples + test_samples]\n",
    "\n",
    "print(x_train.shape)\n",
    "print(y_train.shape)\n",
    "print(FEDid_train.shape)\n",
    "print(x_val.shape)\n",
    "print(y_val.shape)\n",
    "print(FEDid_val.shape)\n",
    "print(x_test.shape)\n",
    "print(y_test.shape)\n",
    "print(FEDid_test.shape)"
   ]
  },
  {
   "cell_type": "markdown",
   "metadata": {},
   "source": [
    "Lidt print for at forstå mine data ..."
   ]
  },
  {
   "cell_type": "code",
   "execution_count": 8,
   "metadata": {},
   "outputs": [
    {
     "name": "stdout",
     "output_type": "stream",
     "text": [
      "[   0    0    0    0    0    0    0    0    0    0    0    0    0    0\n",
      "    0    0    0    0    0    0    0    0    0    0    0    0    0    0\n",
      "    0    0    0    0    0    0    0    0    0    0    0    0    0    0\n",
      "    6  430   15  447    1  232    1 1904 5346   32  387]\n",
      "[0 0 0 0 0 0 0 0 0 0 0 0 0 0 0 0 0 0 0 0 0 0 0 0 0 0 0 0 0 0 0 0 0 0 0 0 0\n",
      " 0 0 0 0 0 0 0 0 0 0 0 0 0 0 0 0 0 0 0 1 0 0 0 0 0 0 0 0 0 0 0 0 0 0 0 0 0\n",
      " 0 0 0 0 0 0 0 0 0 0 0 0 0 0 1 0 0 1 0 0 0 0 0 0 0 0 0 0 0 0 0 0 0 0 0 0 0\n",
      " 0 0 0 0 0 0 0 0 0 0 0 0 0 0 0 0 0 0 0 0 0 0 0 0 0 0 0 0 0 0 0 0 0 0 0 0 0\n",
      " 0 0 0 0 0 0 0 0 0 0 0 0 0 0 0 0 0 0 0 0 0 0 0 0 0 0 0 0 0 0 0 0 0 0 0 0 0\n",
      " 0 0 0 0 0 0 0 0 0 0 0 0 0 0]\n",
      "[24469 16685 25931 ...  3074 21526 20346]\n"
     ]
    }
   ],
   "source": [
    "print(data[1])\n",
    "print(labels[1:200])\n",
    "print(FEDid_test)"
   ]
  },
  {
   "cell_type": "markdown",
   "metadata": {},
   "source": [
    "Så skal vi lave input om til en \"one-hot\""
   ]
  },
  {
   "cell_type": "code",
   "execution_count": 9,
   "metadata": {},
   "outputs": [
    {
     "name": "stdout",
     "output_type": "stream",
     "text": [
      "[[1. 1. 0. ... 0. 0. 0.]\n",
      " [1. 1. 0. ... 0. 0. 0.]\n",
      " [1. 0. 0. ... 0. 0. 0.]\n",
      " ...\n",
      " [1. 0. 1. ... 0. 0. 0.]\n",
      " [1. 0. 0. ... 0. 0. 0.]\n",
      " [1. 0. 0. ... 0. 0. 0.]]\n",
      " \n",
      "[[1. 0. 0. ... 0. 0. 0.]\n",
      " [1. 0. 0. ... 0. 0. 0.]\n",
      " [1. 0. 0. ... 0. 0. 0.]\n",
      " ...\n",
      " [1. 0. 0. ... 0. 0. 0.]\n",
      " [1. 0. 0. ... 0. 0. 0.]\n",
      " [1. 0. 0. ... 0. 0. 0.]]\n",
      " \n",
      "[[1. 0. 0. ... 0. 0. 0.]\n",
      " [1. 0. 0. ... 0. 0. 0.]\n",
      " [1. 0. 0. ... 0. 0. 0.]\n",
      " ...\n",
      " [1. 0. 0. ... 0. 0. 0.]\n",
      " [1. 0. 0. ... 0. 0. 0.]\n",
      " [1. 0. 0. ... 0. 0. 0.]]\n"
     ]
    }
   ],
   "source": [
    "# funktion som lave one-hot vektorer\n",
    "def vectorize_sequences(sequences, dimension=10000):\n",
    "    # lave en all-zero matrix af formen (len(sequences), dimension)\n",
    "    results = np.zeros((len(sequences), dimension))\n",
    "    for i, sequence in enumerate(sequences):\n",
    "        results[i, sequence] = 1.  # set specific indices of results[i] to 1s\n",
    "    return results\n",
    "\n",
    "# One-hot training data\n",
    "x_train = vectorize_sequences(x_train, dimension=max_words)\n",
    "# One-hot test data\n",
    "x_val = vectorize_sequences(y_val, dimension=max_words)\n",
    "# One-hot test data\n",
    "x_test = vectorize_sequences(y_test, dimension=max_words)\n",
    "\n",
    "print(x_train)\n",
    "print(' ')\n",
    "print(x_val)\n",
    "print(' ')\n",
    "print(x_test)"
   ]
  },
  {
   "cell_type": "markdown",
   "metadata": {},
   "source": [
    "Vi skal også vektorisere vores labels"
   ]
  },
  {
   "cell_type": "code",
   "execution_count": 10,
   "metadata": {},
   "outputs": [],
   "source": [
    "# Our vectorized labels\n",
    "y_train = np.asarray(y_train).astype('float32')\n",
    "y_val = np.asarray(y_val).astype('float32')\n",
    "y_test = np.asarray(y_test).astype('float32')"
   ]
  },
  {
   "cell_type": "markdown",
   "metadata": {},
   "source": [
    "Nu bygger vi modellen"
   ]
  },
  {
   "cell_type": "code",
   "execution_count": 11,
   "metadata": {},
   "outputs": [],
   "source": [
    "from keras import models\n",
    "from keras import layers\n",
    "\n",
    "model = models.Sequential()\n",
    "model.add(layers.Dense(16, activation='relu', input_shape=(10000,)))\n",
    "model.add(layers.Dense(16, activation='relu'))\n",
    "model.add(layers.Dense(1, activation='sigmoid'))"
   ]
  },
  {
   "cell_type": "markdown",
   "metadata": {},
   "source": [
    "Modellen oversættes og vi bruger følgende parametre:\n",
    "    - Optimizer: rmsprop\n",
    "    - Loss function: binary_crossentropy\n",
    "    - Målemetode: Accuracy"
   ]
  },
  {
   "cell_type": "code",
   "execution_count": 12,
   "metadata": {},
   "outputs": [],
   "source": [
    "model.compile(optimizer='rmsprop',\n",
    "              loss='mse',\n",
    "              metrics=['accuracy'])\n",
    "#model.compile(optimizer='rmsprop',\n",
    "#              loss='binary_crossentropy',\n",
    "#              metrics=['accuracy'])"
   ]
  },
  {
   "cell_type": "markdown",
   "metadata": {},
   "source": [
    "Træn modellen:"
   ]
  },
  {
   "cell_type": "code",
   "execution_count": 13,
   "metadata": {},
   "outputs": [
    {
     "name": "stdout",
     "output_type": "stream",
     "text": [
      "Train on 10000 samples, validate on 10000 samples\n",
      "Epoch 1/20\n",
      "10000/10000 [==============================] - 7s 743us/step - loss: 0.2025 - acc: 0.9210 - val_loss: 0.2095 - val_acc: 0.9821\n",
      "Epoch 2/20\n",
      "10000/10000 [==============================] - 2s 201us/step - loss: 0.1126 - acc: 0.9800 - val_loss: 0.1732 - val_acc: 0.9821\n",
      "Epoch 3/20\n",
      "10000/10000 [==============================] - 2s 199us/step - loss: 0.0653 - acc: 0.9800 - val_loss: 0.1393 - val_acc: 0.9821\n",
      "Epoch 4/20\n",
      "10000/10000 [==============================] - 2s 204us/step - loss: 0.0410 - acc: 0.9800 - val_loss: 0.1090 - val_acc: 0.9821\n",
      "Epoch 5/20\n",
      "10000/10000 [==============================] - 2s 205us/step - loss: 0.0292 - acc: 0.9800 - val_loss: 0.0833 - val_acc: 0.9821\n",
      "Epoch 6/20\n",
      "10000/10000 [==============================] - 2s 196us/step - loss: 0.0236 - acc: 0.9800 - val_loss: 0.0623 - val_acc: 0.9821\n",
      "Epoch 7/20\n",
      "10000/10000 [==============================] - 2s 210us/step - loss: 0.0210 - acc: 0.9800 - val_loss: 0.0463 - val_acc: 0.9821\n",
      "Epoch 8/20\n",
      "10000/10000 [==============================] - 2s 218us/step - loss: 0.0199 - acc: 0.9800 - val_loss: 0.0356 - val_acc: 0.9821\n",
      "Epoch 9/20\n",
      "10000/10000 [==============================] - 2s 206us/step - loss: 0.0193 - acc: 0.9800 - val_loss: 0.0298 - val_acc: 0.9821\n",
      "Epoch 10/20\n",
      "10000/10000 [==============================] - 2s 202us/step - loss: 0.0190 - acc: 0.9800 - val_loss: 0.0298 - val_acc: 0.9821\n",
      "Epoch 11/20\n",
      "10000/10000 [==============================] - 2s 191us/step - loss: 0.0185 - acc: 0.9800 - val_loss: 0.0314 - val_acc: 0.9821\n",
      "Epoch 12/20\n",
      "10000/10000 [==============================] - 2s 192us/step - loss: 0.0180 - acc: 0.9800 - val_loss: 0.0329 - val_acc: 0.9821\n",
      "Epoch 13/20\n",
      "10000/10000 [==============================] - 2s 197us/step - loss: 0.0172 - acc: 0.9801 - val_loss: 0.0374 - val_acc: 0.9821\n",
      "Epoch 14/20\n",
      "10000/10000 [==============================] - 2s 206us/step - loss: 0.0162 - acc: 0.9802 - val_loss: 0.0408 - val_acc: 0.9821\n",
      "Epoch 15/20\n",
      "10000/10000 [==============================] - 2s 195us/step - loss: 0.0151 - acc: 0.9815 - val_loss: 0.0373 - val_acc: 0.9821\n",
      "Epoch 16/20\n",
      "10000/10000 [==============================] - 2s 190us/step - loss: 0.0141 - acc: 0.9832 - val_loss: 0.0348 - val_acc: 0.9821\n",
      "Epoch 17/20\n",
      "10000/10000 [==============================] - 2s 194us/step - loss: 0.0133 - acc: 0.9843 - val_loss: 0.0323 - val_acc: 1.0000\n",
      "Epoch 18/20\n",
      "10000/10000 [==============================] - 2s 200us/step - loss: 0.0125 - acc: 0.9858 - val_loss: 0.0283 - val_acc: 1.0000\n",
      "Epoch 19/20\n",
      "10000/10000 [==============================] - 2s 207us/step - loss: 0.0118 - acc: 0.9866 - val_loss: 0.0321 - val_acc: 1.0000\n",
      "Epoch 20/20\n",
      "10000/10000 [==============================] - 2s 189us/step - loss: 0.0112 - acc: 0.9878 - val_loss: 0.0287 - val_acc: 1.0000\n"
     ]
    }
   ],
   "source": [
    "history = model.fit(x_train,\n",
    "                    y_train,\n",
    "                    epochs=20,\n",
    "                    batch_size=512,\n",
    "                    validation_data=(x_val, y_val))"
   ]
  },
  {
   "cell_type": "markdown",
   "metadata": {},
   "source": [
    "Nu skal vi se hvordan læringen skrider frem. Vi henter lærings-historien ud af modellen:"
   ]
  },
  {
   "cell_type": "code",
   "execution_count": 14,
   "metadata": {},
   "outputs": [
    {
     "data": {
      "text/plain": [
       "dict_keys(['val_loss', 'val_acc', 'loss', 'acc'])"
      ]
     },
     "execution_count": 14,
     "metadata": {},
     "output_type": "execute_result"
    }
   ],
   "source": [
    "history_dict = history.history\n",
    "history_dict.keys()"
   ]
  },
  {
   "cell_type": "markdown",
   "metadata": {},
   "source": [
    "Vi plotter læringen"
   ]
  },
  {
   "cell_type": "code",
   "execution_count": 20,
   "metadata": {},
   "outputs": [
    {
     "data": {
      "image/png": "[encoded data removed]",
      "text/plain": [
       "<matplotlib.figure.Figure at 0x229712ebeb8>"
      ]
     },
     "metadata": {},
     "output_type": "display_data"
    }
   ],
   "source": [
    "import matplotlib.pyplot as plt\n",
    "\n",
    "accu = history.history['acc']\n",
    "val_acc = history.history['val_acc']\n",
    "loss = history.history['loss']\n",
    "val_loss = history.history['val_loss']\n",
    "\n",
    "#epochs = range(1, len(history_dict['binary_accuracy']) + 1)\n",
    "epochs = range(1, 21)\n",
    "\n",
    "# \"bo\" is for \"blue dot\"\n",
    "plt.plot(epochs, loss, 'bo', label='Training loss')\n",
    "# b is for \"solid blue line\"\n",
    "plt.plot(epochs, val_loss, 'b', label='Validation loss')\n",
    "plt.title('Training and validation loss')\n",
    "plt.xlabel('Epochs')\n",
    "plt.ylabel('Loss')\n",
    "plt.legend()\n",
    "\n",
    "plt.show()"
   ]
  },
  {
   "cell_type": "code",
   "execution_count": 16,
   "metadata": {},
   "outputs": [
    {
     "data": {
      "image/png": "[encoded data removed]",
      "text/plain": [
       "<matplotlib.figure.Figure at 0x2290f69e390>"
      ]
     },
     "metadata": {},
     "output_type": "display_data"
    }
   ],
   "source": [
    "plt.clf()   # clear figure\n",
    "acc_values = history_dict['acc']\n",
    "val_acc_values = history_dict['val_acc']\n",
    "\n",
    "plt.plot(epochs, acc_values, 'bo', label='Training acc')\n",
    "plt.plot(epochs, val_acc_values, 'b', label='Validation acc')\n",
    "plt.title('Training and validation accuracy')\n",
    "plt.xlabel('Epochs')\n",
    "plt.ylabel('Loss')\n",
    "plt.legend()\n",
    "\n",
    "plt.show()"
   ]
  },
  {
   "cell_type": "markdown",
   "metadata": {},
   "source": [
    "Vi afprøver modellens styrke ved at teste den på nye data"
   ]
  },
  {
   "cell_type": "code",
   "execution_count": 17,
   "metadata": {},
   "outputs": [
    {
     "data": {
      "text/plain": [
       "array([[0.1618171],\n",
       "       [0.1618171],\n",
       "       [0.1618171],\n",
       "       ...,\n",
       "       [0.1618171],\n",
       "       [0.1618171],\n",
       "       [0.1618171]], dtype=float32)"
      ]
     },
     "execution_count": 17,
     "metadata": {},
     "output_type": "execute_result"
    }
   ],
   "source": [
    "predictions = model.predict(x_test)\n",
    "predictions"
   ]
  },
  {
   "cell_type": "code",
   "execution_count": 23,
   "metadata": {},
   "outputs": [
    {
     "name": "stdout",
     "output_type": "stream",
     "text": [
      "422 [0.59491473]\n",
      "154 [0.59491473]\n",
      "429 [0.59491473]\n",
      "480 [0.59491473]\n",
      "334 [0.59491473]\n",
      "164 [0.59491473]\n",
      "427 [0.59491473]\n",
      "358 [0.59491473]\n",
      "138 [0.59491473]\n",
      "135 [0.59491473]\n",
      "485 [0.59491473]\n",
      "401 [0.59491473]\n",
      "351 [0.59491473]\n",
      "162 [0.59491473]\n",
      "23 [0.59491473]\n",
      "115 [0.59491473]\n",
      "261 [0.59491473]\n",
      "472 [0.59491473]\n",
      "30 [0.59491473]\n",
      "5 [0.59491473]\n",
      "477 [0.59491473]\n",
      "167 [0.59491473]\n",
      "134 [0.59491473]\n",
      "102 [0.59491473]\n",
      "34 [0.59491473]\n",
      "475 [0.59491473]\n",
      "381 [0.59491473]\n",
      "105 [0.59491473]\n",
      "257 [0.59491473]\n",
      "82 [0.59491473]\n",
      "208 [0.59491473]\n",
      "29 [0.59491473]\n",
      "100 [0.59491473]\n",
      "155 [0.59491473]\n",
      "336 [0.59491473]\n",
      "49 [0.59491473]\n",
      "185 [0.59491473]\n",
      "140 [0.59491473]\n",
      "275 [0.59491473]\n",
      "86 [0.59491473]\n",
      "340 [0.59491473]\n",
      "252 [0.59491473]\n",
      "408 [0.59491473]\n",
      "39 [0.59491473]\n",
      "329 [0.59491473]\n",
      "1 [0.59491473]\n",
      "87 [0.59491473]\n",
      "38 [0.59491473]\n",
      "465 [0.59491473]\n",
      "271 [0.59491473]\n",
      "158 [0.59491473]\n",
      "63 [0.59491473]\n",
      "287 [0.59491473]\n",
      "416 [0.59491473]\n",
      "192 [0.59491473]\n",
      "320 [0.59491473]\n",
      "434 [0.59491473]\n",
      "228 [0.59491473]\n",
      "180 [0.59491473]\n",
      "244 [0.59491473]\n",
      "458 [0.59491473]\n",
      "456 [0.59491473]\n",
      "67 [0.59491473]\n",
      "254 [0.59491473]\n",
      "103 [0.59491473]\n",
      "300 [0.59491473]\n",
      "213 [0.59491473]\n",
      "451 [0.59491473]\n",
      "84 [0.59491473]\n",
      "302 [0.59491473]\n",
      "8 [0.59491473]\n",
      "220 [0.59491473]\n",
      "188 [0.59491473]\n",
      "85 [0.59491473]\n",
      "420 [0.59491473]\n",
      "142 [0.59491473]\n",
      "285 [0.59491473]\n",
      "479 [0.59491473]\n",
      "43 [0.59491473]\n",
      "426 [0.59491473]\n",
      "177 [0.59491473]\n",
      "32 [0.59491473]\n",
      "463 [0.59491473]\n",
      "71 [0.59491473]\n",
      "486 [0.59491473]\n",
      "129 [0.59491473]\n",
      "113 [0.59491473]\n",
      "151 [0.59491473]\n",
      "202 [0.59491473]\n",
      "394 [0.59491473]\n",
      "379 [0.59491473]\n",
      "12 [0.59491473]\n",
      "397 [0.59491473]\n",
      "319 [0.59491473]\n",
      "130 [0.59491473]\n",
      "76 [0.59491473]\n",
      "112 [0.59491473]\n",
      "249 [0.59491473]\n",
      "251 [0.59491473]\n",
      "187 [0.59491473]\n",
      "50 [0.59491473]\n",
      "377 [0.59491473]\n",
      "383 [0.59491473]\n",
      "468 [0.59491473]\n",
      "170 [0.59491473]\n",
      "146 [0.59491473]\n",
      "159 [0.59491473]\n",
      "484 [0.59491473]\n",
      "398 [0.59491473]\n"
     ]
    }
   ],
   "source": [
    "for i in range(1,6000):\n",
    "    if predictions[i]>0.2:\n",
    "        print(FEDid_test[i], predictions[i])\n"
   ]
  },
  {
   "cell_type": "markdown",
   "metadata": {},
   "source": [
    "I test-sættet har modellen fundet linje 422 som værende \"stor\". JEg vil gerne se hvad den hændelse handler om. Derfor kikker jeg i \"rafle-tabellen\" og finder 422. 422 står i linje 13711, så teksten i den (opringede) linje finder jeg frem:"
   ]
  },
  {
   "cell_type": "code",
   "execution_count": 25,
   "metadata": {},
   "outputs": [
    {
     "name": "stdout",
     "output_type": "stream",
     "text": [
      "13711\n",
      "Vi får flere fejl  på infrastruktur mellem Lk og Es, så vi indstiller 33xx fra Fa Es der bestilles busser\r",
      "\r\n",
      "Vi indstiller indtil kl 18:00, ny prognose kl 15:00\n"
     ]
    }
   ],
   "source": [
    "for i in range(0,24000):\n",
    "    if indices[i] == 422:\n",
    "        print(i)\n",
    "        break\n",
    "print(texts[indices[i]])\n",
    "\n",
    "# her ville det nok være mere pythonic at lave en omvendt oversættelse ved at gøre noget i retningen af:\n",
    "# reverse_line_index = dict([(value, key) for (key, value) in indices.items()])\n",
    "# decoded_line = ' '.join([reverse_line_index.get(i, '?') for i in texts[0]])"
   ]
  }
 ],
 "metadata": {
  "kernelspec": {
   "display_name": "Python 3",
   "language": "python",
   "name": "python3"
  },
  "language_info": {
   "codemirror_mode": {
    "name": "ipython",
    "version": 3
   },
   "file_extension": ".py",
   "mimetype": "text/x-python",
   "name": "python",
   "nbconvert_exporter": "python",
   "pygments_lexer": "ipython3",
   "version": "3.6.4"
  }
 },
 "nbformat": 4,
 "nbformat_minor": 2
}
