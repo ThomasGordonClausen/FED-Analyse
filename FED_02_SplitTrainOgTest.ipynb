{
 "cells": [
  {
   "attachments": {},
   "cell_type": "markdown",
   "metadata": {},
   "source": [
    "### Vi prøver igen ...\n",
    "\n",
    "I denne model har jeg strengt opdelt i \"train\" og \"test\" data. Den forrige model var forkert på en eller anden måde. Alt ser rigtigt ud, men den nåede 100% korrektned straks. Det er meget mistænkeligt, men jeg slet ikke se fejlen. Derfor laver jeg modellen igen med en stræng opdeling. \n",
    "\n",
    "Her viser det sig, at modellen er ret ringe til at forudsige antal stragegilinjer ud fra den skrevne tekst. Men det er også en svær disciplin. Det handler om at finde de 2% af linjerne, hvor der er noget stort. Det er en slags \"abnormality detection\".\n",
    "\n",
    "Nedenfor er et par eksempler på hvordan data rigtigt ser ud. I eksemplet er en kort tekst med otte strategilinjer. OG den timsvarende omsættelse til rådata til modellen.\n",
    "\n",
    "![title](FEDentry.GIF)\n",
    "![title](FEDentry2.GIF)\n"
   ]
  },
  {
   "cell_type": "code",
   "execution_count": 1,
   "metadata": {},
   "outputs": [
    {
     "data": {
      "text/plain": [
       "['.ipynb_checkpoints',\n",
       " 'FEDData.xlsx',\n",
       " 'FEDData_All_texts.xlsx',\n",
       " 'FEDData_test.xlsx',\n",
       " 'FEDData_train.xlsx',\n",
       " 'FEDentry.GIF',\n",
       " 'FEDentry2.GIF',\n",
       " 'FED_01_FirstModel.ipynb',\n",
       " 'FED_02_SplitTrainOgTest.ipynb',\n",
       " '~$FEDData_test.xlsx']"
      ]
     },
     "execution_count": 1,
     "metadata": {},
     "output_type": "execute_result"
    }
   ],
   "source": [
    "# vi sætter stien til data\n",
    "import os\n",
    "import pandas as pd\n",
    "import numpy as np\n",
    "os.chdir('/Users/ThomasGordon/Documents/PythonScripts/FED')\n",
    "os.listdir()"
   ]
  },
  {
   "cell_type": "markdown",
   "metadata": {},
   "source": [
    "Først laver vi en \"dictionary\", som omsætter ord til tal. Den bruges efterfølgende til at omsætte train data og test data."
   ]
  },
  {
   "cell_type": "code",
   "execution_count": 2,
   "metadata": {},
   "outputs": [
    {
     "name": "stderr",
     "output_type": "stream",
     "text": [
      "C:\\Users\\ThomasGordon\\Anaconda3\\lib\\site-packages\\h5py\\__init__.py:36: FutureWarning: Conversion of the second argument of issubdtype from `float` to `np.floating` is deprecated. In future, it will be treated as `np.float64 == np.dtype(float).type`.\n",
      "  from ._conv import register_converters as _register_converters\n",
      "Using TensorFlow backend.\n"
     ]
    }
   ],
   "source": [
    "# filen med tekster åbnes og indlæses\n",
    "file = 'FEDData_All_texts.xlsx'\n",
    "xl = pd.ExcelFile(file)\n",
    "df = xl.parse('RaaData_Forespørgsel')\n",
    "\n",
    "# strenge læses over i en tabel\n",
    "texts  = df.loc[:,'FEDtext']\n",
    "texts  = texts.values\n",
    "\n",
    "# henter text processing modul\n",
    "from keras.preprocessing.text import Tokenizer\n",
    "from keras.preprocessing.sequence import pad_sequences\n",
    "\n",
    "max_words = 10000  # Vi ser kun på de 10.000 mest almindelige ord\n",
    "\n",
    "# vi laver ordene i FED om til tilsvarende tal (som igen kan laves til en \"one-hot)\n",
    "tokenizer = Tokenizer(num_words=max_words)\n",
    "tokenizer.fit_on_texts(texts)"
   ]
  },
  {
   "cell_type": "code",
   "execution_count": 3,
   "metadata": {},
   "outputs": [],
   "source": [
    "# en funktion som lave en one-hot vektorer\n",
    "def vectorize_sequences(sequences, dimension=10000):\n",
    "    # lave en all-zero matrix af formen (len(sequences), dimension)\n",
    "    results = np.zeros((len(sequences), dimension))\n",
    "    for i, sequence in enumerate(sequences):\n",
    "        results[i, sequence] = 1.  # set specific indices of results[i] to 1s\n",
    "    return results"
   ]
  },
  {
   "cell_type": "code",
   "execution_count": 4,
   "metadata": {},
   "outputs": [],
   "source": [
    "# Træningsdata indlæses (tekster og labels), først tekst-strengene\n",
    "file = 'FEDData_train.xlsx'\n",
    "xl = pd.ExcelFile(file)\n",
    "df = xl.parse('RaaData_Forespørgsel')\n",
    "texts  = df.loc[:,'FEDtext']\n",
    "labels = df.loc[:,'FEDsize']\n",
    "texts  = texts.values\n",
    "labels = labels.values\n",
    "\n",
    "# ord laves til og der \"paddes\"\n",
    "sequences = tokenizer.texts_to_sequences(texts)\n",
    "data = pad_sequences(sequences)\n",
    "\n",
    "# One-hot training data\n",
    "data = vectorize_sequences(data, dimension=max_words)\n",
    "\n",
    "# labels laves til vektor\n",
    "labels = np.asarray(labels).astype('float32')"
   ]
  },
  {
   "cell_type": "code",
   "execution_count": 5,
   "metadata": {},
   "outputs": [
    {
     "name": "stdout",
     "output_type": "stream",
     "text": [
      "(19961, 10000)\n",
      "(19961,)\n"
     ]
    }
   ],
   "source": [
    "print(data.shape)\n",
    "print(labels.shape)"
   ]
  },
  {
   "cell_type": "code",
   "execution_count": 6,
   "metadata": {},
   "outputs": [
    {
     "name": "stdout",
     "output_type": "stream",
     "text": [
      "_________________________________________________________________\n",
      "Layer (type)                 Output Shape              Param #   \n",
      "=================================================================\n",
      "dense_1 (Dense)              (None, 16)                160016    \n",
      "_________________________________________________________________\n",
      "dense_2 (Dense)              (None, 16)                272       \n",
      "_________________________________________________________________\n",
      "dropout_1 (Dropout)          (None, 16)                0         \n",
      "_________________________________________________________________\n",
      "dense_3 (Dense)              (None, 1)                 17        \n",
      "=================================================================\n",
      "Total params: 160,305\n",
      "Trainable params: 160,305\n",
      "Non-trainable params: 0\n",
      "_________________________________________________________________\n"
     ]
    }
   ],
   "source": [
    "from keras import models\n",
    "from keras import layers\n",
    "\n",
    "model = models.Sequential()\n",
    "model.add(layers.Dense(16, activation='relu', input_shape=(10000,)))\n",
    "model.add(layers.Dense(16, activation='relu'))\n",
    "model.add(layers.Dropout(0.5))\n",
    "model.add(layers.Dense(1, activation='sigmoid'))\n",
    "\n",
    "model.compile(optimizer='rmsprop',\n",
    "              loss='binary_crossentropy',\n",
    "              metrics=['accuracy'])\n",
    "\n",
    "model.summary()"
   ]
  },
  {
   "cell_type": "code",
   "execution_count": 7,
   "metadata": {},
   "outputs": [
    {
     "name": "stdout",
     "output_type": "stream",
     "text": [
      "Train on 15968 samples, validate on 3993 samples\n",
      "Epoch 1/20\n",
      "15968/15968 [==============================] - 4s 260us/step - loss: 0.5041 - acc: 0.9446 - val_loss: 0.3363 - val_acc: 0.9837\n",
      "Epoch 2/20\n",
      "15968/15968 [==============================] - 2s 123us/step - loss: 0.2881 - acc: 0.9776 - val_loss: 0.1765 - val_acc: 0.9837\n",
      "Epoch 3/20\n",
      "15968/15968 [==============================] - 2s 124us/step - loss: 0.1894 - acc: 0.9801 - val_loss: 0.1148 - val_acc: 0.9837\n",
      "Epoch 4/20\n",
      "15968/15968 [==============================] - 2s 122us/step - loss: 0.1512 - acc: 0.9803 - val_loss: 0.0967 - val_acc: 0.9837\n",
      "Epoch 5/20\n",
      "15968/15968 [==============================] - 2s 124us/step - loss: 0.1333 - acc: 0.9803 - val_loss: 0.0916 - val_acc: 0.9837\n",
      "Epoch 6/20\n",
      "15968/15968 [==============================] - 2s 121us/step - loss: 0.1218 - acc: 0.9803 - val_loss: 0.0883 - val_acc: 0.9837\n",
      "Epoch 7/20\n",
      "15968/15968 [==============================] - 2s 123us/step - loss: 0.1099 - acc: 0.9803 - val_loss: 0.0864 - val_acc: 0.9837\n",
      "Epoch 8/20\n",
      "15968/15968 [==============================] - 2s 124us/step - loss: 0.1060 - acc: 0.9803 - val_loss: 0.0842 - val_acc: 0.9837\n",
      "Epoch 9/20\n",
      "15968/15968 [==============================] - 2s 122us/step - loss: 0.0968 - acc: 0.9803 - val_loss: 0.0834 - val_acc: 0.9837\n",
      "Epoch 10/20\n",
      "15968/15968 [==============================] - 2s 120us/step - loss: 0.0942 - acc: 0.9803 - val_loss: 0.0831 - val_acc: 0.9837\n",
      "Epoch 11/20\n",
      "15968/15968 [==============================] - 2s 121us/step - loss: 0.0880 - acc: 0.9803 - val_loss: 0.0847 - val_acc: 0.9837\n",
      "Epoch 12/20\n",
      "15968/15968 [==============================] - 2s 127us/step - loss: 0.0823 - acc: 0.9803 - val_loss: 0.0869 - val_acc: 0.9837\n",
      "Epoch 13/20\n",
      "15968/15968 [==============================] - 2s 123us/step - loss: 0.0774 - acc: 0.9803 - val_loss: 0.0889 - val_acc: 0.9837\n",
      "Epoch 14/20\n",
      "15968/15968 [==============================] - 2s 120us/step - loss: 0.0750 - acc: 0.9803 - val_loss: 0.0906 - val_acc: 0.9837\n",
      "Epoch 15/20\n",
      "15968/15968 [==============================] - 2s 122us/step - loss: 0.0701 - acc: 0.9803 - val_loss: 0.0938 - val_acc: 0.9837\n",
      "Epoch 16/20\n",
      "15968/15968 [==============================] - 2s 121us/step - loss: 0.0691 - acc: 0.9806 - val_loss: 0.0954 - val_acc: 0.9837\n",
      "Epoch 17/20\n",
      "15968/15968 [==============================] - 2s 124us/step - loss: 0.0650 - acc: 0.9808 - val_loss: 0.0983 - val_acc: 0.9837\n",
      "Epoch 18/20\n",
      "15968/15968 [==============================] - 2s 118us/step - loss: 0.0643 - acc: 0.9809 - val_loss: 0.1013 - val_acc: 0.9837\n",
      "Epoch 19/20\n",
      "15968/15968 [==============================] - 2s 119us/step - loss: 0.0615 - acc: 0.9812 - val_loss: 0.1040 - val_acc: 0.9837\n",
      "Epoch 20/20\n",
      "15968/15968 [==============================] - 2s 120us/step - loss: 0.0606 - acc: 0.9820 - val_loss: 0.1066 - val_acc: 0.9837\n"
     ]
    }
   ],
   "source": [
    "history = model.fit(data, labels,\n",
    "                    epochs=20,\n",
    "                    batch_size=512,\n",
    "                    validation_split=0.2)"
   ]
  },
  {
   "cell_type": "code",
   "execution_count": 8,
   "metadata": {},
   "outputs": [
    {
     "data": {
      "text/plain": [
       "dict_keys(['val_loss', 'val_acc', 'loss', 'acc'])"
      ]
     },
     "execution_count": 8,
     "metadata": {},
     "output_type": "execute_result"
    }
   ],
   "source": [
    "history_dict = history.history\n",
    "history_dict.keys()"
   ]
  },
  {
   "cell_type": "code",
   "execution_count": 15,
   "metadata": {},
   "outputs": [
    {
     "data": {
      "image/png": "[encoded data removed]",
      "text/plain": [
       "<matplotlib.figure.Figure at 0x21049347588>"
      ]
     },
     "metadata": {},
     "output_type": "display_data"
    }
   ],
   "source": [
    "import matplotlib.pyplot as plt\n",
    "\n",
    "accu = history.history['acc']\n",
    "val_acc = history.history['val_acc']\n",
    "loss = history.history['loss']\n",
    "val_loss = history.history['val_loss']\n",
    "\n",
    "#epochs = range(1, len(history_dict['binary_accuracy']) + 1)\n",
    "epochs = range(1, 21)\n",
    "\n",
    "# \"bo\" is for \"blue dot\"\n",
    "plt.plot(epochs, loss, 'bo', label='Training loss')\n",
    "# b is for \"solid blue line\"\n",
    "plt.plot(epochs, val_loss, 'b', label='Validation loss')\n",
    "plt.title('Training and validation loss')\n",
    "plt.xlabel('Epochs')\n",
    "plt.ylabel('Loss')\n",
    "plt.legend()\n",
    "\n",
    "plt.show()"
   ]
  },
  {
   "cell_type": "code",
   "execution_count": 10,
   "metadata": {},
   "outputs": [
    {
     "data": {
      "image/png": "[encoded data removed]",
      "text/plain": [
       "<matplotlib.figure.Figure at 0x20fc5b5b048>"
      ]
     },
     "metadata": {},
     "output_type": "display_data"
    }
   ],
   "source": [
    "plt.clf()   # clear figure\n",
    "acc_values = history_dict['acc']\n",
    "val_acc_values = history_dict['val_acc']\n",
    "\n",
    "plt.plot(epochs, acc_values, 'bo', label='Training acc')\n",
    "plt.plot(epochs, val_acc_values, 'b', label='Validation acc')\n",
    "plt.title('Training and validation accuracy')\n",
    "plt.xlabel('Epochs')\n",
    "plt.ylabel('Loss')\n",
    "plt.legend()\n",
    "\n",
    "plt.show()"
   ]
  },
  {
   "cell_type": "markdown",
   "metadata": {},
   "source": [
    "### Validering af modellen på test data\n",
    "Her indlæser vi så test data, helt nye data til test"
   ]
  },
  {
   "cell_type": "code",
   "execution_count": 11,
   "metadata": {},
   "outputs": [],
   "source": [
    "# Træningsdata indlæses (tekster og labels), først tekst-strengene\n",
    "file = 'FEDData_test.xlsx'\n",
    "xl = pd.ExcelFile(file)\n",
    "df = xl.parse('RaaData_Forespørgsel')\n",
    "texts_test  = df.loc[:,'FEDtext']\n",
    "labels_test = df.loc[:,'FEDsize']\n",
    "FEDid_test  = df.loc[:,'FEDid']\n",
    "texts_test  = texts_test.values\n",
    "labels_test = labels_test.values\n",
    "FEDid_test  = FEDid_test.values\n",
    "\n",
    "# ord laves til og der \"paddes\"\n",
    "sequences_test = tokenizer.texts_to_sequences(texts_test)\n",
    "data_test = pad_sequences(sequences_test)\n",
    "\n",
    "# One-hot training data\n",
    "data_test = vectorize_sequences(data_test, dimension=max_words)\n",
    "\n",
    "# labels laves til vektor\n",
    "labels_test = np.asarray(labels_test).astype('float32')"
   ]
  },
  {
   "cell_type": "code",
   "execution_count": 12,
   "metadata": {},
   "outputs": [
    {
     "name": "stdout",
     "output_type": "stream",
     "text": [
      "[1.0839363e-18] [0.47580847]\n",
      "0.0002\n",
      "0.0012\n",
      "0.0047\n",
      "0.0000\n",
      "0.0043\n",
      "0.0038\n",
      "0.0000\n",
      "0.0288\n",
      "0.0000\n",
      "0.0000\n",
      "0.0005\n",
      "0.0046\n",
      "0.0000\n",
      "0.0080\n",
      "0.0006\n",
      "0.0035\n",
      "0.0000\n",
      "0.0221\n",
      "0.0000\n"
     ]
    }
   ],
   "source": [
    "# vi prøver modellen på test-data\n",
    "predictions = model.predict(data_test)\n",
    "\n",
    "# vi printer min, max og nogle eksempler\n",
    "print(min(predictions), max(predictions))\n",
    "SplitVal = (min(predictions) + max(predictions))/2\n",
    "\n",
    "# print(predictions[1:20])\n",
    "\n",
    "for i in range(1,20):\n",
    "    print(('%1.4f' % predictions[i]))"
   ]
  },
  {
   "cell_type": "code",
   "execution_count": 13,
   "metadata": {},
   "outputs": [
    {
     "name": "stdout",
     "output_type": "stream",
     "text": [
      "Antal store i datasættet:     113.0\n",
      "antal estimeret af modellen:  55\n",
      "Modellens præcision:          49.0 %\n"
     ]
    }
   ],
   "source": [
    "print('Antal store i datasættet:    ', sum(labels_test))\n",
    "\n",
    "NumEstimated = 0\n",
    "for i in range(1,6000):\n",
    "    if predictions[i]>0.01 and FEDid_test[i]<=493:\n",
    "        NumEstimated += 1\n",
    "print('antal estimeret af modellen: ', NumEstimated)\n",
    "\n",
    "print('Modellens præcision:         ', round(NumEstimated/sum(labels_test)*100), '%')"
   ]
  },
  {
   "cell_type": "code",
   "execution_count": 17,
   "metadata": {},
   "outputs": [
    {
     "name": "stdout",
     "output_type": "stream",
     "text": [
      "   5  0.0043  Genopretning efter fjernstyringsfejlen på sjælland KYST\n",
      "  16  0.0035  Holder nedbrudt i OH  MAteriel fra 2238\n",
      "  28  0.0050  Fortsat spærret Lk - Es, nu til fredag kl 08:00\n",
      "  99  0.0000  Fejl på tysk radio, vi kan ikke få fejl væk, trods flere forsøg, så der omdisponeres.\n",
      " 205  0.3353  Nedformeringer fra sverige.\n",
      " 247  0.0002  Står i stå i neutralsektion ilige før Ro Der skiftes strømaftager\n",
      " 316  0.0001  Overgravet kabel. Standardprognose hvert i fald fem timer (fra kl. 11.00 hvor fejlsøgning startede).\n",
      " 347  0.0250  kl 12:29 - Skinnebrud i sporskifte  Spor 2 i Middelfart er knækket, enkeltsporsdrift Kauslunde -\n",
      " 382  0.1479  Nedformering fra Sverige\n",
      " 478  0.0542  Nu kan der kun køres i et spor i Cph\n",
      " 513  0.3175  Nedformeringer på kystbanen\n",
      " 530  0.0001  Vi aflyser 4419 /4430 pga. mat kommer fra 4106 som holder bag L6 i Gl\n",
      " 571  0.0049  Falsk besættelse Kk - Kn\n",
      " 594  0.4265  Nedformeringer til og fra Sverige.\n",
      " 622  0.0272  Overgravet kabel lige syd for Randers\n",
      " 632  0.0039  03:47 - Ált strøm er gået i Aarhus, men systemet er ved at genstarte\n",
      " 654  0.0450  Pga. materielmangel disponeres som følger\n",
      " 689  0.0007  På Kk, fra 2 og 3 til og fra 20-erne og til og fra Hgl, Spor 1 og 4 kan stadig bruges\n",
      " 696  0.0000  Nøgle knækket i førebord i den ende mod Hg, dette opdages da Lkd skal rangere til perron. Vi kører t\n",
      " 733  0.4458  Ingen fjernstyring syd for Rg, Næ undtaget. Der er fejl på et fiberkabel, Eltel tilkaldt men ingen\n",
      " 802  0.0313  Snohøj\n",
      " 804  0.0144  Godstog 37700 gået i stå mellem Fj og Rg. 51140 forberedes på, at køre retur til Fj og ad V spor Fj-\n",
      " 859  0.1479  Nedformering fra Sverige\n",
      " 936  0.0055  Melder om manglende kørerstrøm ved Br.   •\tTrafikal vurdering: •\tPlan for indgriben: •\tStrat\n",
      " 974  0.0000  Signalerne i hele i RFC Ros område fra Vy til Htå faldt, flere virker igen, men der må forventes afl\n",
      "1014  0.0062  I sporarbejdet mellem Rd og Hb, så nu er der kun et spor at køre i. Der køres af v-spor Hb - Rd. Bet\n",
      "1142  0.0005  Disponering af sæt til rep\n",
      "1155  0.2554  Forsinkelser fra Øst.\n",
      "1178  0.4383  Er gået i stå flere gange mellem Fa og Vj pga. bremseproblmer, Lki er på sagen •                  \n",
      "1223  0.0008  Forsinket fra Slagelse - 42 min\n",
      "1236  0.0052  Personpåkørsel ved HL. U_vagt er underrettet\n",
      "1238  0.0109  Mistet kontrol pp sporskift 02 i CPH\n",
      "1371  0.0012  Rep sæt og nedformeringer\n",
      "1523  0.0003  Flere aflåste sporskifter på Kk giver udfordringer, første tog der rammes er 873\n",
      "1609  0.0000  Manglende materiel i KAC / HGL / KK  Grundet manglende koblinger i FA. pga sne. Overtal af MF materi\n",
      "1622  0.0052  Personer I sporet og strømløs mellem Malmø og Hassleholm betyder forsinkelser og materiel ændringer\n",
      "1691  0.0000  Laskebrud Ky-Bo  Standardprognose 2 timer til 19.30  Folænget til 20,30  •\tTrafikal vurd\n",
      "1914  0.0033  ATC-fejl i Fårup og enkeltsporsdrift Randers-Hobro\n",
      "1964  0.3353  Nedformeringer fra Sverige\n",
      "2080  0.0022  Har problemer efter kobling i Helsingør spor 3.\n",
      "2090  0.0000  11:16 - Blokken vender forkert fra Fruens Bøge ind mod Odense, toget udrangeres\n",
      "2260  0.3858  nedformeringer fra til Sverige\n",
      "2273  0.1950  På grund af spærring ved IG og godstrafik på KH:\n",
      "2383  0.0092  Mangler MG\n",
      "2550  0.0000  11:38 - Mangel på MF ogf ER pga. 808 har påkørt noget i går d 8/3.\n",
      "2585  0.1699  Forsinkelse fra Sverige. Ingen kørerstrøm ved Lund\n",
      "2679  0.0000  Nedformeringer på Øresund/Kysten. 22 ET togsæt ude af drift, og mange køre uden varm, defekte uden\n",
      "2718  0.0001  sporarbejdet bliver ikke færdig til tiden mellem SÅ-RU\n",
      "2845  0.3435  10:40 - Et S-tog har ramt en person ved Taastrup Station. Lige nu er trafikken spærret mellem Glostr\n",
      "2881  0.0001  Tilkaldt politi i Val til 2 asylansøgere som ikke har nogen billet og ikke vil forlade toget\n",
      "2929  0.0481  2x falskbesættelser mellem Kk og Kh, periodisk\n",
      "2971  0.3353  Nedformeringer fra Sverige\n",
      "2976  0.0064  Mulig selvmorder på Lillebæltsbroen. Vi holder stille og afventer.\n",
      "3009  0.3353  nedformeringer fra sverige\n",
      "3040  0.0750  Nedformeringer Øresund/Kystbanen:\n",
      "3059  0.0000  Var ved at sende 2821 i sp.3 i Re. Hvilket resultere i at 4620 må vente i Sts\n",
      "3069  0.3353  Nedformeringer fra Sverige\n",
      "3091  0.0206  Disponering af opstart når vi kører 41xx/43xx/12xx efter kl.14:00\n",
      "3255  0.1304  Enkeltsporsdrift mellem Rd-Fp\n",
      "3292  0.0001  Defekt klimaanlæg i førerummet\n",
      "3295  0.0004  Holder på HGL og melder til FC er den er nedbrudt\n",
      "3334  0.4722  Transdev melder om at de har signalfejl i Hässelholm samt brand på skråninger , skrevet kl. 12:20\n",
      "3349  0.0007  Od. Der er ikke sat klargøring Op, så vi bliver forsinket.\n",
      "3467  0.2554  Forsinkelser fra Øst\n",
      "3475  0.0004  manglende behov\n",
      "3503  0.0022  Diesellugt fra en af vognen, lkf checker i Hvalsø\n",
      "3552  0.0200  Oprydning I Cph\n",
      "3558  0.0111  Er kørt tør i HD\n",
      "3612  0.0013  Pga. stor forsinkelse fra Sverige aflyser vi en omgang til Hg.\n",
      "3648  0.0342  Mangler ET\n",
      "3793  0.0150  Mangel på Lko + vogne KH+MG-mgl.\n",
      "3800  0.0137  Cph: Falsk besættelse sporskifte 01 Se Drap.1975930\n",
      "3864  0.0154  Ryster meget i undervognen\n",
      "3954  0.0784  har mistede konfigrationen i HL\n",
      "4033  0.0438  Atc fejl Fp\n",
      "4108  0.2488  Disponeringer af forsinkelser\n",
      "4173  0.0007  Vi skal have dækket EA-løb.\n",
      "4175  0.0004  Arriva er nedbrudt i HA\n",
      "4188  0.0020  Holder halvvejs inde eller ude af Orehoved, lki på sagen\n",
      "4197  0.4484  Sj er gået i stå på Phm.\n",
      "4317  0.3749  Personpåkørsel Lige efter OD, prognosen er frem til kl. 13: Der køres ikke mellem NG - OD / OD - NG\n",
      "4415  0.1743  Nedformeringer pga mangel på ET sæt\n",
      "4453  0.4165  Fastlægning I Rg sp 2.\n",
      "4464  0.4211  1408 har påkørt en person mellem HUM og NI.\n",
      "4482  0.3708  Holder ved Gadbjerg og har tabt luften\n",
      "4505  0.0007  mgl 2 ET i Cph samt skal have ET 4380 til UF\n",
      "4510  0.0000  Materielfejl, Holder på øre og mistet luften på toget ,  Strategi:  Lagt til 18.20 Udvidet\n",
      "4513  0.0016  Koldt i førerum. Lkf. vil ikke køre med det.\n",
      "4548  0.0062  Falsk besættelse så man kan ikke komme ud af spor 3 og 12 KK   Skrevet kl.06.45 fremskrevet til \n",
      "4576  0.0000  Fremdateret fra kl. 9.21. Signalfejlen Ro - Vy. Det er defekte kabler, som skal skiftes/repareres. V\n",
      "4591  0.0375  Muligvis brand I kørerledningen ved OK nærmere følger\n",
      "4626  0.0205  Personpåkørsel I Ng. Prognose til 10.20.  •\tTrafikal vurdering: Begge spor lukket Od-Ng •\tPlan\n",
      "4690  0.0137  Falsk besættelse på kk\n",
      "4761  0.1479  nedformering fra Sverige\n",
      "4768  0.0345  Nedformeringer eftermiddag ET\n",
      "4828  0.0000  SNO : fejl på sporskifter alt trafik skal over TL for at komme til og fra FA\n",
      "4871  0.4323  Ingen kørestrøm Lk-Es-Lk. Begge spor er åben for dieseltrafik. Alle 33xx gennemføres til Es. 8xx v\n",
      "5036  0.0034  Der ind og ud rangeres i Ar\n",
      "5105  0.0000  Der er behov for togfrit interval på 30 min , for at lave noget på indgangssporskifterne på Kh fra V\n",
      "5163  0.0000  Sendt DD i sp.12 hvor der ikke var plads til den.\n",
      "5278  0.4565  Forsinkelser fra Øst som følge af problemer ved Gl:\n",
      "5282  0.0008  Kobling af Lyn og IC i MD, samt omdisponering i Es\n",
      "5333  0.0000  Køre kun på 1 motor. Vi kobler sættet med 5662 og køre samlet ind som 2238\n",
      "5344  0.0008  Lastbil har kilet sig fast under bro ved Ges, 3762 bliver holdende til sporvagt har været der.\n",
      "5431  0.0096  lasekbrud H.spor RG-Fj  Kun et farbart spor mellem Rg-FJ\n",
      "5453  0.0995  Mangel på ET\n",
      "5602  0.0512  Fejl på køreledning mellem Lk-ES  disponeringer torsdag 8xx vender til 8xx i Kd od indtil kl 12:00 v\n",
      "5658  0.0033  I det østlige område mangler vi materiel  i skrivende stund kl 01:00: Der mangler ER til L 29, IC \n",
      "5700  0.1479  nedformering fra Sverige.\n",
      "5944  0.0115  Falsk besættelse KK\n"
     ]
    }
   ],
   "source": [
    "# jeg prøver at printe linjenummer, prediction og tekststreng\n",
    "\n",
    "for i in range(1,6000):\n",
    "    if labels_test[i]==1:\n",
    "        PrtStr = ('%4.0f' % i) + '  ' + ('%1.4f' % predictions[i]) + '  ' + texts_test[i][:100].replace('\\n', ' ').replace('\\r', '')\n",
    "        print(PrtStr) "
   ]
  }
 ],
 "metadata": {
  "kernelspec": {
   "display_name": "Python 3",
   "language": "python",
   "name": "python3"
  },
  "language_info": {
   "codemirror_mode": {
    "name": "ipython",
    "version": 3
   },
   "file_extension": ".py",
   "mimetype": "text/x-python",
   "name": "python",
   "nbconvert_exporter": "python",
   "pygments_lexer": "ipython3",
   "version": "3.6.4"
  }
 },
 "nbformat": 4,
 "nbformat_minor": 2
}
