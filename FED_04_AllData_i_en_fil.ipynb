{
 "cells": [
  {
   "cell_type": "markdown",
   "metadata": {},
   "source": [
    "### Vi prøver igen ...\n",
    "\n",
    "- Alle data i en fil, vi korter i koden\n",
    "- vi prøver med texts_to_matrix\n",
    "\n",
    "### Konklusion\n",
    "- Det er lykkedes at få det til at virke med een datafil, som indeholder både train og test"
   ]
  },
  {
   "cell_type": "code",
   "execution_count": 1,
   "metadata": {},
   "outputs": [],
   "source": [
    "# vi sætter stien til data\n",
    "import os\n",
    "import pandas as pd\n",
    "import numpy as np\n",
    "os.chdir('/Users/ThomasGordon/Documents/PythonScripts/FED')"
   ]
  },
  {
   "cell_type": "code",
   "execution_count": 2,
   "metadata": {},
   "outputs": [],
   "source": [
    "# Excel-filen med tekster åbnes og indlæses\n",
    "xl = pd.ExcelFile('FEDAll.xlsx')\n",
    "df = xl.parse('FEDlinjer')    # siden i arket\n",
    "texts  = df.loc[:,'FEDtext']\n",
    "texts  = texts.values\n",
    "labels = df.loc[:,'FEDsize']\n",
    "labels = labels.values\n",
    "\n",
    "# vi rafler data rundt tilfældigt (vi laver et tilfældigt index)\n",
    "indices = np.arange(texts.shape[0])\n",
    "np.random.shuffle(indices)\n",
    "texts   = texts[indices]\n",
    "labels = labels[indices]\n",
    "\n",
    "# opdeling i training data og test data\n",
    "i = 90000  # antal linjer afsat til træning, resten er test\n",
    "texts_train  = texts[:i]\n",
    "texts_test   = texts[i:] \n",
    "labels_train = labels[:i]\n",
    "labels_test  = labels[i:]"
   ]
  },
  {
   "cell_type": "code",
   "execution_count": 3,
   "metadata": {},
   "outputs": [
    {
     "name": "stderr",
     "output_type": "stream",
     "text": [
      "C:\\Users\\ThomasGordon\\Anaconda3\\lib\\site-packages\\h5py\\__init__.py:36: FutureWarning: Conversion of the second argument of issubdtype from `float` to `np.floating` is deprecated. In future, it will be treated as `np.float64 == np.dtype(float).type`.\n",
      "  from ._conv import register_converters as _register_converters\n",
      "Using TensorFlow backend.\n"
     ]
    }
   ],
   "source": [
    "# laver tekst om til vektor, henter text processing modul\n",
    "\n",
    "from keras.preprocessing.text import Tokenizer\n",
    "from keras.preprocessing.sequence import pad_sequences\n",
    "\n",
    "max_words = 10000  # Vi ser kun på de 10.000 mest almindelige ord\n",
    "\n",
    "# vi laver ordene i FED om til tilsvarende tal (som nedenfor laves til en \"one-hot\")\n",
    "tokenizer = Tokenizer(num_words=max_words)\n",
    "tokenizer.fit_on_texts(texts)"
   ]
  },
  {
   "cell_type": "code",
   "execution_count": 4,
   "metadata": {},
   "outputs": [
    {
     "name": "stdout",
     "output_type": "stream",
     "text": [
      "(90000, 10000)\n",
      "(10867, 10000)\n",
      "(90000,)\n",
      "(10867,)\n"
     ]
    }
   ],
   "source": [
    "# sætninger laves om til en \"one hot\" data vektor\n",
    "# tester ...\n",
    "data_train = tokenizer.texts_to_matrix(texts_train, mode='binary')\n",
    "data_test  = tokenizer.texts_to_matrix(texts_test,  mode='binary')\n",
    "\n",
    "# labels laves til vektor\n",
    "labels_train = np.asarray(labels_train).astype('float32')\n",
    "labels_test = np.asarray(labels_test).astype('float32')\n",
    "\n",
    "# print størrelsen på train og test data\n",
    "print(data_train.shape)\n",
    "print(data_test.shape)\n",
    "print(labels_train.shape)\n",
    "print(labels_test.shape)"
   ]
  },
  {
   "cell_type": "code",
   "execution_count": 5,
   "metadata": {},
   "outputs": [
    {
     "name": "stdout",
     "output_type": "stream",
     "text": [
      "_________________________________________________________________\n",
      "Layer (type)                 Output Shape              Param #   \n",
      "=================================================================\n",
      "dense_1 (Dense)              (None, 16)                160016    \n",
      "_________________________________________________________________\n",
      "dense_2 (Dense)              (None, 16)                272       \n",
      "_________________________________________________________________\n",
      "dropout_1 (Dropout)          (None, 16)                0         \n",
      "_________________________________________________________________\n",
      "dense_3 (Dense)              (None, 1)                 17        \n",
      "=================================================================\n",
      "Total params: 160,305\n",
      "Trainable params: 160,305\n",
      "Non-trainable params: 0\n",
      "_________________________________________________________________\n"
     ]
    }
   ],
   "source": [
    "from keras import models\n",
    "from keras import layers\n",
    "\n",
    "model = models.Sequential()\n",
    "model.add(layers.Dense(16, activation='relu', input_shape=(10000,)))\n",
    "model.add(layers.Dense(16, activation='relu'))\n",
    "model.add(layers.Dropout(0.5))\n",
    "model.add(layers.Dense(1, activation='sigmoid'))\n",
    "\n",
    "model.compile(optimizer='rmsprop',\n",
    "              loss='binary_crossentropy',\n",
    "              metrics=['accuracy'])\n",
    "\n",
    "model.summary()"
   ]
  },
  {
   "cell_type": "code",
   "execution_count": 6,
   "metadata": {},
   "outputs": [
    {
     "name": "stdout",
     "output_type": "stream",
     "text": [
      "Train on 81000 samples, validate on 9000 samples\n",
      "Epoch 1/10\n",
      "81000/81000 [==============================] - 17s 214us/step - loss: 0.2724 - acc: 0.9606 - val_loss: 0.1395 - val_acc: 0.9653\n",
      "Epoch 2/10\n",
      "81000/81000 [==============================] - 15s 181us/step - loss: 0.1493 - acc: 0.9625 - val_loss: 0.1253 - val_acc: 0.9653\n",
      "Epoch 3/10\n",
      "81000/81000 [==============================] - 16s 194us/step - loss: 0.1383 - acc: 0.9635 - val_loss: 0.1258 - val_acc: 0.9657\n",
      "Epoch 4/10\n",
      "81000/81000 [==============================] - 18s 219us/step - loss: 0.1337 - acc: 0.9641 - val_loss: 0.1273 - val_acc: 0.9660\n",
      "Epoch 5/10\n",
      "81000/81000 [==============================] - 16s 198us/step - loss: 0.1306 - acc: 0.9646 - val_loss: 0.1274 - val_acc: 0.9666\n",
      "Epoch 6/10\n",
      "81000/81000 [==============================] - 17s 206us/step - loss: 0.1269 - acc: 0.9650 - val_loss: 0.1284 - val_acc: 0.9657\n",
      "Epoch 7/10\n",
      "81000/81000 [==============================] - 17s 215us/step - loss: 0.1249 - acc: 0.9660 - val_loss: 0.1291 - val_acc: 0.9664\n",
      "Epoch 8/10\n",
      "81000/81000 [==============================] - 18s 217us/step - loss: 0.1234 - acc: 0.9666 - val_loss: 0.1287 - val_acc: 0.9661\n",
      "Epoch 9/10\n",
      "81000/81000 [==============================] - 17s 208us/step - loss: 0.1206 - acc: 0.9667 - val_loss: 0.1285 - val_acc: 0.9663\n",
      "Epoch 10/10\n",
      "81000/81000 [==============================] - 17s 209us/step - loss: 0.1184 - acc: 0.9673 - val_loss: 0.1284 - val_acc: 0.9658\n"
     ]
    }
   ],
   "source": [
    "NumEpochs = 10\n",
    "history = model.fit(data_train, labels_train,\n",
    "                    epochs=NumEpochs,\n",
    "                    batch_size=512,\n",
    "                    validation_split=0.1)"
   ]
  },
  {
   "cell_type": "code",
   "execution_count": 9,
   "metadata": {},
   "outputs": [
    {
     "data": {
      "text/plain": [
       "dict_keys(['val_loss', 'val_acc', 'loss', 'acc'])"
      ]
     },
     "execution_count": 9,
     "metadata": {},
     "output_type": "execute_result"
    }
   ],
   "source": [
    "history_dict = history.history\n",
    "history_dict.keys()"
   ]
  },
  {
   "cell_type": "code",
   "execution_count": null,
   "metadata": {},
   "outputs": [],
   "source": [
    "import matplotlib.pyplot as plt\n",
    "plt.show()"
   ]
  },
  {
   "cell_type": "code",
   "execution_count": 11,
   "metadata": {},
   "outputs": [
    {
     "data": {
      "image/png": "[encoded data removed]",
      "text/plain": [
       "<matplotlib.figure.Figure at 0x1713519b8d0>"
      ]
     },
     "metadata": {},
     "output_type": "display_data"
    }
   ],
   "source": [
    "# plotter historikken for 'loss' og 'accuracy'\n",
    "accu = history.history['acc']\n",
    "val_acc = history.history['val_acc']\n",
    "loss = history.history['loss']\n",
    "val_loss = history.history['val_loss']\n",
    "epochs = range(1, NumEpochs+1)\n",
    "\n",
    "plt.plot(epochs, loss, 'bo', label='Training loss')       # \"bo\" is for \"blue dot\"\n",
    "plt.plot(epochs, val_loss, 'b', label='Validation loss')  # b is for \"solid blue line\"\n",
    "plt.title('Training and validation loss')\n",
    "plt.xlabel('Epochs')\n",
    "plt.ylabel('Loss')\n",
    "plt.legend()\n",
    "\n",
    "plt.show()"
   ]
  },
  {
   "cell_type": "code",
   "execution_count": 12,
   "metadata": {},
   "outputs": [
    {
     "data": {
      "image/png": "[encoded data removed]",
      "text/plain": [
       "<matplotlib.figure.Figure at 0x1714e5ea5c0>"
      ]
     },
     "metadata": {},
     "output_type": "display_data"
    }
   ],
   "source": [
    "plt.clf()   # clear figure\n",
    "acc_values = history_dict['acc']\n",
    "val_acc_values = history_dict['val_acc']\n",
    "\n",
    "plt.plot(epochs, acc_values, 'bo', label='Training acc')\n",
    "plt.plot(epochs, val_acc_values, 'b', label='Validation acc')\n",
    "plt.title('Training and validation accuracy')\n",
    "plt.xlabel('Epochs')\n",
    "plt.ylabel('Loss')\n",
    "plt.legend()\n",
    "\n",
    "plt.show()"
   ]
  },
  {
   "cell_type": "markdown",
   "metadata": {},
   "source": [
    "# Validering af modellen på test data\n",
    "Her indlæser vi så test data, helt nye data til test"
   ]
  },
  {
   "cell_type": "code",
   "execution_count": 13,
   "metadata": {},
   "outputs": [
    {
     "name": "stdout",
     "output_type": "stream",
     "text": [
      "0.0340\n",
      "0.0000\n",
      "0.0002\n",
      "0.0201\n",
      "0.0020\n",
      "0.0735\n",
      "0.0514\n",
      "0.0133\n",
      "0.0146\n"
     ]
    }
   ],
   "source": [
    "# vi prøver modellen på test-data\n",
    "\n",
    "predictions = model.predict(data_test)\n",
    "\n",
    "for i in range(1,10):\n",
    "    print(('%1.4f' % predictions[i]))"
   ]
  },
  {
   "cell_type": "code",
   "execution_count": 14,
   "metadata": {},
   "outputs": [
    {
     "name": "stdout",
     "output_type": "stream",
     "text": [
      "Antal store i datasættet:     442.0\n",
      "antal estimeret af modellen:  117\n",
      "Modellens præcision:          26.0 %\n"
     ]
    }
   ],
   "source": [
    "# finder ud af hvor stor en del store, som er fundet\n",
    "\n",
    "print('Antal store i datasættet:    ', sum(labels_test))\n",
    "NumEstimated = 0\n",
    "for i in range(1,6000):\n",
    "    if predictions[i]>0.1 and labels_test[i]:\n",
    "        NumEstimated += 1\n",
    "print('antal estimeret af modellen: ', NumEstimated)\n",
    "print('Modellens præcision:         ', round(NumEstimated/sum(labels_test)*100), '%')"
   ]
  },
  {
   "cell_type": "code",
   "execution_count": 15,
   "metadata": {},
   "outputs": [
    {
     "name": "stdout",
     "output_type": "stream",
     "text": [
      " Gennemsnit for test stor og lille\n",
      "0.18146855\n",
      "0.031791665\n"
     ]
    }
   ],
   "source": [
    "# Gennemsnittet for rigtig og forkert\n",
    "\n",
    "print(' Gennemsnit for test stor og lille')\n",
    "print(np.average([x for i, x in enumerate(predictions) if labels_test[i]]))\n",
    "print(np.average([x for i, x in enumerate(predictions) if not labels_test[i]]))"
   ]
  },
  {
   "cell_type": "code",
   "execution_count": 16,
   "metadata": {},
   "outputs": [
    {
     "name": "stdout",
     "output_type": "stream",
     "text": [
      "Jeg printer nogle liner som er sande i test data:\n",
      "   2  0.0000  Der er stor mangel på ER til  mogentrafikkken. Der disponeres således :  4117-4116-4131-4132-414\n",
      "   9  0.0146  Vi mangler en hulens masse MQ'er i FA/OD.\n",
      "  21  0.0026  Fokustog\n",
      "  34  0.3928  der mangler 2 me til morgen trafikken\n",
      "  54  0.0097  materieldisponering\n",
      "  58  0.0027  K -30 Sd. Kun til Ar. Vi fik ikke indsat rettidigt (skrevet kl. 15.01). Forsinkelser grundet nedreve\n",
      "  66  0.0835  Mgl IC4 til morgen trafikken mandag i FA og OD\n",
      " 123  0.0269  Materielfejl, holder nu koblet i Ringsted med fejl, kan ikke få traktion på toget.\n",
      " 134  0.0182  Nedbrudt Høs.. Togsættet er tørkørt..\n",
      " 157  0.0021  Disponering DSB : Vk hgl får ikke nok ER klar til eftermiddags trafikken\n",
      " 165  0.1329  Nedformeringer ET\n",
      " 189  0.0012  Materielfejl MF efter Ng, røgudvikling på toilet, der er helt sort, så kører retur til Ng og brandvæ\n",
      " 209  0.3205  Falskbesættelses i NI\n",
      " 228  0.6852  Ky. Skinnebrud. Flyttet fra kl. 11.50\n",
      " 257  0.0000  Medgives to aflåste ER-sæt Fa - Kh.. Togsættene skal videre til Hgl for eftersyn..\n",
      " 261  0.0575  Vi mangler 5 togsæt på Hgl pt\n",
      " 289  0.2624  Der er fejl på sporskifterne i Kalvebod\n"
     ]
    }
   ],
   "source": [
    "# jeg prøver at printe linjenummer, prediction og tekststreng for dem som er store = \"rigtige\"\n",
    "\n",
    "print('Jeg printer nogle liner som er sande i test data:')\n",
    "for i in range(1,300):\n",
    "    if labels_test[i]==1:\n",
    "        PrtStr = ('%4.0f' % i) + '  ' + ('%1.4f' % predictions[i]) + '  ' + texts_test[i][:100].replace('\\n', ' ').replace('\\r', '')\n",
    "        print(PrtStr) "
   ]
  },
  {
   "cell_type": "code",
   "execution_count": 17,
   "metadata": {},
   "outputs": [
    {
     "data": {
      "image/png": "[encoded data removed]",
      "text/plain": [
       "<matplotlib.figure.Figure at 0x1713520d160>"
      ]
     },
     "metadata": {},
     "output_type": "display_data"
    }
   ],
   "source": [
    "# jeg prøver lige at plotte \"predictions i et histogram\n",
    "\n",
    "# hent data for store og små i to arrays, lav til et np array, så plotteren kan forstå data\n",
    "PlotDataSand = [x for i, x in enumerate(predictions) if labels_test[i]]\n",
    "PlotDataSand = np.array(PlotDataSand)\n",
    "PlotDataFalsk = [x for i, x in enumerate(predictions) if not labels_test[i]]\n",
    "PlotDataFalsk = np.array(PlotDataFalsk)\n",
    "\n",
    "plt.clf()  # clear figure\n",
    "plt.hist(PlotDataSand, bins=50, alpha=0.6, label='store')  # 50 bins, halv hennemsigtig\n",
    "plt.hist(PlotDataFalsk, bins=50, alpha=0.6, label='små')\n",
    "plt.legend(loc='upper right')\n",
    "plt.ylim([0, 200])\n",
    "\n",
    "plt.show()"
   ]
  },
  {
   "cell_type": "markdown",
   "metadata": {},
   "source": [
    "UHA UHA, alt for mange af de sande har en værdi tæt på 0 ..."
   ]
  },
  {
   "cell_type": "markdown",
   "metadata": {},
   "source": [
    "### Modellen er ikke specielt præcis. jeg checker lige efter på træninsdata, dem kan man håbe den har lært bedre at kende???"
   ]
  },
  {
   "cell_type": "code",
   "execution_count": 18,
   "metadata": {},
   "outputs": [
    {
     "name": "stdout",
     "output_type": "stream",
     "text": [
      "0.1040\n",
      "0.0026\n",
      "0.0013\n",
      "0.0281\n",
      "0.0587\n",
      "0.0008\n",
      "0.0005\n",
      "0.0013\n",
      "0.0017\n"
     ]
    }
   ],
   "source": [
    "# vi prøver modellen på test-data\n",
    "\n",
    "predictions = model.predict(data_train)\n",
    "\n",
    "# print de første predictions\n",
    "for i in range(1,10):\n",
    "    print(('%1.4f' % predictions[i]))"
   ]
  },
  {
   "cell_type": "code",
   "execution_count": 19,
   "metadata": {},
   "outputs": [
    {
     "name": "stdout",
     "output_type": "stream",
     "text": [
      "Antal store i datasættet:     3351.0\n",
      "antal estimeret af modellen:  973\n",
      "Modellens præcision:          29.0 %\n"
     ]
    }
   ],
   "source": [
    "# finder ud af hvor stor en del store, som er fundet\n",
    "\n",
    "print('Antal store i datasættet:    ', sum(labels_train))\n",
    "NumEstimated = 0\n",
    "for i in range(1,len(labels_train)):\n",
    "    if predictions[i]>0.4 and labels_train[i]:\n",
    "        NumEstimated += 1\n",
    "print('antal estimeret af modellen: ', NumEstimated)\n",
    "print('Modellens præcision:         ', round(NumEstimated/sum(labels_train)*100), '%')"
   ]
  },
  {
   "cell_type": "code",
   "execution_count": 20,
   "metadata": {},
   "outputs": [
    {
     "name": "stdout",
     "output_type": "stream",
     "text": [
      "Nogle linjer som er SANDE i train data:\n",
      "   1  0.1040  Materiel: Vi mangler 3 BR i Danmark\n",
      "  31  0.0184  Afkobles som normalt i OD\n",
      " 164  0.4613  Spærring Grenå banen forlønget 2 timer, til kl 17, så der er et par ændringer.\n",
      " 169  0.0740  Materielfejl. Kan ikke køre\n",
      " 175  0.3861  Vi mangler 3 ER på Kk til morgentrafikken. Det løser vi sådan her...\n",
      " 183  0.0921  Disponering DSB. Det har ikke været muligt, at komme til/fra Askekassen i nat pga. den har været ube\n",
      " 213  0.6051  En mulig fejl på køreledningen mellem MD og FA.\n",
      " 221  0.0970  Vi mangler nogle MF-sæt, i forhold til hvad der er planlagt med i afg fra Ar..\n",
      " 255  0.2271  Vi sætter ekstra vogne på følgende tog i aften:  Det skyldes, at vi forventer mange passagerer fra\n",
      " 262  0.0466  15:05 Fanget i Flb, da fjernstyringen er gået ned.\n",
      " 278  0.0247  Blokfejl NÆ - OL.\n"
     ]
    }
   ],
   "source": [
    "# jeg prøver at printe linjenummer, prediction og tekststreng, som er RIGTIGE (store)\n",
    "\n",
    "print('Nogle linjer som er SANDE i train data:')\n",
    "for i in range(1,300):\n",
    "    if labels_train[i]==1:\n",
    "        PrtStr = ('%4.0f' % i) + '  ' + ('%1.4f' % predictions[i]) + '  ' + texts[i][:100].replace('\\n', ' ').replace('\\r', '')\n",
    "        print(PrtStr) "
   ]
  },
  {
   "cell_type": "code",
   "execution_count": 21,
   "metadata": {},
   "outputs": [
    {
     "name": "stdout",
     "output_type": "stream",
     "text": [
      "Nogle linjer som er FALSKE i train data:\n",
      "   2  0.0026  FOKUSTOG\n",
      "   3  0.0013  Toget er lav på diesel, så vi aflyser rørløb og kører i Belv. for tankning.\n",
      "   4  0.0281  Nedbrud fra tidliger i Sd er frigivet af hjælpevognen\n",
      "   5  0.0587  Sporskiftefejl, rep af sporskifte i Ringsted.\n",
      "   6  0.0008  Materielmangel MF : VK-IC3 AR får ikke et klar til L54\n",
      "   7  0.0005  Stammeskift på KH, ET-sæt skal indsættes i s t f ER-sæt\n",
      "   8  0.0013  Toilet stoppet\n",
      "   9  0.0017  Test Byt på Hl\n",
      "  10  0.0030  Disponering DSB : ET 4392 skal holde på UF kl.14:00\n",
      "  11  0.0155  kørte sporskife op i NÆ\n",
      "  12  0.0079  Løvfald: k-10 ud af Vn\n",
      "  13  0.0003  ER-sættet skal til eftersyn på Hgl (overkørt)\n",
      "  14  0.0170  Ingen kontrol over sporskifterne ind til Kac.\n",
      "  15  0.0027  IC4      Køres idag med en MR, pga nedbrud på IC4 Matt.\n",
      "  16  0.0005  Brudt plomb. Fortsætter til Hg med 70 km/t\n",
      "  17  0.0956  DB.   Signalfejl ved Oldenburg.\n",
      "  18  0.0734  Manglende materiel  56861 56869\n",
      "  19  0.0001  Materiel  er oprangeret omvendt\n",
      "  20  0.0269  Skal til UF I Htå\n",
      "  21  0.0093  Forskellige materiel ændringer\n",
      "  22  0.0031  Materielfejl, ER 2034 har defekt kobling i vestenden.\n",
      "  23  0.0060  Sygemelding i Næstved, MQ lkf\n",
      "  24  0.0181  Forsinkede fra Sverige\n",
      "  25  0.0002  Røgudvikling, sættet må ikke køre videre melder lki. Vi afkobler og kører i Kgc. FFø sender lkf til \n",
      "  26  0.0301  Materielfejl: 0% traction på ET-4348. Transdew vil ikke have den til Sverige\n",
      "  27  0.0089  Afgået fra Ab uden at blive tanket.\n",
      "  28  0.1279  Infrastruktur: Melding om rystelser på køreledning på Kk\n",
      "  29  0.0051  Materiel.        Lki oplyser at der er udkoblet el-brems. og den har slidte bremse klodser, derfor f\n",
      "  30  0.0071  Køre på 50 % trækkræft.   K-7\n",
      "  32  0.0027  Materielfejl : Sort skærm I begge ender\n",
      "  33  0.0054  Disponering dsb: skal til Rep Kh\n",
      "  34  0.0008  Defekt klimaanlæg (der er 34 grader inde I nordligste førerrum).\n",
      "  35  0.0257  mgl materiel\n",
      "  36  0.0382  Materielfejl. Problemer med hovedafbryderen på et togsæt, under klargøring.\n",
      "  37  0.0024  Stammebytte Ab\n",
      "  38  0.0345  Passager\n",
      "  39  0.0120  Højre førerumsdør defekt\n",
      "  40  0.0004  Test- Stammebyt på kh\n",
      "  41  0.1178  Materielfejl. Holder ind I RO og fejlsøge.\n",
      "  42  0.0281  Materiel   mangel til driften i NF fredag morgen.\n",
      "  43  0.0002  MF 5027 = Ingen virksomme toiletter (er også skrevet andetsteds i FED) MF 5049 = Ingen brændolie..\n",
      "  44  0.0510  Materielfejl\n",
      "  45  0.0003  Materielfejl. Defekt klima. Der er 30 grader i begge førerrum. Nedbrudt ved ankomst til Næ.\n",
      "  46  0.0047  Signalfejl NF : omstillingsanlægget udu igen\n",
      "  47  0.0040  Vi skal ha fat i togsættet før, så vi kan nå at lave tunnelcheck på 51025\n",
      "  48  0.0091  Materielmangel: 1 ICED NF\n",
      "  49  0.0007  Personalemangel Lkf Kh pga. sygdom, men det klares på flg. måde ved at aflyse to M-tog\n",
      "  50  0.4895  Stammeskifte Lyn 40. Det er meldt ud og skrevet i FED kl. 05.15. Men blot til opfølgning.\n",
      "  51  0.0195  Kørt tør i Bo\n",
      "  52  0.0002  Disponering DSB, på grund af omdisponering tidligere på dagen, kan man ikke levere lokal vogn i Ar t\n",
      "  53  0.0396  Materielmangel ER:\n",
      "  54  0.0008  Materielfejl: H-log blinker på 4338. HVK tilkaldt\n",
      "  55  0.0327  Koblingsproblemer i Hg - vi kører kun med et togsæt\n",
      "  56  0.0046  Materielfejl, togsættet skal tages ud for noget teknik. Der kan ikke leveres noget i Aarhus pt, så v\n",
      "  57  0.0001  Lkf havde set forkert på tur køres retur til pladsen indsættes i RØ 4133\n",
      "  58  0.0276  Forventes forsinket fra M da der kun er 1 spor i citytunnelen\n",
      "  59  0.0093  Aflysninger IC4 prøvekørsel\n",
      "  60  0.0285  Materiel   holder i KAC med defekt ridio.\n",
      "  61  0.0003  Materielfejl MR, dørfejl. Dørene kan åbne under kørslen. Returnerer til Gr.\n",
      "  62  0.0962  Disponereing DSB\n",
      "  63  0.0003  Materielfejl ER : def visker sidder løst\n",
      "  64  0.0042  Materiel. Skal til akselskift på HGL.\n",
      "  65  0.0171  Koldt førerum fra Malmø mod DK og det vil den danske Lkf ikke køre med, så toget aflyses fra Malmø.\n",
      "  66  0.0405  Bane Danmark: Ingen strøm mellem Helgoland og Hvidovre. Der er folk på sagen.\n",
      "  67  0.0097  materieldisponering\n",
      "  68  0.0137  Materiel: kommer fra Hgl\n",
      "  69  0.0189  Øvrige Bdk. Sporskifteproblem. 4111 er fanget.\n",
      "  70  0.0290  Materielfejl: Fejl på kommunikation\n",
      "  71  0.0377  Matereiel disponering ER\n",
      "  72  0.0278  Forsinket fra Roskilde\n",
      "  73  0.0026  FOKUSTOG :\n",
      "  74  0.0008  Disponering DSB. Vi har ICA i ICU-løb.\n",
      "  75  0.0016  Omvendt afkobling i Helsingør\n",
      "  76  0.0524  Materiel.   Holder pt i JY med fejl på lok.\n",
      "  77  0.0000  Omvendt afkobling i Ar. 2 F skal afkobles og til P-risten. Toget er døbt rigtigt.\n",
      "  78  0.0405  Der kommer kun et sæt fra CPH, det andet sæt kommer KGC op med på KH.\n",
      "  79  0.0188  Ud til rep Kh.\n",
      "  80  0.0088  skal ikke tankes\n",
      "  81  0.0001  Disponering DSB: omvendt genbenyttelse Hg\n",
      "  82  0.0023  Tgf. er med forsinket 852. Vi køre 877 tom til KH\n",
      "  83  0.0001  stammeskift på kh ordinær stamme indsættes igen\n",
      "  84  0.0050  Skal tage batterikontakter inden afgang\n",
      "  85  0.0034  Har ingen virksomme a-motore\n",
      "  86  0.0012  Der mangler 1 ER til 4313. 4313 kører fra Hgl med 1 ER og opformeres på KH med 1 MF. MFskal  afkoble\n",
      "  87  0.0036  Materielmangel: Vi indsætter res.st på kh.\n",
      "  88  0.0340  Personaleforhold, ingen Lkf på toget\n",
      "  89  0.0201  Har ingen virksomme strømaftager\n",
      "  90  0.0105  Togsættet er uden varme.\n",
      "  91  0.0001  Koblet omvendt, ER sættet for sent klar.\n",
      "  92  0.0018  Materiel, mangler brændolie\n",
      "  93  0.0586  holder mellem Os - Lt med fast atcfejl  Lki er på sagen.\n",
      "  94  0.0012  Materielfejl ABS : skal på VK til UF  skulle havde været det kl.09:00\n",
      "  95  0.0004  Lkf kom sent igang med at Klg i BLV hvorfor vides ikke ??\n",
      "  96  0.0391  Lkf har sovet for længe. og det har 4504 også.\n",
      "  97  0.0124  Kan ikke koble.\n",
      "  98  0.0076  LKF har taget to togsæt med til HGL i stedet for et. Giver mangel på KK til 841. MDL på sagen.\n",
      "  99  0.0018  Materiel mangel BR605.\n",
      " 100  0.0008  Smutoanlæg gået ned i Ar vagt tilkaldt. den der har vagten i parkeringen vil ikke blive (han har f\n",
      " 101  0.0566  Holder med fejl på bremse. Kører til Kh uden ATC og håber på opdatering.  K-13\n",
      " 102  0.0006  Materiel, togsættet er ved at løbe tør for diesel - må efterlades i Ar\n",
      " 103  0.0005  Skift af kobling inden afgang\n",
      " 104  0.0041  Materielfejl, h afbryder 1+2 falder skiftevis ud\n",
      " 105  0.0136  Holder i  OD og er kun koblet mekanisk, lkf kobler af og på igen men 5004 har lidt probæemer med kom\n",
      " 106  0.0106  Får en masse fejl, så toget køre kun med 1 sæt.\n",
      " 107  0.0020  ME-lok til UF-bænk Htå..\n",
      " 108  0.0724  K - 13 Sø pga L 43\n",
      " 109  0.0036  Der lugter brændt i det førerrum mod Svg. Vi prøver at lave et stammebyt i Od.\n",
      " 110  0.0093  Koblingsproblemer i Fa. LKI tager kontakt.\n",
      " 111  0.0014  luftslange utæt under førerstol\n",
      " 112  0.0357  Nedbrudt KK.   Tomt til Kh som 82229\n",
      " 113  0.0029  MAteriel   Defekt skal til rep\n",
      " 114  0.0510  Materielfejl\n",
      " 115  0.0063  Sand kontrol 8174\n",
      " 116  0.0194  Ingen lkf sat ud til dette tog\n",
      " 117  0.0023  Materielfejl MQ, holdebremse kunne ikke løsnes. Vi må tage et andet sæt. LKf mente ikke han skulle k\n",
      " 118  0.0100  FF melder de har koblet 2 sæt af i Fa , i stedet for 1 sæt, så vi mgl til 2808 i Od, der omdisponere\n",
      " 119  0.0381  vekselretter fejl på me  igen\n",
      " 120  0.0004  Materielfejl. Def. kobling mod KH. Vi indrng. 2035 på 2033. ANNULLERET\n",
      " 121  0.0486  Holder på Hgl, men mangles på Kh\n",
      " 122  0.0003  Materielfejl: toilet løbet over\n",
      " 123  0.0313  aflyst\n",
      " 124  0.0040  Marterielfejl koblings problemer i HG K-15\n",
      " 125  0.0136  Materielmangel: mangler MF på Kh\n",
      " 126  0.0757  forsinkelser på FYN\n",
      " 127  0.0025  Placeres tidligere aht produktionen\n",
      " 128  0.1287  Passagerforhold : har en del passager som er blinde som skal af i Valby\n",
      " 129  0.0340  forsinket fra Sverige\n",
      " 130  0.0001  Tgf melder atbegge toiletter er fyldte\n",
      " 131  0.0319  Materiel   defekt bvisker i retning SVG\n",
      " 132  0.0407  Disponering DSB : mgl en ER i CPh\n",
      " 133  0.0510  materielfejl\n",
      " 134  0.0246  Materielmangel : Mgl DD stamme\n",
      " 135  0.0113  Tomt Lok  6109 nedbrudt lige efter Fa mod Ar\n",
      " 136  0.0044  Mangler Mq i Fa. Så vi skal ha fat i en MF\n",
      " 137  0.0067  Materielmangel. Ingen driftsklare MG i Kb. Vi kører med ME+5DD i stedet.\n",
      " 138  0.0663  Ikke klar til tiden i Fa..\n",
      " 139  0.0051  Materielfejl. P.I.S fejl. Køre tom fra M-KH\n",
      " 140  0.0091  Kan ikke koble på Kk... 9772 køres i to afd Kk - Kh..\n",
      " 141  0.0076  Står i Kgc og skal til rep i Kac\n",
      " 142  0.0056  Disponering DSB: ET-4323 skal til eftersyn i %M\n",
      " 143  0.0030  Kørt -16 fra Ng grundet defekt klimaanlæg, så der holdes eks tid på stationerne\n",
      " 144  0.0055  Tyskerne efterspørger dette sæt\n",
      " 145  0.0468  Mangler en Dobbeltdækker i Eftermiddag\n",
      " 146  0.0510  materielfejl\n",
      " 147  0.0048  Disponering, mgl behov\n",
      " 148  0.0224  Bremsefejl pga udkoblede boggier.. Lkf fortæller at han har kørt med sættet sådan, i flere dage.. \n",
      " 149  0.0070  Materielfejl. Brud ned ved udkørelse. Køre tilbage til perron\n",
      " 150  0.0205  Materielfejl fejl på svensk ATC\n",
      " 151  0.0003  Materiel. Kan ikke etableres overgang,.\n",
      " 152  0.0464  Materielmangel: ME+dd\n",
      " 153  0.0251  Forlænges til Hgl\n",
      " 154  0.0166  DisponeringDSB: K - 26 Pa pga fejl på over kørseler i Tyskland\n",
      " 155  0.0196  Materielfejl, der er knækket en ting/fjeder som skal laves af en hvk\n",
      " 156  0.0026  Ikke sat nogen op til at kører toget. Aflyses. Togsættet omrangeres til RØ 2836, kl. 11.51.\n",
      " 157  0.0037  er ved at løbe tør for olie\n",
      " 158  0.0081  Ingen behov\n",
      " 159  0.0081  Materielfejl. 1xMG. Nedbrudt under klargøring. Ar.\n",
      " 160  0.0278  En misforståelse mellem Lkf. og Kmp. resulteret i at 2038 ikke blev opformeret\n",
      " 161  0.3922  ICED disponeringer 21/4 (skrevet i nat). Men fremskrevet løbende dagen igennem.\n",
      " 162  0.0632  Fa. Der kan ikke kobles i Fa.\n",
      " 163  0.0270  Materiel:\n",
      " 165  0.0371  Placering af togsæt til og fra UF på Mgb\n",
      " 166  0.0076  Materiel: fejl på Styrvognen, så toget skal trækkes ind\n",
      " 167  0.0071  Materielfejl dårlige klodser\n",
      " 168  0.0127  Togsæt har revnet bremseklodser og skal ud til skift i Kgc.\n",
      " 170  0.0039  Me 1509 i 2206 skal til rep. Omdisponeres på Kk så Me 1509 kører 9714.\n",
      " 171  0.0613  der mangler mq\n",
      " 172  0.0464  MATERIELMANGEL Der mangler mat\n",
      " 173  0.0331  Mangler brandstof.\n",
      " 174  0.0018  Kører som tomt mat Kh  - Hgl.. Der er kun én Togp på toget - og han mener ikke at kunne overskue t\n",
      " 176  0.0109  Matt er nu meldt færdigt på HGL.\n",
      " 177  0.0004  IC2. Ingen driftsklare sæt til denne tur. Vi finder en MQ i stedet.\n",
      " 178  0.0393  Materielfejl Kh\n",
      " 179  0.0965  Sporskifte problemer i Øst enden af So\n",
      " 180  0.0000  + MF + 1 ER vg 21-22, 5-8 Cph-Kh. Oprang fra Cph : 5-8 forrest, vg 11-12 derefter flg vg 21-22. Mods\n",
      " 181  0.0009  Materielmangel ER Fa fre, en enkelt\n",
      " 182  0.0215  Køre med en genratorfejl må kun køre til værksted.\n",
      " 184  0.0063  K - 8 pga åbenståne dør 853 og 40 kikker efter. U vagt underrettes\n",
      " 185  0.0087  motoren er lagt ud. den oser meget og motorkontrolrelæet er defekt\n",
      " 186  0.0108  Materielfejl. IC4. Problemer med en parkeringsbremse. Klar om ca. 5-10 min. melder LKI.\n",
      " 187  0.0144  Dispoering DSB. Da der ikke er nogle til af skille 3286 i AB køre vi opformeret i 192/195\n",
      " 188  0.0270  Materiel.\n",
      " 189  0.0106  Materieldisponering i AB\n",
      " 190  0.0412  Materielmangel ER : mgl en ER i CPh\n",
      " 191  0.0614  disponering af ET i Hg\n",
      " 192  0.0510  Materielfejl\n",
      " 193  0.0301  Ingen varme i det førerum mod Fa. Lkf kører den til Fa, så vi kan omdisponere.\n",
      " 194  0.0602  Aflysning fra Sverige\n",
      " 195  0.0036  Materielfejl, fejl på PIS-anlæg, holder på Kh, tømmes og kører tom til Malmø\n",
      " 196  0.0062  Materielfejl MQ (batterilader def)\n",
      " 197  0.0047  Transport af MQ til Grenå banen\n",
      " 198  0.0429  Disponering af mangler:\n",
      " 199  0.0413  Materiel nedbrudt\n"
     ]
    }
   ],
   "source": [
    "# jeg prøver at printe linjenummer, prediction og tekststreng, som er FORKERTE (små)\n",
    "\n",
    "print('Nogle linjer som er FALSKE i train data:')\n",
    "for i in range(1,200):\n",
    "    if labels[i]==0:\n",
    "        PrtStr = ('%4.0f' % i) + '  ' + ('%1.4f' % predictions[i]) + '  ' + texts[i][:100].replace('\\n', ' ').replace('\\r', '')\n",
    "        print(PrtStr) "
   ]
  },
  {
   "cell_type": "code",
   "execution_count": 22,
   "metadata": {},
   "outputs": [
    {
     "name": "stdout",
     "output_type": "stream",
     "text": [
      " Gennemsnit for ttrain stor og lille\n",
      "0.27190948\n",
      "0.029051185\n"
     ]
    }
   ],
   "source": [
    "# finder gennemsnittet for dem som er rigtige og forkerte\n",
    "\n",
    "print(' Gennemsnit for ttrain stor og lille')\n",
    "print(np.average([x for i, x in enumerate(predictions) if labels[i]]))\n",
    "print(np.average([x for i, x in enumerate(predictions) if not labels[i]]))"
   ]
  },
  {
   "cell_type": "code",
   "execution_count": 23,
   "metadata": {},
   "outputs": [
    {
     "data": {
      "image/png": "[encoded data removed]",
      "text/plain": [
       "<matplotlib.figure.Figure at 0x17135351b00>"
      ]
     },
     "metadata": {},
     "output_type": "display_data"
    }
   ],
   "source": [
    "# jeg prøver lige at plotte \"predictions i et histogram\n",
    "\n",
    "# hent data for store og små i to arrays, lav til et np array, så plotteren kan forstå data\n",
    "PlotDataSand = [x for i, x in enumerate(predictions) if labels_train[i]]\n",
    "PlotDataSand = np.array(PlotDataSand)\n",
    "PlotDataFalsk = [x for i, x in enumerate(predictions) if not labels_train[i]]\n",
    "PlotDataFalsk = np.array(PlotDataFalsk)\n",
    "\n",
    "plt.clf()  # clear figure\n",
    "plt.hist(PlotDataSand, bins=50, alpha=0.6, label='store train')  # 50 bins, halv hennemsigtig\n",
    "plt.hist(PlotDataFalsk, bins=50, alpha=0.6, label='små train')\n",
    "plt.legend(loc='upper right')\n",
    "plt.ylim([0, 1000])\n",
    "\n",
    "plt.show()"
   ]
  }
 ],
 "metadata": {
  "kernelspec": {
   "display_name": "Python 3",
   "language": "python",
   "name": "python3"
  },
  "language_info": {
   "codemirror_mode": {
    "name": "ipython",
    "version": 3
   },
   "file_extension": ".py",
   "mimetype": "text/x-python",
   "name": "python",
   "nbconvert_exporter": "python",
   "pygments_lexer": "ipython3",
   "version": "3.6.4"
  }
 },
 "nbformat": 4,
 "nbformat_minor": 2
}
