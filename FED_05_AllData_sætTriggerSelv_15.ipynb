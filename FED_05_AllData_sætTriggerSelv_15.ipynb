{
 "cells": [
  {
   "cell_type": "markdown",
   "metadata": {},
   "source": [
    "### Vi prøver igen ...\n",
    "\n",
    "- Alle data i en fil, vi korter i koden\n",
    "- vi prøver med texts_to_matrix\n",
    "- Jeg kan selv vælge hvad der er stort (kan prøve andet end 10), måske kan den lettere finde f.eks. 5?\n",
    "\n",
    "### Konklusion\n",
    "- Det er lykkedes at få det til at virke med een datafil, som indeholder både train og test"
   ]
  },
  {
   "cell_type": "code",
   "execution_count": 1,
   "metadata": {},
   "outputs": [],
   "source": [
    "# vi sætter stien til data\n",
    "import os\n",
    "import pandas as pd\n",
    "import numpy as np\n",
    "os.chdir('/Users/ThomasGordon/Documents/PythonScripts/FED')\n"
   ]
  },
  {
   "cell_type": "code",
   "execution_count": 2,
   "metadata": {},
   "outputs": [],
   "source": [
    "# Excel-filen med tekster åbnes og indlæses\n",
    "xl = pd.ExcelFile('FEDAll.xlsx')\n",
    "df = xl.parse('FEDlinjer')       # siden i arket\n",
    "\n",
    "# læs overskrifter i FED\n",
    "texts  = df.loc[:,'FEDtext']\n",
    "texts  = texts.values\n",
    "\n",
    "# læs antal linjer og omsæt til \"stor hændelse\" eller \"lille hændelse\"\n",
    "StorEr = 15\n",
    "NumLines = df.loc[:,'FEDlinjer']\n",
    "NumLines = NumLines.values\n",
    "labels = np.asarray([1*(NumLines[i]>=StorEr) for i in range(len(NumLines))])\n",
    "\n",
    "# vi rafler data rundt tilfældigt (vi laver et tilfældigt index)\n",
    "indices = np.arange(texts.shape[0])\n",
    "np.random.shuffle(indices)\n",
    "texts   = texts[indices]\n",
    "labels = labels[indices]\n",
    "\n",
    "# opdeling i training data og test data\n",
    "i = 90000  # antal linjer afsat til træning, resten er test\n",
    "texts_train  = texts[:i]\n",
    "texts_test   = texts[i:] \n",
    "labels_train = labels[:i]\n",
    "labels_test  = labels[i:]"
   ]
  },
  {
   "cell_type": "code",
   "execution_count": 3,
   "metadata": {},
   "outputs": [
    {
     "name": "stderr",
     "output_type": "stream",
     "text": [
      "C:\\Users\\ThomasGordon\\Anaconda3\\lib\\site-packages\\h5py\\__init__.py:36: FutureWarning: Conversion of the second argument of issubdtype from `float` to `np.floating` is deprecated. In future, it will be treated as `np.float64 == np.dtype(float).type`.\n",
      "  from ._conv import register_converters as _register_converters\n",
      "Using TensorFlow backend.\n"
     ]
    }
   ],
   "source": [
    "# laver tekst om til vektor, henter text processing modul\n",
    "\n",
    "from keras.preprocessing.text import Tokenizer\n",
    "from keras.preprocessing.sequence import pad_sequences\n",
    "\n",
    "max_words = 10000  # Vi ser kun på de 10.000 mest almindelige ord\n",
    "\n",
    "# vi laver ordene i FED om til tilsvarende tal (som nedenfor laves til en \"one-hot\")\n",
    "tokenizer = Tokenizer(num_words=max_words)\n",
    "tokenizer.fit_on_texts(texts)"
   ]
  },
  {
   "cell_type": "code",
   "execution_count": 4,
   "metadata": {},
   "outputs": [
    {
     "name": "stdout",
     "output_type": "stream",
     "text": [
      "(90000, 10000)\n",
      "(10867, 10000)\n",
      "(90000,)\n",
      "(10867,)\n"
     ]
    }
   ],
   "source": [
    "# sætninger laves om til en \"one hot\" data vektor\n",
    "# tester ...\n",
    "data_train = tokenizer.texts_to_matrix(texts_train, mode='binary')\n",
    "data_test  = tokenizer.texts_to_matrix(texts_test,  mode='binary')\n",
    "\n",
    "# labels laves til vektor\n",
    "labels_train = np.asarray(labels_train).astype('float32')\n",
    "labels_test = np.asarray(labels_test).astype('float32')\n",
    "\n",
    "# print størrelsen på train og test data\n",
    "print(data_train.shape)\n",
    "print(data_test.shape)\n",
    "print(labels_train.shape)\n",
    "print(labels_test.shape)"
   ]
  },
  {
   "cell_type": "code",
   "execution_count": 5,
   "metadata": {},
   "outputs": [
    {
     "name": "stdout",
     "output_type": "stream",
     "text": [
      "_________________________________________________________________\n",
      "Layer (type)                 Output Shape              Param #   \n",
      "=================================================================\n",
      "dense_1 (Dense)              (None, 16)                160016    \n",
      "_________________________________________________________________\n",
      "dense_2 (Dense)              (None, 16)                272       \n",
      "_________________________________________________________________\n",
      "dropout_1 (Dropout)          (None, 16)                0         \n",
      "_________________________________________________________________\n",
      "dense_3 (Dense)              (None, 1)                 17        \n",
      "=================================================================\n",
      "Total params: 160,305\n",
      "Trainable params: 160,305\n",
      "Non-trainable params: 0\n",
      "_________________________________________________________________\n"
     ]
    }
   ],
   "source": [
    "from keras import models\n",
    "from keras import layers\n",
    "\n",
    "model = models.Sequential()\n",
    "model.add(layers.Dense(16, activation='relu', input_shape=(10000,)))\n",
    "model.add(layers.Dense(16, activation='relu'))\n",
    "model.add(layers.Dropout(0.5))\n",
    "model.add(layers.Dense(1, activation='sigmoid'))\n",
    "\n",
    "model.compile(optimizer='rmsprop',\n",
    "              loss='binary_crossentropy',\n",
    "              metrics=['accuracy'])\n",
    "\n",
    "model.summary()"
   ]
  },
  {
   "cell_type": "code",
   "execution_count": 6,
   "metadata": {},
   "outputs": [
    {
     "name": "stdout",
     "output_type": "stream",
     "text": [
      "Train on 81000 samples, validate on 9000 samples\n",
      "Epoch 1/10\n",
      "81000/81000 [==============================] - 18s 224us/step - loss: 0.2817 - acc: 0.9790 - val_loss: 0.1040 - val_acc: 0.9817\n",
      "Epoch 2/10\n",
      "81000/81000 [==============================] - 13s 165us/step - loss: 0.1097 - acc: 0.9817 - val_loss: 0.0787 - val_acc: 0.9817\n",
      "Epoch 3/10\n",
      "81000/81000 [==============================] - 12s 152us/step - loss: 0.0865 - acc: 0.9818 - val_loss: 0.0753 - val_acc: 0.9819\n",
      "Epoch 4/10\n",
      "81000/81000 [==============================] - 15s 189us/step - loss: 0.0799 - acc: 0.9821 - val_loss: 0.0763 - val_acc: 0.9818\n",
      "Epoch 5/10\n",
      "81000/81000 [==============================] - 14s 175us/step - loss: 0.0774 - acc: 0.9823 - val_loss: 0.0784 - val_acc: 0.9821\n",
      "Epoch 6/10\n",
      "81000/81000 [==============================] - 16s 200us/step - loss: 0.0751 - acc: 0.9825 - val_loss: 0.0784 - val_acc: 0.9822\n",
      "Epoch 7/10\n",
      "81000/81000 [==============================] - 14s 170us/step - loss: 0.0735 - acc: 0.9827 - val_loss: 0.0806 - val_acc: 0.9824\n",
      "Epoch 8/10\n",
      "81000/81000 [==============================] - 13s 164us/step - loss: 0.0721 - acc: 0.9828 - val_loss: 0.0810 - val_acc: 0.9823\n",
      "Epoch 9/10\n",
      "81000/81000 [==============================] - 14s 178us/step - loss: 0.0708 - acc: 0.9831 - val_loss: 0.0785 - val_acc: 0.9826\n",
      "Epoch 10/10\n",
      "81000/81000 [==============================] - 15s 184us/step - loss: 0.0694 - acc: 0.9831 - val_loss: 0.0799 - val_acc: 0.9826\n"
     ]
    }
   ],
   "source": [
    "NumEpochs = 10\n",
    "history = model.fit(data_train, labels_train,\n",
    "                    epochs=NumEpochs,\n",
    "                    batch_size=512,\n",
    "                    validation_split=0.1)"
   ]
  },
  {
   "cell_type": "code",
   "execution_count": 7,
   "metadata": {},
   "outputs": [
    {
     "data": {
      "text/plain": [
       "dict_keys(['val_loss', 'val_acc', 'loss', 'acc'])"
      ]
     },
     "execution_count": 7,
     "metadata": {},
     "output_type": "execute_result"
    }
   ],
   "source": [
    "history_dict = history.history\n",
    "history_dict.keys()"
   ]
  },
  {
   "cell_type": "code",
   "execution_count": 8,
   "metadata": {},
   "outputs": [],
   "source": [
    "import matplotlib.pyplot as plt\n",
    "plt.show()"
   ]
  },
  {
   "cell_type": "code",
   "execution_count": 9,
   "metadata": {},
   "outputs": [
    {
     "data": {
      "image/png": "[encoded data removed]",
      "text/plain": [
       "<matplotlib.figure.Figure at 0x220991092b0>"
      ]
     },
     "metadata": {},
     "output_type": "display_data"
    }
   ],
   "source": [
    "# plotter historikken for 'loss' og 'accuracy'\n",
    "accu = history.history['acc']\n",
    "val_acc = history.history['val_acc']\n",
    "loss = history.history['loss']\n",
    "val_loss = history.history['val_loss']\n",
    "epochs = range(1, NumEpochs+1)\n",
    "\n",
    "plt.plot(epochs, loss, 'bo', label='Training loss')       # \"bo\" is for \"blue dot\"\n",
    "plt.plot(epochs, val_loss, 'b', label='Validation loss')  # b is for \"solid blue line\"\n",
    "plt.title('Training and validation loss')\n",
    "plt.xlabel('Epochs')\n",
    "plt.ylabel('Loss')\n",
    "plt.legend()\n",
    "\n",
    "plt.show()"
   ]
  },
  {
   "cell_type": "code",
   "execution_count": 10,
   "metadata": {},
   "outputs": [
    {
     "data": {
      "image/png": "[encoded data removed]",
      "text/plain": [
       "<matplotlib.figure.Figure at 0x22099105e48>"
      ]
     },
     "metadata": {},
     "output_type": "display_data"
    }
   ],
   "source": [
    "plt.clf()   # clear figure\n",
    "acc_values = history_dict['acc']\n",
    "val_acc_values = history_dict['val_acc']\n",
    "\n",
    "plt.plot(epochs, acc_values, 'bo', label='Training acc')\n",
    "plt.plot(epochs, val_acc_values, 'b', label='Validation acc')\n",
    "plt.title('Training and validation accuracy')\n",
    "plt.xlabel('Epochs')\n",
    "plt.ylabel('Loss')\n",
    "plt.legend()\n",
    "\n",
    "plt.show()"
   ]
  },
  {
   "cell_type": "markdown",
   "metadata": {},
   "source": [
    "# Validering af modellen på test data\n",
    "Her indlæser vi så test data, helt nye data til test"
   ]
  },
  {
   "cell_type": "code",
   "execution_count": 11,
   "metadata": {},
   "outputs": [
    {
     "name": "stdout",
     "output_type": "stream",
     "text": [
      "0.0008\n",
      "0.0000\n",
      "0.0095\n",
      "0.0584\n",
      "0.0000\n",
      "0.0170\n",
      "0.0001\n",
      "0.0002\n",
      "0.0106\n"
     ]
    }
   ],
   "source": [
    "# vi prøver modellen på test-data\n",
    "\n",
    "predictions = model.predict(data_test)\n",
    "\n",
    "for i in range(1,10):\n",
    "    print(('%1.4f' % predictions[i]))"
   ]
  },
  {
   "cell_type": "code",
   "execution_count": 12,
   "metadata": {},
   "outputs": [
    {
     "name": "stdout",
     "output_type": "stream",
     "text": [
      "Antal store i datasættet:     165.0\n",
      "antal estimeret af modellen:  5\n",
      "Modellens præcision:          3.0 %\n"
     ]
    }
   ],
   "source": [
    "# finder ud af hvor stor en del store, som er fundet\n",
    "\n",
    "print('Antal store i datasættet:    ', sum(labels_test))\n",
    "NumEstimated = 0\n",
    "for i in range(1,6000):\n",
    "    if predictions[i]>0.4 and labels_test[i]:\n",
    "        NumEstimated += 1\n",
    "print('antal estimeret af modellen: ', NumEstimated)\n",
    "print('Modellens præcision:         ', round(NumEstimated/sum(labels_test)*100), '%')"
   ]
  },
  {
   "cell_type": "code",
   "execution_count": 13,
   "metadata": {},
   "outputs": [
    {
     "name": "stdout",
     "output_type": "stream",
     "text": [
      " Gennemsnit for test stor og lille\n",
      "0.12514868\n",
      "0.013843522\n"
     ]
    }
   ],
   "source": [
    "# Gennemsnittet for rigtig og forkert\n",
    "\n",
    "print(' Gennemsnit for test stor og lille')\n",
    "print(np.average([x for i, x in enumerate(predictions) if labels_test[i]]))\n",
    "print(np.average([x for i, x in enumerate(predictions) if not labels_test[i]]))"
   ]
  },
  {
   "cell_type": "code",
   "execution_count": 14,
   "metadata": {},
   "outputs": [
    {
     "name": "stdout",
     "output_type": "stream",
     "text": [
      "Jeg printer nogle liner som er sande i test data:\n",
      "  58  0.0181  Fejl på overkørelse på Svg-banen (HØS). Giver forsinkelser\n",
      " 104  0.0405  Nedformeringer Øresund / Kystbanen\n"
     ]
    }
   ],
   "source": [
    "# jeg prøver at printe linjenummer, prediction og tekststreng for dem som er store = \"rigtige\"\n",
    "\n",
    "print('Jeg printer nogle liner som er sande i test data:')\n",
    "for i in range(1,300):\n",
    "    if labels_test[i]==1:\n",
    "        PrtStr = ('%4.0f' % i) + '  ' + ('%1.4f' % predictions[i]) + '  ' + texts_test[i][:100].replace('\\n', ' ').replace('\\r', '')\n",
    "        print(PrtStr) "
   ]
  },
  {
   "cell_type": "code",
   "execution_count": 15,
   "metadata": {},
   "outputs": [
    {
     "data": {
      "image/png": "[encoded data removed]",
      "text/plain": [
       "<matplotlib.figure.Figure at 0x22099105780>"
      ]
     },
     "metadata": {},
     "output_type": "display_data"
    }
   ],
   "source": [
    "# jeg prøver lige at plotte \"predictions i et histogram\n",
    "\n",
    "# hent data for store og små i to arrays, lav til et np array, så plotteren kan forstå data\n",
    "PlotDataSand = [x for i, x in enumerate(predictions) if labels_test[i]]\n",
    "PlotDataSand = np.array(PlotDataSand)\n",
    "PlotDataFalsk = [x for i, x in enumerate(predictions) if not labels_test[i]]\n",
    "PlotDataFalsk = np.array(PlotDataFalsk)\n",
    "\n",
    "plt.clf()  # clear figure\n",
    "plt.hist(PlotDataSand, bins=50, alpha=0.6, label='store')  # 50 bins, halv hennemsigtig\n",
    "plt.hist(PlotDataFalsk, bins=50, alpha=0.6, label='små')\n",
    "plt.legend(loc='upper right')\n",
    "plt.ylim([0, 200])\n",
    "\n",
    "plt.show()"
   ]
  },
  {
   "cell_type": "markdown",
   "metadata": {},
   "source": [
    "UHA UHA, alt for mange af de sande har en værdi tæt på 0 ..."
   ]
  },
  {
   "cell_type": "markdown",
   "metadata": {},
   "source": [
    "### Modellen er ikke specielt præcis. jeg checker lige efter på træninsdata, dem kan man håbe den har lært bedre at kende???"
   ]
  },
  {
   "cell_type": "code",
   "execution_count": 16,
   "metadata": {},
   "outputs": [
    {
     "name": "stdout",
     "output_type": "stream",
     "text": [
      "0.0124\n",
      "0.0235\n",
      "0.0001\n",
      "0.1421\n",
      "0.0347\n",
      "0.0045\n",
      "0.0197\n",
      "0.0212\n",
      "0.0001\n"
     ]
    }
   ],
   "source": [
    "# vi prøver modellen på test-data\n",
    "\n",
    "predictions = model.predict(data_train)\n",
    "\n",
    "# print de første predictions\n",
    "for i in range(1,10):\n",
    "    print(('%1.4f' % predictions[i]))"
   ]
  },
  {
   "cell_type": "code",
   "execution_count": 17,
   "metadata": {},
   "outputs": [
    {
     "name": "stdout",
     "output_type": "stream",
     "text": [
      "Antal store i datasættet:     1644.0\n",
      "antal estimeret af modellen:  342\n",
      "Modellens præcision:          21.0 %\n"
     ]
    }
   ],
   "source": [
    "# finder ud af hvor stor en del store, som er fundet\n",
    "\n",
    "print('Antal store i datasættet:    ', sum(labels_train))\n",
    "NumEstimated = 0\n",
    "for i in range(1,len(labels_train)):\n",
    "    if predictions[i]>0.4 and labels_train[i]:\n",
    "        NumEstimated += 1\n",
    "print('antal estimeret af modellen: ', NumEstimated)\n",
    "print('Modellens præcision:         ', round(NumEstimated/sum(labels_train)*100), '%')"
   ]
  },
  {
   "cell_type": "code",
   "execution_count": 18,
   "metadata": {},
   "outputs": [
    {
     "name": "stdout",
     "output_type": "stream",
     "text": [
      "Nogle linjer som er SANDE i train data:\n",
      "   4  0.1421  Genoprettelse af Svendborgbanen\n",
      "  18  0.2026  Nedformeringer til og fra Sverige\n",
      "  25  0.4591  personpåkørsel i HK spor 2\n",
      "  65  0.1388  BDK ØVRIGE\n",
      "  99  0.5490  En formentlig selvmorder på Vallensbæk Station som sidder på en bro. Trafikken holder i øjeblikket s\n",
      " 240  0.0842  Trafik kaos div.\n",
      " 241  0.1199  Disponering DSB : Falsk besættelse i Gl gør at vi aflyser 4475 og 4477\n",
      " 285  0.0099  Infrastruktur Ingen Strøm i Malmø\n"
     ]
    }
   ],
   "source": [
    "# jeg prøver at printe linjenummer, prediction og tekststreng, som er RIGTIGE (store)\n",
    "\n",
    "print('Nogle linjer som er SANDE i train data:')\n",
    "for i in range(1,300):\n",
    "    if labels_train[i]==1:\n",
    "        PrtStr = ('%4.0f' % i) + '  ' + ('%1.4f' % predictions[i]) + '  ' + texts[i][:100].replace('\\n', ' ').replace('\\r', '')\n",
    "        print(PrtStr) "
   ]
  },
  {
   "cell_type": "code",
   "execution_count": 19,
   "metadata": {},
   "outputs": [
    {
     "name": "stdout",
     "output_type": "stream",
     "text": [
      "Nogle linjer som er FALSKE i train data:\n",
      "   1  0.0124  -29 fra Fa\n",
      "   2  0.0235  Materielmangel ER i Cph\n",
      "   3  0.0001  L 46. FOKUSTOG.\n",
      "   5  0.0347  Politi ; Holder i Htå og afventer Politi, voldelig passager, indstigningsdørene er lukket.\n",
      "   6  0.0045  Materielmangel, MG i Esbjerg\n",
      "   7  0.0197  Disponering af forsinkelse\n",
      "   8  0.0212  Disponering DSB:\n",
      "   9  0.0001  MF 5095 til 100 MM eftersyn\n",
      "  10  0.0000  Materiel: ATC problemer, 1F3 køres på Hgl til Rep. Kh -31\n",
      "  11  0.0001  Selv om mat blev klarmeldt kl 00:50, lykkedes det ikke at sætte dem i samme spor, så toget blir ikke\n",
      "  12  0.0000  Værksted Ar ønsker MQ ud til rep af motor fejl, der byttes.\n",
      "  13  0.2349  Disponering DSB : opstart af 14xx system  da 13xx er aflyst resten af dagen  1395 /1397/1399 er \n",
      "  14  0.0000  Disponering DSB : placering af ET 4301 fra Hg til HGL\n",
      "  15  0.0027  Materielfejl før afgang\n",
      "  16  0.0004  Disponering DSB. Mq4115 er færdig på UF i AR. Skal til FA og med i 9198.\n",
      "  17  0.0226  Er der ingen tysker sæt i.\n",
      "  19  0.0026  IC 4 aflysning mgl på mat\n",
      "  20  0.0002  Var ikke klar i Kastrup, men Kmp fik ikke kaldt ud - så vi kører alligevel til perron\n",
      "  21  0.0027  Dørfejl Sø.  K-8\n",
      "  22  0.0606  spærring i røret KH - KK\n",
      "  23  0.0116  Mangel på Mf'er på KH.\n",
      "  24  0.0028  K - 59 min\n",
      "  26  0.0000  Disponering: Toget er ikke oprangeret som det står i MADS. Der er et eftersyns sæt som kommer ud af \n",
      "  27  0.0000  Materielfejl MF : smadret siderude der er sat film på men halv togsæt er lukket af\n",
      "  28  0.0001  kører uden om Cph, da toget ikke var klart til tiden. Pass. med ØR 1379\n",
      "  29  0.0043  Materielfejl MG : holder i Re med fejl på Materiel\n",
      "  30  0.0000  Der er fejl på H-log og den må ikke kører først ud. Sættet holder ved perron og venter på 156 kommer\n",
      "  31  0.0129  Holder på KH med fejl på toget.    Lki på sagen\n",
      "  32  0.0001  Materielfejl. Kan ikke koble .Køres med et ene sæt\n",
      "  33  0.0012  Materiel.  manglende hehov.\n",
      "  34  0.0005  Materielfejl ER : def kraftkonverter i begge ender den kommer ikke med\n",
      "  35  0.0210  Koblingsproblemer i det svenske\n",
      "  36  0.0001  Lkf kørt fra Od 7:40 i taxa ej nået Fa endnu.\n",
      "  37  0.0003  Disponering DSB 3 sæt fra KT til HGL\n",
      "  38  0.0002  Toget skal vende på 2 minutter på Østerport, det er en EA stamme...\n",
      "  39  0.0000  Næ. 2xMQ. Problemer med kobling under klargøring.\n",
      "  40  0.0242  F -10 i Ol.. Blokfejl Hz - Ol..\n",
      "  41  0.0066  Sporskifteproblemer på Østerport.\n",
      "  42  0.0077  ingen gennemgang\n",
      "  43  0.0009  Disponering DSB. Er kørt -15 fra Fa. Trykket af 53 og 857 på Østfyn.\n",
      "  44  0.0003  Fejl på gummifront. Ingen overgang.\n",
      "  45  0.0000  Materielfejl: ER sættet skal væk, en uheldi sammensætning med 1F med sortskærm og #f der skal have h\n",
      "  46  0.0001  Klargøring OD : har ikke meldt sig klar fra OD\n",
      "  47  0.0006  manglende materiel MG\n",
      "  48  0.0003  Mgl MFA fra Kk, derfor nedenstående omdisponering.\n",
      "  49  0.0000  Komfort fejl, ingen virksomme toiletter og opkast i 4410, vi har ingen rådigheder og ekstra togsæt, \n",
      "  50  0.0008  Har inge virksomme kompressor\n",
      "  51  0.0041  Materiel disponering\n",
      "  52  0.0000  lkf har sovet over sig, der kobles omvendt i ab\n",
      "  53  0.0026  Forsinkede fra Sverige\n",
      "  54  0.0084  Skydedør ind til Lkf er defekt\n",
      "  55  0.0009  Manglende lkf pga forsinket L 46:\n",
      "  56  0.0002  Ingen afkobling i NF på 32. flyttes til RF\n",
      "  57  0.0026  Manglende MQ i Fa til dette tog\n",
      "  58  0.0178  Holder i AR med problemer. LKI er på sagen.\n",
      "  59  0.0041  Forsinket fra Fa:\n",
      "  60  0.0277  MATERIELFEJL\n",
      "  61  0.0002  FOKUSTOG\n",
      "  62  0.0232  Mellemkredsproblemer i Hv. Lki tager kontakt til lkf.\n",
      "  63  0.0000  Nf. 1xMG. Ingen varme i sydgående førerrum.\n",
      "  64  0.0007  Køre dårligt kobles i Str med 4048\n",
      "  66  0.0013  Personale.      Ingen Lkf til Klg 8492\n",
      "  67  0.0002  Fokustog\n",
      "  68  0.0003  Låsepal til jalousi-dør er faldet af og røget ind under førerbordet (i åben stilling). Togsættene ka\n",
      "  69  0.0002  Personalemangel. Lkf. Kk. Sovet over sig.\n",
      "  70  0.0201  Blokfejl Grenå\n",
      "  71  0.0000  Sættet der ekstraordinært skulle tilkobles i Od (fordi 120 ikke afkoblede i Fa), er ikke klar... Så \n",
      "  72  0.0366  Der mangler et par ER-sæt til eftermiddagstrafikken...\n",
      "  73  0.0221  Den er gået i stykker med klima.\n",
      "  74  0.0005  Ingen opformering linje B\n",
      "  75  0.0100  Hjælp til Arriva\n",
      "  76  0.0039  Mangler materiel\n",
      "  77  0.0000  SKAL koble omvendt i Nf da 5514 skal tilplombering i Tyskland. 5514 SKAL køre 2 F i 24022/1F i 34.\n",
      "  78  0.0060  Materielmangel. Vi mangler ME+DD-stamme i Nf til morgentrafikken.\n",
      "  79  0.0000  Defekt kobling, der er bla. lukket af for luften, så vi må koble omvendt.\n",
      "  80  0.0235  Materielmangel, ER i Cph:\n",
      "  81  0.0003  Defekt. kan ik lave luft.\n",
      "  82  0.0191  Materielmangel:\n",
      "  83  0.0013  Mgl MFA på Kh\n",
      "  84  0.0127  Øvrige Bdk. Odderbanen. Fejl på et sporskifte 102 på Tranbjerg st.\n",
      "  85  0.0000  Fyldte toiletter.  tømmes efter ank i FA med 3841\n",
      "  86  0.0073  Materielmangel : Mgl DD\n",
      "  87  0.1398  Signalfejl ved Cph\n",
      "  88  0.0000  Har helt normalt vg 31-32 med Ar-Fa. Fra Fa skal vognen dog være aflåst i følge systemet til Cph. I \n",
      "  89  0.0029  Materiel:  OJ v-12\n",
      "  90  0.0001  Disponering DSB: da der ikke ligger ICU i 5744 pga 5086 tirsdag\n",
      "  91  0.0099  Mangler 2 MF til 30 på Kh\n",
      "  92  0.0035  mangler tgf, lkf kan ikke overskue at køre uden\n",
      "  93  0.0002  Dør ind til maskinrum bliver ved med at gå op, så der laves stamme byt på Kh.\n",
      "  94  0.0016  Problemer med at få luft på toget.   Lki på sagen.\n",
      "  95  0.0000  ingen ladning, samt døre aflåst på halv togsæt\n",
      "  96  0.0049  Materielmangel. Vi mangler MG til morgentrafikken i Fa.\n",
      "  97  0.0222  Overhaler 3125 i Sø\n",
      "  98  0.0000  Defekt ER, skal skiftes inden afgang Cph\n",
      " 100  0.0139  3549 køres af reservestammen\n",
      " 101  0.0002  Marterielfejl, kom sent til afg\n",
      " 102  0.0001  Maskinen er nedbrudt på Blv. Vi kan ikke skaffe noget nyt matt, så vi aflyser et 12xx tog og bruger \n",
      " 103  0.0212  Disponering DSB\n",
      " 104  0.0107  Nedformering pga. arbejdet i Sverige:\n",
      " 105  0.0108  forsinket\n",
      " 106  0.0006  Der indsættes 1 MR i 19902-19702  Fa-Md-Od.\n",
      " 107  0.0015  mangler varme i førrum\n",
      " 108  0.0001  Materielfejl.. Førerstol defekt..\n",
      " 109  0.0008  Der er ikke MQ sæt nok i Ar, så 4847/4852 kører kun med et sæt.\n",
      " 110  0.0001  materieldisponering, der mangler IC4 på Kh\n",
      " 111  0.0233  Mangler brandstof.\n",
      " 112  0.0014  Holder lige før IG med motor problemer.   Lki på sagen.\n",
      " 113  0.0026  Disponering af (mgl) materiel\n",
      " 114  0.0000  skal afkobles på kh radio rep i kgc\n",
      " 115  0.1076  Signelfejl: Der er problemer med signalerne i Ru.\n",
      " 116  0.0000  Materieldisponering grundet manglende MF i NF\n",
      " 117  0.0000  K -23 Hx. Kørte minus 2 fra Sd af venstre spor. Kørte venstre ben Sd-Ar pga. planlagt sporarbejde, h\n",
      " 118  0.0000  Lkf 84749 og lkf 84747 koblet ikke i Os da der ikke stod opkobling på deres arbejdseddel, de kunne g\n",
      " 119  0.0016  Materielmangel: 1 MG NF\n",
      " 120  0.0002  Fejl i Lkfs arbejdsseddel, betyder at man har tabt et sæt i Fa, som skulle bruges i Es\n",
      " 121  0.0000  7103 er kørt fra Ar - 20 min. Vendes i Rå til 4306. MQ i Gr kører 4908. Der byttes tilbage i Ar.\n",
      " 122  0.0000  Materiel. Vending pga manglende personale. Korrigerigeringsfejl\n",
      " 123  0.0000  Holder i RÅ, har midstet at sit kendning lys.   MQ 4119 må ikke kobles med andre Mq'er.\n",
      " 124  0.0006  Disponering DSB, pladsproblemer på Kk nu efter div. omdisponeringer\n",
      " 125  0.0018  Materielfejl det vælter ned med vand i førerummet på 1528\n",
      " 126  0.0000  Klargøring. Den nye 2232 holder med problemer i Blv. Der er Hvk på.\n",
      " 127  0.0031  For placering..\n",
      " 128  0.0006  ET 4306 skal på værksted.\n",
      " 129  0.0026  materielfejl fik afkobling uden odre i OK\n",
      " 130  0.0000  Vi mangler sættet på KK. Står disp i HG pga. aflysning tidligere.\n",
      " 131  0.0191  Materielmangel:\n",
      " 132  0.0001  Nedbrudt Bk, kommunikations fejl IDU, passager med RV 3714, der får ekstra stop.\n",
      " 133  0.0277  Materielfejl\n",
      " 134  0.0001  Materiel fejl, Lki melder der er fejl på togsæt og toget må kun køre til endestation, vi aflyser så \n",
      " 135  0.0027  Materielfejl: Ryger fra oliefyr, og 2 motorer ude.\n",
      " 136  0.0054  Nedformeret fra Odense.\n",
      " 137  0.0000  Placering af 3 MR Fa - Ar\n",
      " 138  0.0000  Der kommer til at mangle et sæt i AB til L 10 i morgen pga en aflysning på 145 tidligere. Vi sender \n",
      " 139  0.0000  Kobles omvendt defekt cykelslange\n",
      " 140  0.0010  K - 6 Pa pga laskebrud, trykker til 2376 dfer afventer\n",
      " 141  0.0045  Manglende MG på Sjælland\n",
      " 142  0.0233  kan kun køre til ar\n",
      " 143  0.0000  Materielfejl: koldt førerrum i enden mod Hk\n",
      " 144  0.0003  Ingen opformering i Ab, Lkf havde glemt det\n",
      " 145  0.0000  Motor problemer. Første melding lød på at der var gang i den, og at han ville melde sig i sidste øje\n",
      " 146  0.0000  Der mangler MQ sæt i Ar. 4709 og 4710 bliver kørt af MR og bliver til 3316 efter ankomst til AR i 47\n",
      " 147  0.0005  Gearolien løber af, sættet bliver i Ab\n",
      " 148  0.0001  Stammebytte Næ pga defekt frontrude\n",
      " 149  0.0090  Materiel:\n",
      " 150  0.0000  Stm skift i Ar pga fyldte toiletter\n",
      " 151  0.0018  Stammeskift på Kh da der køres med DD mat\n",
      " 152  0.0000  IC4. Der kører 1 MR i et IC4-løb. Den går ikke. P-risten klarer byttet.\n",
      " 153  0.0017  Materiel delaflyses\n",
      " 154  0.0018  Materielfejl, blinkende hastighedsviser:\n",
      " 155  0.0001  Materielmangel: Vi mangler et sæt i københavn. Vi sætter et ex på L60 i Ar.\n",
      " 156  0.0003  Omvendt til- og afkobling i Fa.\n",
      " 157  0.0037  Holder i Fa med koblings problemer. Lki er på sagen.\n",
      " 158  0.1159  Holder med dørfejl i Ni\n",
      " 159  0.0000  Skal være til eftersyn i Kac inden 10, så sættes klar i Kgc efter 3504\n",
      " 160  0.0002  Materielfejl. Def samtaleanlæg.\n",
      " 161  0.0004  Materielfejl, kan ikke lave bremseprøve Kk\n",
      " 162  0.0000  fyldte toiletter\n",
      " 163  0.0086  Mgl MG\n",
      " 164  0.0105  Alle 40/41xx tog aflyses idag d 03/01-2011.\n",
      " 165  0.0000  Materielfejl. Der kan ikke laves overgang på dette togsæt. Personalesituationen er stram, så der kan\n",
      " 166  0.0002  FOKUSTOG\n",
      " 167  0.0000  der mgl en IC3 pga. L14 normalt skal afkoble et sæt hvilket det ikke gør idag da det kører med helt \n",
      " 168  0.0081  Disponering DSB. AB\n",
      " 169  0.2097  -22 der for disponeres som følge:\n",
      " 170  0.0002  Personalemangel: TGF har sovet over sig\n",
      " 171  0.3217  Akut sporspærring mellem Bavnehøj og Kalvebod og i spor 2 i Kastrup.\n",
      " 172  0.0001  Materieldisponering: Mangel på MQ i OD og MG i FA\n",
      " 173  0.0123  For at få 4342 til HGL\n",
      " 174  0.0099  Forsinket fra Sverige\n",
      " 175  0.0023  K -11 u Cph.. Fejl på smuto-anlæg.. Kørt via spor 11 og direkte til Kh (kunder med 1391 fra Cph)\n",
      " 176  0.0277  Materielfejl\n",
      " 177  0.0159  Har holdt på KN og ikke kunne åbne dørene.\n",
      " 178  0.0000  Materiel: Opformeret med 5503 som skal dække 24044 løb fra Rødby\n",
      " 179  0.0020  Defekt affjedring, luftbælg.\n",
      " 180  0.0000  Materieldisponering: Manglende behov\n",
      " 181  0.0014  Afkobling Kj\n",
      " 182  0.0000  IC 191 er opformeret med 1 MF (vg. 11-12). Sættet går 1F2 fra Cph, og 2F2 fra Kh. Skal tabes i Fa ti\n",
      " 183  0.0169  Overkørselsfejl Sis ovk 89\n",
      " 184  0.0134  K-20\n",
      " 185  0.0000  Ingen luft på førerstol. Lkf vil ikke køre længere end Kh. RES stammen har dørfejl, så KGC leverer e\n",
      " 186  0.0114  Nedformering fra Sverige\n",
      " 187  0.0407  Materielfejl. Holder i Slagelse kan ikke køre\n",
      " 188  0.1219  polititikald på KH\n",
      " 189  0.0101  mgl lkf til at omrangere i Næ\n",
      " 190  0.0003  Ar. 1xMG. Nedbrudt ved ankomst, flere falske brandalarmer.\n",
      " 191  0.0002  grundet vending på kh skal den tankes i ab\n",
      " 192  0.0004  Vi standser ekstra i Bo/Vy. Da vi tidligere har aflyst 4344 & 4146\n",
      " 193  0.0026  Disponering DSB. Der har været Hvk på MQ 4125 i Od og den er igen klar til produktion.\n",
      " 194  0.0294  Pga. forsinkelse fra Øst på 917  som skubber til  L15 som forsætter som 8015 fra OD\n",
      " 195  0.0277  materielfejl\n",
      " 196  0.0011  Akut sygemelding hos FFV.\n",
      " 197  0.0413  Fra Ar\n",
      " 198  0.0014  Togsættet skal til inspektion..\n",
      " 199  0.0018  Placering af MG til KH\n"
     ]
    }
   ],
   "source": [
    "# jeg prøver at printe linjenummer, prediction og tekststreng, som er FORKERTE (små)\n",
    "\n",
    "print('Nogle linjer som er FALSKE i train data:')\n",
    "for i in range(1,200):\n",
    "    if labels[i]==0:\n",
    "        PrtStr = ('%4.0f' % i) + '  ' + ('%1.4f' % predictions[i]) + '  ' + texts[i][:100].replace('\\n', ' ').replace('\\r', '')\n",
    "        print(PrtStr) "
   ]
  },
  {
   "cell_type": "code",
   "execution_count": 20,
   "metadata": {},
   "outputs": [
    {
     "name": "stdout",
     "output_type": "stream",
     "text": [
      " Gennemsnit for ttrain stor og lille\n",
      "0.20540546\n",
      "0.012678156\n"
     ]
    }
   ],
   "source": [
    "# finder gennemsnittet for dem som er rigtige og forkerte\n",
    "\n",
    "print(' Gennemsnit for ttrain stor og lille')\n",
    "print(np.average([x for i, x in enumerate(predictions) if labels[i]]))\n",
    "print(np.average([x for i, x in enumerate(predictions) if not labels[i]]))"
   ]
  },
  {
   "cell_type": "code",
   "execution_count": 21,
   "metadata": {},
   "outputs": [
    {
     "data": {
      "image/png": "[encoded data removed]",
      "text/plain": [
       "<matplotlib.figure.Figure at 0x220992e5f60>"
      ]
     },
     "metadata": {},
     "output_type": "display_data"
    }
   ],
   "source": [
    "# jeg prøver lige at plotte \"predictions i et histogram\n",
    "\n",
    "# hent data for store og små i to arrays, lav til et np array, så plotteren kan forstå data\n",
    "PlotDataSand = [x for i, x in enumerate(predictions) if labels_train[i]]\n",
    "PlotDataSand = np.array(PlotDataSand)\n",
    "PlotDataFalsk = [x for i, x in enumerate(predictions) if not labels_train[i]]\n",
    "PlotDataFalsk = np.array(PlotDataFalsk)\n",
    "\n",
    "plt.clf()  # clear figure\n",
    "plt.hist(PlotDataSand, bins=50, alpha=0.6, label='store train')  # 50 bins, halv hennemsigtig\n",
    "plt.hist(PlotDataFalsk, bins=50, alpha=0.6, label='små train')\n",
    "plt.legend(loc='upper right')\n",
    "plt.ylim([0, 1000])\n",
    "\n",
    "plt.show()"
   ]
  }
 ],
 "metadata": {
  "kernelspec": {
   "display_name": "Python 3",
   "language": "python",
   "name": "python3"
  },
  "language_info": {
   "codemirror_mode": {
    "name": "ipython",
    "version": 3
   },
   "file_extension": ".py",
   "mimetype": "text/x-python",
   "name": "python",
   "nbconvert_exporter": "python",
   "pygments_lexer": "ipython3",
   "version": "3.6.4"
  }
 },
 "nbformat": 4,
 "nbformat_minor": 2
}
