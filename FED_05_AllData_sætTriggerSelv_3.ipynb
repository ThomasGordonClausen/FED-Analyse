{
 "cells": [
  {
   "cell_type": "markdown",
   "metadata": {},
   "source": [
    "### Vi prøver igen ...\n",
    "\n",
    "- Alle data i en fil, vi korter i koden\n",
    "- vi prøver med texts_to_matrix\n",
    "- Jeg kan selv vælge hvad der er stort (kan prøve andet end 10), måske kan den lettere finde f.eks. 5?\n",
    "\n",
    "### Konklusion\n",
    "- Det er lykkedes at få det til at virke med een datafil, som indeholder både train og test"
   ]
  },
  {
   "cell_type": "code",
   "execution_count": 1,
   "metadata": {},
   "outputs": [],
   "source": [
    "# vi sætter stien til data\n",
    "import os\n",
    "import pandas as pd\n",
    "import numpy as np\n",
    "os.chdir('/Users/ThomasGordon/Documents/PythonScripts/FED')\n"
   ]
  },
  {
   "cell_type": "code",
   "execution_count": 2,
   "metadata": {},
   "outputs": [],
   "source": [
    "# Excel-filen med tekster åbnes og indlæses\n",
    "xl = pd.ExcelFile('FEDAll.xlsx')\n",
    "df = xl.parse('FEDlinjer')       # siden i arket\n",
    "\n",
    "# læs overskrifter i FED\n",
    "texts  = df.loc[:,'FEDtext']\n",
    "texts  = texts.values\n",
    "\n",
    "# læs antal linjer og omsæt til \"stor hændelse\" eller \"lille hændelse\"\n",
    "StorEr = 3\n",
    "NumLines = df.loc[:,'FEDlinjer']\n",
    "NumLines = NumLines.values\n",
    "labels = np.asarray([1*(NumLines[i]>=StorEr) for i in range(len(NumLines))])\n",
    "\n",
    "# vi rafler data rundt tilfældigt (vi laver et tilfældigt index)\n",
    "indices = np.arange(texts.shape[0])\n",
    "np.random.shuffle(indices)\n",
    "texts   = texts[indices]\n",
    "labels = labels[indices]\n",
    "\n",
    "# opdeling i training data og test data\n",
    "i = 90000  # antal linjer afsat til træning, resten er test\n",
    "texts_train  = texts[:i]\n",
    "texts_test   = texts[i:] \n",
    "labels_train = labels[:i]\n",
    "labels_test  = labels[i:]"
   ]
  },
  {
   "cell_type": "code",
   "execution_count": 3,
   "metadata": {},
   "outputs": [
    {
     "name": "stderr",
     "output_type": "stream",
     "text": [
      "C:\\Users\\ThomasGordon\\Anaconda3\\lib\\site-packages\\h5py\\__init__.py:36: FutureWarning: Conversion of the second argument of issubdtype from `float` to `np.floating` is deprecated. In future, it will be treated as `np.float64 == np.dtype(float).type`.\n",
      "  from ._conv import register_converters as _register_converters\n",
      "Using TensorFlow backend.\n"
     ]
    }
   ],
   "source": [
    "# laver tekst om til vektor, henter text processing modul\n",
    "\n",
    "from keras.preprocessing.text import Tokenizer\n",
    "from keras.preprocessing.sequence import pad_sequences\n",
    "\n",
    "max_words = 10000  # Vi ser kun på de 10.000 mest almindelige ord\n",
    "\n",
    "# vi laver ordene i FED om til tilsvarende tal (som nedenfor laves til en \"one-hot\")\n",
    "tokenizer = Tokenizer(num_words=max_words)\n",
    "tokenizer.fit_on_texts(texts)"
   ]
  },
  {
   "cell_type": "code",
   "execution_count": 4,
   "metadata": {},
   "outputs": [
    {
     "name": "stdout",
     "output_type": "stream",
     "text": [
      "(90000, 10000)\n",
      "(10867, 10000)\n",
      "(90000,)\n",
      "(10867,)\n"
     ]
    }
   ],
   "source": [
    "# sætninger laves om til en \"one hot\" data vektor\n",
    "# tester ...\n",
    "data_train = tokenizer.texts_to_matrix(texts_train, mode='binary')\n",
    "data_test  = tokenizer.texts_to_matrix(texts_test,  mode='binary')\n",
    "\n",
    "# labels laves til vektor\n",
    "labels_train = np.asarray(labels_train).astype('float32')\n",
    "labels_test = np.asarray(labels_test).astype('float32')\n",
    "\n",
    "# print størrelsen på train og test data\n",
    "print(data_train.shape)\n",
    "print(data_test.shape)\n",
    "print(labels_train.shape)\n",
    "print(labels_test.shape)"
   ]
  },
  {
   "cell_type": "code",
   "execution_count": 5,
   "metadata": {},
   "outputs": [
    {
     "name": "stdout",
     "output_type": "stream",
     "text": [
      "_________________________________________________________________\n",
      "Layer (type)                 Output Shape              Param #   \n",
      "=================================================================\n",
      "dense_1 (Dense)              (None, 16)                160016    \n",
      "_________________________________________________________________\n",
      "dense_2 (Dense)              (None, 16)                272       \n",
      "_________________________________________________________________\n",
      "dropout_1 (Dropout)          (None, 16)                0         \n",
      "_________________________________________________________________\n",
      "dense_3 (Dense)              (None, 1)                 17        \n",
      "=================================================================\n",
      "Total params: 160,305\n",
      "Trainable params: 160,305\n",
      "Non-trainable params: 0\n",
      "_________________________________________________________________\n"
     ]
    }
   ],
   "source": [
    "from keras import models\n",
    "from keras import layers\n",
    "\n",
    "model = models.Sequential()\n",
    "model.add(layers.Dense(16, activation='relu', input_shape=(10000,)))\n",
    "model.add(layers.Dense(16, activation='relu'))\n",
    "model.add(layers.Dropout(0.5))\n",
    "model.add(layers.Dense(1, activation='sigmoid'))\n",
    "\n",
    "model.compile(optimizer='rmsprop',\n",
    "              loss='binary_crossentropy',\n",
    "              metrics=['accuracy'])\n",
    "\n",
    "model.summary()"
   ]
  },
  {
   "cell_type": "code",
   "execution_count": 6,
   "metadata": {},
   "outputs": [
    {
     "name": "stdout",
     "output_type": "stream",
     "text": [
      "Train on 81000 samples, validate on 9000 samples\n",
      "Epoch 1/10\n",
      "81000/81000 [==============================] - 18s 219us/step - loss: 0.6417 - acc: 0.6438 - val_loss: 0.6188 - val_acc: 0.6681\n",
      "Epoch 2/10\n",
      "81000/81000 [==============================] - 15s 188us/step - loss: 0.6065 - acc: 0.6824 - val_loss: 0.6091 - val_acc: 0.6761\n",
      "Epoch 3/10\n",
      "81000/81000 [==============================] - 15s 185us/step - loss: 0.5930 - acc: 0.6925 - val_loss: 0.6068 - val_acc: 0.6766\n",
      "Epoch 4/10\n",
      "81000/81000 [==============================] - 14s 167us/step - loss: 0.5830 - acc: 0.7017 - val_loss: 0.6078 - val_acc: 0.6777\n",
      "Epoch 5/10\n",
      "81000/81000 [==============================] - 14s 172us/step - loss: 0.5735 - acc: 0.7086 - val_loss: 0.6081 - val_acc: 0.6728\n",
      "Epoch 6/10\n",
      "81000/81000 [==============================] - 12s 149us/step - loss: 0.5655 - acc: 0.7157 - val_loss: 0.6117 - val_acc: 0.6774\n",
      "Epoch 7/10\n",
      "81000/81000 [==============================] - 16s 200us/step - loss: 0.5594 - acc: 0.7203 - val_loss: 0.6157 - val_acc: 0.6778\n",
      "Epoch 8/10\n",
      "81000/81000 [==============================] - 14s 179us/step - loss: 0.5517 - acc: 0.7259 - val_loss: 0.6167 - val_acc: 0.6758\n",
      "Epoch 9/10\n",
      "81000/81000 [==============================] - 13s 156us/step - loss: 0.5448 - acc: 0.7311 - val_loss: 0.6218 - val_acc: 0.6713\n",
      "Epoch 10/10\n",
      "81000/81000 [==============================] - 14s 171us/step - loss: 0.5370 - acc: 0.7359 - val_loss: 0.6243 - val_acc: 0.6768\n"
     ]
    }
   ],
   "source": [
    "NumEpochs = 10\n",
    "history = model.fit(data_train, labels_train,\n",
    "                    epochs=NumEpochs,\n",
    "                    batch_size=512,\n",
    "                    validation_split=0.1)"
   ]
  },
  {
   "cell_type": "code",
   "execution_count": 7,
   "metadata": {},
   "outputs": [
    {
     "data": {
      "text/plain": [
       "dict_keys(['val_loss', 'val_acc', 'loss', 'acc'])"
      ]
     },
     "execution_count": 7,
     "metadata": {},
     "output_type": "execute_result"
    }
   ],
   "source": [
    "history_dict = history.history\n",
    "history_dict.keys()"
   ]
  },
  {
   "cell_type": "code",
   "execution_count": 8,
   "metadata": {},
   "outputs": [],
   "source": [
    "import matplotlib.pyplot as plt\n",
    "plt.show()"
   ]
  },
  {
   "cell_type": "code",
   "execution_count": 9,
   "metadata": {},
   "outputs": [
    {
     "data": {
      "image/png": "[encoded data removed]",
      "text/plain": [
       "<matplotlib.figure.Figure at 0x1ddeb82c320>"
      ]
     },
     "metadata": {},
     "output_type": "display_data"
    }
   ],
   "source": [
    "# plotter historikken for 'loss' og 'accuracy'\n",
    "accu = history.history['acc']\n",
    "val_acc = history.history['val_acc']\n",
    "loss = history.history['loss']\n",
    "val_loss = history.history['val_loss']\n",
    "epochs = range(1, NumEpochs+1)\n",
    "\n",
    "plt.plot(epochs, loss, 'bo', label='Training loss')       # \"bo\" is for \"blue dot\"\n",
    "plt.plot(epochs, val_loss, 'b', label='Validation loss')  # b is for \"solid blue line\"\n",
    "plt.title('Training and validation loss')\n",
    "plt.xlabel('Epochs')\n",
    "plt.ylabel('Loss')\n",
    "plt.legend()\n",
    "\n",
    "plt.show()"
   ]
  },
  {
   "cell_type": "code",
   "execution_count": 10,
   "metadata": {},
   "outputs": [
    {
     "data": {
      "image/png": "[encoded data removed]",
      "text/plain": [
       "<matplotlib.figure.Figure at 0x1ddeb824f28>"
      ]
     },
     "metadata": {},
     "output_type": "display_data"
    }
   ],
   "source": [
    "plt.clf()   # clear figure\n",
    "acc_values = history_dict['acc']\n",
    "val_acc_values = history_dict['val_acc']\n",
    "\n",
    "plt.plot(epochs, acc_values, 'bo', label='Training acc')\n",
    "plt.plot(epochs, val_acc_values, 'b', label='Validation acc')\n",
    "plt.title('Training and validation accuracy')\n",
    "plt.xlabel('Epochs')\n",
    "plt.ylabel('Loss')\n",
    "plt.legend()\n",
    "\n",
    "plt.show()"
   ]
  },
  {
   "cell_type": "markdown",
   "metadata": {},
   "source": [
    "# Validering af modellen på test data\n",
    "Her indlæser vi så test data, helt nye data til test"
   ]
  },
  {
   "cell_type": "code",
   "execution_count": 11,
   "metadata": {},
   "outputs": [
    {
     "name": "stdout",
     "output_type": "stream",
     "text": [
      "0.3951\n",
      "0.2697\n",
      "0.2482\n",
      "0.2931\n",
      "0.4186\n",
      "0.6593\n",
      "0.9628\n",
      "0.3951\n",
      "0.4322\n"
     ]
    }
   ],
   "source": [
    "# vi prøver modellen på test-data\n",
    "\n",
    "predictions = model.predict(data_test)\n",
    "\n",
    "for i in range(1,10):\n",
    "    print(('%1.4f' % predictions[i]))"
   ]
  },
  {
   "cell_type": "code",
   "execution_count": 12,
   "metadata": {},
   "outputs": [
    {
     "name": "stdout",
     "output_type": "stream",
     "text": [
      "Antal store i datasættet:     4024.0\n",
      "antal estimeret af modellen:  1240\n",
      "Modellens præcision:          31.0 %\n"
     ]
    }
   ],
   "source": [
    "# finder ud af hvor stor en del store, som er fundet\n",
    "\n",
    "print('Antal store i datasættet:    ', sum(labels_test))\n",
    "NumEstimated = 0\n",
    "for i in range(1,6000):\n",
    "    if predictions[i]>0.4 and labels_test[i]:\n",
    "        NumEstimated += 1\n",
    "print('antal estimeret af modellen: ', NumEstimated)\n",
    "print('Modellens præcision:         ', round(NumEstimated/sum(labels_test)*100), '%')"
   ]
  },
  {
   "cell_type": "code",
   "execution_count": 13,
   "metadata": {},
   "outputs": [
    {
     "name": "stdout",
     "output_type": "stream",
     "text": [
      " Gennemsnit for test stor og lille\n",
      "0.46104845\n",
      "0.3223823\n"
     ]
    }
   ],
   "source": [
    "# Gennemsnittet for rigtig og forkert\n",
    "\n",
    "print(' Gennemsnit for test stor og lille')\n",
    "print(np.average([x for i, x in enumerate(predictions) if labels_test[i]]))\n",
    "print(np.average([x for i, x in enumerate(predictions) if not labels_test[i]]))"
   ]
  },
  {
   "cell_type": "code",
   "execution_count": 14,
   "metadata": {},
   "outputs": [
    {
     "name": "stdout",
     "output_type": "stream",
     "text": [
      "Jeg printer nogle liner som er sande i test data:\n",
      "   1  0.3951  Materielfejl\n",
      "   2  0.2697  Kom ikke med i 145\n",
      "   3  0.2482  mgl icu sæt.\n",
      "   5  0.4186  Materielfejl... Gearfejl efter kobling.. K -27 u Es..\n",
      "   6  0.6593  K -15 u Pe.. Brandalarm.. Lok efterset, og intet unormalt fundet..\n",
      "   7  0.9628  K -9 i Hv.. Fejl på ovk 105, 107 og 110 mellem Hv og Tø..\n",
      "  13  0.2790  2 ICA på Kh\n",
      "  15  0.5311  Materielfejl MG : holder ud foran kalvebod tunnelen og har kun 25 % trækkraft\n",
      "  16  0.3321  har nu kun en motor der virker bliver holdene i NF til i morgen pga for høj kølevandstemperatur\n",
      "  17  0.5908  Kører med 2xMF fra Fa... Som følge af omslagene pga sporskiftet i Ka.. (Desværre er der ikke brænd\n",
      "  19  0.9096  Der er fejl på overkørsel 23 ved Højby.\n",
      "  21  0.5842  Materielmangel, ER og ET\n",
      "  25  0.4123  Manglende togsæt i Kh og Fa\n",
      "  26  0.1451  mgl behov\n",
      "  29  0.6712  Materielfejl, trækker lysbue ved Kokkedal\n",
      "  32  0.4847  Personaleforhold: Sygemelding på LKF-siden der ikke kan dækkes\n",
      "  33  0.6350  Død på vej ud af Cph\n",
      "  40  0.5909  Materielmangel: Vi mangler 3 ET sæt på Hgl\n",
      "  49  0.3225  Materielfejl, nu vil togsættet ikke starte...\n",
      "  51  0.6628  Nedbrudt på Kysten\n",
      "  52  0.1812  Placering af ER-togsæt fra UF-bænk til Hgl.\n",
      "  54  0.3938  Personaleforhold, de har afkoblet et togsæt i Fredericia.\n",
      "  62  0.7824  Materielmangel ER : mgl driftsklare ER ti morgen trafikken\n",
      "  65  0.8622  Optælling på ER materiel Kl 09:45, fornuværende er der : 8 ERF / 2 ERK til rep/eftersyn/andet\n",
      "  67  0.4912  Defekt sporskifte på København H:\n",
      "  69  0.2608  Materielfejl. Ingen strøm på ER 2043\n",
      "  70  0.0780  Utæt cykelslange.. Hvis der ikke kobles noget forpå i Fa., vil Lkf ha´ toget omløbet..\n",
      "  73  0.3494  Er blevet meldt ind til LKI med en rystende motor\n",
      "  76  0.8386  Materielfejl MF : Har været til rep i KGC Kh for røgudvikling i RO i går er også færdig meldt klar 3\n",
      "  77  0.4079  Lkf kørt i stykker på vej på arbejde.\n",
      "  79  0.2677  Personalemangel TGF på KK\n",
      "  80  0.7381  Har pludselig mistet trækkraften i Htå LKI er på sagen\n",
      "  85  0.2663  Nærmer sig hastigt overkørt, og skal tages ud på Kh...\n",
      "  86  0.1537  Forkert oprangering fra Kk\n",
      "  88  0.8325  Lav brændoliestand... Kan ikke køre resten af løbet - og da slet ikke, når vi skal vende igen på Kk \n",
      "  91  0.8605  Svendborgbanen (fortsat)\n",
      "  94  0.1175  Materieldisponering for at få 4401 til HGL\n",
      "  99  0.8314  3719 voldsomt forsinket Fremskrevet fra 08:00\n",
      " 102  0.3383  omstillingsanlæg i Ar defekt så de kan ikke opformeres\n",
      " 106  0.4991  Lkf melder at det virker som om begge motorer ikke trækker\n",
      " 109  0.6114  Holder i Sts. Kan ikke køre. LKI på sagen-\n",
      " 112  0.3110  Materiel skal til maleren.\n",
      " 119  0.2253  Mangler Personale i Kgc\n",
      " 122  0.5432  K -15 u Re.. Fejl på ovk 52..\n",
      " 123  0.4254  Har ingen virksomme generator\n",
      " 124  0.3951  Materielfejl\n",
      " 125  0.1868  Prøvekørsel\n",
      " 129  0.4131  Mangel på Lkf i FH\n",
      " 130  0.1464  Materielfejl fejl på elefantfod kan ikke deles\n",
      " 131  0.9732  Defekt broklap Rf, der kan ikke gives en prognose. Flyttet frem fra kl. 06:56\n",
      " 132  0.3924  Manglende materiel: Mq odense\n",
      " 137  0.6035  Politi: holder i Sq og afventer politi til en voldsomt truende passager\n",
      " 142  0.2535  GLATTE SIKNNER\n",
      " 143  0.8879  Afsporet i Kvs: Vi begynder at indsætte busser Kvs-Svg-Kvs\n",
      " 145  0.3444  K-29\n",
      " 146  0.7876  Der mangler pt to ERK´ere (i DSB-løb) til eftermiddagstrafikken, til hhv 161 og 4145  For at dæk\n",
      " 147  0.6956  MTD Morten: Der er meldinger om klonk lyde fra frontbogie. HGL vil have toget stoppet i CPH, bogie s\n",
      " 149  0.5225  3 stk MQ der skal til rep Fa\n",
      " 150  0.3882  Materieldisponering DSB, ET togsættene er ikke hvor de skal være....\n",
      " 152  0.5685  Disponering DSB: kun 1 sæt på 1065+ nedformeringer\n",
      " 154  0.0825  Forsinkes ca 1 time\n",
      " 157  0.2977  Materielfejl, defekt PIS:\n",
      " 158  0.5031  forsinket\n",
      " 165  0.1085  Togsættet skal placeres til værksted..\n",
      " 169  0.0525  Vindstøj I førerrummet, har været fejlmeldt ca. 20 gange siden 2015 men bliver åbnebart IKKE lavet. \n",
      " 171  0.0256  Forkert oprangeret fra Hgl.. Dermed går Flb-sættet forrest, hvilket ikke du´r når vi skal afkoble i \n",
      " 174  0.6895  Dørfejl Sp 7. kan ikke få kontrol på døre\n",
      " 181  0.1098  ER skal trækkes med til Kh for rep, og MG 5640 skal til rep i Aarhus...\n",
      " 184  0.2237  Materielplacering DD. Vi skal lige have de rigtige størrelser på plads til i eftermiddag. Det koster\n",
      " 187  0.1985  Meget varmt togsæt til rep efter 172 i Ar\n",
      " 194  0.9084  Fjernstyringen gik ned Syd for Oj samt Svendborgbanen.\n",
      " 195  0.4908  Står til at køre med to MR, det ene aflåst, og det skulle aflåst til Hr i 3776. Da der ikke var sat \n",
      " 196  0.1583  Materielfejl. Nf. 1xICED, død i nordgående førerrum. Kan ikke køre omløbet.\n",
      " 198  0.9722  Ændret vendinger og koblinger, i forbindelse med dagens aflysninger.\n",
      " 200  0.4473  Manglende materiel: ER KK\n",
      " 204  0.1436  Defekt ER, skal skiftes inden afgang Cph\n",
      " 205  0.1669  Ændret behov.\n",
      " 206  0.3394  Disponering\n",
      " 207  0.2879  K -43 u Ar... Kommer nu til at genere L27.. Derfor:\n",
      " 208  0.6943  Materielmangel. Vi mangler MG på Sjælland.\n",
      " 210  0.3394  Vi mangler DD vogne i Blv.\n",
      " 212  0.6402  Materiel.       Nedbrudt i HMB.  / er ikke blever færdig fra værksted i HMB.\n",
      " 214  0.4454  K -28 u Fa.. Nedbrudt under klg..\n",
      " 215  0.2136  def tysk atc holder i pa\n",
      " 217  0.0704  Materiel, Kgc har problmer med levering af Lyn 43, de har end ikke fundet anledning til at meddele d\n",
      " 221  0.2916  Disponering DSB.\n",
      " 222  0.9127  Der mangler 1 ME til morgentrafikken følgende tiltag iværksættes\n",
      " 223  0.3758  Materielfejl. koldt førerum\n",
      " 228  0.2753  Ingen tgf der kan kører MG\n",
      " 230  0.6046  Forsinklelser Svg-banen\n",
      " 232  0.4933  Materiel: Skal til bogieskift\n",
      " 234  0.5967  Må ikke køre vidre efter ank KK i 5664. ryster kræftigt.\n",
      " 235  0.1696  Fyldte toiletter ank Fh.\n",
      " 239  0.2149  To B-motorer ude og uvirksomt fyr.\n",
      " 242  0.4626  Materielfejl ET : har kun 25 % trækkraft\n",
      " 247  0.7809  Mistet kontrol på sporskifte i th.\n",
      " 253  0.7328  Mgl driftsklare ER sæt, så der omdisponeres.\n",
      " 255  0.3150  har defekt førestol\n",
      " 257  0.1600  Aflyses Kd-Es, fejl i planerne\n",
      " 258  0.2376  Ændret behov pga. ER-mangler.\n",
      " 259  0.4521  Omdisponering af mat\n",
      " 261  0.2938  Materielfejl: togsæt uden varme i den ene vogn.\n",
      " 262  0.3485  disponering DSB: svenskerne vender tog i %m så der kommer 3 sæt over i 1085\n",
      " 263  0.3921  Begge A-motorer ude og def klima anlæg\n",
      " 264  0.1328  Materiel.      Placering.     til 2277 KH\n",
      " 266  0.5673  Skal til eftersyn, det burde den have været fra morgenstunden, men vi kunne ikke undvære den\n",
      " 267  0.7211  Disponering DSB : der er service på 1500 V systemet i BLV fra 08-18 hvilket gør at ME ikke kan komme\n",
      " 283  0.4808  Nedbrudt i Cph\n",
      " 285  0.2726  Hgl. Der bliver ikke togsæt klar til dette tog.\n",
      " 286  0.9581  Falsk besættelse Ni, 13xx køres til Sq og vender til eget løb\n",
      " 288  0.2260  Personaleforhold, Lkf ej mødt.\n",
      " 290  0.3697  FOKUS på tog fra Tyskland.\n",
      " 293  0.3605  transdrev aflyser 1077\n",
      " 295  0.3578  Materielfejl, der løber diesel ud af den ene motor:\n",
      " 298  0.6088  Materieldisponering, mgl 3 MG i Kastrup - men vi kan køre med et eftersynssæt\n",
      " 299  0.7534  Passagerforhold : efter afg Lj er der nogen passagerer som har åbnet dørene\n"
     ]
    }
   ],
   "source": [
    "# jeg prøver at printe linjenummer, prediction og tekststreng for dem som er store = \"rigtige\"\n",
    "\n",
    "print('Jeg printer nogle liner som er sande i test data:')\n",
    "for i in range(1,300):\n",
    "    if labels_test[i]==1:\n",
    "        PrtStr = ('%4.0f' % i) + '  ' + ('%1.4f' % predictions[i]) + '  ' + texts_test[i][:100].replace('\\n', ' ').replace('\\r', '')\n",
    "        print(PrtStr) "
   ]
  },
  {
   "cell_type": "code",
   "execution_count": 15,
   "metadata": {},
   "outputs": [
    {
     "data": {
      "image/png": "[encoded data removed]",
      "text/plain": [
       "<matplotlib.figure.Figure at 0x1ddeb895898>"
      ]
     },
     "metadata": {},
     "output_type": "display_data"
    }
   ],
   "source": [
    "# jeg prøver lige at plotte \"predictions i et histogram\n",
    "\n",
    "# hent data for store og små i to arrays, lav til et np array, så plotteren kan forstå data\n",
    "PlotDataSand = [x for i, x in enumerate(predictions) if labels_test[i]]\n",
    "PlotDataSand = np.array(PlotDataSand)\n",
    "PlotDataFalsk = [x for i, x in enumerate(predictions) if not labels_test[i]]\n",
    "PlotDataFalsk = np.array(PlotDataFalsk)\n",
    "\n",
    "plt.clf()  # clear figure\n",
    "plt.hist(PlotDataSand, bins=50, alpha=0.6, label='store')  # 50 bins, halv hennemsigtig\n",
    "plt.hist(PlotDataFalsk, bins=50, alpha=0.6, label='små')\n",
    "plt.legend(loc='upper right')\n",
    "plt.ylim([0, 200])\n",
    "\n",
    "plt.show()"
   ]
  },
  {
   "cell_type": "markdown",
   "metadata": {},
   "source": [
    "UHA UHA, alt for mange af de sande har en værdi tæt på 0 ..."
   ]
  },
  {
   "cell_type": "markdown",
   "metadata": {},
   "source": [
    "### Modellen er ikke specielt præcis. jeg checker lige efter på træninsdata, dem kan man håbe den har lært bedre at kende???"
   ]
  },
  {
   "cell_type": "code",
   "execution_count": 16,
   "metadata": {},
   "outputs": [
    {
     "name": "stdout",
     "output_type": "stream",
     "text": [
      "0.3805\n",
      "0.3394\n",
      "0.0786\n",
      "0.1136\n",
      "0.1722\n",
      "0.2866\n",
      "0.1254\n",
      "0.3175\n",
      "0.0702\n"
     ]
    }
   ],
   "source": [
    "# vi prøver modellen på test-data\n",
    "\n",
    "predictions = model.predict(data_train)\n",
    "\n",
    "# print de første predictions\n",
    "for i in range(1,10):\n",
    "    print(('%1.4f' % predictions[i]))"
   ]
  },
  {
   "cell_type": "code",
   "execution_count": 17,
   "metadata": {},
   "outputs": [
    {
     "name": "stdout",
     "output_type": "stream",
     "text": [
      "Antal store i datasættet:     33395.0\n",
      "antal estimeret af modellen:  22299\n",
      "Modellens præcision:          67.0 %\n"
     ]
    }
   ],
   "source": [
    "# finder ud af hvor stor en del store, som er fundet\n",
    "\n",
    "print('Antal store i datasættet:    ', sum(labels_train))\n",
    "NumEstimated = 0\n",
    "for i in range(1,len(labels_train)):\n",
    "    if predictions[i]>0.4 and labels_train[i]:\n",
    "        NumEstimated += 1\n",
    "print('antal estimeret af modellen: ', NumEstimated)\n",
    "print('Modellens præcision:         ', round(NumEstimated/sum(labels_train)*100), '%')"
   ]
  },
  {
   "cell_type": "code",
   "execution_count": 18,
   "metadata": {},
   "outputs": [
    {
     "name": "stdout",
     "output_type": "stream",
     "text": [
      "Nogle linjer som er SANDE i train data:\n",
      "   7  0.1254  Afkobler forreste sæt (ET 4320) på KH og køres på drejebænken\n",
      "   8  0.3175  Har gul motoralarm\n",
      "  14  0.4369  der mangler  mq\n",
      "  18  0.7925  ID: 07:28  Sporskiftefejl i Helsingør\n",
      "  21  0.8106  Ny udvikling i sagen med DB og Scandlines. Nu forventes 33 forsinket to timer i ankomst til Danmark.\n",
      "  24  0.4092  Nedbrudt Kh.. Dørfejl.. Lki-vagten kan ikke hjælpe den i gang :-(\n",
      "  25  0.4757  Disponering DSB/BDK for at køre blokken i orden mellem Nf-Rf\n",
      "  26  0.2758  Disponering materiel\n",
      "  27  0.3580  Personalforhold, mangler en Lkf i Helsingør til 2028.\n",
      "  30  0.2756  Kan ikke kører til Flb\n",
      "  32  0.4332  Materielfejl: ingen virksom dansk ATC\n",
      "  33  0.4284  BDK ØVRIGE\n",
      "  39  0.8187  Aflysninger pga. mgl materiel\n",
      "  40  0.6634  Disponering DSB : Der mgl en ER på KK og VK forventer ikke noget klar fra VK\n",
      "  42  0.8061  Har påkørt en tabt puffer fra et G tog på vej ud af RG .\n",
      "  46  0.3803  Holder ikke i Fh\n",
      "  47  0.2110  Materielfejl. Vendegearsfejl.\n",
      "  49  0.7459  Materielfejl på et tog i mellem Kävlinge og Lund.\n",
      "  53  0.5392  Materielmangel, nedformering fra Sverige.\n",
      "  54  0.8971  Signalfejl. Ovk. 51. Der køres på sigt. Re-Kvs.\n",
      "  57  0.6225  Periodisk fejl på brand alarm\n",
      "  58  0.9271  Der mangler 1 MR i Str da man har kørt nedformeret i 3747 tirsdag. Flg tog nedformeres : 7104 - 37\n",
      "  60  0.2765  FOKUSTOG.\n",
      "  66  0.2164  Materieldisponering: Placering af materiel.\n",
      "  71  0.3381  Materielfejl: førerrum kold\n",
      "  72  0.2352  Mat\n",
      "  74  0.5053  forsinkelse fra sverige\n",
      "  75  0.3507  Placering til OD morgen trafikken Torsdag.\n",
      "  78  0.8100  Sporskifte 01 i Rg stået af\n",
      "  79  0.4888  Nedformering fra Sverige\n",
      "  81  0.4225  Manglede Materiel MF\n",
      "  86  0.8406  Banedanmark, sporskifte i Glostrup er stået af\n",
      "  87  0.4714  manglende lkf på kh\n",
      "  88  0.8749  Har påkørt en person i mellem Aarhus og Brabrand. Vi holder helt stille.\n",
      "  90  0.5573  Nede og kikke på en bogie i Bo\n",
      "  93  0.7282  Nedformeringer fra Sverige.\n",
      " 101  0.3866  Materiel.    Mangel på køreklare ICU i FA til lørdag morgen.\n",
      " 102  0.7398  Vi mangler 2 MF i Fa/Od til morgentrafikken. Derfor disse ændringer.\n",
      " 110  0.4739  Defekt førestol, køres til Hgl for rep.der omdisponeres på Kh.\n",
      " 115  0.7408  Aflyses og sporskiftes fejes for sne. Sporvagt tilkaldt.\n",
      " 118  0.1666  Kk. Returkørsel af rsv. stm. til Kh - plus placering af ER/ET til/fra UF.\n",
      " 122  0.7198  Materielfej. Holder i spor 7, Kh med fejl på bremsen. Havde tidligere problemer på Kk også.\n",
      " 125  0.3107  Disponering DSB. Der starter ER op i ICU-løb.\n",
      " 130  0.5917  Mangler 1 sæt til 1389 cph\n",
      " 135  0.6934  omdisponering i Nf grundet Bo - Vy\n",
      " 138  0.4224  Ingen Lkf\n",
      " 142  0.6072  Disponering af MG 4537 kører tilperron 5 min før\n",
      " 143  0.7195  Det er lidt presset med dobbeltdækkervogne til morgentrafikken.\n",
      " 145  0.6122  Materieldisponering i Nivå\n",
      " 151  0.4279  Disponering Transdev/DSB, ET\n",
      " 153  0.3259  Ringsted bliver ikke færdig til tiden. En halv time forsinket\n",
      " 154  0.9459  Planlægning af M-tog (8307 og 8309) ifm sporspærring Hb - Sø., alt andet end god. Ydermere, er der\n",
      " 155  0.7225  DB aflyser ICED er nedbrudt i HMB.\n",
      " 157  0.4408  Materiel, knækket kabel I førerstol på 4573\n",
      " 158  0.6107  F -25 u Nf.. Ingen sat ud til at klg toget. En Rdg går ud og klg toget , det er desværre ikke førs\n",
      " 161  0.7282  Nedformeringer fra Sverige\n",
      " 163  0.5418  så store flader at lkf mener den skal tages ud\n",
      " 164  0.6023  Materielfejl. Dørfejl. Htå. LKI er på.\n",
      " 165  0.3553  Personaleforhold, pga. sygemeldt Lkf aflyses m.m. som følger\n",
      " 174  0.7795  Materielmangel MG i Cph, tre stk\n",
      " 176  0.2730  Materieldisponering, togsæt til værksted\n",
      " 178  0.2558  Materielfejl har kun 2 powerpacks\n",
      " 179  0.5302  Materiel mangel MQ\n",
      " 180  0.9447  Der mangler lidt MF´ere og ER-sæt rundt omkring i det jyske.. Derfor følgende slagplan :-)\n",
      " 184  0.5420  Materielfejl MR, kan ikke startes. Vi må omdisponere\n",
      " 185  0.7634  Materielfejl. Ng. Holder med problemer med radioen. Samme tog, som har bøvlet indover Sjælland med r\n",
      " 192  0.5134  Disponering DSB : skal til eftersyn / samt den er nedformeret fra sverige\n",
      " 193  0.7740  Grenåbanen mellem Tu-Gr er ikke blevet klar til tiden, da troljen er blevet defekt og ikke kan køre \n",
      " 194  0.9817  Materielfejl. Holder i Vy og kører ikke? Kc melder der ikke er kørestrøm på strækningen Htå-Rg.\n",
      " 195  0.6612  Materiel.  Holder med fejl på toget i KØ\n",
      " 204  0.6652  Materielfej. Holder med tekniske problemer lige før Trk.\n",
      " 209  0.6888  Politi: Mand smider papkasse ind I 1348 og løber sin vej.\n",
      " 211  0.3951  Materielfejl.\n",
      " 213  0.5424  Vi mangler en enkelt MF´er i Ar her til morgen..\n",
      " 219  0.4130  Intet materiel i Hmb\n",
      " 221  0.8594  Uden stop på Svendborg Vest\n",
      " 224  0.7313  Materielfejl: Må ikke kører mere ved ankomst Kh Pga.mulig fejl på Puffer\n",
      " 225  0.7115  Disponering DSB : pga . sporspærring på kastrup banen  Se Drap. 1885861\n",
      " 227  0.8489  Materielmangel.. Vi mangler et enkelt ER-sæt til eftermiddagstrafikken.. Skaffes således:\n",
      " 228  0.5427  Kmp efterlyser toget. Det viser sig de har problemer i Ab og er i kontakt med LKI\n",
      " 230  0.8561  MANGLENDE FJERNSTYRING Hr  del 2  Der kan ikke køre tog Hr - Bb - Hr  Der indsættes en stamm\n",
      " 232  0.4858  Disponering  for det påkørte tog mellem SÅ-Kl\n",
      " 234  0.9291  Materielfejl  MF : holder mellem  Vm-Oj  med røgudvikling og ild fra Skørte C8 Skrevet 07:49\n",
      " 235  0.4379  Mgl Materiel på Kh\n",
      " 236  0.6633  F -?? u Os.. Dørfejl..\n",
      " 238  0.8152  Der mangler en enkelt MP´er (IC2), til dagens planlagte kørsler\n",
      " 242  0.4827  Forsinket 15 min\n",
      " 245  0.2372  melding om røg fra bagerste togsæt\n",
      " 248  0.9304  Muligt skinnebrud 2 hovedspor mellem CPH-TÅT. Der forbi rangeres med lav hastighed.\n",
      " 249  0.4747  K -20 Hp. Mgl. Lkf på Kh. Vi indsætter rettidigt tog fra Ar.\n",
      " 250  0.6843  Materielfejl ICED : holder i Hmb med fejl\n",
      " 254  0.4216  Disponering DSB. Efter nedbrud på 57 tidligere, har vi nu materiellet til 69 i Kgc.\n",
      " 256  0.3225  Fejl på strækningsradio, men heldigvis melder DB, at de indsætter BR fra Puttgarden\n",
      " 258  0.9943  Scandlines. Færgelejet i Rf bliver tidligst klar i morgen eftermiddag, hvor vi skal ringe og få ny s\n",
      " 259  0.7282  Nedformeringer fra Sverige\n",
      " 261  0.4570  Kan ikke få luft på. Vi aflyser\n",
      " 264  0.6056  Manglende materiel MG: Der er ikke noget at kører 6825/6828 med.\n",
      " 266  0.5343  Materielfejl.  toilettet løber over og ud i passager Afd.,  andet også defekt.\n",
      " 268  0.3951  materielfejl\n",
      " 269  0.6279  Dør fejl Md. Lkf er gået ud for at aflåse.\n",
      " 270  0.8105  Disponering DSB, nedformeringer Øresund/Kysten:\n",
      " 275  0.2765  FOKUSTOG\n",
      " 281  0.7282  Nedformeringer fra Sverige\n",
      " 283  0.3330  Materielmangel Ab\n",
      " 285  0.3077  Problemer med strækningsradio i spor 32. KAC sender Hvk.\n",
      " 289  0.3858  Vi mangler en driftsklar ER til morgentrafikken på Hgl.\n",
      " 290  0.5078  Sporskiftefejl i Vojens.\n",
      " 294  0.2765  FOKUSTOG.\n",
      " 298  0.6106  Materielfejl, motorfejl, havde én virksom tilbage men Lkf ville ikke køre videre fra Fa.\n"
     ]
    }
   ],
   "source": [
    "# jeg prøver at printe linjenummer, prediction og tekststreng, som er RIGTIGE (store)\n",
    "\n",
    "print('Nogle linjer som er SANDE i train data:')\n",
    "for i in range(1,300):\n",
    "    if labels_train[i]==1:\n",
    "        PrtStr = ('%4.0f' % i) + '  ' + ('%1.4f' % predictions[i]) + '  ' + texts[i][:100].replace('\\n', ' ').replace('\\r', '')\n",
    "        print(PrtStr) "
   ]
  },
  {
   "cell_type": "code",
   "execution_count": 19,
   "metadata": {},
   "outputs": [
    {
     "name": "stdout",
     "output_type": "stream",
     "text": [
      "Nogle linjer som er FALSKE i train data:\n",
      "   1  0.3805  Problemer med TC, Lki er på sagen. Forventet minus 10 min.\n",
      "   2  0.3394  Disponering\n",
      "   3  0.0786  Materielfejl. Der løber olie ud fra en utæt slange, med røgudvikling til følge. Sættes til side på p\n",
      "   4  0.1136  Ændring Ar:\n",
      "   5  0.1722  medgives ER 2015 til Fa\n",
      "   6  0.2866  Materielfejl: Koldt førerrum.\n",
      "   9  0.0702  Kan ikke lave gennemgang 2+3F\n",
      "  10  0.3286  Materielmgl. ET. HG.\n",
      "  11  0.3555  Radioen virker ikke, kører og Vigerslev og vender\n",
      "  12  0.4274  Må IKKE køre i Tyskland\n",
      "  13  0.0245  Hjælpevogn Øst har frigivet ME 1512 til drift indtil Kh. Vi kobler den på RØ 4270. Ventilationsrist \n",
      "  15  0.2740  OPFOREMERING\n",
      "  16  0.3906  Fa. Der kan ikke leveres 2 MQ til dette udvekslingstog. Pt står der syv togsæt til rep. i Fa.\n",
      "  17  0.3666  Kommer forsinket til Kh\n",
      "  19  0.1783  Defekte koblinger, udskiftes i Ar\n",
      "  20  0.3398  Der mangler mat på Hgl\n",
      "  22  0.1787  DSB/DB disponering. DB medgiver IE 33 en ekstra BR til Puttgarden. Plads på Scandlines bekræftet.\n",
      "  23  0.0949  køres normalt i hullet i Ar\n",
      "  28  0.2164  Materiel:\n",
      "  29  0.1318  Opformering Ar. Grøn koncert.\n",
      "  31  0.4618  Materielfejl: Hænger i lidt i bremsen, kører i spor 4 kø og kikker på det, efterlades i Kø\n",
      "  34  0.3958  materielfejl er ved at løbe tør for brændolie\n",
      "  35  0.3281  Materiel    Mangel på køreklare Mf'ere i AR.\n",
      "  36  0.2765  FOKUSTOG :\n",
      "  37  0.6407  Materielfejl.. EL-bremser, med traktion..\n",
      "  38  0.1655  Materiel: MF-5039 skal til rep. Må kun køre til AR efter aftale med U-vagt.\n",
      "  41  0.3852  Materielmangel. Der mangler en MF´er i Ar..\n",
      "  43  0.1734  opformering\n",
      "  44  0.3097  Materielmangel MF på Kh:\n",
      "  45  0.0530  Materiel: Testtur for AR-MF-VK\n",
      "  48  0.4401  Kan ikke lade på færge.\n",
      "  50  0.2774  Mangler Herning\n",
      "  51  0.2916  Disponering DSB\n",
      "  52  0.1525  Store flader på hjul under førerrum. Uegnet til drift.\n",
      "  55  0.0337  Forv - 15/20  min fra Cph da lkf kommer med forsinket 64. Pass lkf er taget hjem !!.\n",
      "  56  0.3312  Ingen tioletter.\n",
      "  59  0.5327  Materielfejl : Luft utæt I førerum\n",
      "  61  0.1263  Blå lampe for sikrings anlæg lyser ikke, og der skal derfor være to i førerrum for at måtte køere.\n",
      "  62  0.3631  K-32\n",
      "  63  0.0970  Færdig på drejebænk i TÅT.\n",
      "  64  0.0918  Prøvetur Hgl - Rg\n",
      "  65  0.7494  K -13 Ru: PGA kø ud af KH mod KK\n",
      "  67  0.0434  Tyskerne sender toget tomt til Padborg. Der er ikke virksomme toiletter i toget. Passagererne kommer\n",
      "  68  0.0796  Disponering DSB. Aflyst af Vk uden melding her til. Umiddelbart er melding dog aldrig kommet til DLV\n",
      "  69  0.4747  Manglende LKF\n",
      "  70  0.1261  Defekt frontkobling. Der kan ikke kobles på 5027!\n",
      "  73  0.2007  Materielfejl, ikke virksom PIS-anlæg over koblingen\n",
      "  76  0.2057  Materiel: Tankes\n",
      "  77  0.2944  Materieldisponering, togsæt til eftersyn\n",
      "  80  0.1617  RV 3145 kun til Ab. Vender der til RV 3162. Skyldes IC 141 og L 45's forsinkelse nordpå.\n",
      "  82  0.2332  Materielfejl. Diesel lækage\n",
      "  83  0.1047  Kører med mat fra ordinær 4422\n",
      "  84  0.2487  Ej leveret fra Kk. Meldingen kommer så sent, sådan at vi ikke engang kan nå at kører rettidigt fra K\n",
      "  85  0.1127  Disponering DSB, MF 5030 til eftersyn i Ar:\n",
      "  89  0.3823  Materielfejl : Minus T fejl\n",
      "  91  0.1945  Disponering DSB Øresund\n",
      "  92  0.0711  Omvendt tilkobling i Fa.\n",
      "  94  0.3522  FOKUSTOG husk lige at tjekke op på dem...\n",
      "  95  0.3951  materielfejl\n",
      "  96  0.2928  Personale mangel: TGF\n",
      "  97  0.1749  Fejl på indstigningsdør, som derfor aflåses...\n",
      "  98  0.1463  Matfejl. har kun 69 bremseprocent\n",
      "  99  0.2672  Problemer med en broklap i Puttgarden\n",
      " 100  0.2765  FOKUSTOG :\n",
      " 103  0.4885  Disponering: Man skal koble en ER på i Od. Der står i MADS den skal forpå, men så går det galt på Kh\n",
      " 104  0.2361  BDK melder den 1½- 2 timer forsinket\n",
      " 105  0.1921  Aflyst\n",
      " 106  0.4792  Bornholmstrafikken meddeler af færgen er 25 min forsinket.\n",
      " 107  0.4752  Disponering DSB: Skal holde på UF GB kl 16:00.\n",
      " 108  0.0764  Har sort skærm og kobler omvendt i Kd.\n",
      " 109  0.4468  Materiel holder i BM med fejl på en dør.\n",
      " 111  0.2126  Enkeltssporsdrift i Citytunnelen\n",
      " 112  0.3594  Lkf kommer -5 min til Afg. ??\n",
      " 113  0.2911  F-16 Sø.  pga forsinket L45\n",
      " 114  0.2052  Disponering DSB, pga kørestrømsarbejde i Kastrup kan vi ikke komme ud med togsættet, ej heller slå o\n",
      " 116  0.6456  Disponering DSB. Pga. problemer på SVG-banen tidligere idag. Omdisponeres følgende tog.\n",
      " 117  0.5260  Materielfejl: holder på KH med -t fejl\n",
      " 119  0.0205  Disponering DSB da banedanmar har skiltet med at den standser i ØRE og TÅT\n",
      " 120  0.1289  Skal bytte om i Fa\n",
      " 121  0.2024  Blev taget ind i sp 26.\n",
      " 123  0.3142  Kan ikke køre. Vi vender 816 til 4039 på KK.\n",
      " 124  0.3737  K-34\n",
      " 126  0.1493  Har ikke diesel nok til at køre sit løb til ende.\n",
      " 127  0.4823  På grund af en disponering i går:\n",
      " 128  0.3361  Materiel.    Fejl på togsættet.\n",
      " 129  0.3766  Materielfejl... Overophedet motor..\n",
      " 131  0.3801  manglende materiel MG\n",
      " 132  0.2164  Disponering DSB. Vi mangler 1 MF på Kk.\n",
      " 133  0.2916  Disponering DSB\n",
      " 134  0.0933  Ingen varme i halv togsættet i 52 enden.\n",
      " 136  0.3796  dårlig kørene\n",
      " 137  0.5745  Materiel fejl, 25 % trækkraft, togsæt sættes i Parking.\n",
      " 139  0.0996  Byttes ind i 27xx løb for rep i Fa.\n",
      " 140  0.1065  Defekt klima anlæg I førerrummet I 52-enden\n",
      " 141  0.2164  Materiel\n",
      " 144  0.6652  Blokfejl Kb-Væ. Kørsel på sigt:\n",
      " 146  0.0134  IC4: Skal ud i andet løb for at komme til inspektion. Stammeskifte i Ar. IC4 laver byttet.\n",
      " 147  0.2164  Materiel:\n",
      " 148  0.2492  Materieldisponering\n",
      " 149  0.3520  Manglende togføre i Kastrup\n",
      " 150  0.7179  Skal resette PIS  på Kh\n",
      " 152  0.2657  50 % trækkraft\n",
      " 156  0.0162  Pga. ingen tryk på fronten (op til MF 5089) på ER 2025, aflåses Cph-Fa\n",
      " 159  0.3653  der var ikke sat tgf op til toget fra Ab. Som konsekvens aflyses 3119 - 3132 ab-abv-ab for at skaffe\n",
      " 160  0.0784  DSB disponering. Skal dække mangler til i morgen tidligt ER-mæssigt.\n",
      " 162  0.2774  Overkørt, men lkf tager det forkerte sæt.\n",
      " 166  0.3924  Materielfejl MQ Odd, kan ikke få liv i den efter vendingen\n",
      " 167  0.2492  Materieldisponering\n",
      " 168  0.1926  Ingen Lkf til at hente Matt på nordhavn.  der leveres 2 MFA på KH til 2237.\n",
      " 169  0.2330  Mangler en megafon.\n",
      " 170  0.5475  Kan ikke køre fra Kk, lki på sagen\n",
      " 171  0.0325  Ændring Flb pga defekt gumminæse\n",
      " 172  0.2140  Skal til rep\n",
      " 173  0.2164  Materiel:\n",
      " 175  0.3783  Intet personale? Vi aflyser.\n",
      " 177  0.4732  materielmangel ERF på HGL\n",
      " 181  0.2164  Materiel.\n",
      " 182  0.4390  Intet personale.. Tømmes på Kh\n",
      " 183  0.4692  Der mangler et togsæt i Nf efter at 4285 kun fik et togsæt med fra Østerport\n",
      " 186  0.2765  Fokustog:\n",
      " 187  0.4519  Materielfejl. Begge strømaftager er suspenderet fra Sverige. ikke oplyst om hvorfor.\n",
      " 188  0.3324  Både lok og vogne kommer fra værksted. Det spiller ikke rigtigt sammen.\n",
      " 189  0.3213  Materiel: Sættet lugter af røg efter noget røgudvikling, sættet køre tom til Hgl U-vagten underettet\n",
      " 190  0.2765  Flb. 1xICU. Tomplacering af sæt fra rep.\n",
      " 191  0.2916  Disponering DSB: ?\n",
      " 196  0.4862  Ændringer for at undgå op- og nedformering i Ab\n",
      " 197  0.0498  Korrigeret. Er opformeret til ES. Da der ikke er Tgf. med aflåser vi 2F2\n",
      " 198  0.7876  Kraftig røgudvikling. mellem vn og lk, ingen røg i kabinen, men lugtgener.\n",
      " 199  0.4114  disponering DSB: ER mangel KK\n"
     ]
    }
   ],
   "source": [
    "# jeg prøver at printe linjenummer, prediction og tekststreng, som er FORKERTE (små)\n",
    "\n",
    "print('Nogle linjer som er FALSKE i train data:')\n",
    "for i in range(1,200):\n",
    "    if labels[i]==0:\n",
    "        PrtStr = ('%4.0f' % i) + '  ' + ('%1.4f' % predictions[i]) + '  ' + texts[i][:100].replace('\\n', ' ').replace('\\r', '')\n",
    "        print(PrtStr) "
   ]
  },
  {
   "cell_type": "code",
   "execution_count": 20,
   "metadata": {},
   "outputs": [
    {
     "name": "stdout",
     "output_type": "stream",
     "text": [
      " Gennemsnit for ttrain stor og lille\n",
      "0.51668894\n",
      "0.2858782\n"
     ]
    }
   ],
   "source": [
    "# finder gennemsnittet for dem som er rigtige og forkerte\n",
    "\n",
    "print(' Gennemsnit for ttrain stor og lille')\n",
    "print(np.average([x for i, x in enumerate(predictions) if labels[i]]))\n",
    "print(np.average([x for i, x in enumerate(predictions) if not labels[i]]))"
   ]
  },
  {
   "cell_type": "code",
   "execution_count": 21,
   "metadata": {},
   "outputs": [
    {
     "data": {
      "image/png": "[encoded data removed]",
      "text/plain": [
       "<matplotlib.figure.Figure at 0x1ddeb824cf8>"
      ]
     },
     "metadata": {},
     "output_type": "display_data"
    }
   ],
   "source": [
    "# jeg prøver lige at plotte \"predictions i et histogram\n",
    "\n",
    "# hent data for store og små i to arrays, lav til et np array, så plotteren kan forstå data\n",
    "PlotDataSand = [x for i, x in enumerate(predictions) if labels_train[i]]\n",
    "PlotDataSand = np.array(PlotDataSand)\n",
    "PlotDataFalsk = [x for i, x in enumerate(predictions) if not labels_train[i]]\n",
    "PlotDataFalsk = np.array(PlotDataFalsk)\n",
    "\n",
    "plt.clf()  # clear figure\n",
    "plt.hist(PlotDataSand, bins=50, alpha=0.6, label='store train')  # 50 bins, halv hennemsigtig\n",
    "plt.hist(PlotDataFalsk, bins=50, alpha=0.6, label='små train')\n",
    "plt.legend(loc='upper right')\n",
    "plt.ylim([0, 1000])\n",
    "\n",
    "plt.show()"
   ]
  }
 ],
 "metadata": {
  "kernelspec": {
   "display_name": "Python 3",
   "language": "python",
   "name": "python3"
  },
  "language_info": {
   "codemirror_mode": {
    "name": "ipython",
    "version": 3
   },
   "file_extension": ".py",
   "mimetype": "text/x-python",
   "name": "python",
   "nbconvert_exporter": "python",
   "pygments_lexer": "ipython3",
   "version": "3.6.4"
  }
 },
 "nbformat": 4,
 "nbformat_minor": 2
}
