{
 "cells": [
  {
   "cell_type": "markdown",
   "metadata": {},
   "source": [
    "### Vi prøver igen ...\n",
    "\n",
    "- Alle data i en fil, vi korter i koden\n",
    "- vi prøver med texts_to_matrix\n",
    "- Jeg kan selv vælge hvad der er stort (kan prøve andet end 10), måske kan den lettere finde f.eks. 5?\n",
    "\n",
    "### Konklusion\n",
    "- Det er lykkedes at få det til at virke med een datafil, som indeholder både train og test\n",
    "- Det er lykkedes at lave en opdeling på et vilkåligt tal i kode for stor og lille\n",
    "- Data - som de er nu - har ikke ret megen struktur, det var også det jeg egentligt gættede på fra start. De rigtigt store kan modellen godt genkende, men rigtigt mange smutter bare igennem"
   ]
  },
  {
   "cell_type": "code",
   "execution_count": 1,
   "metadata": {},
   "outputs": [],
   "source": [
    "# vi sætter stien til data\n",
    "import os\n",
    "import pandas as pd\n",
    "import numpy as np\n",
    "os.chdir('/Users/ThomasGordon/Documents/PythonScripts/FED')\n"
   ]
  },
  {
   "cell_type": "code",
   "execution_count": 2,
   "metadata": {},
   "outputs": [],
   "source": [
    "# Excel-filen med tekster åbnes og indlæses\n",
    "xl = pd.ExcelFile('FEDAll.xlsx')\n",
    "df = xl.parse('FEDlinjer')       # siden i arket\n",
    "\n",
    "# læs overskrifter i FED\n",
    "texts  = df.loc[:,'FEDtext']\n",
    "texts  = texts.values\n",
    "\n",
    "# læs antal linjer og omsæt til \"stor hændelse\" eller \"lille hændelse\"\n",
    "StorEr = 8\n",
    "NumLines = df.loc[:,'FEDlinjer']\n",
    "NumLines = NumLines.values\n",
    "labels = np.asarray([1*(NumLines[i]>=StorEr) for i in range(len(NumLines))])\n",
    "\n",
    "# vi rafler data rundt tilfældigt (vi laver et tilfældigt index)\n",
    "indices = np.arange(texts.shape[0])\n",
    "np.random.shuffle(indices)\n",
    "texts   = texts[indices]\n",
    "labels = labels[indices]\n",
    "\n",
    "# opdeling i training data og test data\n",
    "i = 90000  # antal linjer afsat til træning, resten er test\n",
    "texts_train  = texts[:i]\n",
    "texts_test   = texts[i:] \n",
    "labels_train = labels[:i]\n",
    "labels_test  = labels[i:]"
   ]
  },
  {
   "cell_type": "code",
   "execution_count": 3,
   "metadata": {},
   "outputs": [
    {
     "name": "stderr",
     "output_type": "stream",
     "text": [
      "C:\\Users\\ThomasGordon\\Anaconda3\\lib\\site-packages\\h5py\\__init__.py:36: FutureWarning: Conversion of the second argument of issubdtype from `float` to `np.floating` is deprecated. In future, it will be treated as `np.float64 == np.dtype(float).type`.\n",
      "  from ._conv import register_converters as _register_converters\n",
      "Using TensorFlow backend.\n"
     ]
    }
   ],
   "source": [
    "# laver tekst om til vektor, henter text processing modul\n",
    "\n",
    "from keras.preprocessing.text import Tokenizer\n",
    "from keras.preprocessing.sequence import pad_sequences\n",
    "\n",
    "max_words = 10000  # Vi ser kun på de 10.000 mest almindelige ord\n",
    "\n",
    "# vi laver ordene i FED om til tilsvarende tal (som nedenfor laves til en \"one-hot\")\n",
    "tokenizer = Tokenizer(num_words=max_words)\n",
    "tokenizer.fit_on_texts(texts)"
   ]
  },
  {
   "cell_type": "code",
   "execution_count": 4,
   "metadata": {},
   "outputs": [
    {
     "name": "stdout",
     "output_type": "stream",
     "text": [
      "(90000, 10000)\n",
      "(10867, 10000)\n",
      "(90000,)\n",
      "(10867,)\n"
     ]
    }
   ],
   "source": [
    "# sætninger laves om til en \"one hot\" data vektor\n",
    "# tester ...\n",
    "data_train = tokenizer.texts_to_matrix(texts_train, mode='binary')\n",
    "data_test  = tokenizer.texts_to_matrix(texts_test,  mode='binary')\n",
    "\n",
    "# labels laves til vektor\n",
    "labels_train = np.asarray(labels_train).astype('float32')\n",
    "labels_test = np.asarray(labels_test).astype('float32')\n",
    "\n",
    "# print størrelsen på train og test data\n",
    "print(data_train.shape)\n",
    "print(data_test.shape)\n",
    "print(labels_train.shape)\n",
    "print(labels_test.shape)"
   ]
  },
  {
   "cell_type": "code",
   "execution_count": 5,
   "metadata": {},
   "outputs": [
    {
     "name": "stdout",
     "output_type": "stream",
     "text": [
      "_________________________________________________________________\n",
      "Layer (type)                 Output Shape              Param #   \n",
      "=================================================================\n",
      "dense_1 (Dense)              (None, 16)                160016    \n",
      "_________________________________________________________________\n",
      "dense_2 (Dense)              (None, 16)                272       \n",
      "_________________________________________________________________\n",
      "dropout_1 (Dropout)          (None, 16)                0         \n",
      "_________________________________________________________________\n",
      "dense_3 (Dense)              (None, 1)                 17        \n",
      "=================================================================\n",
      "Total params: 160,305\n",
      "Trainable params: 160,305\n",
      "Non-trainable params: 0\n",
      "_________________________________________________________________\n"
     ]
    }
   ],
   "source": [
    "from keras import models\n",
    "from keras import layers\n",
    "\n",
    "model = models.Sequential()\n",
    "model.add(layers.Dense(16, activation='relu', input_shape=(10000,)))\n",
    "model.add(layers.Dense(16, activation='relu'))\n",
    "model.add(layers.Dropout(0.5))\n",
    "model.add(layers.Dense(1, activation='sigmoid'))\n",
    "\n",
    "model.compile(optimizer='rmsprop',\n",
    "              loss='binary_crossentropy',\n",
    "              metrics=['accuracy'])\n",
    "\n",
    "model.summary()"
   ]
  },
  {
   "cell_type": "code",
   "execution_count": 6,
   "metadata": {},
   "outputs": [
    {
     "name": "stdout",
     "output_type": "stream",
     "text": [
      "Train on 81000 samples, validate on 9000 samples\n",
      "Epoch 1/10\n",
      "81000/81000 [==============================] - 17s 208us/step - loss: 0.3708 - acc: 0.9355 - val_loss: 0.2176 - val_acc: 0.9421\n",
      "Epoch 2/10\n",
      "81000/81000 [==============================] - 16s 203us/step - loss: 0.2266 - acc: 0.9401 - val_loss: 0.1926 - val_acc: 0.9423\n",
      "Epoch 3/10\n",
      "81000/81000 [==============================] - 16s 203us/step - loss: 0.2046 - acc: 0.9414 - val_loss: 0.1913 - val_acc: 0.9430\n",
      "Epoch 4/10\n",
      "81000/81000 [==============================] - 17s 215us/step - loss: 0.1968 - acc: 0.9429 - val_loss: 0.1916 - val_acc: 0.9441\n",
      "Epoch 5/10\n",
      "81000/81000 [==============================] - 15s 186us/step - loss: 0.1917 - acc: 0.9439 - val_loss: 0.1927 - val_acc: 0.9440\n",
      "Epoch 6/10\n",
      "81000/81000 [==============================] - 16s 201us/step - loss: 0.1872 - acc: 0.9453 - val_loss: 0.1943 - val_acc: 0.9436\n",
      "Epoch 7/10\n",
      "81000/81000 [==============================] - 16s 199us/step - loss: 0.1832 - acc: 0.9467 - val_loss: 0.1948 - val_acc: 0.9433\n",
      "Epoch 8/10\n",
      "81000/81000 [==============================] - 15s 191us/step - loss: 0.1804 - acc: 0.9468 - val_loss: 0.1947 - val_acc: 0.9428\n",
      "Epoch 9/10\n",
      "81000/81000 [==============================] - 16s 191us/step - loss: 0.1771 - acc: 0.9477 - val_loss: 0.1951 - val_acc: 0.9431\n",
      "Epoch 10/10\n",
      "81000/81000 [==============================] - 17s 206us/step - loss: 0.1725 - acc: 0.9487 - val_loss: 0.1966 - val_acc: 0.9429\n"
     ]
    }
   ],
   "source": [
    "NumEpochs = 10\n",
    "history = model.fit(data_train, labels_train,\n",
    "                    epochs=NumEpochs,\n",
    "                    batch_size=512,\n",
    "                    validation_split=0.1)"
   ]
  },
  {
   "cell_type": "code",
   "execution_count": 7,
   "metadata": {},
   "outputs": [
    {
     "data": {
      "text/plain": [
       "dict_keys(['val_loss', 'val_acc', 'loss', 'acc'])"
      ]
     },
     "execution_count": 7,
     "metadata": {},
     "output_type": "execute_result"
    }
   ],
   "source": [
    "history_dict = history.history\n",
    "history_dict.keys()"
   ]
  },
  {
   "cell_type": "code",
   "execution_count": 8,
   "metadata": {},
   "outputs": [],
   "source": [
    "import matplotlib.pyplot as plt\n",
    "plt.show()"
   ]
  },
  {
   "cell_type": "code",
   "execution_count": 9,
   "metadata": {},
   "outputs": [
    {
     "data": {
      "image/png": "[encoded data removed]",
      "text/plain": [
       "<matplotlib.figure.Figure at 0x266923072b0>"
      ]
     },
     "metadata": {},
     "output_type": "display_data"
    }
   ],
   "source": [
    "# plotter historikken for 'loss' og 'accuracy'\n",
    "accu = history.history['acc']\n",
    "val_acc = history.history['val_acc']\n",
    "loss = history.history['loss']\n",
    "val_loss = history.history['val_loss']\n",
    "epochs = range(1, NumEpochs+1)\n",
    "\n",
    "plt.plot(epochs, loss, 'bo', label='Training loss')       # \"bo\" is for \"blue dot\"\n",
    "plt.plot(epochs, val_loss, 'b', label='Validation loss')  # b is for \"solid blue line\"\n",
    "plt.title('Training and validation loss')\n",
    "plt.xlabel('Epochs')\n",
    "plt.ylabel('Loss')\n",
    "plt.legend()\n",
    "\n",
    "plt.show()"
   ]
  },
  {
   "cell_type": "code",
   "execution_count": 10,
   "metadata": {},
   "outputs": [
    {
     "data": {
      "image/png": "[encoded data removed]",
      "text/plain": [
       "<matplotlib.figure.Figure at 0x26692301e48>"
      ]
     },
     "metadata": {},
     "output_type": "display_data"
    }
   ],
   "source": [
    "plt.clf()   # clear figure\n",
    "acc_values = history_dict['acc']\n",
    "val_acc_values = history_dict['val_acc']\n",
    "\n",
    "plt.plot(epochs, acc_values, 'bo', label='Training acc')\n",
    "plt.plot(epochs, val_acc_values, 'b', label='Validation acc')\n",
    "plt.title('Training and validation accuracy')\n",
    "plt.xlabel('Epochs')\n",
    "plt.ylabel('Loss')\n",
    "plt.legend()\n",
    "\n",
    "plt.show()"
   ]
  },
  {
   "cell_type": "markdown",
   "metadata": {},
   "source": [
    "# Validering af modellen på test data\n",
    "Her indlæser vi så test data, helt nye data til test"
   ]
  },
  {
   "cell_type": "code",
   "execution_count": 11,
   "metadata": {},
   "outputs": [
    {
     "name": "stdout",
     "output_type": "stream",
     "text": [
      "0.1959\n",
      "0.0114\n",
      "0.0007\n",
      "0.0955\n",
      "0.0653\n",
      "0.2704\n",
      "0.1059\n",
      "0.0023\n",
      "0.0803\n"
     ]
    }
   ],
   "source": [
    "# vi prøver modellen på test-data\n",
    "\n",
    "predictions = model.predict(data_test)\n",
    "\n",
    "for i in range(1,10):\n",
    "    print(('%1.4f' % predictions[i]))"
   ]
  },
  {
   "cell_type": "code",
   "execution_count": 12,
   "metadata": {},
   "outputs": [
    {
     "name": "stdout",
     "output_type": "stream",
     "text": [
      "Antal store i datasættet:     621.0\n",
      "antal estimeret af modellen:  66\n",
      "Modellens præcision:          11.0 %\n"
     ]
    }
   ],
   "source": [
    "# finder ud af hvor stor en del store, som er fundet\n",
    "\n",
    "print('Antal store i datasættet:    ', sum(labels_test))\n",
    "NumEstimated = 0\n",
    "for i in range(1,6000):\n",
    "    if predictions[i]>0.4 and labels_test[i]:\n",
    "        NumEstimated += 1\n",
    "print('antal estimeret af modellen: ', NumEstimated)\n",
    "print('Modellens præcision:         ', round(NumEstimated/sum(labels_test)*100), '%')"
   ]
  },
  {
   "cell_type": "code",
   "execution_count": 13,
   "metadata": {},
   "outputs": [
    {
     "name": "stdout",
     "output_type": "stream",
     "text": [
      " Gennemsnit for test stor og lille\n",
      "0.21000403\n",
      "0.05024237\n"
     ]
    }
   ],
   "source": [
    "# Gennemsnittet for rigtig og forkert\n",
    "\n",
    "print(' Gennemsnit for test stor og lille')\n",
    "print(np.average([x for i, x in enumerate(predictions) if labels_test[i]]))\n",
    "print(np.average([x for i, x in enumerate(predictions) if not labels_test[i]]))"
   ]
  },
  {
   "cell_type": "code",
   "execution_count": 14,
   "metadata": {},
   "outputs": [
    {
     "name": "stdout",
     "output_type": "stream",
     "text": [
      "Jeg printer nogle liner som er sande i test data:\n",
      "  60  0.0225  Materielmangel: IC4\n",
      "  66  0.0344  Materiel: manglende ER sæt\n",
      "  92  0.1449  Materielfejl, holder og fejlsøger i Høje Taastrup. Fejl på bremse?\n",
      " 128  0.0116  Disponering: 386 kommer ikke med, tiden ændret.\n",
      " 134  0.1006  Vekselretterfejl i Val. LKI er på.\n",
      " 148  0.0120  Fejl på tysk radio, vi kan ikke få fejl væk, trods flere forsøg, så der omdisponeres.\n",
      " 212  0.0031  Materieldisponering: Manglende behov\n",
      " 238  0.0499  Materielfejl. 1xMQ. Svg. Tekniske problemer. LKI følger op..\n",
      " 249  0.0648  To MQ i Næ\n",
      " 254  0.9996  Flyttet fra kl. 17.00  Overgravet kabel i RD.  Prognose til kl. 22:  •\tTrafikal vurderin\n",
      " 256  0.0619  Personalemangel LKF : mgl LKf til følgende ture\n",
      " 260  0.0120  Fa. Pga. travlhed i DcDK, er klargøring til 749 smuttet.\n",
      " 268  0.0275  Nedformering fra Sverige samt placering af ET 4320 til eftersyn på HGL\n",
      " 290  0.0185  Materielmangel KH ABS / ME\n"
     ]
    }
   ],
   "source": [
    "# jeg prøver at printe linjenummer, prediction og tekststreng for dem som er store = \"rigtige\"\n",
    "\n",
    "print('Jeg printer nogle liner som er sande i test data:')\n",
    "for i in range(1,300):\n",
    "    if labels_test[i]==1:\n",
    "        PrtStr = ('%4.0f' % i) + '  ' + ('%1.4f' % predictions[i]) + '  ' + texts_test[i][:100].replace('\\n', ' ').replace('\\r', '')\n",
    "        print(PrtStr) "
   ]
  },
  {
   "cell_type": "code",
   "execution_count": 15,
   "metadata": {},
   "outputs": [
    {
     "data": {
      "image/png": "[encoded data removed]",
      "text/plain": [
       "<matplotlib.figure.Figure at 0x2669240d940>"
      ]
     },
     "metadata": {},
     "output_type": "display_data"
    }
   ],
   "source": [
    "# jeg prøver lige at plotte \"predictions i et histogram\n",
    "\n",
    "# hent data for store og små i to arrays, lav til et np array, så plotteren kan forstå data\n",
    "PlotDataSand = [x for i, x in enumerate(predictions) if labels_test[i]]\n",
    "PlotDataSand = np.array(PlotDataSand)\n",
    "PlotDataFalsk = [x for i, x in enumerate(predictions) if not labels_test[i]]\n",
    "PlotDataFalsk = np.array(PlotDataFalsk)\n",
    "\n",
    "plt.clf()  # clear figure\n",
    "plt.hist(PlotDataSand, bins=50, alpha=0.6, label='store')  # 50 bins, halv hennemsigtig\n",
    "plt.hist(PlotDataFalsk, bins=50, alpha=0.6, label='små')\n",
    "plt.legend(loc='upper right')\n",
    "plt.ylim([0, 200])\n",
    "\n",
    "plt.show()"
   ]
  },
  {
   "cell_type": "markdown",
   "metadata": {},
   "source": [
    "UHA UHA, alt for mange af de sande har en værdi tæt på 0 ..."
   ]
  },
  {
   "cell_type": "markdown",
   "metadata": {},
   "source": [
    "### Modellen er ikke specielt præcis. jeg checker lige efter på træninsdata, dem kan man håbe den har lært bedre at kende???"
   ]
  },
  {
   "cell_type": "code",
   "execution_count": 16,
   "metadata": {},
   "outputs": [
    {
     "name": "stdout",
     "output_type": "stream",
     "text": [
      "0.0428\n",
      "0.0568\n",
      "0.0214\n",
      "0.0154\n",
      "0.0029\n",
      "0.0214\n",
      "0.0043\n",
      "0.0227\n",
      "0.0018\n"
     ]
    }
   ],
   "source": [
    "# vi prøver modellen på test-data\n",
    "\n",
    "predictions = model.predict(data_train)\n",
    "\n",
    "# print de første predictions\n",
    "for i in range(1,10):\n",
    "    print(('%1.4f' % predictions[i]))"
   ]
  },
  {
   "cell_type": "code",
   "execution_count": 17,
   "metadata": {},
   "outputs": [
    {
     "name": "stdout",
     "output_type": "stream",
     "text": [
      "Antal store i datasættet:     5372.0\n",
      "antal estimeret af modellen:  1579\n",
      "Modellens præcision:          29.0 %\n"
     ]
    }
   ],
   "source": [
    "# finder ud af hvor stor en del store, som er fundet\n",
    "\n",
    "print('Antal store i datasættet:    ', sum(labels_train))\n",
    "NumEstimated = 0\n",
    "for i in range(1,len(labels_train)):\n",
    "    if predictions[i]>0.4 and labels_train[i]:\n",
    "        NumEstimated += 1\n",
    "print('antal estimeret af modellen: ', NumEstimated)\n",
    "print('Modellens præcision:         ', round(NumEstimated/sum(labels_train)*100), '%')"
   ]
  },
  {
   "cell_type": "code",
   "execution_count": 18,
   "metadata": {},
   "outputs": [
    {
     "name": "stdout",
     "output_type": "stream",
     "text": [
      "Nogle linjer som er SANDE i train data:\n",
      "   6  0.0214  Disponering DSBØ materielmangel 24/11\n",
      "  10  0.0087  Disponering DSB. Mat. placering.\n",
      "  13  0.6193  fjernstyrrigsnedbrud Mellem BL-HJ\n",
      "  36  0.7465  Signalfejl i Os begge veje, fra Øds til Os og retur og fra Os til Rå og retur. Giver 10-20 min. på t\n",
      "  56  0.1572  Manglende ET\n",
      "  67  0.0559  Disponering DSB, ET sæt:\n",
      "  70  0.4603  Materielmangel. Der mangler en del togsæt (både MF og ER) til dagens planlagte produktion..\n",
      "  97  0.0378  Materielfejl MQ Od, dørfejl\n",
      " 103  0.4065  Stadig problemer med sporskifte varme og sne fygning i Fh, så vi vender togene ved perron.\n",
      " 119  0.5821  Mangel på MF generelt i hele landet\n",
      " 132  0.3890  Bane danmark: Der er et godstog der er gået i stå, det gør vi ikke kan komme over køge til Næ. Vi tø\n",
      " 133  0.0942  Personalforhold, mangler en Lkf i Helsingør til 2028.\n",
      " 160  0.0896  Materielfejl MQ : fejl på holdebremse\n",
      " 174  0.6430  Skinnebrud på Kk, Sporvagt tilkaldt\n",
      " 176  0.3389  Hed sporskifterne har låst sig fast, vagten er på vej, forventes at være fremme om 30 mion.\n",
      " 186  0.0049  Tyskerne melder at 39 er aflyst grundet toiletter, pass kommer med bus\n",
      " 202  0.0417  Personaleforhold. Kh. Lkf. Vi skal frigive flere folk.\n",
      " 204  0.0302  DB: Sættet er overkørt, og må ikke komme til Danmark. Tysken vender det i Put. Passagerne går ombord\n",
      " 211  0.8445  Skrevet 3/3 23:20 Der mangler to BR-sæt, og én DD-stamme til dagens trafik.. Desværre er der ikke \n",
      " 215  0.4099  Væltet træ ved Svebølle. Lkf prøver om muligt at skubbe det væk.\n",
      " 219  0.2011  Personnalemangel: da lkf som tidliger skrevet blev overfaldet på KT\n",
      " 223  0.0574  MAterielfejl MG :\n",
      " 246  0.0706  Mangler mat 5847\n"
     ]
    }
   ],
   "source": [
    "# jeg prøver at printe linjenummer, prediction og tekststreng, som er RIGTIGE (store)\n",
    "\n",
    "print('Nogle linjer som er SANDE i train data:')\n",
    "for i in range(1,300):\n",
    "    if labels_train[i]==1:\n",
    "        PrtStr = ('%4.0f' % i) + '  ' + ('%1.4f' % predictions[i]) + '  ' + texts[i][:100].replace('\\n', ' ').replace('\\r', '')\n",
    "        print(PrtStr) "
   ]
  },
  {
   "cell_type": "code",
   "execution_count": 19,
   "metadata": {},
   "outputs": [
    {
     "name": "stdout",
     "output_type": "stream",
     "text": [
      "Nogle linjer som er FALSKE i train data:\n",
      "   1  0.0428  K- 19 min.\n",
      "   2  0.0568  PT mangler vi en enkelt MF´er i Ar... (Pga nedbrud og defekter i løbet af dagen)\n",
      "   3  0.0214  Ikke kommet op på forespørgsel til IC 4 blev de aflyst kl. 10:30 skulle være kørt kl. 10:05\n",
      "   4  0.0154  Materielfejl  varm vogn\n",
      "   5  0.0029  Er forsinket, vi kobler omvendt i Fa.\n",
      "   7  0.0043  strækningsradio virker ikke  kan ikke resættes\n",
      "   8  0.0227  Skal til eftersyn på HGL.\n",
      "   9  0.0018  Disponering Banedanmark. omvendt tilkobling i Fredericia\n",
      "  11  0.3186  Fejl på Overkørsel  mellem Frs og Hjs\n",
      "  12  0.0359  KLargøring\n",
      "  14  0.0015  Materiel.    Placering i AB ICU\n",
      "  15  0.0440  Disponering af materiel\n",
      "  16  0.0084  Materiel placering.  MQ.\n",
      "  17  0.0593  Lkf kan ikke kører MQ. Vi sætter en MR ind i stedet for.\n",
      "  18  0.0591  Materiel. Vi køre DD I MF løb-\n",
      "  19  0.0234  Sættet er blevet klar til kørsel til Vk i Ar, har holdt i Vj efter tidligere nedbrud\n",
      "  20  0.0014  Får nu melding på at indusi er defekt, toget er ved at ankomme i Te. Aftaler med Lki at vi prøver at\n",
      "  21  0.0162  Mangler kølevand og skal ud på Kh KGC leverer en MG\n",
      "  22  0.0005  Klargøring. Intet vand til handdicaptoilet. Skal forsøges vandpåfyldt i Ab under vending fra 47 til \n",
      "  23  0.0407  ME-lok kan ikke klare tæthedsprøven, ved klg...\n",
      "  24  0.0706  Har kun diesel på, til at køre til Kh\n",
      "  25  0.0102  Forsinket 27 min.\n",
      "  26  0.1112  Materielfejl MF : holder i spor 32 med fejl på toget\n",
      "  27  0.0341  Materiel.   Manger en DD stamme i NF.\n",
      "  28  0.0423  Ikke sat Lkf op til at skille og køre M 9662 til Kh\n",
      "  29  0.0017  Aflyst 9399 og 9394 Kh-Hgl og Hgl - KH ( UF tog ) Manglende behov\n",
      "  30  0.4674  Der mangler 2 ME til mandag.\n",
      "  31  0.0597  Disponering Dsb: manglende materiel og personale i Næ\n",
      "  32  0.0192  Mangel på driftsklart materiel, der nedformeres på nordvest.\n",
      "  33  0.0391  Materielfejl MR\n",
      "  34  0.0333  Intet personale. Tømmes og køres i Blv.\n",
      "  35  0.0154  Prøvetog for IC3-vk : den bliver ikke klar til prøvekørselen\n",
      "  37  0.0183  MQ 4129 kom ikke med fra Os\n",
      "  38  0.0765  Kører med MF+ER (måske ikke det smarteste, når vi skal til Esbjerg og Flensburg..\n",
      "  39  0.0224  Materielfejl Fejl på PIS anlæg\n",
      "  40  0.0343  Disponering MF:\n",
      "  41  0.0038  Får tilsyneladende umotiveret motorstop Vi bytter den ved første lejlighed\n",
      "  42  0.0434  Mangel på Erk.\n",
      "  43  0.0001  Opformeres med 1 aflåst MF som vg 31-32 bagest fra Ar. Skal med til Cph.\n",
      "  44  0.0085  Disponering DSB : placering af ET 4317 til Vk i M\n",
      "  45  0.0104  Det er en MR der kører i et IC4 løb. Vi bytter tilbage til en IC4 i AR inden afg af 3350.\n",
      "  46  0.0627  Ingen sat op til at køre tog 6320\n",
      "  47  0.0467  Defekt dødmandsskammel\n",
      "  48  0.0014  Disponering DSB. Togmaskine til UF-bænken hos Nær i Htå.\n",
      "  49  0.0188  Vender på Kk pga pladsmangel på Hgl\n",
      "  50  0.1088  Forsinket fra Sverige. Vi vender 2052 til 2051 på KH og køre rettidigt op af kysten\n",
      "  51  0.0276  Disponering materiel lillesyd.\n",
      "  52  0.0299  Nedbrudt arbejdskøretøj i Hn, trafikken afvikles ad venstre spor Mu - Ha\n",
      "  53  0.0015  På vej mod Ab, Tgf melder om ingen virksomme toiletter og toget skal helt til Fh og vende til L 50.\n",
      "  54  0.0245  Manglende materiel: MG\n",
      "  55  0.1076  Disponering DSB : mgl 3 ET sæt til morgen trafikken i HG\n",
      "  57  0.0229  Periodisk mellemkredsfejl.\n",
      "  58  0.0997  Materielmangel. Ingen ICED til dette løb, grundet aflysning af tog 35 fra Tyskland. For ikke at have\n",
      "  59  0.0091  Fokustog\n",
      "  60  0.0527  Forsinket med 12 min. af flere årsager\n",
      "  61  0.0213  Nedformeret fra Helgoland pga. manglende togsæt\n",
      "  62  0.2093  Banedanmark kan ikke få kontrol på skifte til spor 3 (perronspor) i Hedensted, der køres igennem spo\n",
      "  63  0.0066  Materielmgl. Abs. Blv.\n",
      "  64  0.0374  Afgår fra Es med to togsæt.. Der skal derfor ikke opformeres i Md..\n",
      "  65  0.0848  Vi mangler MG:\n",
      "  66  0.0639  sporskifte fejl  SQ\n",
      "  68  0.0029  Kun 1000 L dieseloile på tanken.\n",
      "  69  0.0027  Materiel er meget kold i passagerafdelingen\n",
      "  71  0.0103  Skal placeres på Kk til 4109 d. 14/11 (mangler pt)\n",
      "  72  0.0620  Materielmangel MG : mgl en MG til 4670 i OD\n",
      "  73  0.0074  Materiel, pga. manglende driftsklare tyskersæt køres i dag med MF 5015\n",
      "  74  0.0357  Materiel:\n",
      "  75  0.0161  Toget er brækket ned i KAC. LKF får noget nyt.\n",
      "  76  0.0021  Omvendt kobling Kd\n",
      "  77  0.0443  Materiel   - Htoilet er overbrækket og der mangler en liste til normtoilet\n",
      "  78  0.0413  Ved at løbe tør meldes det i Ad\n",
      "  79  0.1733  Kan ikke få luft på, så vi skal bruge et andet togsæt\n",
      "  80  0.0366  Omdisponering i Fh, for at spare på afkobling og kobling i Ab.\n",
      "  81  0.0254  Materiel fejl, forbruger kølevand, fejl meldt første gang i formiddags og mat kører endnu, men nu me\n",
      "  82  0.0794  K -3 u Øs.. Udrangeret pga fejl på ovk 230...\n",
      "  83  0.0052  Fa. Defekt overgang på ER-togsæt.\n",
      "  84  0.0052  Starter dagen med 50% brændolie.\n",
      "  85  0.0453  Der var ingen lkf til at afkoble, så sættet tages med til Kastrup\n",
      "  86  0.0018  Skal på risten utæt cykelslange\n",
      "  87  0.0851  Kommer kun til STR. Arriva har en person påkørsel så vi kan ikke komme til Ti.\n",
      "  88  0.0004  Materielfejl MG, defekt dørstyring. Vi havde aftalt med risten i Fa at 5666 skulle køre 3602, men de\n",
      "  89  0.0128  Ausfahl. Pass skal gå ombord\n",
      "  90  0.0661  Materielfejl\n",
      "  91  0.0280  MR disponering\n",
      "  92  0.0655  Mgl. ET. Hgl\n",
      "  93  0.0107  Deles ved perron Kk\n",
      "  94  0.0076  Materielfejl MF  : def samtaleanlæg på alle 3 sæt\n",
      "  95  0.0151  Disponering DSB. Man ønsker et ekstra sæt med i 91672 pga. mange fodbold fans fra Brøndby\n",
      "  96  0.0101  Delaflyses Østerport-Helgoland\n",
      "  98  0.0388  Mgl lkf pga. tidligere nærved påkørsel\n",
      "  99  0.0081  Disponering DSb: skal til rep Ar\n",
      " 100  0.0729  Materielfejl: har def ATC\n",
      " 101  0.0550  Der er ikke sat Lkf ud til klargøring, så der omdisponeres.\n",
      " 102  0.0056  Materiel fejl, koldt førerum, vi aflyser rørløb\n",
      " 104  0.0087  Forsinket fra Sverige. Pga. personale kom sent til Malmø. Paskontrol i Hyllie.\n",
      " 105  0.0017  Ingen virksomme toiletter skal tømmes op fra KAC kan ikke hjælpe\n",
      " 106  0.0234  materieldisponering\n",
      " 107  0.0035  Materieldisponering, ingen behov\n",
      " 108  0.0773  Disponering af manglende togsæt\n",
      " 109  0.0357  Materiel\n",
      " 110  0.0234  Materieldisponering\n",
      " 111  0.0009  Materielfejl, ER 2127 har sort skærm, omvendt tilkobling i Odense.\n",
      " 112  0.0052  Meterielfejl defekt førerstol\n",
      " 113  0.0122  Mgl behov\n",
      " 114  0.0285  Manglende materiel NF\n",
      " 115  0.0265  Skal til eftersyn\n",
      " 116  0.0031  Materieldisponering: Manglende behov\n",
      " 117  0.0822  Disponering af togsæt\n",
      " 118  0.0008  Materieldisponeringer aflyste materieltog grundet manglende behov\n",
      " 120  0.1186  Mgl lkf i nat:\n",
      " 121  0.0243  Der er ikke nogen Tgf til at køre fra Kk til Kh. Den bliver derfor kørt tom.\n",
      " 122  0.0189  Kan ikke komme på pladsen på Kk pga. defekt SMUTO anlæg.\n",
      " 123  0.0320  ID: Forsinket fra Sverige\n",
      " 124  0.0661  materielfejl\n",
      " 125  0.0661  Materielfejl\n",
      " 126  0.0318  Materielfejl: kraftige rystelser ved traktion.\n",
      " 127  0.0203  Uvirksom dødmand. Der er to mand på fra Nf - og ny mand der stiger på i Ro og ind til Kh.\n",
      " 128  0.0315  forsinket på grund af 1930\n",
      " 129  0.0800  Holder i Nf med problemer, Lki sat på sagen.\n",
      " 130  0.0251  Forsinkede fra Sverige\n",
      " 131  0.1556  Limfjordsbroen kan ikke låse, så pt kan vi ikke køre over, der lægges låseboldte på\n",
      " 134  0.2690  Nedformeringer fra Sverige.\n",
      " 135  0.0208  -17 grundet forsinket Lkf i RØ 2214\n",
      " 136  0.0231  Disponering Bdk: Sættet fra risten var kørt op i spor 2 . men sættene som kom nord fra ankom i spor \n",
      " 137  0.0936  Kobler på 2 ET togsæt i Nivå spor 2\n",
      " 138  0.0661  Materielmangel pga 5904 nedbrud\n",
      " 139  0.0570  Materielmangel:\n",
      " 140  0.0234  Materieldisponering\n",
      " 141  0.0338  Sygmelding hos Lkf\n",
      " 142  0.0062  Får et ex sæt med fra Cph-Kh. Kgc henter det ved ank.\n",
      " 143  0.0326  Materielfejl ET : Holdte op KN med røgfejl  intet hørt  SE DRAP: 1879003\n",
      " 144  0.0722  K -18 u Oj.. Signalfejl\n",
      " 145  0.0395  Disponering DSB Øresund\n",
      " 146  0.1025  Holder på KH. kan ikke skille.\n",
      " 147  0.0065  Ændring Herning :\n",
      " 148  0.0280  Mangler tgf på Kh\n",
      " 149  0.0898  Materielfejl fejl på ATC\n",
      " 150  0.0357  Materiel\n",
      " 151  0.0039  82247 kørt ind I 7 foran 157 I spor 6, kostede 6 min, blev dog yderligere forsinket, grundet teknisk\n",
      " 152  0.0189  sæt til afdrejning\n",
      " 153  0.0295  Manglende MR I Næ\n",
      " 154  0.0164  Materielmgl. MQ. FA\n",
      " 155  0.0432  Disponering: Han er meget forsinket og vi indsætter en 80041 fra Ar.\n",
      " 156  0.0344  K-40 Ro. For at ikke at vælte den skæve, så indsættes rettidig i Fa.\n",
      " 157  0.0425  Mat til 2233 holder på Hgl\n",
      " 158  0.4975  DB: fjernstyringsfejl i Pinneberg\n",
      " 159  0.0107  kører nedformeret 2 - 1 sæt\n",
      " 161  0.0755  Materielfejl MG : def PP3 og PP4\n",
      " 162  0.0357  Materiel\n",
      " 163  0.1059  toget er -24, der disponeres som følge\n",
      " 164  0.0288  Sygemelding\n",
      " 165  0.0031  Kører kun med 1 generator, forsøgt resat uden held.\n",
      " 166  0.0011  kører uden vg 81/82  på grund af manglende sæt\n",
      " 167  0.1572  Bliver kørt med en ER og en MF i morgen den 23-03.\n",
      " 168  0.1048  Materielfejl : Holder stille lige før FA\n",
      " 169  0.0149  MG til Værksted (TA 19240)\n",
      " 170  0.3546  Forsinkelser fra Ro og ind mod Kh\n",
      " 171  0.1981  Vender i Ro og Næ\n",
      " 172  0.0463  Manglende MG\n",
      " 173  0.0450  Manglende materiel: IC 4 Ar og Ab\n",
      " 175  0.0255  sæt til eftersyn\n",
      " 177  0.0480  Disponering DSB:\n",
      " 178  0.0419  har en luftutæthed på Stv\n",
      " 179  0.0059  Ingen klargøring udsat. Kan blive forsinket fra Ar.\n",
      " 180  0.0312  Disponering DSB, værksted kan ikke levere, så vi må prøve at disponere os ud af det.\n",
      " 181  0.0715  Havde problemer ved afg. Kører op til afg i Kac nu.\n",
      " 182  0.0981  LKi melder der var røgfejl på toget.\n",
      " 183  0.0049  Materiel: manglende behov\n",
      " 184  0.0234  materieldisponering\n",
      " 185  0.0164  Forlænges til Hgl for rep\n",
      " 187  0.0553  Disponering DSB: ICED-5511 lukket inde i NF, og mangler diesel.\n",
      " 188  0.0294  Der kommer ikke nogen sæt ind fra Hg til dette tog. Vi tager det der kommer i 4420 og bruger til 411\n",
      " 189  0.0177  Morgenens fokustog. Følg op på materiel og personale. Udover de alm. fokustog i august, er dagens sk\n",
      " 190  0.0184  Materielfejl. 1xMG. Defekt frontvisker. Det står ned i stænger. Fejlsøger på en sikring i Tl.\n",
      " 191  0.0783  Materielfejl: problemer med at starte op: lki på sagen\n",
      " 192  0.1268  Har problemer i spor 6 kan ikke køre, LKI på sagen\n",
      " 193  0.0087  Generatorfejl, skal pilles ud på Kh\n",
      " 194  0.0127  må ikke koble\n",
      " 195  0.2481  Signalfejl Kh-Kk\n",
      " 196  0.0142  Materielfejl. Dårligt kørende. Svenskerne vil ikke have den retur.\n",
      " 197  0.0268  Opformeres ikke i Nf pga manglende BR 605\n",
      " 198  0.0882  Materiel.          Fejl på toget ved SA\n",
      " 199  0.0009  Materielfejl MF : fyldte toiletter , hvoraf det ene skal tømmes opfra\n"
     ]
    }
   ],
   "source": [
    "# jeg prøver at printe linjenummer, prediction og tekststreng, som er FORKERTE (små)\n",
    "\n",
    "print('Nogle linjer som er FALSKE i train data:')\n",
    "for i in range(1,200):\n",
    "    if labels[i]==0:\n",
    "        PrtStr = ('%4.0f' % i) + '  ' + ('%1.4f' % predictions[i]) + '  ' + texts[i][:100].replace('\\n', ' ').replace('\\r', '')\n",
    "        print(PrtStr) "
   ]
  },
  {
   "cell_type": "code",
   "execution_count": 20,
   "metadata": {},
   "outputs": [
    {
     "name": "stdout",
     "output_type": "stream",
     "text": [
      " Gennemsnit for ttrain stor og lille\n",
      "0.28754225\n",
      "0.04541165\n"
     ]
    }
   ],
   "source": [
    "# finder gennemsnittet for dem som er rigtige og forkerte\n",
    "\n",
    "print(' Gennemsnit for ttrain stor og lille')\n",
    "print(np.average([x for i, x in enumerate(predictions) if labels[i]]))\n",
    "print(np.average([x for i, x in enumerate(predictions) if not labels[i]]))"
   ]
  },
  {
   "cell_type": "code",
   "execution_count": 21,
   "metadata": {},
   "outputs": [
    {
     "data": {
      "image/png": "[encoded data removed]",
      "text/plain": [
       "<matplotlib.figure.Figure at 0x2669238abe0>"
      ]
     },
     "metadata": {},
     "output_type": "display_data"
    }
   ],
   "source": [
    "# jeg prøver lige at plotte \"predictions i et histogram\n",
    "\n",
    "# hent data for store og små i to arrays, lav til et np array, så plotteren kan forstå data\n",
    "PlotDataSand = [x for i, x in enumerate(predictions) if labels_train[i]]\n",
    "PlotDataSand = np.array(PlotDataSand)\n",
    "PlotDataFalsk = [x for i, x in enumerate(predictions) if not labels_train[i]]\n",
    "PlotDataFalsk = np.array(PlotDataFalsk)\n",
    "\n",
    "plt.clf()  # clear figure\n",
    "plt.hist(PlotDataSand, bins=50, alpha=0.6, label='store train')  # 50 bins, halv hennemsigtig\n",
    "plt.hist(PlotDataFalsk, bins=50, alpha=0.6, label='små train')\n",
    "plt.legend(loc='upper right')\n",
    "plt.ylim([0, 1000])\n",
    "\n",
    "plt.show()"
   ]
  },
  {
   "cell_type": "code",
   "execution_count": null,
   "metadata": {},
   "outputs": [],
   "source": [
    "# vi rafler data rundt tilfældigt (vi laver et tilfældigt index)\n",
    "indices = np.arange(texts.shape[0])\n",
    "np.random.shuffle(indices)\n",
    "texts   = texts[indices]\n",
    "labels = labels[indices]"
   ]
  }
 ],
 "metadata": {
  "kernelspec": {
   "display_name": "Python 3",
   "language": "python",
   "name": "python3"
  },
  "language_info": {
   "codemirror_mode": {
    "name": "ipython",
    "version": 3
   },
   "file_extension": ".py",
   "mimetype": "text/x-python",
   "name": "python",
   "nbconvert_exporter": "python",
   "pygments_lexer": "ipython3",
   "version": "3.6.4"
  }
 },
 "nbformat": 4,
 "nbformat_minor": 2
}
