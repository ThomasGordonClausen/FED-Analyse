{
 "cells": [
  {
   "cell_type": "markdown",
   "metadata": {},
   "source": [
    "### Vi prøver igen ...\n",
    "\n",
    "- Alle data i en fil, vi korter i koden\n",
    "- vi prøver med texts_to_matrix\n",
    "- Jeg kan selv vælge hvad der er stort (kan prøve andet end 10), måske kan den lettere finde f.eks. 5?\n",
    "\n",
    "### Konklusion\n",
    "- Det er lykkedes at få det til at virke med een datafil, som indeholder både train og test\n",
    "- Det er lykkedes at lave en opdeling på et vilkåligt tal i kode for stor og lille\n",
    "- Data - som de er nu - har ikke ret megen struktur, det var også det jeg egentligt gættede på fra start. De rigtigt store kan modellen godt genkende, men rigtigt mange smutter bare igennem"
   ]
  },
  {
   "cell_type": "code",
   "execution_count": 1,
   "metadata": {},
   "outputs": [],
   "source": [
    "# vi sætter stien til data\n",
    "import os\n",
    "import pandas as pd\n",
    "import numpy as np\n",
    "os.chdir('/Users/ThomasGordon/Documents/PythonScripts/FED')\n"
   ]
  },
  {
   "cell_type": "code",
   "execution_count": 2,
   "metadata": {},
   "outputs": [],
   "source": [
    "# Excel-filen med tekster åbnes og indlæses\n",
    "xl = pd.ExcelFile('FEDAll.xlsx')\n",
    "df = xl.parse('FEDlinjer')       # siden i arket\n",
    "\n",
    "# læs overskrifter i FED\n",
    "texts  = df.loc[:,'FEDtext']\n",
    "texts  = texts.values\n",
    "\n",
    "# læs antal linjer og omsæt til \"stor hændelse\" eller \"lille hændelse\"\n",
    "StorEr = 10\n",
    "NumLines = df.loc[:,'FEDlinjer']\n",
    "NumLines = NumLines.values\n",
    "labels = np.asarray([1*(NumLines[i]>=StorEr) for i in range(len(NumLines))])\n",
    "\n",
    "# vi rafler data rundt tilfældigt (vi laver et tilfældigt index)\n",
    "indices = np.arange(texts.shape[0])\n",
    "np.random.shuffle(indices)\n",
    "texts   = texts[indices]\n",
    "labels = labels[indices]\n",
    "NumLines = NumLines[indices]\n",
    "\n",
    "# opdeling i training data og test data\n",
    "i = 90000  # antal linjer afsat til træning, resten er test\n",
    "texts_train = texts[:i]\n",
    "texts_test  = texts[i:] \n",
    "labels_train = labels[:i]\n",
    "labels_test  = labels[i:]\n",
    "NumLines_train = NumLines[:i]\n",
    "NumLines_test  = NumLines[i:]"
   ]
  },
  {
   "cell_type": "code",
   "execution_count": 3,
   "metadata": {},
   "outputs": [
    {
     "name": "stderr",
     "output_type": "stream",
     "text": [
      "C:\\Users\\ThomasGordon\\Anaconda3\\lib\\site-packages\\h5py\\__init__.py:36: FutureWarning: Conversion of the second argument of issubdtype from `float` to `np.floating` is deprecated. In future, it will be treated as `np.float64 == np.dtype(float).type`.\n",
      "  from ._conv import register_converters as _register_converters\n",
      "Using TensorFlow backend.\n"
     ]
    }
   ],
   "source": [
    "# laver tekst om til vektor, henter text processing modul\n",
    "\n",
    "from keras.preprocessing.text import Tokenizer\n",
    "from keras.preprocessing.sequence import pad_sequences\n",
    "\n",
    "max_words = 10000  # Vi ser kun på de 10.000 mest almindelige ord\n",
    "\n",
    "# vi laver ordene i FED om til tilsvarende tal (som nedenfor laves til en \"one-hot\")\n",
    "tokenizer = Tokenizer(num_words=max_words)\n",
    "tokenizer.fit_on_texts(texts)"
   ]
  },
  {
   "cell_type": "code",
   "execution_count": 4,
   "metadata": {},
   "outputs": [
    {
     "name": "stdout",
     "output_type": "stream",
     "text": [
      "(90000, 10000)\n",
      "(10867, 10000)\n",
      "(90000,)\n",
      "(10867,)\n"
     ]
    }
   ],
   "source": [
    "# sætninger laves om til en \"one hot\" data vektor\n",
    "# tester ...\n",
    "data_train = tokenizer.texts_to_matrix(texts_train, mode='binary')\n",
    "data_test  = tokenizer.texts_to_matrix(texts_test,  mode='binary')\n",
    "\n",
    "# labels laves til vektor\n",
    "labels_train = np.asarray(labels_train).astype('float32')\n",
    "labels_test = np.asarray(labels_test).astype('float32')\n",
    "\n",
    "# print størrelsen på train og test data\n",
    "print(data_train.shape)\n",
    "print(data_test.shape)\n",
    "print(labels_train.shape)\n",
    "print(labels_test.shape)"
   ]
  },
  {
   "cell_type": "code",
   "execution_count": 5,
   "metadata": {},
   "outputs": [
    {
     "name": "stdout",
     "output_type": "stream",
     "text": [
      "_________________________________________________________________\n",
      "Layer (type)                 Output Shape              Param #   \n",
      "=================================================================\n",
      "dense_1 (Dense)              (None, 16)                160016    \n",
      "_________________________________________________________________\n",
      "dense_2 (Dense)              (None, 16)                272       \n",
      "_________________________________________________________________\n",
      "dropout_1 (Dropout)          (None, 16)                0         \n",
      "_________________________________________________________________\n",
      "dense_3 (Dense)              (None, 1)                 17        \n",
      "=================================================================\n",
      "Total params: 160,305\n",
      "Trainable params: 160,305\n",
      "Non-trainable params: 0\n",
      "_________________________________________________________________\n"
     ]
    }
   ],
   "source": [
    "from keras import models\n",
    "from keras import layers\n",
    "\n",
    "model = models.Sequential()\n",
    "model.add(layers.Dense(16, activation='relu', input_shape=(10000,)))\n",
    "model.add(layers.Dense(16, activation='relu'))\n",
    "model.add(layers.Dropout(0.5))\n",
    "model.add(layers.Dense(1, activation='sigmoid'))\n",
    "\n",
    "model.compile(optimizer='rmsprop',\n",
    "              loss='binary_crossentropy',\n",
    "              metrics=['accuracy'])\n",
    "\n",
    "model.summary()"
   ]
  },
  {
   "cell_type": "code",
   "execution_count": 16,
   "metadata": {},
   "outputs": [
    {
     "name": "stdout",
     "output_type": "stream",
     "text": [
      "Train on 81000 samples, validate on 9000 samples\n",
      "Epoch 1/20\n",
      "81000/81000 [==============================] - 17s 211us/step - loss: 0.1190 - acc: 0.9687 - val_loss: 0.1531 - val_acc: 0.9586\n",
      "Epoch 2/20\n",
      "81000/81000 [==============================] - 16s 202us/step - loss: 0.1170 - acc: 0.9689 - val_loss: 0.1538 - val_acc: 0.9584\n",
      "Epoch 3/20\n",
      "81000/81000 [==============================] - 15s 189us/step - loss: 0.1151 - acc: 0.9695 - val_loss: 0.1524 - val_acc: 0.9582\n",
      "Epoch 4/20\n",
      "81000/81000 [==============================] - 15s 191us/step - loss: 0.1120 - acc: 0.9700 - val_loss: 0.1529 - val_acc: 0.9580\n",
      "Epoch 5/20\n",
      "81000/81000 [==============================] - 16s 196us/step - loss: 0.1107 - acc: 0.9706 - val_loss: 0.1517 - val_acc: 0.9581\n",
      "Epoch 6/20\n",
      "81000/81000 [==============================] - 16s 201us/step - loss: 0.1087 - acc: 0.9707 - val_loss: 0.1514 - val_acc: 0.9579\n",
      "Epoch 7/20\n",
      "81000/81000 [==============================] - 16s 199us/step - loss: 0.1069 - acc: 0.9711 - val_loss: 0.1538 - val_acc: 0.9572\n",
      "Epoch 8/20\n",
      "81000/81000 [==============================] - 19s 236us/step - loss: 0.1062 - acc: 0.9715 - val_loss: 0.1521 - val_acc: 0.9577\n",
      "Epoch 9/20\n",
      "81000/81000 [==============================] - 20s 241us/step - loss: 0.1039 - acc: 0.9719 - val_loss: 0.1543 - val_acc: 0.9571\n",
      "Epoch 10/20\n",
      "81000/81000 [==============================] - 20s 242us/step - loss: 0.1017 - acc: 0.9727 - val_loss: 0.1546 - val_acc: 0.9576\n",
      "Epoch 11/20\n",
      "81000/81000 [==============================] - 18s 218us/step - loss: 0.1009 - acc: 0.9730 - val_loss: 0.1547 - val_acc: 0.9571\n",
      "Epoch 12/20\n",
      "81000/81000 [==============================] - 17s 211us/step - loss: 0.0996 - acc: 0.9733 - val_loss: 0.1570 - val_acc: 0.9566\n",
      "Epoch 13/20\n",
      "81000/81000 [==============================] - 17s 214us/step - loss: 0.0981 - acc: 0.9739 - val_loss: 0.1587 - val_acc: 0.9554\n",
      "Epoch 14/20\n",
      "81000/81000 [==============================] - 17s 213us/step - loss: 0.0978 - acc: 0.9736 - val_loss: 0.1598 - val_acc: 0.9551\n",
      "Epoch 15/20\n",
      "81000/81000 [==============================] - 17s 205us/step - loss: 0.0968 - acc: 0.9740 - val_loss: 0.1599 - val_acc: 0.9559\n",
      "Epoch 16/20\n",
      "81000/81000 [==============================] - 16s 202us/step - loss: 0.0953 - acc: 0.9743 - val_loss: 0.1651 - val_acc: 0.9560\n",
      "Epoch 17/20\n",
      "81000/81000 [==============================] - 16s 195us/step - loss: 0.0942 - acc: 0.9749 - val_loss: 0.1637 - val_acc: 0.9556\n",
      "Epoch 18/20\n",
      "81000/81000 [==============================] - 16s 196us/step - loss: 0.0939 - acc: 0.9752 - val_loss: 0.1670 - val_acc: 0.9546\n",
      "Epoch 19/20\n",
      "81000/81000 [==============================] - 16s 191us/step - loss: 0.0929 - acc: 0.9752 - val_loss: 0.1653 - val_acc: 0.9556\n",
      "Epoch 20/20\n",
      "81000/81000 [==============================] - 16s 194us/step - loss: 0.0917 - acc: 0.9759 - val_loss: 0.1750 - val_acc: 0.9526\n"
     ]
    }
   ],
   "source": [
    "NumEpochs = 20\n",
    "history = model.fit(data_train, labels_train,\n",
    "                    epochs=NumEpochs,\n",
    "                    batch_size=512,\n",
    "                    validation_split=0.1)"
   ]
  },
  {
   "cell_type": "code",
   "execution_count": 17,
   "metadata": {},
   "outputs": [
    {
     "data": {
      "text/plain": [
       "dict_keys(['val_loss', 'val_acc', 'loss', 'acc'])"
      ]
     },
     "execution_count": 17,
     "metadata": {},
     "output_type": "execute_result"
    }
   ],
   "source": [
    "history_dict = history.history\n",
    "history_dict.keys()"
   ]
  },
  {
   "cell_type": "code",
   "execution_count": 18,
   "metadata": {},
   "outputs": [],
   "source": [
    "import matplotlib.pyplot as plt\n",
    "plt.show()"
   ]
  },
  {
   "cell_type": "code",
   "execution_count": 19,
   "metadata": {},
   "outputs": [
    {
     "data": {
      "image/png": "[encoded data removed]",
      "text/plain": [
       "<matplotlib.figure.Figure at 0x2d36d491048>"
      ]
     },
     "metadata": {},
     "output_type": "display_data"
    }
   ],
   "source": [
    "# plotter historikken for 'loss' og 'accuracy'\n",
    "accu = history.history['acc']\n",
    "val_acc = history.history['val_acc']\n",
    "loss = history.history['loss']\n",
    "val_loss = history.history['val_loss']\n",
    "epochs = range(1, NumEpochs+1)\n",
    "\n",
    "plt.plot(epochs, loss, 'bo', label='Training loss')       # \"bo\" is for \"blue dot\"\n",
    "plt.plot(epochs, val_loss, 'b', label='Validation loss')  # b is for \"solid blue line\"\n",
    "plt.title('Training and validation loss')\n",
    "plt.xlabel('Epochs')\n",
    "plt.ylabel('Loss')\n",
    "plt.legend()\n",
    "\n",
    "plt.show()"
   ]
  },
  {
   "cell_type": "code",
   "execution_count": 20,
   "metadata": {},
   "outputs": [
    {
     "data": {
      "image/png": "[encoded data removed]",
      "text/plain": [
       "<matplotlib.figure.Figure at 0x2d558094780>"
      ]
     },
     "metadata": {},
     "output_type": "display_data"
    }
   ],
   "source": [
    "plt.clf()   # clear figure\n",
    "acc_values = history_dict['acc']\n",
    "val_acc_values = history_dict['val_acc']\n",
    "\n",
    "plt.plot(epochs, acc_values, 'bo', label='Training acc')\n",
    "plt.plot(epochs, val_acc_values, 'b', label='Validation acc')\n",
    "plt.title('Training and validation accuracy')\n",
    "plt.xlabel('Epochs')\n",
    "plt.ylabel('Loss')\n",
    "plt.legend()\n",
    "\n",
    "plt.show()"
   ]
  },
  {
   "cell_type": "markdown",
   "metadata": {},
   "source": [
    "# Validering af modellen på test data\n",
    "Her indlæser vi så test data, helt nye data til test"
   ]
  },
  {
   "cell_type": "code",
   "execution_count": 21,
   "metadata": {},
   "outputs": [],
   "source": [
    "# vi prøver modellen på test-data\n",
    "predictions = model.predict(data_test)"
   ]
  },
  {
   "cell_type": "code",
   "execution_count": 22,
   "metadata": {},
   "outputs": [
    {
     "name": "stdout",
     "output_type": "stream",
     "text": [
      "Antal store i datasættet:     380.0\n",
      "antal estimeret af modellen:  51\n",
      "Modellens præcision:          13.0 %\n"
     ]
    }
   ],
   "source": [
    "# finder ud af hvor stor en del store, som er fundet\n",
    "print('Antal store i datasættet:    ', sum(labels_test))\n",
    "NumEstimated = 0\n",
    "for i in range(1,6000):\n",
    "    if predictions[i]>0.4 and labels_test[i]:\n",
    "        NumEstimated += 1\n",
    "print('antal estimeret af modellen: ', NumEstimated)\n",
    "print('Modellens præcision:         ', round(NumEstimated/sum(labels_test)*100), '%')"
   ]
  },
  {
   "cell_type": "code",
   "execution_count": 23,
   "metadata": {},
   "outputs": [
    {
     "name": "stdout",
     "output_type": "stream",
     "text": [
      " Gennemsnit for test stor og lille\n",
      "0.2348994\n",
      "0.03269141\n"
     ]
    }
   ],
   "source": [
    "# Gennemsnittet for rigtig og forkert\n",
    "\n",
    "print(' Gennemsnit for test stor og lille')\n",
    "print(np.average([x for i, x in enumerate(predictions) if labels_test[i]]))\n",
    "print(np.average([x for i, x in enumerate(predictions) if not labels_test[i]]))"
   ]
  },
  {
   "cell_type": "code",
   "execution_count": 24,
   "metadata": {},
   "outputs": [
    {
     "name": "stdout",
     "output_type": "stream",
     "text": [
      "Jeg printer nogle liner som er sande i test data:\n",
      "----------------------------------------\n",
      "Lines Predict Text\n",
      "   13  0.6233  Alle 40/41xx tog aflyses idag d 03/01-2011.\n",
      "   18  0.0658  Fejl i spor. Bump i hovedsporet. 1. hv.sp. lukkes ned Kh-Kk.\n",
      "   15  0.0175  materieldisponering manglende materiel  og nedformeringer fra sverige\n",
      "   10  0.0303  Lki melder at togsæt kun kører på 1 anlæg, som er begyndt at melde om at det bliver for varmt, vi st\n",
      "   10  0.0100  FOKUS på IC / EC, flygtninge.\n",
      "   33  0.8575  Skinnebruddet Lj - Ro fortsætter. Prognosen siger til kl. 18 nu. Der er fundet et svejsehold.\n",
      "   17  0.7856  Signalfejl: Alle blok afsnit mellem Lk og Es er gået ned og der bliver kørt på sigt.\n",
      "   13  0.3832  MANGLENDE FJERNSTYRING Hr  del 2  Der kan ikke køre tog Hr - Bb - Hr  Der indsættes en stamm\n",
      "   16  0.0005  Materielfejl MQ : halv motor kraft, utæt for kølevand\n",
      "   17  0.0084  delaflyst\n",
      "   16  0.2229  Materielmangler ME/DD og ICED, to af hver, nedenstående aflysninger er rettet i alle systemer, det e\n",
      "   19  0.0616  Forventes 15 min forsinket fra Sverige. Pga. personer i sporet ved Lund\n",
      "   12  0.0124  Nedformeret fra Sverige\n",
      "   15  0.0236  Der er en fastlægning på Kk, som ikke kan nå at gå i orden før 7, hvor det igen er muligt at få fat \n",
      "   14  0.0341  Har tabt luften i Gl, LKI er på sagen.\n",
      "   11  0.0072  Materieldisponering i Helsingør\n",
      "   14  0.3158  Vi kører 77xx\n",
      "   10  0.0154  Mgl. materiel\n",
      "   19  0.9923  Banedanmark har fjernstyringsproblemer syd for Næstved\n",
      "   17  0.8471  Sikring er i Gl skulle bruge 10 min er stadig ikke klar så det slår til trafikken mod Kh der er inge\n",
      "   17  0.0052  Hærværk : Fik smadret rude da det passerede G 9234\n",
      "   13  0.0168  KK ikke leveret ???\n",
      "   58  0.9599  Sporskiftefejl. GL. Man mistet kontrollen på sporskiftet ved Gl\n",
      "   22  0.0675  Hd og Gt er fuldstændig stået af\n",
      "   30  0.2575  BDK skal reppe sporet mellem GL og HTÅ.\n",
      "   13  0.0475  Mateirelfejl.1524 holder nedbrudt I røret\n",
      "   11  0.0137  Mgl plads på Hgl\n",
      "   13  0.0280  Materielfejl, defekt magnetbremse, nedbrudt i Od\n",
      "   37  0.0209  Vekselretterfejl  efter Ro\n",
      "   45  0.9747  Personpåkørsel i HL\n",
      "   11  0.0385  Materielfejl på privatbanens materiel på vej ud af Tø. Holder med fast bremse.\n"
     ]
    }
   ],
   "source": [
    "# jeg prøver at printe linjenummer, prediction og tekststreng for dem som er store = \"rigtige\"\n",
    "\n",
    "print('Jeg printer nogle liner som er sande i test data, vi ser hvordan de predicter:')\n",
    "print('-'*40)\n",
    "print('Lines Predict Text')\n",
    "for i in range(1,900):\n",
    "    if labels_test[i]==1:\n",
    "        PrtStr = ('%5.0f' % NumLines_test[i]) + '  ' + ('%1.4f' % predictions[i]) + '  ' + texts_test[i][:100].replace('\\n', ' ').replace('\\r', '')\n",
    "        print(PrtStr) "
   ]
  },
  {
   "cell_type": "code",
   "execution_count": 15,
   "metadata": {},
   "outputs": [
    {
     "data": {
      "image/png": "[encoded data removed]",
      "text/plain": [
       "<matplotlib.figure.Figure at 0x2d36d47d0b8>"
      ]
     },
     "metadata": {},
     "output_type": "display_data"
    }
   ],
   "source": [
    "# jeg prøver lige at plotte \"predictions i et histogram\n",
    "\n",
    "# hent data for store og små i to arrays, lav til et np array, så plotteren kan forstå data\n",
    "PlotDataSand = [x for i, x in enumerate(predictions) if labels_test[i]]\n",
    "PlotDataSand = np.array(PlotDataSand)\n",
    "PlotDataFalsk = [x for i, x in enumerate(predictions) if not labels_test[i]]\n",
    "PlotDataFalsk = np.array(PlotDataFalsk)\n",
    "\n",
    "plt.clf()  # clear figure\n",
    "plt.hist(PlotDataSand, bins=50, alpha=0.6, label='store')  # 50 bins, halv hennemsigtig\n",
    "plt.hist(PlotDataFalsk, bins=50, alpha=0.6, label='små')\n",
    "plt.legend(loc='upper right')\n",
    "plt.ylim([0, 200])\n",
    "\n",
    "plt.show()"
   ]
  },
  {
   "cell_type": "code",
   "execution_count": 32,
   "metadata": {},
   "outputs": [
    {
     "name": "stdout",
     "output_type": "stream",
     "text": [
      "SANDE i test-sættet, som har SMÅ predictions (men burde være store!):\n",
      "----------------------------------------\n",
      "Lines Predict Text\n",
      "   15  0.0175  materieldisponering manglende materiel  og nedformeringer fra sverige\n",
      "   10  0.0303  Lki melder at togsæt kun kører på 1 anlæg, som er begyndt at melde om at det bliver for varmt, vi st\n",
      "   10  0.0100  FOKUS på IC / EC, flygtninge.\n",
      "   16  0.0005  Materielfejl MQ : halv motor kraft, utæt for kølevand\n",
      "   17  0.0084  delaflyst\n",
      "   12  0.0124  Nedformeret fra Sverige\n",
      "   15  0.0236  Der er en fastlægning på Kk, som ikke kan nå at gå i orden før 7, hvor det igen er muligt at få fat \n",
      "   14  0.0341  Har tabt luften i Gl, LKI er på sagen.\n",
      "   11  0.0072  Materieldisponering i Helsingør\n",
      "   10  0.0154  Mgl. materiel\n",
      "   17  0.0052  Hærværk : Fik smadret rude da det passerede G 9234\n",
      "   13  0.0168  KK ikke leveret ???\n",
      "   13  0.0475  Mateirelfejl.1524 holder nedbrudt I røret\n",
      "   11  0.0137  Mgl plads på Hgl\n",
      "   13  0.0280  Materielfejl, defekt magnetbremse, nedbrudt i Od\n",
      "   37  0.0209  Vekselretterfejl  efter Ro\n",
      "   11  0.0385  Materielfejl på privatbanens materiel på vej ud af Tø. Holder med fast bremse.\n",
      "   14  0.0217  Materielmangel\n",
      "   10  0.0142  Si-signal i RO retning VY - RO skal reppes.\n",
      "   17  0.0099  Pga. forventet mgl ER: BEMÆRK 18/12\n",
      "   14  0.0442  Vejrforhold, lynnedslag i Kævlinge i Sverige forsinker hvert 3. tog mod Danmark (tiden rette fra 05:\n",
      "   10  0.0128  Disponering DSB : placering af disp ER fra KH til Kk hvor der mgl og for at få en MF til KK til 4117\n",
      "   10  0.0227  materielfejl dørfejl holder i ØRE\n",
      "   12  0.0016  IC4. Materielfejl. Defekt frontlys. Har kun nærlys i enden mod Kb.\n",
      "   21  0.0122  Der mangler materiel til at køre fuld produktion, hvorfor kreativiteten skrues lidt op\n",
      "   11  0.0311  Mgl Mq i Od\n",
      "  174  0.0106  Materielfejl. 1xMG. Kk. Holder med tekniske problemer i udkørslen (nedbrud fra 1525 tidligere, som v\n",
      "   31  0.0021  Materielfejl MF efter Ng, røgudvikling på toilet, der er helt sort, så kører retur til Ng og brandvæ\n",
      "   14  0.0002  Ingen er mødt til Nattevagt ! revk folk fra KAC, men der er behov for FF hjælp, da man ikke må køre \n",
      "   28  0.0439  Personpåkørsel nord for Fårup km 184,4  Nærmeste off vej er Handestvej\n",
      "   35  0.0367  Skinnebrud Fz\n",
      "   26  0.0051  Mgl behov for materielløb\n",
      "   10  0.0077  Materiel.    1 F nedbrudt MF 5032\n",
      "   10  0.0155  Forsinkelser fra Ng-Od\n",
      "   12  0.0070  Passagerforhold, tilkaldt ambulance i Ørestad\n",
      "   72  0.0020  S T A N D A R D P R O G N O S E    KY   F O R L Æ N G E T   T I L   KL. 15:00: RETTELSE: NU TIL ONSD\n",
      "   22  0.0298  Nedbrudt lige før VAL.  Lok fra RST KH køres ud for at hente 4149\n",
      "\n",
      "SANDE i test-sættet, som har STORE predictions (men burde være store!):\n",
      "----------------------------------------\n",
      "Lines Predict Text\n",
      "   13  0.6233  Alle 40/41xx tog aflyses idag d 03/01-2011.\n",
      "   33  0.8575  Skinnebruddet Lj - Ro fortsætter. Prognosen siger til kl. 18 nu. Der er fundet et svejsehold.\n",
      "   17  0.7856  Signalfejl: Alle blok afsnit mellem Lk og Es er gået ned og der bliver kørt på sigt.\n",
      "   19  0.9923  Banedanmark har fjernstyringsproblemer syd for Næstved\n",
      "   17  0.8471  Sikring er i Gl skulle bruge 10 min er stadig ikke klar så det slår til trafikken mod Kh der er inge\n",
      "   58  0.9599  Sporskiftefejl. GL. Man mistet kontrollen på sporskiftet ved Gl\n",
      "   45  0.9747  Personpåkørsel i HL\n",
      "   25  0.9849  Skinnebrud ved Sno i retning af Md-Fa. Endnu ingen prognose fra Bdk.\n",
      "   34  0.9487  Signalfejl i Gl og Hif, togene rangeres igennem. Der tyndes ud efter nedenstående.\n",
      "   13  0.7054  Opstart Str - Ho Pga der er signal fejl mellem Ho - Hm pga lyn nedslag lørdag, man forventer at man \n",
      "  115  0.9939  Fejl på KK er kommet igen  Skrevet kl.10:43\n",
      "   23  0.9995  Træ hænger på køreledningen, tog trafikken indstillet NI-HG-Ni . 20xx\n",
      "   10  0.9086  Signalfejl, betyder at vi lige nu holder stille mellem Lih og Fh..\n",
      "   13  0.9683  Der mangler to ER-sæt til morgenens planlagte produktion... Er der nogle som gider tage disse dagl\n",
      "\n",
      "FALSKE i test-sættet, som har STORE predictions (men burde være store!):\n",
      "----------------------------------------\n",
      "Lines Predict Text\n",
      "    4  0.8141  Materielfejl: ET 4308 må kun køre til København og der kan vi ikke tage den ud så det bliver i Helsi\n",
      "    7  0.9778  NY PROGNOSE PÅ FYN  FÆRDIG SENEST KL 20\n",
      "    1  0.6525  Kan ikke tanke\n",
      "    3  0.9716  holder med mellemkredsspændningsløs i HH. fejlretter nu...\n",
      "    1  0.7438  TRAFIKKEN VED ROSKILDE STOPPET PGA EN MULIG SELVMORDER\n",
      "    5  0.6298  for at genoprette svendborgbanen disponeres følgende\n",
      "    1  0.9262  Har 15 handicappet med, som skulle skifte tog i Od og videre med 57816 til Kø, Da sporspærringen mel\n",
      "    1  0.5734  Banedanmark disponering i forbindelse med Snohøj sporskifteproblematikken.\n",
      "    7  0.9652  Togstop  i Malmø, mellem 529/542\n",
      "    4  0.9308  Disponering DSB : Pga. Slagelse -Ringsted  DRIFTSLEDER VEST\n",
      "    2  0.8079  BDK underretning\n",
      "    3  0.9483  BAnedanmark.     signalfejl i NI\n",
      "    9  0.5834  Materielmangel, nedformeringer fra Sverige (oprettet kl. 05:26)\n",
      "    9  0.7900  Kraftig tåge på Fyn og i Sønderjylland giver lidt små forsinkelser på 5-6 min.\n",
      "    1  0.6373  Materielfejl: pga. fejl på styrevogn 7922 køres der med 2 ME\n",
      "    9  0.8554  Materielfejl ET : holder i ni og er nedbrudt, ET 4371 har ikke nogen traction\n",
      "    2  0.8150  Har ikke giveet lyd fra sig i Odense, og afgangstiden er nu overskredet.\n",
      "    5  0.9906  Gået i stå, i udkørslen fra Kh mod Kn.. Lkf gået på maskinen for fejlretning.  Efter fejlretning\n",
      "    1  0.5613  Har gæster med til Th, herefter er det bus\n",
      "    4  0.9966  Tabt kontrollen på sporskiften i øst og vest gående retning\n",
      "    3  0.9877  Væltet træ mellem Hedensted og Vejle\n",
      "    6  0.5402  Vi mangler ME+DD til morgentrafikken.\n",
      "\n"
     ]
    }
   ],
   "source": [
    "# hvilke tekster de forskellige typer består af\n",
    "print('SANDE i test-sættet, som har SMÅ predictions (men burde være store!):')\n",
    "print('-'*40)\n",
    "print('Lines Predict Text')\n",
    "for i in range(1,2000):\n",
    "    if labels_test[i]==1 and predictions[i] < 0.05:\n",
    "        PrtStr = ('%5.0f' % NumLines_test[i]) + '  ' + ('%1.4f' % predictions[i]) + '  ' + texts_test[i][:100].replace('\\n', ' ').replace('\\r', '')\n",
    "        print(PrtStr) \n",
    "print()\n",
    "        \n",
    "print('SANDE i test-sættet, som har STORE predictions (men burde være store!):')\n",
    "print('-'*40)\n",
    "print('Lines Predict Text')\n",
    "for i in range(1,2000):\n",
    "    if labels_test[i]==1 and predictions[i] > 0.5:\n",
    "        PrtStr = ('%5.0f' % NumLines_test[i]) + '  ' + ('%1.4f' % predictions[i]) + '  ' + texts_test[i][:100].replace('\\n', ' ').replace('\\r', '')\n",
    "        print(PrtStr) \n",
    "print()\n",
    "\n",
    "print('FALSKE i test-sættet, som har STORE predictions (men burde være store!):')\n",
    "print('-'*40)\n",
    "print('Lines Predict Text')\n",
    "for i in range(1,2000):\n",
    "    if labels_test[i]==0 and predictions[i] > 0.5:\n",
    "        PrtStr = ('%5.0f' % NumLines_test[i]) + '  ' + ('%1.4f' % predictions[i]) + '  ' + texts_test[i][:100].replace('\\n', ' ').replace('\\r', '')\n",
    "        print(PrtStr) \n",
    "print()"
   ]
  },
  {
   "cell_type": "markdown",
   "metadata": {},
   "source": [
    "UHA UHA, alt for mange af de sande har en værdi tæt på 0 ..."
   ]
  }
 ],
 "metadata": {
  "kernelspec": {
   "display_name": "Python 3",
   "language": "python",
   "name": "python3"
  },
  "language_info": {
   "codemirror_mode": {
    "name": "ipython",
    "version": 3
   },
   "file_extension": ".py",
   "mimetype": "text/x-python",
   "name": "python",
   "nbconvert_exporter": "python",
   "pygments_lexer": "ipython3",
   "version": "3.6.4"
  }
 },
 "nbformat": 4,
 "nbformat_minor": 2
}
