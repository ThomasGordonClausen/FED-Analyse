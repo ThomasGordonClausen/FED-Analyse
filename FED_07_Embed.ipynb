{
 "cells": [
  {
   "cell_type": "markdown",
   "metadata": {},
   "source": [
    "# Eksperimenter med FED data\n",
    "\n",
    "- **Problem:** Kan jeg med ML finde FED overskrifter, som giver 10 eller flere strategilinjer? Mine input data er FED data, hvor jeg har samlet en overskrift og det tilhørende *antal* linjer strategi hørende til overskriften. Dette er et binary problem: over eller under 10 linjer\n",
    "- **Succes er** Jeg vil se hvor mange af de store (10 eller flere strategilinjer) som modellen kan finde i test data. JEg håber på halvdelen, men er usikker, for jeg kan ikke selv se et mønster ...\n",
    "- **Evaluering** Modellen evalueres ved at jeg deler data op i train, validering og test. train og validering opdeles atomatisk af Keras\n",
    "- **Data** hentes ud af FED i en tekst-fil. Den videre behandling sker i en Access-database og i et regneark. Input gemmes til sidst i et regneark\n",
    "- **Baseline** Selv den bedste model har ikke rigtigt gjort det godt ind til nu, der er nok ikke system i data? Reelt kan den ikke skelne de to klasser, se histogrammet nederst ...\n",
    "- **Optimering vs generalisering** Modellen overfitter ret hurtigt, uden at den egentligt på noget tidspunkt bliver god ...\n",
    "- **Tuning hyper pametre** Jeg prøver med flere og færre lag, typer af lag, dropout, parametre mv, men det virker ikke meget bedre ... \n",
    "\n",
    "Nedenfor er et par eksempler på hvordan data rigtigt ser ud. I eksemplet er en kort tekst med otte strategilinjer. Og den timsvarende omsættelse til inddata til modellen.\n",
    "\n",
    "![title](FEDentry.GIF)\n",
    "![title](FEDentry2.GIF)\n",
    "\n",
    "### Konklusion\n",
    "- Endnu en version som har svært ved at fungere helt godt ..."
   ]
  },
  {
   "cell_type": "code",
   "execution_count": 1,
   "metadata": {},
   "outputs": [],
   "source": [
    "# vi sætter stien til data\n",
    "import os\n",
    "import pandas as pd\n",
    "import numpy as np\n",
    "os.chdir('/Users/ThomasGordon/Documents/PythonScripts/FED')\n"
   ]
  },
  {
   "cell_type": "code",
   "execution_count": 2,
   "metadata": {},
   "outputs": [],
   "source": [
    "# Excel-filen med tekster åbnes og indlæses\n",
    "xl = pd.ExcelFile('FEDAll.xlsx')\n",
    "df = xl.parse('FEDlinjer')       # siden i arket\n",
    "\n",
    "# læs overskrifter i FED\n",
    "texts  = df.loc[:,'FEDtext']\n",
    "texts  = texts.values\n",
    "\n",
    "# læs antal linjer og omsæt til \"stor hændelse\" eller \"lille hændelse\"\n",
    "StorEr = 10\n",
    "NumLines = df.loc[:,'FEDlinjer']\n",
    "NumLines = NumLines.values\n",
    "labels = np.asarray([1*(NumLines[i]>=StorEr) for i in range(len(NumLines))])\n",
    "\n",
    "# vi rafler data rundt tilfældigt (vi laver et tilfældigt index)\n",
    "indices = np.arange(texts.shape[0])\n",
    "np.random.shuffle(indices)\n",
    "texts   = texts[indices]\n",
    "labels = labels[indices]\n",
    "NumLines = NumLines[indices]\n",
    "\n",
    "# opdeling i training data og test data\n",
    "i = 90000  # antal linjer afsat til træning, resten er test\n",
    "texts_train = texts[:i]\n",
    "texts_test  = texts[i:] \n",
    "labels_train = labels[:i]\n",
    "labels_test  = labels[i:]\n",
    "NumLines_train = NumLines[:i]\n",
    "NumLines_test  = NumLines[i:]"
   ]
  },
  {
   "cell_type": "code",
   "execution_count": 3,
   "metadata": {},
   "outputs": [
    {
     "name": "stderr",
     "output_type": "stream",
     "text": [
      "C:\\Users\\ThomasGordon\\Anaconda3\\lib\\site-packages\\h5py\\__init__.py:36: FutureWarning: Conversion of the second argument of issubdtype from `float` to `np.floating` is deprecated. In future, it will be treated as `np.float64 == np.dtype(float).type`.\n",
      "  from ._conv import register_converters as _register_converters\n",
      "Using TensorFlow backend.\n"
     ]
    }
   ],
   "source": [
    "# laver tekst om til vektor, henter text processing modul\n",
    "\n",
    "from keras.preprocessing.text import Tokenizer\n",
    "from keras.preprocessing.sequence import pad_sequences\n",
    "\n",
    "max_words = 10000  # Vi ser kun på de 10.000 mest almindelige ord\n",
    "\n",
    "# vi laver ordene i FED om til tilsvarende tal (som nedenfor laves til en \"one-hot\")\n",
    "tokenizer = Tokenizer(num_words=max_words)\n",
    "tokenizer.fit_on_texts(texts)"
   ]
  },
  {
   "cell_type": "code",
   "execution_count": 4,
   "metadata": {},
   "outputs": [
    {
     "name": "stdout",
     "output_type": "stream",
     "text": [
      "(90000, 50)\n",
      "(10867, 50)\n",
      "(90000,)\n",
      "(10867,)\n"
     ]
    }
   ],
   "source": [
    "# Stop sætninger efter dette antal ord\n",
    "maxlen = 50\n",
    "\n",
    "# sætninger laves til tekst-vektor og der \"paddes\"\n",
    "sequences = tokenizer.texts_to_sequences(texts_train)\n",
    "data_train = pad_sequences(sequences, maxlen=maxlen)\n",
    "sequences = tokenizer.texts_to_sequences(texts_test)\n",
    "data_test = pad_sequences(sequences, maxlen=maxlen)\n",
    "\n",
    "# labels laves til vektor\n",
    "labels_train = np.asarray(labels_train).astype('float32')\n",
    "labels_test = np.asarray(labels_test).astype('float32')\n",
    "\n",
    "# print størrelsen på train og test data\n",
    "print(data_train.shape)\n",
    "print(data_test.shape)\n",
    "print(labels_train.shape)\n",
    "print(labels_test.shape)"
   ]
  },
  {
   "cell_type": "code",
   "execution_count": 5,
   "metadata": {},
   "outputs": [],
   "source": [
    "#from keras import models\n",
    "#from keras import layers\n",
    "from keras.models import Sequential\n",
    "from keras.layers import Flatten, Dense, Dropout\n",
    "from keras.layers import Embedding\n",
    "\n",
    "model = Sequential()\n",
    "model.add(Embedding(10000, 8, input_length=maxlen))\n",
    "model.add(Flatten())                               # dim = samples, (maxlen * 8)\n",
    "model.add(Dense(16, activation='relu'))\n",
    "model.add(Dropout(0.5))\n",
    "model.add(Dense(1, activation='sigmoid'))\n",
    "\n",
    "model.compile(optimizer='rmsprop',\n",
    "              loss='binary_crossentropy',\n",
    "              metrics=['accuracy'])\n",
    "\n",
    "#model.summary()"
   ]
  },
  {
   "cell_type": "code",
   "execution_count": 6,
   "metadata": {},
   "outputs": [
    {
     "name": "stdout",
     "output_type": "stream",
     "text": [
      "Train on 81000 samples, validate on 9000 samples\n",
      "Epoch 1/20\n",
      "81000/81000 [==============================] - 6s 70us/step - loss: 0.2457 - acc: 0.9560 - val_loss: 0.1413 - val_acc: 0.9651\n",
      "Epoch 2/20\n",
      "81000/81000 [==============================] - 1s 13us/step - loss: 0.1711 - acc: 0.9620 - val_loss: 0.1228 - val_acc: 0.9651\n",
      "Epoch 3/20\n",
      "81000/81000 [==============================] - 1s 13us/step - loss: 0.1524 - acc: 0.9621 - val_loss: 0.1188 - val_acc: 0.9653\n",
      "Epoch 4/20\n",
      "81000/81000 [==============================] - 1s 13us/step - loss: 0.1431 - acc: 0.9624 - val_loss: 0.1180 - val_acc: 0.9656\n",
      "Epoch 5/20\n",
      "81000/81000 [==============================] - 1s 13us/step - loss: 0.1375 - acc: 0.9627 - val_loss: 0.1181 - val_acc: 0.9653\n",
      "Epoch 6/20\n",
      "81000/81000 [==============================] - 1s 13us/step - loss: 0.1322 - acc: 0.9629 - val_loss: 0.1182 - val_acc: 0.9653\n",
      "Epoch 7/20\n",
      "81000/81000 [==============================] - 1s 13us/step - loss: 0.1283 - acc: 0.9635 - val_loss: 0.1193 - val_acc: 0.9654\n",
      "Epoch 8/20\n",
      "81000/81000 [==============================] - 1s 13us/step - loss: 0.1252 - acc: 0.9635 - val_loss: 0.1191 - val_acc: 0.9654\n",
      "Epoch 9/20\n",
      "81000/81000 [==============================] - 1s 13us/step - loss: 0.1219 - acc: 0.9639 - val_loss: 0.1197 - val_acc: 0.9657\n",
      "Epoch 10/20\n",
      "81000/81000 [==============================] - 1s 13us/step - loss: 0.1211 - acc: 0.9648 - val_loss: 0.1205 - val_acc: 0.9658\n",
      "Epoch 11/20\n",
      "81000/81000 [==============================] - 1s 13us/step - loss: 0.1181 - acc: 0.9646 - val_loss: 0.1202 - val_acc: 0.9658\n",
      "Epoch 12/20\n",
      "81000/81000 [==============================] - 1s 13us/step - loss: 0.1154 - acc: 0.9651 - val_loss: 0.1215 - val_acc: 0.9652\n",
      "Epoch 13/20\n",
      "81000/81000 [==============================] - 1s 13us/step - loss: 0.1145 - acc: 0.9657 - val_loss: 0.1261 - val_acc: 0.9642\n",
      "Epoch 14/20\n",
      "81000/81000 [==============================] - 1s 13us/step - loss: 0.1122 - acc: 0.9664 - val_loss: 0.1291 - val_acc: 0.9620\n",
      "Epoch 15/20\n",
      "81000/81000 [==============================] - 1s 13us/step - loss: 0.1092 - acc: 0.9669 - val_loss: 0.1228 - val_acc: 0.9641\n",
      "Epoch 16/20\n",
      "81000/81000 [==============================] - 1s 13us/step - loss: 0.1081 - acc: 0.9672 - val_loss: 0.1259 - val_acc: 0.9642\n",
      "Epoch 17/20\n",
      "81000/81000 [==============================] - 1s 13us/step - loss: 0.1065 - acc: 0.9678 - val_loss: 0.1272 - val_acc: 0.9623\n",
      "Epoch 18/20\n",
      "81000/81000 [==============================] - 1s 13us/step - loss: 0.1055 - acc: 0.9680 - val_loss: 0.1273 - val_acc: 0.9630\n",
      "Epoch 19/20\n",
      "81000/81000 [==============================] - 1s 13us/step - loss: 0.1030 - acc: 0.9684 - val_loss: 0.1312 - val_acc: 0.9648\n",
      "Epoch 20/20\n",
      "81000/81000 [==============================] - 1s 13us/step - loss: 0.1021 - acc: 0.9691 - val_loss: 0.1336 - val_acc: 0.9596\n"
     ]
    }
   ],
   "source": [
    "NumEpochs = 20\n",
    "history = model.fit(data_train, labels_train,\n",
    "                    epochs=NumEpochs,\n",
    "                    batch_size=512,\n",
    "                    validation_split=0.1)"
   ]
  },
  {
   "cell_type": "code",
   "execution_count": 7,
   "metadata": {},
   "outputs": [
    {
     "data": {
      "text/plain": [
       "dict_keys(['val_loss', 'val_acc', 'loss', 'acc'])"
      ]
     },
     "execution_count": 7,
     "metadata": {},
     "output_type": "execute_result"
    }
   ],
   "source": [
    "history_dict = history.history\n",
    "history_dict.keys()"
   ]
  },
  {
   "cell_type": "code",
   "execution_count": 8,
   "metadata": {},
   "outputs": [],
   "source": [
    "import matplotlib.pyplot as plt\n",
    "plt.show()"
   ]
  },
  {
   "cell_type": "code",
   "execution_count": 9,
   "metadata": {},
   "outputs": [
    {
     "data": {
      "image/png": "[encoded data removed]",
      "text/plain": [
       "<matplotlib.figure.Figure at 0x137aba5a390>"
      ]
     },
     "metadata": {},
     "output_type": "display_data"
    }
   ],
   "source": [
    "# plotter historikken for 'loss' og 'accuracy'\n",
    "accu = history.history['acc']\n",
    "val_acc = history.history['val_acc']\n",
    "loss = history.history['loss']\n",
    "val_loss = history.history['val_loss']\n",
    "epochs = range(1, NumEpochs+1)\n",
    "\n",
    "plt.plot(epochs, loss, 'bo', label='Training loss')       # \"bo\" is for \"blue dot\"\n",
    "plt.plot(epochs, val_loss, 'b', label='Validation loss')  # b is for \"solid blue line\"\n",
    "plt.title('Training and validation loss')\n",
    "plt.xlabel('Epochs')\n",
    "plt.ylabel('Loss')\n",
    "plt.legend()\n",
    "\n",
    "plt.show()"
   ]
  },
  {
   "cell_type": "code",
   "execution_count": 10,
   "metadata": {},
   "outputs": [
    {
     "data": {
      "image/png": "[encoded data removed]",
      "text/plain": [
       "<matplotlib.figure.Figure at 0x137abadee80>"
      ]
     },
     "metadata": {},
     "output_type": "display_data"
    }
   ],
   "source": [
    "plt.clf()   # clear figure\n",
    "acc_values = history_dict['acc']\n",
    "val_acc_values = history_dict['val_acc']\n",
    "\n",
    "plt.plot(epochs, acc_values, 'bo', label='Training acc')\n",
    "plt.plot(epochs, val_acc_values, 'b', label='Validation acc')\n",
    "plt.title('Training and validation accuracy')\n",
    "plt.xlabel('Epochs')\n",
    "plt.ylabel('Loss')\n",
    "plt.legend()\n",
    "\n",
    "plt.show()"
   ]
  },
  {
   "cell_type": "markdown",
   "metadata": {},
   "source": [
    "# Validering af modellen på test data\n",
    "Her indlæser vi så test data, helt nye data til test"
   ]
  },
  {
   "cell_type": "code",
   "execution_count": 11,
   "metadata": {},
   "outputs": [],
   "source": [
    "# vi prøver modellen på test-data\n",
    "predictions = model.predict(data_test)"
   ]
  },
  {
   "cell_type": "code",
   "execution_count": 12,
   "metadata": {},
   "outputs": [
    {
     "name": "stdout",
     "output_type": "stream",
     "text": [
      "Antal store i datasættet:     400.0\n",
      "antal estimeret af modellen:  68\n",
      "Modellens præcision:          17.0 %\n"
     ]
    }
   ],
   "source": [
    "# finder ud af hvor stor en del store, som er fundet\n",
    "print('Antal store i datasættet:    ', sum(labels_test))\n",
    "NumEstimated = 0\n",
    "for i in range(1,6000):\n",
    "    if predictions[i]>0.4 and labels_test[i]:\n",
    "        NumEstimated += 1\n",
    "print('antal estimeret af modellen: ', NumEstimated)\n",
    "print('Modellens præcision:         ', round(NumEstimated/sum(labels_test)*100), '%')"
   ]
  },
  {
   "cell_type": "code",
   "execution_count": 13,
   "metadata": {},
   "outputs": [
    {
     "name": "stdout",
     "output_type": "stream",
     "text": [
      " Gennemsnit for test stor og lille\n",
      "0.2786728\n",
      "0.047764864\n"
     ]
    }
   ],
   "source": [
    "# Gennemsnittet for rigtig og forkert\n",
    "\n",
    "print(' Gennemsnit for test stor og lille')\n",
    "print(np.average([x for i, x in enumerate(predictions) if labels_test[i]]))\n",
    "print(np.average([x for i, x in enumerate(predictions) if not labels_test[i]]))"
   ]
  },
  {
   "cell_type": "code",
   "execution_count": 14,
   "metadata": {},
   "outputs": [
    {
     "name": "stdout",
     "output_type": "stream",
     "text": [
      "Jeg printer nogle liner som er sande i test data, vi ser hvordan de predicter:\n",
      "----------------------------------------\n",
      "Lines Predict Text\n",
      "   10  0.0237  materielfejl\n",
      "   15  0.4042  Sprængning af højhuse i Rødovre vil stoppe trafikken mellem 12 - 12 40 ca\n",
      "   10  0.0562  materielfejl dørfejl holder i ØRE\n",
      "   17  0.3139  Materielfejl, røgudvikling fra toget, holder i spor 2 på Kh.\n",
      "   51  0.1767  OBS: Ændringer for resten af påsken, omkring vendingerne i Lk 19/4.\n",
      "   13  0.2821  Sporskiftefejl Køge.\n",
      "   12  0.1706  problemer med MG bremsen holder i VY\n",
      "   11  0.1551  fjernstyringsfejl i SU Se Drap 1959966\n",
      "   22  0.4876  Falsk besættelse  Phm Svenskerne har opgivet at lave det, da det skyldes fugt (!)\n",
      "   13  0.2377  Blokfejl nr 2022 fra Østerport mod Kh.\n",
      "   10  0.0098  Der mgl ER til 917,4109,810. Flg disponeres :\n",
      "   10  0.2466  Nedformeringer fra Sverige.\n",
      "   11  0.0030  Materielfejl MG i Sd, dørfejl, trin vil ikke gå ind. K -52 U\n",
      "   11  0.3129  DSB disponering. Vi mangler MF på Sjælland - og driftsklare MQ på Svendborgbanen. Derfor disse ændri\n",
      "   10  0.8484  Skinnebrud AB. Standardprognose 5 timer. Genopretningstid 0.\n",
      "   12  0.8671  Øvrige Bdk. Skinnebrud Ørestad, kun et spor.\n",
      "   11  0.1939  Materielmangel.. Der mangler en del DD-mat til eftermiddagstrafikken.\n",
      "   32  0.4715  skinne brud på KH\n",
      "   13  0.4647  Personer I sporet I Lernacken. Politiet arbejder I sporet\n",
      "   11  0.5097  falsk besat sporskifte i GL\n",
      "   49  0.0967  Bane Danmark: Toget er på to ER sæt. Den er blevet sendt ud i et spor uden strøm på vej op i spor 6 \n",
      "   23  0.2095  Fejl på vognkontrolanlæg I ØRE\n",
      "   10  0.4826  Signalfejl Kk : Falsk besættelse\n",
      "   10  0.3438  Bdk har mistet kontrollen med Nordvestbanen fra Ro og op til Hk.\n",
      "   12  0.1384  Der mangler MF-sæt i Ab/Lih pga vendingerne i Hj (46 / 3223)\n",
      "   74  0.9789  Strategi for Kystbanen d. 15/11: 7720xx tog Hg-Kh frem til kl. 12. Sidste aflyste tog : 1347, \n",
      "   14  0.0199  (Skrevet 13/11 kl. 19:30) Vi mangler 4-5 MF´ere til morgentrafikken.. Desuden er 4103 og resten \n",
      "   14  0.0015  Lki melder at den har smidt kølevandet i den ene ende, der køres på 1 motor\n",
      "   18  0.9271  Personpåkørsel: Har ramt en person i Pe\n",
      "   11  0.0825  STRUER - BRANDE OPDATERET  Det lysner for driften, og vi kan supplere det allerede aftalte med y\n",
      "   10  0.1732  Materiel placering hist og pist\n",
      "   31  0.0568  Vi aflyser 4419 /4430 pga. mat kommer fra 4106 som holder bag L6 i Gl\n",
      "   10  0.0427  Mgl MQ i Od og i FA\n",
      "   18  0.2083  Sporskiftefejl på Kh.\n",
      "   14  0.1658  Nedformeringer fra Malmø\n",
      "   10  0.0627  Genoptagelse af kørsel til DB lørdag:\n",
      "   30  0.9775  •\tTrafikal vurdering: Enkelsporsdrift Fa-Bk betyder forsinkelser på op til 10 min •\tPlan for indgr\n",
      "   59  0.8835  Grundet fejl sporskifte Gl, aflyses følgende myldertids tog (skrevet i FED kl. 13.17, fremskrevet ti\n"
     ]
    }
   ],
   "source": [
    "# jeg prøver at printe linjenummer, prediction og tekststreng for dem som er store = \"rigtige\"\n",
    "\n",
    "print('Jeg printer nogle liner som er sande i test data, vi ser hvordan de predicter:')\n",
    "print('-'*40)\n",
    "print('Lines Predict Text')\n",
    "for i in range(1,900):\n",
    "    if labels_test[i]==1:\n",
    "        PrtStr = ('%5.0f' % NumLines_test[i]) + '  ' + ('%1.4f' % predictions[i]) + '  ' + texts_test[i][:100].replace('\\n', ' ').replace('\\r', '')\n",
    "        print(PrtStr) "
   ]
  },
  {
   "cell_type": "code",
   "execution_count": 15,
   "metadata": {},
   "outputs": [
    {
     "data": {
      "image/png": "[encoded data removed]",
      "text/plain": [
       "<matplotlib.figure.Figure at 0x137aba4bd30>"
      ]
     },
     "metadata": {},
     "output_type": "display_data"
    }
   ],
   "source": [
    "# jeg prøver lige at plotte \"predictions i et histogram\n",
    "\n",
    "# hent data for store og små i to arrays, lav til et np array, så plotteren kan forstå data\n",
    "PlotDataSand = [x for i, x in enumerate(predictions) if labels_test[i]]\n",
    "PlotDataSand = np.array(PlotDataSand)\n",
    "PlotDataFalsk = [x for i, x in enumerate(predictions) if not labels_test[i]]\n",
    "PlotDataFalsk = np.array(PlotDataFalsk)\n",
    "\n",
    "plt.clf()  # clear figure\n",
    "plt.hist(PlotDataSand, bins=50, alpha=0.6, label='store')  # 50 bins, halv hennemsigtig\n",
    "plt.hist(PlotDataFalsk, bins=50, alpha=0.6, label='små')\n",
    "plt.legend(loc='upper right')\n",
    "plt.ylim([0, 200])\n",
    "\n",
    "plt.show()"
   ]
  },
  {
   "cell_type": "code",
   "execution_count": 16,
   "metadata": {},
   "outputs": [
    {
     "name": "stdout",
     "output_type": "stream",
     "text": [
      "SANDE i test-sættet, som har SMÅ predictions (men burde være store!):\n",
      "----------------------------------------\n",
      "Lines Predict Text\n",
      "   10  0.0237  materielfejl\n",
      "   10  0.0098  Der mgl ER til 917,4109,810. Flg disponeres :\n",
      "   11  0.0030  Materielfejl MG i Sd, dørfejl, trin vil ikke gå ind. K -52 U\n",
      "   14  0.0199  (Skrevet 13/11 kl. 19:30) Vi mangler 4-5 MF´ere til morgentrafikken.. Desuden er 4103 og resten \n",
      "   14  0.0015  Lki melder at den har smidt kølevandet i den ene ende, der køres på 1 motor\n",
      "   10  0.0427  Mgl MQ i Od og i FA\n",
      "   10  0.0458  Gået i stå lige før Hk. Li sat på sagen\n",
      "   10  0.0064  Tog 6100 (Railcare) har problemer med ATC i Rq. IC 916 fanget bagved.\n",
      "   11  0.0081  Mangel på MG / ER / Vogne. / Stv.\n",
      "   11  0.0154  Disponering DSB, placering af ET til Vk mm.\n",
      "   13  0.0238  Er minus fra Øst. K -16 Ng.\n",
      "   14  0.0001  Materielfejl ABS : def førerstol\n",
      "   18  0.0066  Vi mangler 6 ER til eftermiddagstrafiken. Vi får intet klart fra Hgl.\n",
      "   10  0.0467  Disponering DSB, grundet forsinkelse\n",
      "   13  0.0037  F -?? u Kk.. Sent klar, pga mgl personale på Kk..\n",
      "   17  0.0047  Vi mangler et par ER-sæt til eftermiddagen.\n",
      "   11  0.0145  Plan for vending af Nordvestbanen i Htå resten af dagen. Personale vendinger laves af Poul B for Lkf\n",
      "   12  0.0253  Materielfejl. Problemer med bremseprøve på Kk.\n",
      "   14  0.0001  Materiel fejl stræknings radio, DB melder toget 90 min forsinket. ( der er blevet omrang i Hmb )\n",
      "   11  0.0014  Rød motoralarm, tømmes snarest muligt og køres tom retur til Næ\n",
      "\n",
      "SANDE i test-sættet, som har STORE predictions (men burde være store!):\n",
      "----------------------------------------\n",
      "Lines Predict Text\n",
      "   10  0.8484  Skinnebrud AB. Standardprognose 5 timer. Genopretningstid 0.\n",
      "   12  0.8671  Øvrige Bdk. Skinnebrud Ørestad, kun et spor.\n",
      "   11  0.5097  falsk besat sporskifte i GL\n",
      "   74  0.9789  Strategi for Kystbanen d. 15/11: 7720xx tog Hg-Kh frem til kl. 12. Sidste aflyste tog : 1347, \n",
      "   18  0.9271  Personpåkørsel: Har ramt en person i Pe\n",
      "   30  0.9775  •\tTrafikal vurdering: Enkelsporsdrift Fa-Bk betyder forsinkelser på op til 10 min •\tPlan for indgr\n",
      "   59  0.8835  Grundet fejl sporskifte Gl, aflyses følgende myldertids tog (skrevet i FED kl. 13.17, fremskrevet ti\n",
      "   12  0.7178  Signalfejl. Odder banen kan ikke fjernstyres.\n",
      "   12  0.8581  SVV: Fejl på OVK 113 - viser ikke sikret for LKF, men bomme nede. Se Drap.1986557  STS:Fastlæg\n",
      "   15  0.9702  Migranter - Kontakt Politiet på: 72 58 43 83\n",
      "   17  0.5798  Venstre spors belægningsfejl. Horsens -Hovedgaard  (fortsat)\n",
      "\n",
      "FALSKE i test-sættet, som har STORE predictions (men burde være store!):\n",
      "----------------------------------------\n",
      "Lines Predict Text\n",
      "    1  0.5184  MAterielfejl   Holder stille i CPH spor 2\n",
      "    1  0.5194  Har under rangering og vognvask påkørt porten i vaskeanlægget i Kb. Undersøgelsesvagten følger op.\n",
      "    6  0.9204  Standser  på alle st  Re-Od. Udgår i Od. 2682 aflyses. 4682 standser som 2682 Od-Re og mod Svg som s\n",
      "    6  0.5381  F -?? u Kh.. Fejl på vendegear Lkf har ikke kaldt Kmp og fortalt om problemerne, så pt holder toge\n",
      "    2  0.5770  Problemer med dørmeldelamperne, køre til Lu og fejlfinder\n",
      "    4  0.5450  Fjernstyringsfejl, Banedanmark skal bruges et tog til at prøve strækningen Ru-Sq-Ru\n",
      "    2  0.5856  Nedbrudt I GÆ\n",
      "    4  0.5767  Sporskiftefejl. Htå mellem sp 1 og 2 ind mod Kh.\n",
      "    3  0.8062  Stormen. Der er væltet et træ ned over skinnerne mellem Arden og Skørping.\n",
      "    7  0.8261  Materielfejl: gået i stå  lige efter Ni\n",
      "    6  0.7291  Påkørsel: Ramt tre kreaturer ved Aalborg. Uvagt\n",
      "    1  0.8019  Signalfejl RO : fejl på VU -signal ( i forbindelse med Sporarbejde i RO  som giver venstre sporskørs\n",
      "    4  0.8626  Genopretning af Svg-banen. Vi kan nu betjene Høs og køre Svg-banen normalt fra kl. 19.\n",
      "    6  0.6049  nedformeringer til fra Sverige\n",
      "    7  0.5284  Sygmelding IC 816, der omdisponeres Lkf, så vi mangler mandskab til at køre tog til / fra Ringe\n",
      "    3  0.6253  Signelfejl: Der er problemer med signalerne i Ru.\n",
      "    3  0.6379  Bane: Skinnebrud mellem Bedsted og Hurup Thy\n",
      "    5  0.5513  Vi mangler fire togsæt fra Vest. Derfor disse ændringer...\n",
      "    4  0.5070  K -6 g Sno.. Fastlægning, der ikke forsvinder..\n",
      "    8  0.5716  07:18 - Materielfejl, holder pt i Næstved Nord\n",
      "    7  0.8026  BDK       Der er Pt ingen kontrol på sporskifter i HP  8272 og 56879 holder på hver side af HP.\n",
      "    1  0.6137  Øvrige Banedk. De kan ikke dreje skiftet i Årslev. Der krydser 28xx-togene.\n",
      "    8  0.9291  Disponering DSB : L kobles med 8XX i OD pga. udbedring af nedfalden køreledning mellem Bo-Rg  Se D\n",
      "    1  0.8840  Sporskiftefejl/signalfejl: fejl på sporskifter Sne\n",
      "    3  0.5665  Forsinket fra signalfejl i EB\n",
      "    1  0.5426  Påkørsel. Har ramt en ko ved Hb og er nu smurt ind i dyrerester. Chefvagt U\n",
      "    6  0.5349  Vi mangler et lokomotiv til morgentrafikken. Derfor disse ændringer...\n",
      "    6  0.9419  Skinnebrud Lih Vagten er på vej Vi afventer hvilken standardprognose vi skal benytte\n",
      "    1  0.5926  Personalemangel i Kgc. De siger, at de ikke kan rangerer med 4262 kl. 22.06 og 4269 kl. 22.13. Dette\n",
      "    1  0.5514  Et godstog er gået i stå mellem Tåt-Cph.\n",
      "    3  0.7951  Signalfejl ved Vy, er ok igen\n",
      "    5  0.5122  Trafikken midlertidigt stoppet mellem Htå-Ro-Htå\n",
      "    3  0.7881  Materielfejl. Røgudvikling Skanderborg.  Uvagt underrettes af LKI. Chefvagt underrettet.  Hjælpevogn\n",
      "    1  0.5077  Banedanmark       sporskifte fejl i RG\n",
      "    7  0.6443  Ol sporskifter stået af vi kan ikke køre igennem, vagt tilkaldt\n",
      "    8  0.6533  Sporskiftefejl: Bdk har mistet kontrollen på sporskift i Rg\n",
      "\n"
     ]
    }
   ],
   "source": [
    "# hvilke tekster de forskellige typer består af\n",
    "print('SANDE i test-sættet, som har SMÅ predictions (men burde være store!):')\n",
    "print('-'*40)\n",
    "print('Lines Predict Text')\n",
    "for i in range(1,2000):\n",
    "    if labels_test[i]==1 and predictions[i] < 0.05:\n",
    "        PrtStr = ('%5.0f' % NumLines_test[i]) + '  ' + ('%1.4f' % predictions[i]) + '  ' + texts_test[i][:100].replace('\\n', ' ').replace('\\r', '')\n",
    "        print(PrtStr) \n",
    "print()\n",
    "        \n",
    "print('SANDE i test-sættet, som har STORE predictions (men burde være store!):')\n",
    "print('-'*40)\n",
    "print('Lines Predict Text')\n",
    "for i in range(1,2000):\n",
    "    if labels_test[i]==1 and predictions[i] > 0.5:\n",
    "        PrtStr = ('%5.0f' % NumLines_test[i]) + '  ' + ('%1.4f' % predictions[i]) + '  ' + texts_test[i][:100].replace('\\n', ' ').replace('\\r', '')\n",
    "        print(PrtStr) \n",
    "print()\n",
    "\n",
    "print('FALSKE i test-sættet, som har STORE predictions (men burde være store!):')\n",
    "print('-'*40)\n",
    "print('Lines Predict Text')\n",
    "for i in range(1,2000):\n",
    "    if labels_test[i]==0 and predictions[i] > 0.5:\n",
    "        PrtStr = ('%5.0f' % NumLines_test[i]) + '  ' + ('%1.4f' % predictions[i]) + '  ' + texts_test[i][:100].replace('\\n', ' ').replace('\\r', '')\n",
    "        print(PrtStr) \n",
    "print()"
   ]
  },
  {
   "cell_type": "markdown",
   "metadata": {},
   "source": [
    "UHA UHA, alt for mange af de sande har en værdi tæt på 0 ..."
   ]
  }
 ],
 "metadata": {
  "kernelspec": {
   "display_name": "Python 3",
   "language": "python",
   "name": "python3"
  },
  "language_info": {
   "codemirror_mode": {
    "name": "ipython",
    "version": 3
   },
   "file_extension": ".py",
   "mimetype": "text/x-python",
   "name": "python",
   "nbconvert_exporter": "python",
   "pygments_lexer": "ipython3",
   "version": "3.6.4"
  }
 },
 "nbformat": 4,
 "nbformat_minor": 2
}
