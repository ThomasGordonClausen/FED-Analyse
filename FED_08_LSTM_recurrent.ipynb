{
 "cells": [
  {
   "cell_type": "markdown",
   "metadata": {},
   "source": [
    "# Recurrent LSTM model - Eksperimenter med FED data\n",
    "\n",
    "- **Problem:** Kan jeg med ML finde FED overskrifter, som giver 10 eller flere strategilinjer? Mine input data er FED data, hvor jeg har samlet en overskrift og det tilhørende *antal* linjer strategi hørende til overskriften. Dette er et binary problem: over eller under 10 linjer\n",
    "- **Succes er** Jeg vil se hvor mange af de store (10 eller flere strategilinjer) som modellen kan finde i test data. JEg håber på halvdelen, men er usikker, for jeg kan ikke selv se et mønster ...\n",
    "- **Evaluering** Modellen evalueres ved at jeg deler data op i train, validering og test. train og validering opdeles atomatisk af Keras\n",
    "- **Data** hentes ud af FED i en tekst-fil. Den videre behandling sker i en Access-database og i et regneark. Input gemmes til sidst i et regneark\n",
    "- **Baseline** Selv den bedste model har ikke rigtigt gjort det godt ind til nu, der er nok ikke system i data? Reelt kan den ikke skelne de to klasser, se histogrammet nederst ...\n",
    "- **Optimering vs generalisering** Modellen overfitter ret hurtigt, uden at den egentligt på noget tidspunkt bliver god ...\n",
    "- **Tuning hyper pametre** Jeg prøver med flere og færre lag, typer af lag, dropout, parametre mv, men det virker ikke meget bedre ... \n",
    "\n",
    "Nedenfor er et par eksempler på hvordan data rigtigt ser ud. I eksemplet er en kort tekst med otte strategilinjer. Og den timsvarende omsættelse til inddata til modellen.\n",
    "\n",
    "![title](FEDentry.GIF)\n",
    "![title](FEDentry2.GIF)\n",
    "\n",
    "### Konklusion\n",
    "- x"
   ]
  },
  {
   "cell_type": "code",
   "execution_count": 1,
   "metadata": {},
   "outputs": [],
   "source": [
    "# vi sætter stien til data\n",
    "import os\n",
    "import pandas as pd\n",
    "import numpy as np\n",
    "os.chdir('/Users/ThomasGordon/Documents/PythonScripts/FED')\n"
   ]
  },
  {
   "cell_type": "code",
   "execution_count": 2,
   "metadata": {},
   "outputs": [],
   "source": [
    "# Excel-filen med tekster åbnes og indlæses\n",
    "xl = pd.ExcelFile('FEDAll.xlsx')\n",
    "df = xl.parse('FEDlinjer')       # siden i arket\n",
    "\n",
    "# læs overskrifter i FED\n",
    "texts  = df.loc[:,'FEDtext']\n",
    "texts  = texts.values\n",
    "\n",
    "# læs antal linjer og omsæt til \"stor hændelse\" eller \"lille hændelse\"\n",
    "StorEr = 10\n",
    "NumLines = df.loc[:,'FEDlinjer']\n",
    "NumLines = NumLines.values\n",
    "labels = np.asarray([1*(NumLines[i]>=StorEr) for i in range(len(NumLines))])\n",
    "\n",
    "# vi rafler data rundt tilfældigt (vi laver et tilfældigt index)\n",
    "indices = np.arange(texts.shape[0])\n",
    "np.random.shuffle(indices)\n",
    "texts   = texts[indices]\n",
    "labels = labels[indices]\n",
    "NumLines = NumLines[indices]\n",
    "\n",
    "# opdeling i training data og test data\n",
    "i = 90000  # antal linjer afsat til træning, resten er test\n",
    "texts_train = texts[:i]\n",
    "texts_test  = texts[i:] \n",
    "labels_train = labels[:i]\n",
    "labels_test  = labels[i:]\n",
    "NumLines_train = NumLines[:i]\n",
    "NumLines_test  = NumLines[i:]"
   ]
  },
  {
   "cell_type": "code",
   "execution_count": 3,
   "metadata": {},
   "outputs": [
    {
     "name": "stderr",
     "output_type": "stream",
     "text": [
      "C:\\Users\\ThomasGordon\\Anaconda3\\lib\\site-packages\\h5py\\__init__.py:36: FutureWarning: Conversion of the second argument of issubdtype from `float` to `np.floating` is deprecated. In future, it will be treated as `np.float64 == np.dtype(float).type`.\n",
      "  from ._conv import register_converters as _register_converters\n",
      "Using TensorFlow backend.\n"
     ]
    }
   ],
   "source": [
    "# laver tekst om til vektor, henter text processing modul\n",
    "\n",
    "from keras.preprocessing.text import Tokenizer\n",
    "from keras.preprocessing.sequence import pad_sequences\n",
    "\n",
    "max_words = 10000  # Vi ser kun på de 10.000 mest almindelige ord\n",
    "\n",
    "# vi laver ordene i FED om til tilsvarende tal (som nedenfor laves til en \"one-hot\")\n",
    "tokenizer = Tokenizer(num_words=max_words)\n",
    "tokenizer.fit_on_texts(texts)"
   ]
  },
  {
   "cell_type": "code",
   "execution_count": 4,
   "metadata": {},
   "outputs": [
    {
     "name": "stdout",
     "output_type": "stream",
     "text": [
      "(90000, 50)\n",
      "(10867, 50)\n",
      "(90000,)\n",
      "(10867,)\n"
     ]
    }
   ],
   "source": [
    "# Stop sætninger efter dette antal ord\n",
    "maxlen = 50\n",
    "\n",
    "# sætninger laves til tekst-vektor og der \"paddes\"\n",
    "sequences = tokenizer.texts_to_sequences(texts_train)\n",
    "data_train = pad_sequences(sequences, maxlen=maxlen)\n",
    "sequences = tokenizer.texts_to_sequences(texts_test)\n",
    "data_test = pad_sequences(sequences, maxlen=maxlen)\n",
    "\n",
    "# labels laves til vektor\n",
    "labels_train = np.asarray(labels_train).astype('float32')\n",
    "labels_test = np.asarray(labels_test).astype('float32')\n",
    "\n",
    "# print størrelsen på train og test data\n",
    "print(data_train.shape)\n",
    "print(data_test.shape)\n",
    "print(labels_train.shape)\n",
    "print(labels_test.shape)"
   ]
  },
  {
   "cell_type": "code",
   "execution_count": 5,
   "metadata": {},
   "outputs": [
    {
     "name": "stdout",
     "output_type": "stream",
     "text": [
      "_________________________________________________________________\n",
      "Layer (type)                 Output Shape              Param #   \n",
      "=================================================================\n",
      "embedding_1 (Embedding)      (None, 50, 8)             80000     \n",
      "_________________________________________________________________\n",
      "lstm_1 (LSTM)                (None, 32)                5248      \n",
      "_________________________________________________________________\n",
      "dense_1 (Dense)              (None, 1)                 33        \n",
      "=================================================================\n",
      "Total params: 85,281\n",
      "Trainable params: 85,281\n",
      "Non-trainable params: 0\n",
      "_________________________________________________________________\n"
     ]
    }
   ],
   "source": [
    "#from keras import models\n",
    "#from keras import layers\n",
    "from keras.models import Sequential\n",
    "from keras.layers import Flatten, Dense, Dropout, LSTM\n",
    "from keras.layers import Embedding\n",
    "\n",
    "model = Sequential()\n",
    "model.add(Embedding(10000, 8, input_length=maxlen))\n",
    "model.add(LSTM(32))\n",
    "model.add(Dense(1, activation='sigmoid'))\n",
    "\n",
    "model.compile(optimizer='rmsprop',\n",
    "              loss='binary_crossentropy',\n",
    "              metrics=['accuracy'])\n",
    "\n",
    "model.summary()"
   ]
  },
  {
   "cell_type": "code",
   "execution_count": 6,
   "metadata": {},
   "outputs": [
    {
     "name": "stdout",
     "output_type": "stream",
     "text": [
      "Train on 81000 samples, validate on 9000 samples\n",
      "Epoch 1/10\n",
      "81000/81000 [==============================] - 22s 271us/step - loss: 0.1875 - acc: 0.9592 - val_loss: 0.1487 - val_acc: 0.9640\n",
      "Epoch 2/10\n",
      "81000/81000 [==============================] - 20s 250us/step - loss: 0.1354 - acc: 0.9622 - val_loss: 0.1217 - val_acc: 0.9644\n",
      "Epoch 3/10\n",
      "81000/81000 [==============================] - 20s 249us/step - loss: 0.1217 - acc: 0.9626 - val_loss: 0.1262 - val_acc: 0.9649\n",
      "Epoch 4/10\n",
      "81000/81000 [==============================] - 20s 247us/step - loss: 0.1177 - acc: 0.9630 - val_loss: 0.1278 - val_acc: 0.9650\n",
      "Epoch 5/10\n",
      "81000/81000 [==============================] - 20s 247us/step - loss: 0.1147 - acc: 0.9632 - val_loss: 0.1247 - val_acc: 0.9647\n",
      "Epoch 6/10\n",
      "81000/81000 [==============================] - 20s 250us/step - loss: 0.1137 - acc: 0.9634 - val_loss: 0.1230 - val_acc: 0.9653\n",
      "Epoch 7/10\n",
      "81000/81000 [==============================] - 20s 247us/step - loss: 0.1115 - acc: 0.9640 - val_loss: 0.1258 - val_acc: 0.9651\n",
      "Epoch 8/10\n",
      "81000/81000 [==============================] - 20s 246us/step - loss: 0.1107 - acc: 0.9644 - val_loss: 0.1256 - val_acc: 0.9652\n",
      "Epoch 9/10\n",
      "81000/81000 [==============================] - 20s 246us/step - loss: 0.1096 - acc: 0.9648 - val_loss: 0.1237 - val_acc: 0.9661\n",
      "Epoch 10/10\n",
      "81000/81000 [==============================] - 20s 246us/step - loss: 0.1087 - acc: 0.9650 - val_loss: 0.1238 - val_acc: 0.9663\n"
     ]
    }
   ],
   "source": [
    "NumEpochs = 10\n",
    "history = model.fit(data_train, labels_train,\n",
    "                    epochs=NumEpochs,\n",
    "                    batch_size=512,\n",
    "                    validation_split=0.1)"
   ]
  },
  {
   "cell_type": "code",
   "execution_count": 7,
   "metadata": {},
   "outputs": [
    {
     "data": {
      "text/plain": [
       "dict_keys(['val_loss', 'val_acc', 'loss', 'acc'])"
      ]
     },
     "execution_count": 7,
     "metadata": {},
     "output_type": "execute_result"
    }
   ],
   "source": [
    "history_dict = history.history\n",
    "history_dict.keys()"
   ]
  },
  {
   "cell_type": "code",
   "execution_count": 8,
   "metadata": {},
   "outputs": [],
   "source": [
    "import matplotlib.pyplot as plt\n",
    "plt.show()"
   ]
  },
  {
   "cell_type": "code",
   "execution_count": 9,
   "metadata": {},
   "outputs": [
    {
     "data": {
      "image/png": "[encoded data removed]",
      "text/plain": [
       "<matplotlib.figure.Figure at 0x1b2e1109550>"
      ]
     },
     "metadata": {},
     "output_type": "display_data"
    }
   ],
   "source": [
    "# plotter historikken for 'loss' og 'accuracy'\n",
    "accu = history.history['acc']\n",
    "val_acc = history.history['val_acc']\n",
    "loss = history.history['loss']\n",
    "val_loss = history.history['val_loss']\n",
    "epochs = range(1, NumEpochs+1)\n",
    "\n",
    "plt.plot(epochs, loss, 'bo', label='Training loss')       # \"bo\" is for \"blue dot\"\n",
    "plt.plot(epochs, val_loss, 'b', label='Validation loss')  # b is for \"solid blue line\"\n",
    "plt.title('Training and validation loss')\n",
    "plt.xlabel('Epochs')\n",
    "plt.ylabel('Loss')\n",
    "plt.legend()\n",
    "\n",
    "plt.show()"
   ]
  },
  {
   "cell_type": "code",
   "execution_count": 10,
   "metadata": {},
   "outputs": [
    {
     "data": {
      "image/png": "[encoded data removed]",
      "text/plain": [
       "<matplotlib.figure.Figure at 0x1b2e1134a20>"
      ]
     },
     "metadata": {},
     "output_type": "display_data"
    }
   ],
   "source": [
    "plt.clf()   # clear figure\n",
    "acc_values = history_dict['acc']\n",
    "val_acc_values = history_dict['val_acc']\n",
    "\n",
    "plt.plot(epochs, acc_values, 'bo', label='Training acc')\n",
    "plt.plot(epochs, val_acc_values, 'b', label='Validation acc')\n",
    "plt.title('Training and validation accuracy')\n",
    "plt.xlabel('Epochs')\n",
    "plt.ylabel('Loss')\n",
    "plt.legend()\n",
    "\n",
    "plt.show()"
   ]
  },
  {
   "cell_type": "markdown",
   "metadata": {},
   "source": [
    "# Validering af modellen på test data\n",
    "Her indlæser vi så test data, helt nye data til test"
   ]
  },
  {
   "cell_type": "code",
   "execution_count": 11,
   "metadata": {},
   "outputs": [],
   "source": [
    "# vi prøver modellen på test-data\n",
    "predictions = model.predict(data_test)"
   ]
  },
  {
   "cell_type": "code",
   "execution_count": 12,
   "metadata": {},
   "outputs": [
    {
     "name": "stdout",
     "output_type": "stream",
     "text": [
      "Antal store i datasættet:     387.0\n",
      "antal estimeret af modellen:  30\n",
      "Modellens præcision:          8.0 %\n"
     ]
    }
   ],
   "source": [
    "# finder ud af hvor stor en del store, som er fundet\n",
    "print('Antal store i datasættet:    ', sum(labels_test))\n",
    "NumEstimated = 0\n",
    "for i in range(1,6000):\n",
    "    if predictions[i]>0.4 and labels_test[i]:\n",
    "        NumEstimated += 1\n",
    "print('antal estimeret af modellen: ', NumEstimated)\n",
    "print('Modellens præcision:         ', round(NumEstimated/sum(labels_test)*100), '%')"
   ]
  },
  {
   "cell_type": "code",
   "execution_count": 13,
   "metadata": {},
   "outputs": [
    {
     "name": "stdout",
     "output_type": "stream",
     "text": [
      " Gennemsnit for test stor og lille\n",
      "0.18939327\n",
      "0.03143148\n"
     ]
    }
   ],
   "source": [
    "# Gennemsnittet for rigtig og forkert\n",
    "\n",
    "print(' Gennemsnit for test stor og lille')\n",
    "print(np.average([x for i, x in enumerate(predictions) if labels_test[i]]))\n",
    "print(np.average([x for i, x in enumerate(predictions) if not labels_test[i]]))"
   ]
  },
  {
   "cell_type": "code",
   "execution_count": 14,
   "metadata": {},
   "outputs": [
    {
     "data": {
      "image/png": "[encoded data removed]",
      "text/plain": [
       "<matplotlib.figure.Figure at 0x1b2e1215e48>"
      ]
     },
     "metadata": {},
     "output_type": "display_data"
    }
   ],
   "source": [
    "# jeg prøver lige at plotte \"predictions i et histogram\n",
    "\n",
    "# hent data for store og små i to arrays, lav til et np array, så plotteren kan forstå data\n",
    "PlotDataSand = [x for i, x in enumerate(predictions) if labels_test[i]]\n",
    "PlotDataSand = np.array(PlotDataSand)\n",
    "PlotDataFalsk = [x for i, x in enumerate(predictions) if not labels_test[i]]\n",
    "PlotDataFalsk = np.array(PlotDataFalsk)\n",
    "\n",
    "plt.clf()  # clear figure\n",
    "plt.hist(PlotDataSand, bins=50, alpha=0.6, label='store')  # 50 bins, halv hennemsigtig\n",
    "plt.hist(PlotDataFalsk, bins=50, alpha=0.6, label='små')\n",
    "plt.legend(loc='upper right')\n",
    "plt.ylim([0, 200])\n",
    "\n",
    "plt.show()"
   ]
  },
  {
   "cell_type": "code",
   "execution_count": 15,
   "metadata": {},
   "outputs": [
    {
     "name": "stdout",
     "output_type": "stream",
     "text": [
      "SANDE i test-sættet, som har SMÅ predictions (men burde være store!):\n",
      "----------------------------------------\n",
      "Lines Predict Text\n",
      "   10  0.0301  fast fjeder bremse\n",
      "   10  0.0371  ATC kan ikke indkobles..\n",
      "   12  0.0031  Materielfejl ET, 4 døre aflåste. Tgf beder om at ændret skilte til hhv. forreste/bagerste sæt aflåst\n",
      "   10  0.0166  Står i stå i neutralsektion ilige før Ro Der skiftes strømaftager\n",
      "   11  0.0272  Materielmangel Sverige:\n",
      "   17  0.0212  Materielfejl, holder nu koblet i Ringsted med fejl, kan ikke få traktion på toget.\n",
      "   10  0.0165  Signalfejl... SMUTO-anlægget i Kac gået ned...\n",
      "   10  0.0082  Disponering DSB. Det har ikke været muligt, at komme til/fra Askekassen i nat pga. den har været ube\n",
      "   10  0.0048  Politi. Tgf. melder der står en mistænklige kuffert. Lkf. rangere den i sp.21\n",
      "   19  0.0079  Materielfejl MG : koldt klima i Førerrum mod Vest\n",
      "   13  0.0337  Disponering DSB/Passagerforhold. Manglende pladser i flere tog\n",
      "   10  0.0126  Disponering Materiel\n",
      "   11  0.0039  Der kan ikke leveres MQ-sæt til 2720 i Fa..\n",
      "   10  0.0180  MGen bruges til hjælpetog til Mø\n",
      "   19  0.0495  Materielfejl. 1xME. Mn. Vekselretterfejl. LKI er på. Forventes at kunne kører snart.\n",
      "   46  0.0131  S T O R M V A R S E L (1) S T R A T E G I : Vi kører efter niveau 2  Der er timedrift mellem E\n",
      "   19  0.0141  Forsinkes ved Sno - Tl, køres af venstre spor sno - Tl, blot for at signaler tages væk da toget hold\n",
      "   17  0.0249  Vi mangler et par ER-sæt til eftermiddagen.\n",
      "   22  0.0312  Ørresundstog 2068 har tekniske problemer efter afg Kn. 1545 Bag\n",
      "   16  0.0111  Kører  kun 50 km/t.\n",
      "   14  0.0368  Materielfejl.. Kan ikke køre..\n",
      "\n",
      "SANDE i test-sættet, som har STORE predictions (men burde være store!):\n",
      "----------------------------------------\n",
      "Lines Predict Text\n",
      "   19  0.7076  Standardprognose (2 timer): laskebrud HK :\n",
      "   26  0.6149  Bdk har mistet kontrollen over et sporskifte i Re.\n",
      "   19  0.5374  F -?? g Gl.. AKT brækket ned foran Gl.. Spærrer pt sporet mod Htå..\n",
      "   25  0.5233  Påkørsel Svg banen, Påvirkninger resten af trafikken:\n",
      "\n",
      "FALSKE i test-sættet, som har STORE predictions (men burde være store!):\n",
      "----------------------------------------\n",
      "Lines Predict Text\n",
      "    8  0.5202  Materielmangel vest danmark pga person påkørsel tirsdag+ andre ændringer\n",
      "    5  0.6988  Der mangler lidt ER-sæt hist og her. Derfor disse ændringer... (skrevet kl. 02.00)\n",
      "    3  0.5764  Signalfejl RE : F signal 3191 er slukket  Se Drap.1920181\n",
      "    6  0.5292  Melding om bump i sporet ved kn, så vi tynder ud, C vagt underrettes\n",
      "    2  0.5449  Køreledning på Vestfyn er hængt op igen. Alt er klarmeldt. Dog stadig mange forsinkelser. Chefvagt u\n",
      "    2  0.5211  Disponering Bdk, kørestrømsafbrydelse ved Ka fra kl. 01.40-06.00, og der skulle 97003 køre med én ER\n",
      "    2  0.5972  Skrevet 02:42 Alle tiders opstart... Der mangler to (2) MQ-sæt til morgenens planlagte produktion.\n",
      "    9  0.5386  Sporskifteproblemer i Md, sikring tilkaldt, forventer de er der kl. 08:50\n",
      "    6  0.5630  Falskbesættelses mellem KN og KK\n",
      "    7  0.5128  Signalfejl CPH-PHM : falsk besættelse i tunnelrøret mod Malmø\n",
      "\n"
     ]
    }
   ],
   "source": [
    "# hvilke tekster de forskellige typer består af\n",
    "print('SANDE i test-sættet, som har SMÅ predictions (men burde være store!):')\n",
    "print('-'*40)\n",
    "print('Lines Predict Text')\n",
    "for i in range(1,2000):\n",
    "    if labels_test[i]==1 and predictions[i] < 0.05:\n",
    "        PrtStr = ('%5.0f' % NumLines_test[i]) + '  ' + ('%1.4f' % predictions[i]) + '  ' + texts_test[i][:100].replace('\\n', ' ').replace('\\r', '')\n",
    "        print(PrtStr) \n",
    "print()\n",
    "        \n",
    "print('SANDE i test-sættet, som har STORE predictions (men burde være store!):')\n",
    "print('-'*40)\n",
    "print('Lines Predict Text')\n",
    "for i in range(1,2000):\n",
    "    if labels_test[i]==1 and predictions[i] > 0.5:\n",
    "        PrtStr = ('%5.0f' % NumLines_test[i]) + '  ' + ('%1.4f' % predictions[i]) + '  ' + texts_test[i][:100].replace('\\n', ' ').replace('\\r', '')\n",
    "        print(PrtStr) \n",
    "print()\n",
    "\n",
    "print('FALSKE i test-sættet, som har STORE predictions (men burde være store!):')\n",
    "print('-'*40)\n",
    "print('Lines Predict Text')\n",
    "for i in range(1,2000):\n",
    "    if labels_test[i]==0 and predictions[i] > 0.5:\n",
    "        PrtStr = ('%5.0f' % NumLines_test[i]) + '  ' + ('%1.4f' % predictions[i]) + '  ' + texts_test[i][:100].replace('\\n', ' ').replace('\\r', '')\n",
    "        print(PrtStr) \n",
    "print()"
   ]
  },
  {
   "cell_type": "markdown",
   "metadata": {},
   "source": [
    "UHA UHA, alt for mange af de sande har en værdi tæt på 0 ..."
   ]
  }
 ],
 "metadata": {
  "kernelspec": {
   "display_name": "Python 3",
   "language": "python",
   "name": "python3"
  },
  "language_info": {
   "codemirror_mode": {
    "name": "ipython",
    "version": 3
   },
   "file_extension": ".py",
   "mimetype": "text/x-python",
   "name": "python",
   "nbconvert_exporter": "python",
   "pygments_lexer": "ipython3",
   "version": "3.6.4"
  }
 },
 "nbformat": 4,
 "nbformat_minor": 2
}
