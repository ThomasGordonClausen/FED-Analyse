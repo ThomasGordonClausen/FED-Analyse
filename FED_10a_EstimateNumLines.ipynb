{
 "cells": [
  {
   "cell_type": "markdown",
   "metadata": {},
   "source": [
    "# Lineær regression - Kan vi estimere antallet af linjer\n",
    "\n",
    "- **Problem:** Kan jeg med ML estimere antallet af linjer en FED overskrift giver anledning til? Mine input data er FED data, hvor jeg har samlet en overskrift og det tilhørende *antal* linjer strategi hørende til overskriften. Dette er et lineært problem\n",
    "- **Succes er** Jeg vil undersøge om en simpel model kan finde sammenhængen. Jeg håber på det bedste, men er skeptisk, for jeg kan ikke selv se et klart mønster ...\n",
    "- **Evaluering** Modellen evalueres ved at jeg deler data op i train, validering og test. train og validering opdeles atomatisk af Keras\n",
    "- **Data** hentes ud af FED i en tekst-fil. Den videre behandling sker i en Access-database og i et regneark. Input gemmes til sidst i et regneark\n",
    "- **Baseline** Selv den bedste model har ikke rigtigt gjort det godt ind til nu, der er nok ikke system i data?\n",
    "- **Optimering vs generalisering** Den får vi se på ...\n",
    "- **Tuning hyper pametre** Den får vi se på ... \n",
    "\n",
    "Nedenfor er et par eksempler på hvordan data rigtigt ser ud. I eksemplet er en kort tekst med otte strategilinjer. Og den timsvarende omsættelse til inddata til modellen.\n",
    "\n",
    "![title](FEDentry.GIF)\n",
    "![title](FEDentry2.GIF)\n",
    "\n",
    "### Evaluering af forsøg\n",
    "\n",
    "- indledningsvis lavede jeg en fejl, da jeg ikke fik fjernet \"activation\" fra sidste lag\n",
    "- første model med dense16, dropout og epocs=10 ender med mae_val=1.9\n",
    "- prover at fjerne dense16 og dropout, og sætter epocs=20, det giver mae_val=1.9. Den kan ligesom ikke komme længere ned ...\n",
    "- prøver at øge epocs=40. mae_validation staller efter <5 epocs, mens mae_train faktisk bliver bedre og bedre. Hmmm, det virker ikke som om den rigtigt har fundet sammenhængen\n",
    "\n",
    "### Konklusion\n",
    "Desværre er der ikke skyggen af en lige linje, som ville indikere en vis sammenhæng mennen predictions, og det der skulle findes. Selv hvor der slet ikke er noget problem (kun 1 linje) viser den en masse gange mange linjer predicted ...:\n",
    "![title](EstLines01.png)\n",
    "\n",
    "\n"
   ]
  },
  {
   "cell_type": "code",
   "execution_count": 1,
   "metadata": {},
   "outputs": [],
   "source": [
    "# vi sætter stien til data\n",
    "import os\n",
    "import pandas as pd\n",
    "import numpy as np\n",
    "os.chdir('/Users/ThomasGordon/Documents/PythonScripts/FED')\n"
   ]
  },
  {
   "cell_type": "code",
   "execution_count": 2,
   "metadata": {},
   "outputs": [],
   "source": [
    "# Excel-filen med tekster åbnes og indlæses\n",
    "xl = pd.ExcelFile('FEDAll.xlsx')\n",
    "df = xl.parse('FEDlinjer')       # siden i arket\n",
    "\n",
    "# læs overskrifter i FED\n",
    "texts  = df.loc[:,'FEDtext']\n",
    "texts  = texts.values\n",
    "\n",
    "# læs antal linjer og omsæt til \"stor hændelse\" eller \"lille hændelse\"\n",
    "NumLines = df.loc[:,'FEDlinjer']\n",
    "NumLines = NumLines.values\n",
    "\n",
    "# vi rafler data rundt tilfældigt (vi laver et tilfældigt index)\n",
    "indices = np.arange(texts.shape[0])\n",
    "np.random.shuffle(indices)\n",
    "texts   = texts[indices]\n",
    "NumLines = NumLines[indices]\n",
    "\n",
    "# opdeling i training data og test data\n",
    "i = 80000  # antal linjer afsat til træning, resten er test\n",
    "texts_train = texts[:i]\n",
    "texts_test  = texts[i:] \n",
    "NumLines_train = NumLines[:i]\n",
    "NumLines_test  = NumLines[i:]"
   ]
  },
  {
   "cell_type": "code",
   "execution_count": 3,
   "metadata": {},
   "outputs": [
    {
     "name": "stderr",
     "output_type": "stream",
     "text": [
      "C:\\Users\\ThomasGordon\\Anaconda3\\lib\\site-packages\\h5py\\__init__.py:36: FutureWarning: Conversion of the second argument of issubdtype from `float` to `np.floating` is deprecated. In future, it will be treated as `np.float64 == np.dtype(float).type`.\n",
      "  from ._conv import register_converters as _register_converters\n",
      "Using TensorFlow backend.\n"
     ]
    },
    {
     "name": "stdout",
     "output_type": "stream",
     "text": [
      "Fandt 21158 unikke tokens.\n"
     ]
    }
   ],
   "source": [
    "# TOKENIZER - laver tekst om til vektor, henter text processing modul\n",
    "\n",
    "from keras.preprocessing.text import Tokenizer\n",
    "from keras.preprocessing.sequence import pad_sequences\n",
    "\n",
    "max_words = 10000  # Vi ser kun på de 10.000 mest almindelige ord\n",
    "\n",
    "# vi laver ordene i FED om til tilsvarende tal (som nedenfor laves til en \"one-hot\")\n",
    "tokenizer = Tokenizer(num_words=max_words)\n",
    "tokenizer.fit_on_texts(texts)\n",
    "word_index = tokenizer.word_index\n",
    "print('Fandt %s unikke tokens.' % len(word_index))"
   ]
  },
  {
   "cell_type": "code",
   "execution_count": 4,
   "metadata": {},
   "outputs": [
    {
     "name": "stdout",
     "output_type": "stream",
     "text": [
      "(80000, 10000)\n",
      "(20867, 10000)\n",
      "(80000,)\n",
      "(20867,)\n"
     ]
    }
   ],
   "source": [
    "# sætninger laves om til en \"one hot\" data vektor\n",
    "# tester ...\n",
    "data_train = tokenizer.texts_to_matrix(texts_train, mode='binary')\n",
    "data_test  = tokenizer.texts_to_matrix(texts_test,  mode='binary')\n",
    "\n",
    "# labels laves til vektor\n",
    "NumLines_train = np.asarray(NumLines_train).astype('float32')\n",
    "NumLines_test = np.asarray(NumLines_test).astype('float32')\n",
    "\n",
    "# print størrelsen på train og test data\n",
    "print(data_train.shape)\n",
    "print(data_test.shape)\n",
    "print(NumLines_train.shape)\n",
    "print(NumLines_test.shape)"
   ]
  },
  {
   "cell_type": "code",
   "execution_count": 5,
   "metadata": {},
   "outputs": [
    {
     "name": "stdout",
     "output_type": "stream",
     "text": [
      "_________________________________________________________________\n",
      "Layer (type)                 Output Shape              Param #   \n",
      "=================================================================\n",
      "dense_1 (Dense)              (None, 16)                160016    \n",
      "_________________________________________________________________\n",
      "dense_2 (Dense)              (None, 1)                 17        \n",
      "=================================================================\n",
      "Total params: 160,033\n",
      "Trainable params: 160,033\n",
      "Non-trainable params: 0\n",
      "_________________________________________________________________\n"
     ]
    }
   ],
   "source": [
    "from keras import models\n",
    "from keras import layers\n",
    "\n",
    "model = models.Sequential()\n",
    "model.add(layers.Dense(16, activation='relu', input_shape=(10000,)))\n",
    "#model.add(layers.Dense(16, activation='relu'))\n",
    "#model.add(layers.Dropout(0.5))\n",
    "model.add(layers.Dense(1))\n",
    "model.compile(optimizer='rmsprop',\n",
    "              loss='mse',\n",
    "              metrics=['mae'])\n",
    "\n",
    "model.summary()"
   ]
  },
  {
   "cell_type": "code",
   "execution_count": 6,
   "metadata": {},
   "outputs": [
    {
     "name": "stdout",
     "output_type": "stream",
     "text": [
      "Train on 64000 samples, validate on 16000 samples\n",
      "Epoch 1/40\n",
      "64000/64000 [==============================] - 15s 228us/step - loss: 24.9639 - mean_absolute_error: 2.2116 - val_loss: 20.2056 - val_mean_absolute_error: 2.0118\n",
      "Epoch 2/40\n",
      "64000/64000 [==============================] - 10s 151us/step - loss: 21.0956 - mean_absolute_error: 1.9370 - val_loss: 18.1885 - val_mean_absolute_error: 1.9232\n",
      "Epoch 3/40\n",
      "64000/64000 [==============================] - 9s 140us/step - loss: 19.4218 - mean_absolute_error: 1.8895 - val_loss: 17.1290 - val_mean_absolute_error: 1.9366\n",
      "Epoch 4/40\n",
      "64000/64000 [==============================] - 8s 120us/step - loss: 18.5058 - mean_absolute_error: 1.8895 - val_loss: 16.6055 - val_mean_absolute_error: 1.9493\n",
      "Epoch 5/40\n",
      "64000/64000 [==============================] - 8s 120us/step - loss: 17.9416 - mean_absolute_error: 1.8923 - val_loss: 16.3214 - val_mean_absolute_error: 1.9567\n",
      "Epoch 6/40\n",
      "64000/64000 [==============================] - 8s 124us/step - loss: 17.5582 - mean_absolute_error: 1.8901 - val_loss: 16.1265 - val_mean_absolute_error: 1.9559\n",
      "Epoch 7/40\n",
      "64000/64000 [==============================] - 8s 124us/step - loss: 17.2401 - mean_absolute_error: 1.8785 - val_loss: 15.9693 - val_mean_absolute_error: 1.9598\n",
      "Epoch 8/40\n",
      "64000/64000 [==============================] - 8s 124us/step - loss: 16.9733 - mean_absolute_error: 1.8665 - val_loss: 15.8675 - val_mean_absolute_error: 1.9740\n",
      "Epoch 9/40\n",
      "64000/64000 [==============================] - 8s 125us/step - loss: 16.7356 - mean_absolute_error: 1.8606 - val_loss: 15.7682 - val_mean_absolute_error: 1.9578\n",
      "Epoch 10/40\n",
      "64000/64000 [==============================] - 9s 141us/step - loss: 16.5039 - mean_absolute_error: 1.8427 - val_loss: 15.6951 - val_mean_absolute_error: 1.9883\n",
      "Epoch 11/40\n",
      "64000/64000 [==============================] - 8s 128us/step - loss: 16.2872 - mean_absolute_error: 1.8346 - val_loss: 15.6061 - val_mean_absolute_error: 1.9610\n",
      "Epoch 12/40\n",
      "64000/64000 [==============================] - 8s 120us/step - loss: 16.0806 - mean_absolute_error: 1.8213 - val_loss: 15.5391 - val_mean_absolute_error: 1.9563\n",
      "Epoch 13/40\n",
      "64000/64000 [==============================] - 9s 148us/step - loss: 15.8880 - mean_absolute_error: 1.8108 - val_loss: 15.4747 - val_mean_absolute_error: 1.9433\n",
      "Epoch 14/40\n",
      "64000/64000 [==============================] - 8s 121us/step - loss: 15.6943 - mean_absolute_error: 1.7930 - val_loss: 15.4312 - val_mean_absolute_error: 1.9609\n",
      "Epoch 15/40\n",
      "64000/64000 [==============================] - 8s 125us/step - loss: 15.5236 - mean_absolute_error: 1.7833 - val_loss: 15.4205 - val_mean_absolute_error: 1.9728\n",
      "Epoch 16/40\n",
      "64000/64000 [==============================] - 8s 124us/step - loss: 15.3483 - mean_absolute_error: 1.7779 - val_loss: 15.3650 - val_mean_absolute_error: 1.9478\n",
      "Epoch 17/40\n",
      "64000/64000 [==============================] - 8s 124us/step - loss: 15.1863 - mean_absolute_error: 1.7630 - val_loss: 15.3420 - val_mean_absolute_error: 1.9574\n",
      "Epoch 18/40\n",
      "64000/64000 [==============================] - 8s 127us/step - loss: 15.0345 - mean_absolute_error: 1.7551 - val_loss: 15.3485 - val_mean_absolute_error: 1.9526\n",
      "Epoch 19/40\n",
      "64000/64000 [==============================] - 8s 124us/step - loss: 14.8811 - mean_absolute_error: 1.7441 - val_loss: 15.3355 - val_mean_absolute_error: 1.9615\n",
      "Epoch 20/40\n",
      "64000/64000 [==============================] - 8s 125us/step - loss: 14.7443 - mean_absolute_error: 1.7343 - val_loss: 15.3540 - val_mean_absolute_error: 1.9821\n",
      "Epoch 21/40\n",
      "64000/64000 [==============================] - 8s 124us/step - loss: 14.6105 - mean_absolute_error: 1.7281 - val_loss: 15.3594 - val_mean_absolute_error: 1.9841\n",
      "Epoch 22/40\n",
      "64000/64000 [==============================] - 8s 125us/step - loss: 14.4784 - mean_absolute_error: 1.7222 - val_loss: 15.3387 - val_mean_absolute_error: 1.9570\n",
      "Epoch 23/40\n",
      "64000/64000 [==============================] - 8s 128us/step - loss: 14.3539 - mean_absolute_error: 1.7123 - val_loss: 15.3392 - val_mean_absolute_error: 1.9378\n",
      "Epoch 24/40\n",
      "64000/64000 [==============================] - 8s 120us/step - loss: 14.2385 - mean_absolute_error: 1.7009 - val_loss: 15.4176 - val_mean_absolute_error: 1.9920\n",
      "Epoch 25/40\n",
      "64000/64000 [==============================] - 8s 122us/step - loss: 14.1220 - mean_absolute_error: 1.6953 - val_loss: 15.4344 - val_mean_absolute_error: 2.0038\n",
      "Epoch 26/40\n",
      "64000/64000 [==============================] - 10s 157us/step - loss: 14.0025 - mean_absolute_error: 1.6899 - val_loss: 15.3928 - val_mean_absolute_error: 1.9778\n",
      "Epoch 27/40\n",
      "64000/64000 [==============================] - 9s 140us/step - loss: 13.9023 - mean_absolute_error: 1.6801 - val_loss: 15.4477 - val_mean_absolute_error: 1.9834\n",
      "Epoch 28/40\n",
      "64000/64000 [==============================] - 9s 146us/step - loss: 13.7965 - mean_absolute_error: 1.6717 - val_loss: 15.4584 - val_mean_absolute_error: 1.9915\n",
      "Epoch 29/40\n",
      "64000/64000 [==============================] - 9s 136us/step - loss: 13.6910 - mean_absolute_error: 1.6644 - val_loss: 15.4811 - val_mean_absolute_error: 1.9813\n",
      "Epoch 30/40\n",
      "64000/64000 [==============================] - 10s 161us/step - loss: 13.5859 - mean_absolute_error: 1.6553 - val_loss: 15.5346 - val_mean_absolute_error: 1.9913\n",
      "Epoch 31/40\n",
      "64000/64000 [==============================] - 9s 136us/step - loss: 13.4749 - mean_absolute_error: 1.6516 - val_loss: 15.5180 - val_mean_absolute_error: 1.9636\n",
      "Epoch 32/40\n",
      "64000/64000 [==============================] - 8s 132us/step - loss: 13.3888 - mean_absolute_error: 1.6386 - val_loss: 15.6007 - val_mean_absolute_error: 2.0235\n",
      "Epoch 33/40\n",
      "64000/64000 [==============================] - 10s 159us/step - loss: 13.2793 - mean_absolute_error: 1.6369 - val_loss: 15.5215 - val_mean_absolute_error: 1.9863\n",
      "Epoch 34/40\n",
      "64000/64000 [==============================] - 8s 126us/step - loss: 13.1915 - mean_absolute_error: 1.6278 - val_loss: 15.5931 - val_mean_absolute_error: 2.0097\n",
      "Epoch 35/40\n",
      "64000/64000 [==============================] - 8s 129us/step - loss: 13.1030 - mean_absolute_error: 1.6196 - val_loss: 15.6297 - val_mean_absolute_error: 2.0172\n",
      "Epoch 36/40\n",
      "64000/64000 [==============================] - 10s 150us/step - loss: 13.0010 - mean_absolute_error: 1.6175 - val_loss: 15.6215 - val_mean_absolute_error: 1.9908\n",
      "Epoch 37/40\n",
      "64000/64000 [==============================] - 9s 146us/step - loss: 12.9116 - mean_absolute_error: 1.6056 - val_loss: 15.7417 - val_mean_absolute_error: 2.0297\n",
      "Epoch 38/40\n",
      "64000/64000 [==============================] - 10s 154us/step - loss: 12.8253 - mean_absolute_error: 1.6033 - val_loss: 15.7410 - val_mean_absolute_error: 2.0174\n",
      "Epoch 39/40\n",
      "64000/64000 [==============================] - 9s 136us/step - loss: 12.7400 - mean_absolute_error: 1.5962 - val_loss: 15.7450 - val_mean_absolute_error: 2.0148\n",
      "Epoch 40/40\n",
      "64000/64000 [==============================] - 8s 125us/step - loss: 12.6517 - mean_absolute_error: 1.5872 - val_loss: 15.7828 - val_mean_absolute_error: 2.0169\n"
     ]
    }
   ],
   "source": [
    "NumEpochs = 40\n",
    "history = model.fit(data_train, NumLines_train,\n",
    "                    epochs=NumEpochs,\n",
    "                    batch_size=512,\n",
    "                    validation_split=0.2)"
   ]
  },
  {
   "cell_type": "code",
   "execution_count": 7,
   "metadata": {},
   "outputs": [
    {
     "data": {
      "text/plain": [
       "dict_keys(['val_loss', 'val_mean_absolute_error', 'loss', 'mean_absolute_error'])"
      ]
     },
     "execution_count": 7,
     "metadata": {},
     "output_type": "execute_result"
    }
   ],
   "source": [
    "history_dict = history.history\n",
    "history_dict.keys()"
   ]
  },
  {
   "cell_type": "code",
   "execution_count": 8,
   "metadata": {},
   "outputs": [],
   "source": [
    "import matplotlib.pyplot as plt\n",
    "plt.show()"
   ]
  },
  {
   "cell_type": "code",
   "execution_count": 9,
   "metadata": {},
   "outputs": [
    {
     "data": {
      "image/png": "[encoded data removed]",
      "text/plain": [
       "<matplotlib.figure.Figure at 0x20823777a90>"
      ]
     },
     "metadata": {},
     "output_type": "display_data"
    },
    {
     "data": {
      "image/png": "[encoded data removed]",
      "text/plain": [
       "<matplotlib.figure.Figure at 0x2082381ab38>"
      ]
     },
     "metadata": {},
     "output_type": "display_data"
    }
   ],
   "source": [
    "# plotter historikken for 'loss'\n",
    "loss     = history.history['loss']\n",
    "val_loss = history.history['val_loss']\n",
    "mae      = history.history['mean_absolute_error']\n",
    "val_mae  = history.history['val_mean_absolute_error']\n",
    "\n",
    "epochs = range(1, NumEpochs+1)\n",
    "\n",
    "plt.plot(epochs, loss, 'bo', label='Training loss')       # bo = \"blue dot\"\n",
    "plt.plot(epochs, val_loss, 'b', label='Validation loss')  # b  = \"solid blue line\"\n",
    "plt.title('Training and validation loss')\n",
    "plt.legend()\n",
    "plt.show()\n",
    "\n",
    "plt.plot(epochs, mae, 'bo', label='Training mae')\n",
    "plt.plot(epochs, val_mae, 'b', label='Validation mae')\n",
    "plt.title('Training and validation *mean absolute error*, mae')\n",
    "plt.legend()\n",
    "plt.show()"
   ]
  },
  {
   "cell_type": "markdown",
   "metadata": {},
   "source": [
    "# Validering af modellen på test data\n",
    "Her indlæser vi så test data, helt nye data til test"
   ]
  },
  {
   "cell_type": "code",
   "execution_count": 10,
   "metadata": {},
   "outputs": [
    {
     "name": "stdout",
     "output_type": "stream",
     "text": [
      "2.2903\n",
      "2.1472\n",
      "2.2041\n",
      "1.8795\n",
      "5.8322\n",
      "0.3943\n",
      "2.4423\n",
      "3.0702\n",
      "1.6193\n"
     ]
    }
   ],
   "source": [
    "# vi prøver modellen på test-data\n",
    "predictions = model.predict(data_test)\n",
    "for i in range(1,10):\n",
    "    print(('%1.4f' % predictions[i]))"
   ]
  },
  {
   "cell_type": "code",
   "execution_count": 11,
   "metadata": {},
   "outputs": [
    {
     "data": {
      "image/png": "[encoded data removed]",
      "text/plain": [
       "<matplotlib.figure.Figure at 0x2082bb74b00>"
      ]
     },
     "metadata": {},
     "output_type": "display_data"
    }
   ],
   "source": [
    "# plotter predictions vs 'hvad den faktisk skal være'\n",
    "plt.figure(figsize=(8, 6), dpi=80)\n",
    "plt.plot(NumLines_test, predictions, '.', label='Training loss')       # bo = \"blue dot\"\n",
    "plt.xlabel('Fra datasæt')\n",
    "plt.ylabel('Predictions')\n",
    "plt.title('Training and validation loss')\n",
    "plt.legend()\n",
    "plt.show()"
   ]
  },
  {
   "cell_type": "code",
   "execution_count": 12,
   "metadata": {},
   "outputs": [
    {
     "name": "stdout",
     "output_type": "stream",
     "text": [
      "linje  SkalVære  Prediction  Tekst\n",
      " 426        113         3.5  Materiel. Passager melder at noget ryger fra toget.\n",
      "1186         32         5.1  K -12 u Mst.. Signalfejl Trg..\n",
      "1432         41        15.7  Vendinger og kørsel Vest\n",
      "1567         55         6.0  Disponering på Kysten\n",
      "1579         41         1.9  Kl 09:02 - der holder et sj tog I cph spor 1 -- IP 530\n",
      "1760         38        18.4  Sporskiftefejl i Hellerup spor 1 udkørsels skiftet (laskebrud i/ved sp\n",
      "1884         54         9.4  Politi: Fundet en mistænkelig kuffert og Tgf vil ikke køre længere. Tg\n",
      "2056         53         8.7  Spsk.fejl i KLV\n",
      "2066         36         6.9  Øvrige BDK: L -37\n",
      "2076         40         8.3  Har påkørt en tabt puffer fra et G tog på vej ud af RG .\n",
      "2085         32         4.2  Materielmangel. Vi mangler kraftigt togsæt i Od og Fa.\n",
      "2218         39        14.6  NY PLAN FOR RESTEN AF DAGEN Vi starter på 25xx systemet og 45 system\n",
      "2379         94        27.1  Strategi ifb. med køreledningsnedfald Ky, lagt frem til 12.00. Pt. ing\n",
      "2503         52        19.9  Signalfejl mellem Årslev og Ringe\n",
      "2553         32         3.6  Jordfejl Kk..\n",
      "2715         38        10.1  2008  har en påkørsel Kl Chefvagten underettet\n",
      "2737         42        15.7  Sporarbejde : Sporskifte arbejde i Væ bliver ikke færdig til tiden. pr\n",
      "3118         37        10.2  G 41752 er gået i stå uden for Cph\n",
      "3268         51        13.7  Banedanmark: Kabelbrud mellem Vejle og Herning. De har stadig ikke fåe\n",
      "3372         47         4.4  Rørløb aflyses, pga signal fejl ved kn.\n",
      "3481         51        21.6  personpåkørsel HIF\n",
      "3629         59         8.8  KK lukket.\n",
      "3714         38         5.1  Sporfejl spor 6 på Kh, ved perronkiosken.\n",
      "4064         30         9.7  Banedanmark, sporskiftefejl i Herfølge....\n",
      "4088         48         2.7  Lampefejl Ban. 19146 skal udrangeres\n",
      "4102         34         9.3  Gadstrup er stået helt af\n",
      "4363         41        10.6  falsk besat blok mellem KK-KH\n",
      "4460        152        12.0  Brand i nogle tanke med palmeolie på Fredericia Havn  Skrevet 23:12 \n",
      "4464        115        22.8  Fejl på KK er kommet igen  Skrevet kl.10:43\n",
      "4571         79        13.6  Strategi plan pga. KK Se Fed 04:54\n",
      "4612         58        21.1  Skinnebrud : Skinnebrud ved Kn.\n",
      "5243         30         3.8  Nedformering fra Sverige\n",
      "5598         36        10.3  Fjernstyringsfejl i Rungsted.\n",
      "5873         36        15.2  En person er jfr. politie hoppet ned fra Carlsbergbroen ved Enghave.\n",
      "6398         52        18.2  Påkørt en traktor i Blok 2168 mellem SÅ-Kl\n",
      "6424         58         3.0  Infrastruktur Ingen Strøm i Malmø\n",
      "6486         33         2.2  Holder lige efter Ro med bremse problemer. LKi ringer til ham.\n",
      "6571        102        17.1  Køreledning Gæ\n",
      "6636         52        33.7  Banedanmark      Kørelednings arbejde i TL, ikke færdigt grundet fejl \n",
      "7034         43        18.3  13-systemet i egne linjer\n",
      "7074         81        15.5  03:47 - Ált strøm er gået i Aarhus, men systemet er ved at genstarte\n",
      "7146         84        26.1  skinnebrud  mellem HTÅ GL\n",
      "7169         30        15.7  Bump i sporet v/ KN\n",
      "7273         47        18.8  Personpåkørsel Rg\n",
      "7301         41        20.9  Disponering Pga. stormen Grom. Øst Generelt, timedrift I regionaltog\n",
      "7417         68         2.6  Materiel.   Lkf oplyser at han er afsporet i Lundby.    Lki på sagen.\n",
      "7423         46         5.5  falsk besat blok I BAN\n",
      "7765         83        25.9  Trafikken stoppet mellem Glostrup og Høje Tåstrup. S-tog har en person\n",
      "7810         33        19.7  Er røget forbi signalerne i spor 1 på Kk og har skåret skifterne op. H\n",
      "8320         32        32.3  Disponering Pga. stormen Gorm vest: Generelt, timedrift I regionalto\n",
      "8344         46         4.8  Holder med tekniske problemer i Kokkedal.\n",
      "8356         38        19.7  kl 21 : 00  = Der kan stadig ikke køres mellem KH og CPH.\n",
      "8494         45        21.6  Personpåkørsel i HL\n",
      "8545         42        11.4  Laskefejl mellem Hp-Od i vestgående retning (hændelsen startede kl. 9.\n",
      "8732         52         5.7  Hgl. Oscillator-fejl. Mange falske besættelser. Sporskifter kan omstil\n",
      "8741         36         5.4  Masnedø\n",
      "8912         32         8.2  Kobling af Lyn og IC i MD, samt omdisponering i Es\n"
     ]
    }
   ],
   "source": [
    "print('linje  SkalVære  Prediction  Tekst')\n",
    "for i in range(1,9000):\n",
    "    if NumLines_test[i] > 29:\n",
    "        PrtStr = (('%4.0f' % i) + '       ' + \n",
    "                  ('%4.0f' % NumLines_test[i]) + '        ' + \n",
    "                  ('%4.1f' % predictions[i]) + '  ' + \n",
    "                  texts_test[i][:70].replace('\\n', ' ').replace('\\r', ''))\n",
    "        print(PrtStr)"
   ]
  }
 ],
 "metadata": {
  "kernelspec": {
   "display_name": "Python 3",
   "language": "python",
   "name": "python3"
  },
  "language_info": {
   "codemirror_mode": {
    "name": "ipython",
    "version": 3
   },
   "file_extension": ".py",
   "mimetype": "text/x-python",
   "name": "python",
   "nbconvert_exporter": "python",
   "pygments_lexer": "ipython3",
   "version": "3.6.4"
  }
 },
 "nbformat": 4,
 "nbformat_minor": 2
}
