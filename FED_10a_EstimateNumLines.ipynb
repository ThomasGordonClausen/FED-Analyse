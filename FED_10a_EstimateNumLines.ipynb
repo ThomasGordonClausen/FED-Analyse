{
 "cells": [
  {
   "cell_type": "markdown",
   "metadata": {},
   "source": [
    "# Lineær regression - Kan vi estimere antallet af linjer\n",
    "\n",
    "- **Problem:** Kan jeg med ML estimere antallet af linjer en FED overskrift giver anledning til? Mine input data er FED data, hvor jeg har samlet en overskrift og det tilhørende *antal* linjer strategi hørende til overskriften. Dette er et lineært problem\n",
    "- **Succes er** Jeg vil undersøge om en simpel model kan finde sammenhængen. Jeg håber på det bedste, men er skeptisk, for jeg kan ikke selv se et klart mønster ...\n",
    "- **Evaluering** Modellen evalueres ved at jeg deler data op i train, validering og test. train og validering opdeles atomatisk af Keras\n",
    "- **Data** hentes ud af FED i en tekst-fil. Den videre behandling sker i en Access-database og i et regneark. Input gemmes til sidst i et regneark\n",
    "- **Baseline** Selv den bedste model har ikke rigtigt gjort det godt ind til nu, der er nok ikke system i data?\n",
    "- **Optimering vs generalisering** Den får vi se på ...\n",
    "- **Tuning hyper pametre** Den får vi se på ... \n",
    "\n",
    "Nedenfor er et par eksempler på hvordan data rigtigt ser ud. I eksemplet er en kort tekst med otte strategilinjer. Og den timsvarende omsættelse til inddata til modellen.\n",
    "\n",
    "![title](FEDentry.GIF)\n",
    "![title](FEDentry2.GIF)\n",
    "\n",
    "### Konklusion\n",
    "1. forsøg: Jeg har nok 'Imbalanced Classes', så algoritmen har alt at vinde ved altid at gætte på 1?"
   ]
  },
  {
   "cell_type": "code",
   "execution_count": 1,
   "metadata": {},
   "outputs": [],
   "source": [
    "# vi sætter stien til data\n",
    "import os\n",
    "import pandas as pd\n",
    "import numpy as np\n",
    "os.chdir('/Users/ThomasGordon/Documents/PythonScripts/FED')\n"
   ]
  },
  {
   "cell_type": "code",
   "execution_count": 2,
   "metadata": {},
   "outputs": [],
   "source": [
    "# Excel-filen med tekster åbnes og indlæses\n",
    "xl = pd.ExcelFile('FEDAll.xlsx')\n",
    "df = xl.parse('FEDlinjer')       # siden i arket\n",
    "\n",
    "# læs overskrifter i FED\n",
    "texts  = df.loc[:,'FEDtext']\n",
    "texts  = texts.values\n",
    "\n",
    "# læs antal linjer og omsæt til \"stor hændelse\" eller \"lille hændelse\"\n",
    "NumLines = df.loc[:,'FEDlinjer']\n",
    "NumLines = NumLines.values\n",
    "\n",
    "# vi rafler data rundt tilfældigt (vi laver et tilfældigt index)\n",
    "indices = np.arange(texts.shape[0])\n",
    "np.random.shuffle(indices)\n",
    "texts   = texts[indices]\n",
    "NumLines = NumLines[indices]\n",
    "\n",
    "# opdeling i training data og test data\n",
    "i = 80000  # antal linjer afsat til træning, resten er test\n",
    "texts_train = texts[:i]\n",
    "texts_test  = texts[i:] \n",
    "NumLines_train = NumLines[:i]\n",
    "NumLines_test  = NumLines[i:]"
   ]
  },
  {
   "cell_type": "code",
   "execution_count": 3,
   "metadata": {},
   "outputs": [
    {
     "name": "stderr",
     "output_type": "stream",
     "text": [
      "C:\\Users\\ThomasGordon\\Anaconda3\\lib\\site-packages\\h5py\\__init__.py:36: FutureWarning: Conversion of the second argument of issubdtype from `float` to `np.floating` is deprecated. In future, it will be treated as `np.float64 == np.dtype(float).type`.\n",
      "  from ._conv import register_converters as _register_converters\n",
      "Using TensorFlow backend.\n"
     ]
    },
    {
     "name": "stdout",
     "output_type": "stream",
     "text": [
      "Fandt 21158 unikke tokens.\n"
     ]
    }
   ],
   "source": [
    "# TOKENIZER - laver tekst om til vektor, henter text processing modul\n",
    "\n",
    "from keras.preprocessing.text import Tokenizer\n",
    "from keras.preprocessing.sequence import pad_sequences\n",
    "\n",
    "max_words = 10000  # Vi ser kun på de 10.000 mest almindelige ord\n",
    "\n",
    "# vi laver ordene i FED om til tilsvarende tal (som nedenfor laves til en \"one-hot\")\n",
    "tokenizer = Tokenizer(num_words=max_words)\n",
    "tokenizer.fit_on_texts(texts)\n",
    "word_index = tokenizer.word_index\n",
    "print('Fandt %s unikke tokens.' % len(word_index))"
   ]
  },
  {
   "cell_type": "code",
   "execution_count": 4,
   "metadata": {},
   "outputs": [
    {
     "name": "stdout",
     "output_type": "stream",
     "text": [
      "(80000, 10000)\n",
      "(20867, 10000)\n",
      "(80000,)\n",
      "(20867,)\n"
     ]
    }
   ],
   "source": [
    "# sætninger laves om til en \"one hot\" data vektor\n",
    "# tester ...\n",
    "data_train = tokenizer.texts_to_matrix(texts_train, mode='binary')\n",
    "data_test  = tokenizer.texts_to_matrix(texts_test,  mode='binary')\n",
    "\n",
    "# labels laves til vektor\n",
    "NumLines_train = np.asarray(NumLines_train).astype('float32')\n",
    "NumLines_test = np.asarray(NumLines_test).astype('float32')\n",
    "\n",
    "# print størrelsen på train og test data\n",
    "print(data_train.shape)\n",
    "print(data_test.shape)\n",
    "print(NumLines_train.shape)\n",
    "print(NumLines_test.shape)"
   ]
  },
  {
   "cell_type": "code",
   "execution_count": 5,
   "metadata": {},
   "outputs": [
    {
     "name": "stdout",
     "output_type": "stream",
     "text": [
      "_________________________________________________________________\n",
      "Layer (type)                 Output Shape              Param #   \n",
      "=================================================================\n",
      "dense_1 (Dense)              (None, 16)                160016    \n",
      "_________________________________________________________________\n",
      "dense_2 (Dense)              (None, 16)                272       \n",
      "_________________________________________________________________\n",
      "dropout_1 (Dropout)          (None, 16)                0         \n",
      "_________________________________________________________________\n",
      "dense_3 (Dense)              (None, 1)                 17        \n",
      "=================================================================\n",
      "Total params: 160,305\n",
      "Trainable params: 160,305\n",
      "Non-trainable params: 0\n",
      "_________________________________________________________________\n"
     ]
    }
   ],
   "source": [
    "from keras import models\n",
    "from keras import layers\n",
    "\n",
    "model = models.Sequential()\n",
    "model.add(layers.Dense(16, activation='relu', input_shape=(10000,)))\n",
    "model.add(layers.Dense(16, activation='relu'))\n",
    "model.add(layers.Dropout(0.5))\n",
    "model.add(layers.Dense(1))\n",
    "model.compile(optimizer='rmsprop',\n",
    "              loss='mse',\n",
    "              metrics=['mae'])\n",
    "\n",
    "model.summary()"
   ]
  },
  {
   "cell_type": "code",
   "execution_count": 6,
   "metadata": {},
   "outputs": [
    {
     "name": "stdout",
     "output_type": "stream",
     "text": [
      "Train on 64000 samples, validate on 16000 samples\n",
      "Epoch 1/10\n",
      "64000/64000 [==============================] - 15s 232us/step - loss: 25.6898 - mean_absolute_error: 2.3962 - val_loss: 24.6911 - val_mean_absolute_error: 1.9215\n",
      "Epoch 2/10\n",
      "64000/64000 [==============================] - 10s 161us/step - loss: 21.4184 - mean_absolute_error: 2.0522 - val_loss: 22.3980 - val_mean_absolute_error: 1.8398\n",
      "Epoch 3/10\n",
      "64000/64000 [==============================] - 10s 155us/step - loss: 19.8770 - mean_absolute_error: 2.0050 - val_loss: 21.4345 - val_mean_absolute_error: 1.8305\n",
      "Epoch 4/10\n",
      "64000/64000 [==============================] - 10s 156us/step - loss: 18.9625 - mean_absolute_error: 1.9706 - val_loss: 20.8013 - val_mean_absolute_error: 1.8289\n",
      "Epoch 5/10\n",
      "64000/64000 [==============================] - 9s 134us/step - loss: 18.2745 - mean_absolute_error: 1.9422 - val_loss: 20.3238 - val_mean_absolute_error: 1.8403\n",
      "Epoch 6/10\n",
      "64000/64000 [==============================] - 9s 136us/step - loss: 17.7951 - mean_absolute_error: 1.9021 - val_loss: 19.9759 - val_mean_absolute_error: 1.8346\n",
      "Epoch 7/10\n",
      "64000/64000 [==============================] - 9s 144us/step - loss: 17.5806 - mean_absolute_error: 1.8797 - val_loss: 19.6564 - val_mean_absolute_error: 1.8471\n",
      "Epoch 8/10\n",
      "64000/64000 [==============================] - 9s 133us/step - loss: 17.2639 - mean_absolute_error: 1.8526 - val_loss: 19.4527 - val_mean_absolute_error: 1.8629\n",
      "Epoch 9/10\n",
      "64000/64000 [==============================] - 8s 130us/step - loss: 16.7093 - mean_absolute_error: 1.8349 - val_loss: 19.3579 - val_mean_absolute_error: 1.8370\n",
      "Epoch 10/10\n",
      "64000/64000 [==============================] - 8s 128us/step - loss: 16.3362 - mean_absolute_error: 1.8125 - val_loss: 19.2808 - val_mean_absolute_error: 1.8257\n"
     ]
    }
   ],
   "source": [
    "NumEpochs = 10\n",
    "history = model.fit(data_train, NumLines_train,\n",
    "                    epochs=NumEpochs,\n",
    "                    batch_size=512,\n",
    "                    validation_split=0.2)"
   ]
  },
  {
   "cell_type": "code",
   "execution_count": 7,
   "metadata": {},
   "outputs": [
    {
     "data": {
      "text/plain": [
       "dict_keys(['val_loss', 'val_mean_absolute_error', 'loss', 'mean_absolute_error'])"
      ]
     },
     "execution_count": 7,
     "metadata": {},
     "output_type": "execute_result"
    }
   ],
   "source": [
    "history_dict = history.history\n",
    "history_dict.keys()"
   ]
  },
  {
   "cell_type": "code",
   "execution_count": 8,
   "metadata": {},
   "outputs": [],
   "source": [
    "import matplotlib.pyplot as plt\n",
    "plt.show()"
   ]
  },
  {
   "cell_type": "code",
   "execution_count": 9,
   "metadata": {},
   "outputs": [
    {
     "data": {
      "image/png": "[encoded data removed]",
      "text/plain": [
       "<matplotlib.figure.Figure at 0x1a4615130f0>"
      ]
     },
     "metadata": {},
     "output_type": "display_data"
    },
    {
     "data": {
      "image/png": "[encoded data removed]",
      "text/plain": [
       "<matplotlib.figure.Figure at 0x1a46154c710>"
      ]
     },
     "metadata": {},
     "output_type": "display_data"
    }
   ],
   "source": [
    "# plotter historikken for 'loss'\n",
    "loss     = history.history['loss']\n",
    "val_loss = history.history['val_loss']\n",
    "mae      = history.history['mean_absolute_error']\n",
    "val_mae  = history.history['val_mean_absolute_error']\n",
    "\n",
    "epochs = range(1, NumEpochs+1)\n",
    "\n",
    "plt.plot(epochs, loss, 'bo', label='Training loss')       # bo = \"blue dot\"\n",
    "plt.plot(epochs, val_loss, 'b', label='Validation loss')  # b  = \"solid blue line\"\n",
    "plt.title('Training and validation loss')\n",
    "plt.legend()\n",
    "plt.show()\n",
    "\n",
    "plt.plot(epochs, mae, 'bo', label='Training mae')\n",
    "plt.plot(epochs, val_mae, 'b', label='Validation mae')\n",
    "plt.title('Training and validation *mean absolute error*, mae')\n",
    "plt.legend()\n",
    "plt.show()"
   ]
  },
  {
   "cell_type": "markdown",
   "metadata": {},
   "source": [
    "# Validering af modellen på test data\n",
    "Her indlæser vi så test data, helt nye data til test"
   ]
  },
  {
   "cell_type": "code",
   "execution_count": 10,
   "metadata": {},
   "outputs": [
    {
     "name": "stdout",
     "output_type": "stream",
     "text": [
      "3.1978\n",
      "2.1201\n",
      "2.6508\n",
      "2.4509\n",
      "3.2169\n",
      "2.6635\n",
      "1.7413\n",
      "1.2197\n",
      "2.9596\n"
     ]
    }
   ],
   "source": [
    "# vi prøver modellen på test-data\n",
    "predictions = model.predict(data_test)\n",
    "for i in range(1,10):\n",
    "    print(('%1.4f' % predictions[i]))"
   ]
  },
  {
   "cell_type": "code",
   "execution_count": 13,
   "metadata": {},
   "outputs": [
    {
     "data": {
      "image/png": "[encoded data removed]",
      "text/plain": [
       "<matplotlib.figure.Figure at 0x1a4616354a8>"
      ]
     },
     "metadata": {},
     "output_type": "display_data"
    }
   ],
   "source": [
    "# plotter predictions vs 'hvad den faktisk skal være'\n",
    "plt.figure(figsize=(8, 6), dpi=80)\n",
    "plt.plot(NumLines_test, predictions, '.', label='Training loss')       # bo = \"blue dot\"\n",
    "plt.xlabel('Fra datasæt')\n",
    "plt.ylabel('Predictions')\n",
    "plt.title('Training and validation loss')\n",
    "plt.legend()\n",
    "plt.show()"
   ]
  },
  {
   "cell_type": "code",
   "execution_count": 31,
   "metadata": {},
   "outputs": [
    {
     "name": "stdout",
     "output_type": "stream",
     "text": [
      "linje  SkalVære  Prediction  Tekst\n",
      "  15         32         4.8  Materielfejl på Kh, holder I spor 4 med faste bremse (tiden rettet)\n",
      " 979         43         8.3  Skinnebrud i FT\n",
      "1538        132         5.5  Materielfejl, holder i Rungste spor 2 og har tekniske problemer.\n",
      "1784         43         6.8  Svensk politi har standset trafikken i %hie pga. personer i sporet\n",
      "1885         32         4.8  Signalfejl Kh giver yderligere forsinkelser\n",
      "2197         35         8.7  To strømaftager revet af toget. Endnu kan vi ikke sige om der er falde\n",
      "2425         32        15.6  Spærringen mellem SQ-NI, kan ikke ophæves før kl 6.\n",
      "2700         34         3.2  Nedbrudt Bo\n",
      "2791         86        12.9  Signalfejl KK - KH: Linieblokken mellem kk og kh er besat i begge spor\n",
      "2862         38         7.9  Disponering BDK andet hoved spor er spærret i drogdetunnelen\n",
      "2901         42         8.8  Signalerne i hele i RFC Ros område fra Vy til Htå faldt, flere virker \n",
      "3035         67         7.9  Person påkørsel ved Bo\n",
      "3440         60         4.3  Signalfejl Cph : CTC fejl\n",
      "3601         44         5.7  Klv : fejl på sporskifte\n",
      "3614         51         6.1  OBS: Ændringer for resten af påsken, omkring vendingerne i Lk 19/4.\n",
      "3786         77         4.3  I Vipperød K - 13.03 Pe\n",
      "4043         55        25.7  Bane danmark: De siger nu der ikke kommer til at køre de første timer.\n",
      "4907         41         8.3  falsk besat blok mellem KK-KH\n",
      "5769         34        18.6  Od. Godstog gået i stå på vej ud af stationen. Skrevet kl. 07.55, frem\n",
      "5829         38         2.3  Disponering DSB pga forsinkelse:\n",
      "6200        118        14.4  04:16 - Banedanmark, signalfejl i 1 hovedspor mellem Østerport og Købe\n",
      "6265        133        17.3  Vi laver en udtyndning på Vestfyn PT til kl 09:00. (SKREVET KL.01.00, \n",
      "6270         30         9.0  Signalfejl Kh : Fastlægning på Kh\n",
      "6358         30         5.1  der er brand i skråning i KD\n",
      "6446         53        15.8  Sporskiftefejl. Kun et spor mellem Klampenborg og Hellerup. 20xx syste\n",
      "6744         42         7.5  Sporarbejde: Et arbejdstog har tabt en masse værktøj og ramt nogle kab\n",
      "6877         79        15.8  aflysning af 13xx frem til 19:00 indsættelse af 7720xx  Sidste er \n",
      "6886         46         8.5  Materielfejl. Nedbrud mellem HIF-VAL\n",
      "7019         35        17.3  Personpåkørsel ved Fj. En person på en bro, som er hoppet ned. Km 70,6\n",
      "7044         34        14.2  Personpåkørsel : Har påkørt person ved Så\n",
      "7237         38         3.8  Påkørsel: har påkørt et træ syd for Næstved, lki tager kontakt\n",
      "7317         30        18.9  Laskebrud ved HL i nordgående retning, sporet lukket. Bdk melder, be\n",
      "7332        100         7.0  Signalfejl Kn, falsk besættelse i blokafsnit 2017\n",
      "7367         31         2.0  Materielfejl MF efter Ng, røgudvikling på toilet, der er helt sort, så\n",
      "7661         34         7.7  Gadstrup er stået helt af\n",
      "7890         32         3.9  KLV gået I sort.\n",
      "7938         44        11.5  Masensund broen er påsejlet.  PT kan der ikke køres over Broen.   \n",
      "8494         30         5.9  Plan for Odderbanen d. 9/4 pga. aflåst sporskifte i Ass og kørsel på s\n",
      "8575         33         9.4  HQ: Blokuorden Hq-Vn + Vn-Hq SE DRAP.1970528  •                 \n",
      "8767         86         8.0  sporskifte fejl  i RO spor 5\n",
      "8847         43         3.7  Falsk besættelse Tåt\n",
      "8853         50         4.3  Signalfejl: røret KK. Sporvagten er på vej Der køres på stop og ryk\n",
      "8880         36         8.9  Forsinkelser i forbindelse med skinnebrud, rettidige tog i Jylland\n"
     ]
    }
   ],
   "source": [
    "print('linje  SkalVære  Prediction  Tekst')\n",
    "for i in range(1,9000):\n",
    "    if NumLines_test[i] > 29:\n",
    "        PrtStr = (('%4.0f' % i) + '       ' + \n",
    "                  ('%4.0f' % NumLines_test[i]) + '        ' + \n",
    "                  ('%4.1f' % predictions[i]) + '  ' + \n",
    "                  texts_test[i][:70].replace('\\n', ' ').replace('\\r', ''))\n",
    "        print(PrtStr)"
   ]
  }
 ],
 "metadata": {
  "kernelspec": {
   "display_name": "Python 3",
   "language": "python",
   "name": "python3"
  },
  "language_info": {
   "codemirror_mode": {
    "name": "ipython",
    "version": 3
   },
   "file_extension": ".py",
   "mimetype": "text/x-python",
   "name": "python",
   "nbconvert_exporter": "python",
   "pygments_lexer": "ipython3",
   "version": "3.6.4"
  }
 },
 "nbformat": 4,
 "nbformat_minor": 2
}
