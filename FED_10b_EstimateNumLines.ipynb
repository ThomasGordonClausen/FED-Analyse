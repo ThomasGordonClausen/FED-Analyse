{
 "cells": [
  {
   "cell_type": "markdown",
   "metadata": {},
   "source": [
    "# Lineær regression - Kan vi estimere antallet af linjer\n",
    "\n",
    "- **Problem:** Kan jeg med ML estimere antallet af linjer en FED overskrift giver anledning til? Mine input data er FED data, hvor jeg har samlet en overskrift og det tilhørende *antal* linjer strategi hørende til overskriften. Dette er et lineært problem\n",
    "- **Succes er** Jeg vil undersøge om en *lidt mere avaneret model* kan finde sammenhængen.Her forsøger jeg mig med recurrent\n",
    "- **Evaluering** Modellen evalueres ved at jeg deler data op i train, validering og test. train og validering opdeles atomatisk af Keras. Modellen valideres på *test*: Jeg plotter faktisk værdi ift predicted værdi. \n",
    "- **Data** hentes ud af FED i en tekst-fil. Den videre behandling sker i en Access-database og i et regneark. Input gemmes til sidst i et regneark\n",
    "- **Baseline** Selv den bedste model har ikke rigtigt gjort det godt ind til nu, der er nok ikke system i data?\n",
    "- **Optimering vs generalisering** Den får vi se på ...\n",
    "- **Tuning hyper pametre** Den får vi se på ... \n",
    "\n",
    "Nedenfor er et par eksempler på hvordan data rigtigt ser ud. I eksemplet er en kort tekst med otte strategilinjer. Og den timsvarende omsættelse til inddata til modellen.\n",
    "\n",
    "![title](FEDentry.GIF)\n",
    "\n",
    "### Evaluering af forsøg\n",
    "\n",
    "- første model: den har rigtigt svært ved at genkende små problemer, de overvurderes og bliver estimeret kæmpe store, denne model virker dårligere end en simpel \"one-hot\" (FED10a)\n",
    "- Prøver med et \"dense layer\", og det gør detekteringen af små lidt bedre\n",
    "- Prøver at indføre lidt dropout, bliver lidt bedre ...\n",
    "- Prøver mindre dropout, visuelt virker det bedre\n",
    "\n",
    "### Konklusion\n",
    "- Det bliver ikke meget bedre end nedenfor\n",
    "- Jeg har printet de FED-linjer, som modellen mener er store. PErsonligt kan jeg godt se, at mange af dem kunne have været store, så modellen ser vel det samme som jeg, groft taget, ser? At det så ikke helt er i overensstemmelse med hvad der skete i praksis er måske mere et udslag af virkelighedens tilfældighed?"
   ]
  },
  {
   "cell_type": "code",
   "execution_count": 1,
   "metadata": {},
   "outputs": [],
   "source": [
    "# henter data og lægger pænt i tabeller\n",
    "\n",
    "# vi sætter stien til data\n",
    "import os\n",
    "import pandas as pd\n",
    "import numpy as np\n",
    "os.chdir('/Users/ThomasGordon/Documents/PythonScripts/FED')\n",
    "\n",
    "# Excel-filen med tekster åbnes og indlæses\n",
    "xl = pd.ExcelFile('FEDAll.xlsx')\n",
    "df = xl.parse('FEDlinjer')       # siden i arket\n",
    "\n",
    "# læs overskrifter i FED\n",
    "texts  = df.loc[:,'FEDtext']\n",
    "texts  = texts.values\n",
    "\n",
    "# læs antal linjer og omsæt til \"stor hændelse\" eller \"lille hændelse\"\n",
    "NumLines = df.loc[:,'FEDlinjer']\n",
    "NumLines = NumLines.values\n",
    "\n",
    "# vi rafler data rundt tilfældigt (vi laver et tilfældigt index)\n",
    "indices = np.arange(texts.shape[0])\n",
    "np.random.shuffle(indices)\n",
    "texts   = texts[indices]\n",
    "NumLines = NumLines[indices]\n",
    "\n",
    "# opdeling i training data og test data\n",
    "i = 80000  # antal linjer afsat til træning, resten er test\n",
    "texts_train = texts[:i]\n",
    "texts_test  = texts[i:] \n",
    "NumLines_train = NumLines[:i]\n",
    "NumLines_test  = NumLines[i:]"
   ]
  },
  {
   "cell_type": "code",
   "execution_count": 2,
   "metadata": {},
   "outputs": [
    {
     "name": "stderr",
     "output_type": "stream",
     "text": [
      "C:\\Users\\ThomasGordon\\Anaconda3\\lib\\site-packages\\h5py\\__init__.py:36: FutureWarning: Conversion of the second argument of issubdtype from `float` to `np.floating` is deprecated. In future, it will be treated as `np.float64 == np.dtype(float).type`.\n",
      "  from ._conv import register_converters as _register_converters\n",
      "Using TensorFlow backend.\n"
     ]
    },
    {
     "name": "stdout",
     "output_type": "stream",
     "text": [
      "Fandt 21158 unikke tokens.\n"
     ]
    }
   ],
   "source": [
    "# TOKENIZER - laver tekst om til vektor, henter text processing modul\n",
    "\n",
    "from keras.preprocessing.text import Tokenizer\n",
    "from keras.preprocessing.sequence import pad_sequences\n",
    "\n",
    "max_words = 10000  # Vi ser kun på de 10.000 mest almindelige ord\n",
    "\n",
    "# vi laver ordene i FED om til tilsvarende tal (som nedenfor laves til en \"one-hot\")\n",
    "tokenizer = Tokenizer(num_words=max_words)\n",
    "tokenizer.fit_on_texts(texts)\n",
    "word_index = tokenizer.word_index\n",
    "print('Fandt %s unikke tokens.' % len(word_index))"
   ]
  },
  {
   "cell_type": "code",
   "execution_count": 3,
   "metadata": {},
   "outputs": [
    {
     "name": "stdout",
     "output_type": "stream",
     "text": [
      "(80000, 50)\n",
      "(20867, 50)\n",
      "(80000,)\n",
      "(20867,)\n"
     ]
    }
   ],
   "source": [
    "# Stop sætninger efter dette antal ord\n",
    "maxlen = 50\n",
    "\n",
    "# sætninger laves til tekst-vektor og der \"paddes\"\n",
    "sequences = tokenizer.texts_to_sequences(texts_train)\n",
    "data_train = pad_sequences(sequences, maxlen=maxlen)\n",
    "sequences = tokenizer.texts_to_sequences(texts_test)\n",
    "data_test = pad_sequences(sequences, maxlen=maxlen)\n",
    "\n",
    "# labels laves til vektor\n",
    "NumLines_train = np.asarray(NumLines_train).astype('float32')\n",
    "NumLines_test = np.asarray(NumLines_test).astype('float32')\n",
    "\n",
    "# print størrelsen på train og test data\n",
    "print(data_train.shape)\n",
    "print(data_test.shape)\n",
    "print(NumLines_train.shape)\n",
    "print(NumLines_test.shape)"
   ]
  },
  {
   "cell_type": "code",
   "execution_count": 4,
   "metadata": {},
   "outputs": [
    {
     "name": "stdout",
     "output_type": "stream",
     "text": [
      "_________________________________________________________________\n",
      "Layer (type)                 Output Shape              Param #   \n",
      "=================================================================\n",
      "embedding_1 (Embedding)      (None, 50, 8)             80000     \n",
      "_________________________________________________________________\n",
      "lstm_1 (LSTM)                (None, 32)                5248      \n",
      "_________________________________________________________________\n",
      "dense_1 (Dense)              (None, 16)                528       \n",
      "_________________________________________________________________\n",
      "dense_2 (Dense)              (None, 1)                 17        \n",
      "=================================================================\n",
      "Total params: 85,793\n",
      "Trainable params: 85,793\n",
      "Non-trainable params: 0\n",
      "_________________________________________________________________\n"
     ]
    }
   ],
   "source": [
    "from keras.models import Sequential\n",
    "from keras.layers import Flatten, Dense, Dropout, LSTM\n",
    "from keras.layers import Embedding\n",
    "\n",
    "model = Sequential()\n",
    "model.add(Embedding(10000, 8, input_length=maxlen))\n",
    "model.add(LSTM(32,\n",
    "               dropout=0.1,\n",
    "               recurrent_dropout=0.1))\n",
    "model.add(Dense(16))\n",
    "model.add(Dense(1))\n",
    "\n",
    "model.compile(optimizer='rmsprop',    # standard-optimizer\n",
    "              loss='mse',             # mean square error\n",
    "              metrics=['mae'])        # mean absolute error\n",
    "\n",
    "model.summary()"
   ]
  },
  {
   "cell_type": "code",
   "execution_count": 5,
   "metadata": {},
   "outputs": [
    {
     "name": "stdout",
     "output_type": "stream",
     "text": [
      "Train on 64000 samples, validate on 16000 samples\n",
      "Epoch 1/10\n",
      "64000/64000 [==============================] - 20s 318us/step - loss: 22.2982 - mean_absolute_error: 2.1690 - val_loss: 22.4279 - val_mean_absolute_error: 2.1118\n",
      "Epoch 2/10\n",
      "64000/64000 [==============================] - 18s 284us/step - loss: 19.9957 - mean_absolute_error: 1.9956 - val_loss: 20.0233 - val_mean_absolute_error: 2.0118\n",
      "Epoch 3/10\n",
      "64000/64000 [==============================] - 18s 284us/step - loss: 18.3314 - mean_absolute_error: 1.9319 - val_loss: 19.2215 - val_mean_absolute_error: 1.9326\n",
      "Epoch 4/10\n",
      "64000/64000 [==============================] - 18s 287us/step - loss: 17.6427 - mean_absolute_error: 1.8958 - val_loss: 18.7480 - val_mean_absolute_error: 1.9595\n",
      "Epoch 5/10\n",
      "64000/64000 [==============================] - 18s 282us/step - loss: 17.0352 - mean_absolute_error: 1.8840 - val_loss: 18.9040 - val_mean_absolute_error: 1.8485\n",
      "Epoch 6/10\n",
      "64000/64000 [==============================] - 18s 282us/step - loss: 16.5082 - mean_absolute_error: 1.8607 - val_loss: 18.4806 - val_mean_absolute_error: 1.9591\n",
      "Epoch 7/10\n",
      "64000/64000 [==============================] - 18s 284us/step - loss: 16.2764 - mean_absolute_error: 1.8531 - val_loss: 18.5050 - val_mean_absolute_error: 1.8702\n",
      "Epoch 8/10\n",
      "64000/64000 [==============================] - 18s 283us/step - loss: 16.0009 - mean_absolute_error: 1.8433 - val_loss: 18.3924 - val_mean_absolute_error: 1.8789\n",
      "Epoch 9/10\n",
      "64000/64000 [==============================] - 18s 284us/step - loss: 15.6820 - mean_absolute_error: 1.8374 - val_loss: 18.2641 - val_mean_absolute_error: 1.9099\n",
      "Epoch 10/10\n",
      "64000/64000 [==============================] - 18s 285us/step - loss: 15.4531 - mean_absolute_error: 1.8302 - val_loss: 18.3526 - val_mean_absolute_error: 1.9210\n"
     ]
    }
   ],
   "source": [
    "NumEpochs = 10\n",
    "history = model.fit(data_train, NumLines_train,\n",
    "                    epochs=NumEpochs,\n",
    "                    batch_size=512,\n",
    "                    validation_split=0.2)"
   ]
  },
  {
   "cell_type": "code",
   "execution_count": 6,
   "metadata": {},
   "outputs": [
    {
     "data": {
      "text/plain": [
       "dict_keys(['val_loss', 'val_mean_absolute_error', 'loss', 'mean_absolute_error'])"
      ]
     },
     "execution_count": 6,
     "metadata": {},
     "output_type": "execute_result"
    }
   ],
   "source": [
    "history_dict = history.history\n",
    "history_dict.keys()"
   ]
  },
  {
   "cell_type": "code",
   "execution_count": 7,
   "metadata": {},
   "outputs": [],
   "source": [
    "import matplotlib.pyplot as plt\n",
    "plt.show()"
   ]
  },
  {
   "cell_type": "code",
   "execution_count": 8,
   "metadata": {},
   "outputs": [
    {
     "data": {
      "image/png": "[encoded data removed]",
      "text/plain": [
       "<matplotlib.figure.Figure at 0x15af7ad69b0>"
      ]
     },
     "metadata": {},
     "output_type": "display_data"
    },
    {
     "data": {
      "image/png": "[encoded data removed]",
      "text/plain": [
       "<matplotlib.figure.Figure at 0x15af7b11518>"
      ]
     },
     "metadata": {},
     "output_type": "display_data"
    }
   ],
   "source": [
    "# plotter historikken for 'loss'\n",
    "loss     = history.history['loss']\n",
    "val_loss = history.history['val_loss']\n",
    "mae      = history.history['mean_absolute_error']\n",
    "val_mae  = history.history['val_mean_absolute_error']\n",
    "\n",
    "epochs = range(1, NumEpochs+1)\n",
    "\n",
    "plt.plot(epochs, loss, 'bo', label='Training loss')       # bo = \"blue dot\"\n",
    "plt.plot(epochs, val_loss, 'b', label='Validation loss')  # b  = \"solid blue line\"\n",
    "plt.title('Training and validation loss')\n",
    "plt.legend()\n",
    "plt.show()\n",
    "\n",
    "plt.plot(epochs, mae, 'bo', label='Training mae')\n",
    "plt.plot(epochs, val_mae, 'b', label='Validation mae')\n",
    "plt.title('Training and validation *mean absolute error*, mae')\n",
    "plt.legend()\n",
    "plt.show()"
   ]
  },
  {
   "cell_type": "markdown",
   "metadata": {},
   "source": [
    "# Validering af modellen på test data\n",
    "Her indlæser vi så test data, helt nye data til test"
   ]
  },
  {
   "cell_type": "code",
   "execution_count": 9,
   "metadata": {},
   "outputs": [
    {
     "name": "stdout",
     "output_type": "stream",
     "text": [
      "2.5754\n",
      "3.6103\n",
      "2.6754\n",
      "2.9709\n",
      "3.9307\n",
      "3.0223\n",
      "1.4192\n",
      "2.6223\n",
      "2.6518\n"
     ]
    }
   ],
   "source": [
    "# vi prøver modellen på test-data\n",
    "predictions = model.predict(data_test)\n",
    "for i in range(1,10):\n",
    "    print(('%1.4f' % predictions[i]))"
   ]
  },
  {
   "cell_type": "code",
   "execution_count": 10,
   "metadata": {},
   "outputs": [
    {
     "data": {
      "image/png": "[encoded data removed]",
      "text/plain": [
       "<matplotlib.figure.Figure at 0x15afff17860>"
      ]
     },
     "metadata": {},
     "output_type": "display_data"
    }
   ],
   "source": [
    "# plotter predictions vs 'hvad den faktisk skal være'\n",
    "plt.figure(figsize=(8, 6), dpi=80)\n",
    "plt.plot(NumLines_test, predictions, '.', label='Training loss')       # bo = \"blue dot\"\n",
    "plt.xlabel('Fra datasæt')\n",
    "plt.ylabel('Predictions')\n",
    "plt.title('Training and validation loss')\n",
    "plt.legend()\n",
    "plt.show()"
   ]
  },
  {
   "cell_type": "code",
   "execution_count": 11,
   "metadata": {},
   "outputs": [
    {
     "name": "stdout",
     "output_type": "stream",
     "text": [
      "linje   SkalVære  Prediction  Tekst\n",
      "  517          2        19.0  Godstog er taget i profilkontrollen ved Øre. Alt trafik holder pt stil\n",
      " 1304          2        14.9  Manglende korrigering af materieltog, i forbindelse med udtyndning af \n",
      " 1620          1        13.7  Signalfejl. Der kan ikke sættes signal i Re sydgående, fejl på bommene\n",
      " 3003          2        11.6  Signalfejl på Lille Syd mellem Hz og Ol. Samtidigt også løse køer i ve\n",
      " 3312          2        13.5  Bane danmark: Der er væltet et træ mellem Lundby og Vordingborg. Chefv\n",
      " 4959          2        10.3  Sporskiftefejl : Lille syd. Fejl på sporskifte ved HD\n",
      " 5599          2        27.4  Kørestrømmen ustabil mellem Hif-Ro. 36042 holder stille på vej ud af G\n",
      " 6549          1        15.5  E N K E L S P O R S D R I F T  KY - RG Der er fejlretningspersonale \n",
      " 6780          1        13.1  Skal kobles omvendt pga defekt strækningsradio (skrevet til middag, fr\n",
      " 6895          2        20.1  Spsk i Od mod vest er gået i udu. Der kan ikke køres til/fra vest før \n",
      " 7015          1        12.1  Bane Dk melder at der er et skinnebrud ved Su, der må ikke køres melle\n",
      " 7133          2        19.5  Defekt stød mellem Tp - Hp. BDK vil lave det omkring kl 11:30-12:00. D\n",
      " 7541          2        10.3  Kan ikke køre mod Ar, da vi mangler drejeskive både  i Odder og Viby j\n",
      " 8252          2        23.0  Trafikken stoppet mellem Tp og Hp person i sporet\n",
      " 8295          2        12.3  hentes på Hgl, og 9103 nedformeres, skyldes problematikken omkring ned\n",
      " 8706          2        12.5  Kørerstrøm : der er ikke noget strøm mellem Ru- NI\n",
      " 9190          2        12.6  Materielændring i Fh på grund af personpåkørsel i Sa\n",
      "10423          2        12.7  -7 min fra KH. pga. forsinkelser mellem KK og KN\n",
      "10760          1        14.5  Signalfejl: Lillesyd Mellem Tureby og Herfølge\n",
      "12070          2        11.4  Vendinger i re pga forsinkelse for 4678/4683 : Ank 2682 Re = 84683. 46\n",
      "12435          2        10.6  Kørt på sigt mellem Hp - Tp. Blokfejl Hp-Tp\n",
      "13089          1        10.9  Sst-Oj. Vi taber ca. 5 minutter mod syd, og 10 minutter mod nord.  Sta\n",
      "13656          2        14.3  personpåkørsel  ved I signalet ved HK  U-VAGT OG C-VAGT underettet\n",
      "14276          2        18.3  Forsinkelser på Kystbanen på 44xx systemet\n",
      "14288          1        10.7  Materielmangel: ER fa pga personpåkørsel fredag\n",
      "14492          2        20.7  Signalfejl Fjernstyringsfejl i begge spor mellem Sorø og Fjenneslev\n",
      "15085          2        11.5  Politi: Man har stoppet trafikken mellem Aulum og Vildbjerg, da der er\n",
      "15304          2        11.3  LA og signal fejl, derfor forsinket mod Rg, hvor der nu er mistet kont\n",
      "15361          1        10.3  Es.  Vi har 1xMG holdende disp, efter der har været personpåkørsel ved\n",
      "16173          2        16.7  POliti. Trafikken er i øjeblikket stoppet ud/ind mod Kh pga personer s\n",
      "16238          1        24.8  Sporskifte og signalfejl: EB 808 holder foran og 2313 i det andet spor\n",
      "17528          1        14.8  sporspærring RO-VY og KY-RG og RG-GZ\n",
      "17861          2        10.6  Skinnebrud Bo - Vy\n",
      "18078          1        12.3  I øjeblikket ingen kørestrøm imellem Slagelse og Ringsted\n",
      "18532          2        18.7  Signalfejl 2 blokke besat mellem Hvidovre og Valby blok 1047 og 1038\n",
      "19720          2        19.7  Signalfejl : signalfejl på lillesyd mellem Ro og Gt\n",
      "20820          2        11.6  Sporskiftefejl. Vy. Akut sporarbejde i sporskifte 04a pga. svelleudski\n"
     ]
    }
   ],
   "source": [
    "# prøver at forstå de linjer som er små, men som får en stor prediction\n",
    "print('linje   SkalVære  Prediction  Tekst')\n",
    "for i in range(1,len(predictions)):\n",
    "    if NumLines_test[i]<3 and predictions[i]>10:\n",
    "        PrtStr = (('%5.0f' % i) + '       ' + \n",
    "                  ('%4.0f' % NumLines_test[i]) + '        ' + \n",
    "                  ('%4.1f' % predictions[i]) + '  ' + \n",
    "                  texts_test[i][:70].replace('\\n', ' ').replace('\\r', ''))\n",
    "        print(PrtStr)"
   ]
  },
  {
   "cell_type": "code",
   "execution_count": 12,
   "metadata": {},
   "outputs": [
    {
     "name": "stdout",
     "output_type": "stream",
     "text": [
      "linje   SkalVære  Prediction  Tekst\n",
      "  229          5          28  Strategi ifb. med køreledningsnedfald Ky, lagt frem til 12.00. Pt. ing\n",
      "  292         48          24  Disponering DSB : Grundet den nedfaldende køreledning i VY kobles 8xx \n",
      "  548         52          22  Disponering BDK : Måletoget har spærret spor 1 i km 184,7-184,6 pga. s\n",
      "  634         17          27  Banedanmark     Sporskifte 445 er blevet aflåst, dette gør at vi kun h\n",
      "  688         19          25  03:00 - Signalfejl: fejlen mellem Sts og Svg bliver ikke klar til morg\n",
      "  943         13          21  Disponering af opstart når vi kører 41xx/43xx/12xx efter kl.14:00\n",
      "  974          4          28  Øvrige BDK: fejl på et sporskifte ved kl: det betyder at 44xx aflyses \n",
      " 1732         23          20  Personpåkørsel  mellem OK og NI\n",
      " 2182         38          37  Trolje gået i stå mellem Hz og Th  Skrevet kl.04:34 Fremskrevet \n",
      " 2314          9          35  Skrevet 05:10 Sporskiftefejl... Trolje har skåret et sporskifte op, \n",
      " 2430         22          33  Personpåkørsel øst for Borup.. Chefvagt u..\n",
      " 3342         29          22  Overgravet kabel formodes mellem Hx og AR:\n",
      " 3372         34          21  Fjernstyring stået af Ro - Vy  1213 over Lille syd\n",
      " 4471         27          20  personpåkørsel ved KA  ( 42756 )\n",
      " 5599          2          27  Kørestrømmen ustabil mellem Hif-Ro. 36042 holder stille på vej ud af G\n",
      " 5757         32          39  Fejl på køreledning mellem Lk-ES  disponeringer torsdag 8xx vender til\n",
      " 6462         86          29  Køreledningsnedfald ved KL, 20xx-systemet, frem til ca. 16.30 (sket ca\n",
      " 6890         58          36  Sporskiftefejl. Kun 1 spor mellem GL-HTÅ (skrevet i FED kl. 13.17, fre\n",
      " 6895          2          20  Spsk i Od mod vest er gået i udu. Der kan ikke køres til/fra vest før \n",
      " 7525         38          21  Sporskiftefejl i Hellerup spor 1 udkørsels skiftet (laskebrud i/ved sp\n",
      " 8252          2          23  Trafikken stoppet mellem Tp og Hp person i sporet\n",
      " 8380         18          36  Ingen kørestrøm i hele Københavnsområdet. Vi aflyser alle 41xx, 43xx o\n",
      "10056         29          25  Bane DK: Der er et sporskifte på OD, der kun kan stå i forkert stillin\n",
      "10684         27          22  Overgravet kabel Ky - FORTSAT.  Sidste melding er at det varer res\n",
      "11485        103          20  Personpåkørsel Tre U-vagten og Ch-vagten u\n",
      "11538         59          34  Grundet fejl sporskifte Gl, aflyses følgende myldertids tog (skrevet i\n",
      "12223         86          23  Kørestrømafbrydelse Hif-Htå : kørestrøm er på vej igen i følge BDK\n",
      "13632         67          21  Falsk besættelse mellem Gl og Htå, Skinnebrud\n",
      "14492          2          21  Signalfejl Fjernstyringsfejl i begge spor mellem Sorø og Fjenneslev\n",
      "14538         23          33  Person påkørsel. Har påkørt person spor 5 i Ro. Personen er i live.\n",
      "15334         17          22  Flyttet fra kl. 17.00  Overgravet kabel i RD.  Prognose til kl\n",
      "15426         18          21  Disponeringer i vest efter personpåkørsel\n",
      "15871         22          25  Sporskifte fejl spor 8 KH.     41xx og 43xx aflyses.\n",
      "16003          4          26  Ingen kørestrøm mellem Borup og Kværkeby VEST Disponeringer\n",
      "16238          1          25  Sporskifte og signalfejl: EB 808 holder foran og 2313 i det andet spor\n",
      "16629          5          30  Signalfejl RD-HB : BDK kan ikke se togene på denne strækning (skrevet \n",
      "16687         52          26  Signalfejl Lillesyd : blokfelj mellem Th-Hf Skrevet 06:33\n",
      "17010         52          36  Banedanmark      Kørelednings arbejde i TL, ikke færdigt grundet fejl \n",
      "17456         45          38  Ingen kørestrøm mellem Odense og Årup.   køreledning ved Odense indkør\n",
      "18126         34          31  Od. Godstog gået i stå på vej ud af stationen. Skrevet kl. 07.55, frem\n",
      "19360         26          33  Grundet nedfalden køreledning i Vy og Sne laves følgende  Skrevet 03.0\n",
      "19550         47          22  Falskbesættelse mellem Kh og Kk (oprindelig skrevet kl. 13.28).\n",
      "19923         19          33  G 36346 nedbrudt I Sg, Sp 2  Strategi:  •\tTrafikal vurdering: \n",
      "20735         42          24  Skinnebrud på Orehoved, standardprognose på 5 timer - dvs til ca. kl 1\n",
      "20856         20          31  Der er tale om overgravet kabel mellem Ste og Rd. Strækningskabel og f\n"
     ]
    }
   ],
   "source": [
    "# prøver at forstå de linjer som modellen mener er store (predict > 20)\n",
    "print('linje   SkalVære  Prediction  Tekst')\n",
    "for i in range(1,len(predictions)):\n",
    "    if predictions[i]>20:\n",
    "        PrtStr = (('%5.0f' % i) + '       ' + \n",
    "                  ('%4.0f' % NumLines_test[i]) + '        ' + \n",
    "                  ('%4.0f' % predictions[i]) + '  ' + \n",
    "                  texts_test[i][:70].replace('\\n', ' ').replace('\\r', ''))\n",
    "        print(PrtStr)"
   ]
  }
 ],
 "metadata": {
  "kernelspec": {
   "display_name": "Python 3",
   "language": "python",
   "name": "python3"
  },
  "language_info": {
   "codemirror_mode": {
    "name": "ipython",
    "version": 3
   },
   "file_extension": ".py",
   "mimetype": "text/x-python",
   "name": "python",
   "nbconvert_exporter": "python",
   "pygments_lexer": "ipython3",
   "version": "3.6.4"
  }
 },
 "nbformat": 4,
 "nbformat_minor": 2
}
