{
 "cells": [
  {
   "cell_type": "markdown",
   "metadata": {},
   "source": [
    "# Lineær regression - Kan vi estimere antallet af linjer\n",
    "\n",
    "- **Problem:** Kan jeg med ML estimere antallet af linjer en FED overskrift giver anledning til? Mine input data er FED data, hvor jeg har samlet en overskrift og det tilhørende *antal* linjer strategi hørende til overskriften. Dette er et lineært problem\n",
    "- **Succes er** Jeg vil undersøge om en *lidt mere avaneret model* kan finde sammenhængen.Her forsøger jeg mig med BIDIRECTIONAL recurrent GRU\n",
    "- **Evaluering** Modellen evalueres ved at jeg deler data op i train, validering og test. train og validering opdeles atomatisk af Keras. Modellen valideres på *test*: Jeg plotter faktisk værdi ift predicted værdi. \n",
    "- **Data** hentes ud af FED i en tekst-fil. Den videre behandling sker i en Access-database og i et regneark. Input gemmes til sidst i et regneark\n",
    "- **Baseline** Selv den bedste model har ikke rigtigt gjort det godt ind til nu, der er nok ikke system i data?\n",
    "- **Optimering vs generalisering** Den får vi se på ...\n",
    "- **Tuning hyper pametre** Den får vi se på ... \n",
    "\n",
    "Nedenfor er et par eksempler på hvordan data rigtigt ser ud. I eksemplet er en kort tekst med otte strategilinjer. Og den timsvarende omsættelse til inddata til modellen.\n",
    "\n",
    "![title](FEDentry.GIF)\n",
    "\n",
    "### Evaluering af forsøg\n",
    "\n",
    "- Umiddelbart ikke bedre end LSTM, og en del overfitting\n",
    "- prøver med lidt dropout, de virker bedre, men giver et dårligere resultat på test-data\n",
    "### Konklusion\n",
    "- Jeg har en model som virker med bidirectional\n",
    "- Modellen er - ret beset - dårligere end LSTM modellen i 10b. 10b har bedre fat i at finde dem som skal være store i testsættet"
   ]
  },
  {
   "cell_type": "code",
   "execution_count": 1,
   "metadata": {},
   "outputs": [],
   "source": [
    "# henter data og lægger pænt i tabeller\n",
    "\n",
    "# vi sætter stien til data\n",
    "import os\n",
    "import pandas as pd\n",
    "import numpy as np\n",
    "os.chdir('/Users/ThomasGordon/Documents/PythonScripts/FED')\n",
    "\n",
    "# Excel-filen med tekster åbnes og indlæses\n",
    "xl = pd.ExcelFile('FEDAll.xlsx')\n",
    "df = xl.parse('FEDlinjer')       # siden i arket\n",
    "\n",
    "# læs overskrifter i FED\n",
    "texts  = df.loc[:,'FEDtext']\n",
    "texts  = texts.values\n",
    "\n",
    "# læs antal linjer og omsæt til \"stor hændelse\" eller \"lille hændelse\"\n",
    "NumLines = df.loc[:,'FEDlinjer']\n",
    "NumLines = NumLines.values\n",
    "\n",
    "# vi rafler data rundt tilfældigt (vi laver et tilfældigt index)\n",
    "indices = np.arange(texts.shape[0])\n",
    "np.random.shuffle(indices)\n",
    "texts   = texts[indices]\n",
    "NumLines = NumLines[indices]\n",
    "\n",
    "# opdeling i training data og test data\n",
    "i = 80000  # antal linjer afsat til træning, resten er test\n",
    "texts_train = texts[:i]\n",
    "texts_test  = texts[i:] \n",
    "NumLines_train = NumLines[:i]\n",
    "NumLines_test  = NumLines[i:]"
   ]
  },
  {
   "cell_type": "code",
   "execution_count": 2,
   "metadata": {},
   "outputs": [
    {
     "name": "stderr",
     "output_type": "stream",
     "text": [
      "C:\\Users\\ThomasGordon\\Anaconda3\\lib\\site-packages\\h5py\\__init__.py:36: FutureWarning: Conversion of the second argument of issubdtype from `float` to `np.floating` is deprecated. In future, it will be treated as `np.float64 == np.dtype(float).type`.\n",
      "  from ._conv import register_converters as _register_converters\n",
      "Using TensorFlow backend.\n"
     ]
    },
    {
     "name": "stdout",
     "output_type": "stream",
     "text": [
      "Fandt 21158 unikke tokens.\n"
     ]
    }
   ],
   "source": [
    "# TOKENIZER - laver tekst om til vektor, henter text processing modul\n",
    "\n",
    "from keras.preprocessing.text import Tokenizer\n",
    "from keras.preprocessing.sequence import pad_sequences\n",
    "\n",
    "max_words = 10000  # Vi ser kun på de 10.000 mest almindelige ord\n",
    "\n",
    "# vi laver ordene i FED om til tilsvarende tal (som nedenfor laves til en \"one-hot\")\n",
    "tokenizer = Tokenizer(num_words=max_words)\n",
    "tokenizer.fit_on_texts(texts)\n",
    "word_index = tokenizer.word_index\n",
    "print('Fandt %s unikke tokens.' % len(word_index))"
   ]
  },
  {
   "cell_type": "code",
   "execution_count": 3,
   "metadata": {},
   "outputs": [
    {
     "name": "stdout",
     "output_type": "stream",
     "text": [
      "(80000, 50)\n",
      "(20867, 50)\n",
      "(80000,)\n",
      "(20867,)\n"
     ]
    }
   ],
   "source": [
    "# Stop sætninger efter dette antal ord\n",
    "maxlen = 50\n",
    "\n",
    "# sætninger laves til tekst-vektor og der \"paddes\"\n",
    "sequences = tokenizer.texts_to_sequences(texts_train)\n",
    "data_train = pad_sequences(sequences, maxlen=maxlen)\n",
    "sequences = tokenizer.texts_to_sequences(texts_test)\n",
    "data_test = pad_sequences(sequences, maxlen=maxlen)\n",
    "\n",
    "# labels laves til vektor\n",
    "NumLines_train = np.asarray(NumLines_train).astype('float32')\n",
    "NumLines_test = np.asarray(NumLines_test).astype('float32')\n",
    "\n",
    "# print størrelsen på train og test data\n",
    "print(data_train.shape)\n",
    "print(data_test.shape)\n",
    "print(NumLines_train.shape)\n",
    "print(NumLines_test.shape)"
   ]
  },
  {
   "cell_type": "code",
   "execution_count": 5,
   "metadata": {},
   "outputs": [
    {
     "name": "stdout",
     "output_type": "stream",
     "text": [
      "_________________________________________________________________\n",
      "Layer (type)                 Output Shape              Param #   \n",
      "=================================================================\n",
      "embedding_1 (Embedding)      (None, 50, 8)             80000     \n",
      "_________________________________________________________________\n",
      "bidirectional_1 (Bidirection (None, 64)                7872      \n",
      "_________________________________________________________________\n",
      "dense_1 (Dense)              (None, 1)                 65        \n",
      "=================================================================\n",
      "Total params: 87,937\n",
      "Trainable params: 87,937\n",
      "Non-trainable params: 0\n",
      "_________________________________________________________________\n"
     ]
    }
   ],
   "source": [
    "from keras.models import Sequential\n",
    "from keras import layers\n",
    "from keras.optimizers import RMSprop\n",
    "from keras.layers import Embedding\n",
    "\n",
    "model = Sequential()\n",
    "model.add(Embedding(10000, 8, input_length=maxlen))\n",
    "model.add(layers.Bidirectional(layers.GRU(32,\n",
    "                                          dropout=0.1,\n",
    "                                          recurrent_dropout=0.1)))\n",
    "model.add(layers.Dense(1))\n",
    "\n",
    "model.compile(optimizer='rmsprop',    # standard-optimizer\n",
    "              loss='mse',             # mean square error\n",
    "              metrics=['mae'])        # mean absolute error\n",
    "\n",
    "model.summary()"
   ]
  },
  {
   "cell_type": "code",
   "execution_count": 6,
   "metadata": {},
   "outputs": [
    {
     "name": "stdout",
     "output_type": "stream",
     "text": [
      "Train on 64000 samples, validate on 16000 samples\n",
      "Epoch 1/10\n",
      "64000/64000 [==============================] - 31s 486us/step - loss: 23.2600 - mean_absolute_error: 2.1711 - val_loss: 19.5327 - val_mean_absolute_error: 2.2240\n",
      "Epoch 2/10\n",
      "64000/64000 [==============================] - 29s 452us/step - loss: 20.7480 - mean_absolute_error: 2.0144 - val_loss: 17.7209 - val_mean_absolute_error: 2.0192\n",
      "Epoch 3/10\n",
      "64000/64000 [==============================] - 28s 439us/step - loss: 19.3438 - mean_absolute_error: 1.9575 - val_loss: 17.0519 - val_mean_absolute_error: 2.0282\n",
      "Epoch 4/10\n",
      "64000/64000 [==============================] - 29s 449us/step - loss: 18.6095 - mean_absolute_error: 1.9350 - val_loss: 16.6262 - val_mean_absolute_error: 1.8969\n",
      "Epoch 5/10\n",
      "64000/64000 [==============================] - 28s 442us/step - loss: 18.0609 - mean_absolute_error: 1.9118 - val_loss: 16.4388 - val_mean_absolute_error: 1.8814\n",
      "Epoch 6/10\n",
      "64000/64000 [==============================] - 28s 441us/step - loss: 17.6599 - mean_absolute_error: 1.8930 - val_loss: 16.3625 - val_mean_absolute_error: 1.9688\n",
      "Epoch 7/10\n",
      "64000/64000 [==============================] - 28s 442us/step - loss: 17.1833 - mean_absolute_error: 1.8728 - val_loss: 16.2483 - val_mean_absolute_error: 1.9074\n",
      "Epoch 8/10\n",
      "64000/64000 [==============================] - 28s 442us/step - loss: 16.7745 - mean_absolute_error: 1.8555 - val_loss: 16.3539 - val_mean_absolute_error: 1.9077\n",
      "Epoch 9/10\n",
      "64000/64000 [==============================] - 29s 459us/step - loss: 16.5063 - mean_absolute_error: 1.8501 - val_loss: 16.3573 - val_mean_absolute_error: 1.8647\n",
      "Epoch 10/10\n",
      "64000/64000 [==============================] - 30s 464us/step - loss: 16.3905 - mean_absolute_error: 1.8441 - val_loss: 16.5099 - val_mean_absolute_error: 1.8799\n"
     ]
    }
   ],
   "source": [
    "NumEpochs = 10\n",
    "history = model.fit(data_train, NumLines_train,\n",
    "                    epochs=NumEpochs,\n",
    "                    batch_size=512,\n",
    "                    validation_split=0.2)"
   ]
  },
  {
   "cell_type": "code",
   "execution_count": 7,
   "metadata": {},
   "outputs": [
    {
     "data": {
      "text/plain": [
       "dict_keys(['val_loss', 'val_mean_absolute_error', 'loss', 'mean_absolute_error'])"
      ]
     },
     "execution_count": 7,
     "metadata": {},
     "output_type": "execute_result"
    }
   ],
   "source": [
    "history_dict = history.history\n",
    "history_dict.keys()"
   ]
  },
  {
   "cell_type": "code",
   "execution_count": 8,
   "metadata": {},
   "outputs": [],
   "source": [
    "import matplotlib.pyplot as plt\n",
    "plt.show()"
   ]
  },
  {
   "cell_type": "code",
   "execution_count": 9,
   "metadata": {},
   "outputs": [
    {
     "data": {
      "image/png": "[encoded data removed]",
      "text/plain": [
       "<matplotlib.figure.Figure at 0x1fcffd467b8>"
      ]
     },
     "metadata": {},
     "output_type": "display_data"
    },
    {
     "data": {
      "image/png": "[encoded data removed]",
      "text/plain": [
       "<matplotlib.figure.Figure at 0x1fcffd85908>"
      ]
     },
     "metadata": {},
     "output_type": "display_data"
    }
   ],
   "source": [
    "# plotter historikken for 'loss'\n",
    "loss     = history.history['loss']\n",
    "val_loss = history.history['val_loss']\n",
    "mae      = history.history['mean_absolute_error']\n",
    "val_mae  = history.history['val_mean_absolute_error']\n",
    "\n",
    "epochs = range(1, NumEpochs+1)\n",
    "\n",
    "plt.plot(epochs, loss, 'bo', label='Training loss')       # bo = \"blue dot\"\n",
    "plt.plot(epochs, val_loss, 'b', label='Validation loss')  # b  = \"solid blue line\"\n",
    "plt.title('Training and validation loss')\n",
    "plt.legend()\n",
    "plt.show()\n",
    "\n",
    "plt.plot(epochs, mae, 'bo', label='Training mae')\n",
    "plt.plot(epochs, val_mae, 'b', label='Validation mae')\n",
    "plt.title('Training and validation *mean absolute error*, mae')\n",
    "plt.legend()\n",
    "plt.show()"
   ]
  },
  {
   "cell_type": "markdown",
   "metadata": {},
   "source": [
    "# Validering af modellen på test data\n",
    "Her indlæser vi så test data, helt nye data til test"
   ]
  },
  {
   "cell_type": "code",
   "execution_count": 10,
   "metadata": {},
   "outputs": [
    {
     "name": "stdout",
     "output_type": "stream",
     "text": [
      "3.6698\n",
      "2.1542\n",
      "2.3941\n",
      "2.9294\n",
      "2.1634\n",
      "1.6071\n",
      "1.6757\n",
      "2.0893\n",
      "2.5506\n"
     ]
    }
   ],
   "source": [
    "# vi prøver modellen på test-data\n",
    "predictions = model.predict(data_test)\n",
    "for i in range(1,10):\n",
    "    print(('%1.4f' % predictions[i]))"
   ]
  },
  {
   "cell_type": "code",
   "execution_count": 11,
   "metadata": {},
   "outputs": [
    {
     "data": {
      "image/png": "[encoded data removed]",
      "text/plain": [
       "<matplotlib.figure.Figure at 0x1fcffd3ef98>"
      ]
     },
     "metadata": {},
     "output_type": "display_data"
    }
   ],
   "source": [
    "# plotter predictions vs 'hvad den faktisk skal være'\n",
    "plt.figure(figsize=(8, 6), dpi=80)\n",
    "plt.plot(NumLines_test, predictions, '.', label='Training loss')       # bo = \"blue dot\"\n",
    "plt.xlabel('Fra datasæt')\n",
    "plt.ylabel('Predictions')\n",
    "plt.title('Training and validation loss')\n",
    "plt.legend()\n",
    "plt.show()"
   ]
  },
  {
   "cell_type": "code",
   "execution_count": 12,
   "metadata": {},
   "outputs": [
    {
     "name": "stdout",
     "output_type": "stream",
     "text": [
      "linje   SkalVære  Prediction  Tekst\n",
      "   51          2        10.9  Materielfejl, holder i spor 3 og kan pt ikke køre\n",
      "  170          1        12.8  TIF + PCCall: Der er i øjeblikket fejl på et sporskifte i Ringsted. De\n",
      " 2115          2        12.0  Flere udfordringer fra Sverige pga. signalfejl og sporskiftefejl pga. \n",
      " 3478          1        11.3  Skinnebrud Kh sp 3/4\n",
      " 4101          2        10.2  Signalfejl: Fejl på signaler ved Lund\n",
      " 4146          1        11.0  Akut eftersyn af kørestrøm Roskilde sp 2 og 3\n",
      " 4278          1        23.1  Har påkørt en person i Rg, spor 2. Politiet er endnu ikke fremme.\n",
      " 4856          2        10.6  Materiel fejl, dør problemer , tidstab i Viby og holder nu i Rg.\n",
      " 4968          2        13.3  Banedanmark    Signalfejl i HIF\n",
      " 5184          1        12.9  Gj lukket indtil 12:33\n",
      " 5187          2        15.9  Togstop i citytunnlen i Malmø personer i sporet\n",
      " 5676          1        10.3  skal til kontrol i belv efter påkørsel af stillads ved bro  d. 27.04\n",
      " 6650          2        13.0  Materielfejl: på et godstog der har tabt luften underrangering Vj, pt \n",
      " 7262          2        10.7  Signalfejl Gl-IG\n",
      " 7513          2        12.9  Signalfejl SNO :  falsk bsættelse i spsk 03 i sp 1 efter lyn  2\n",
      " 7696          2        19.2  Signalfejl 2 blokke besat mellem Hvidovre og Valby blok 1047 og 1038\n",
      " 7809          1        11.8  Der er fjernstyringsfejl, så der køres pt ikke mellem Langå og Struer\n",
      " 7837          1        10.7  Signalfejl Hif - Val, to falske besættelser. Der køres via Gb\n",
      " 8500          2        20.8  Sporskiftefejl. Vy. Akut sporarbejde i sporskifte 04a pga. svelleudski\n",
      " 8616          1        10.7  Sporskiftefejl. Mistet kontrol på 2 sporskifter i HG\n",
      " 8914          2        12.9  Blokfejl mellem Sts og Svg\n",
      " 9004          1        19.2  Materielfejl. Problemer ved førerbord ved oprigning (også skrevet kl. \n",
      " 9116          1        11.8  Sst-Oj. Vi taber ca. 5 minutter mod syd, og 10 minutter mod nord.  Sta\n",
      " 9291          1        11.9  Har afvist et stort antal personer på Kh og Val. Personerne på Kh har \n",
      " 9467          2        16.9  Bump i sporet spor 1 ved Nørreport, vagten er tilkaldt\n",
      " 9840          1        23.4  Øvrige Bdk, Lastbil har påkørt bro ved Sno, så trafikken pt. indstille\n",
      " 9957          2        12.5  Politiet har spærret trafikken på Aarhus Nærbane i mellem Aarhus H og \n",
      "10780          2        18.6  DB: forsinket 100 minutter fra Hmb. skrevet 20:59 fremskrevet til 03:0\n",
      "10803          2        16.4  Skinnebrud Bo - Vy\n",
      "11258          1        18.5  Politiet har indstillet trafikken i Valby pga. et røveri\n",
      "12463          1        23.1  Holder i KA. en person står foran toget, Lkf kan ikke fjerne ham, der \n",
      "12908          1        13.9  Banedanmark.             Fjernstyring er gået ned i RT.   Vagten er ti\n",
      "13241          1        14.0  I øjeblikket ingen kørestrøm imellem Slagelse og Ringsted\n",
      "13765          2        22.7  Disponering Bdk, kørestrømsafbrydelse ved Ka fra kl. 01.40-06.00, og d\n",
      "14578          1        11.3  Holder i Snekkersten, politiet tilkaldt\n",
      "14899          2        11.8  Der holder et tog 1100 på Kn der har fejl på bremserne.\n",
      "15003          1        10.7  Forsinkede fra Sverige på grund af en personpåkørsel i Falkenberg\n",
      "15161          2        12.0  Thy banens fjernstyring er stået af.\n",
      "15229          2        20.7  Godstog er taget i profilkontrollen ved Øre. Alt trafik holder pt stil\n",
      "15597          1        18.3  Mulig påkørsel på nærbanen ved Hl.\n",
      "15630          2        11.1  K -20 u Val.. Falsk besættelse Hif.. (4202 dog tillige forsinket, af\n",
      "15697          1        15.2  materieeldisponering: 43xx,43xx, 43xx\n",
      "15815          1        16.7  Vildbjerg er stået af. vagten er fremme ca kl 19:45\n",
      "16505          2        22.0  Øvrige Bdk. Først var det et sporskifte der var stået af og nu har FC \n",
      "16762          2        20.4  Fjernstyringsfejl, kontrolanlægget i Kalvebod har indikeret at Godstog\n",
      "17377          1        13.5  Ingen trafik imellem NI og HG pga. nedfaldet træer og kørerledning\n",
      "17564          2        10.8  Falsk sporbesættelse KN og deraf følgende manglende sporplads KH og KH\n",
      "18008          1        17.2  Holder klar i Lj , mat af 1545, men der kan ikke køres mod Hk, som pla\n",
      "18370          2        21.8  Signalfejl i Stevnstrup, syd for Rd. Der er folk på vej til understati\n",
      "19241          2        16.9  På grund af politiets arbejde i sporene indstilles trafikken mellem Nh\n",
      "19850          2        10.7  F -?? u Vo... Indrangeret på en falsk besættelse, som nu hænger i sp\n",
      "20370          2        20.7  Signalfejl Gl (2094) besat, chefvagt underrettet.\n",
      "20401          2        18.1  Aflysninger pga overgravet kabel i går\n"
     ]
    }
   ],
   "source": [
    "# prøver at forstå de linjer som er små, men som får en stor prediction\n",
    "print('linje   SkalVære  Prediction  Tekst')\n",
    "for i in range(1,len(predictions)):\n",
    "    if NumLines_test[i]<3 and predictions[i]>10:\n",
    "        PrtStr = (('%5.0f' % i) + '       ' + \n",
    "                  ('%4.0f' % NumLines_test[i]) + '        ' + \n",
    "                  ('%4.1f' % predictions[i]) + '  ' + \n",
    "                  texts_test[i][:70].replace('\\n', ' ').replace('\\r', ''))\n",
    "        print(PrtStr)"
   ]
  },
  {
   "cell_type": "code",
   "execution_count": 13,
   "metadata": {},
   "outputs": [
    {
     "name": "stdout",
     "output_type": "stream",
     "text": [
      "linje   SkalVære  Prediction  Tekst\n",
      "  218          4          20  Materielfejl ME : holder ved I-signal i HIf med vekselretterfejl og er\n",
      "  494          6          20  Disponering DSB/BDK pga. dæmningsskred spærres nordgående spor Hinneru\n",
      "  554         49          25  7009 har påkørt et træ foran STS og er muligvis afsporet. Skrevet kl. \n",
      " 1066         52          24  Personpåkørsel mellem Valby og Glostrup. Vivo nr. 99024: Der kører i\n",
      " 1162         12          24  SVV: Fejl på OVK 113 - viser ikke sikret for LKF, men bomme nede. Se\n",
      " 1292          8          25  brand i en skråning mellem GL-Hif i retning Gl mod Hif\n",
      " 1544         96          21  aflysninger og vendinger på kh spor 8 kan ikke benyttes\n",
      " 1631         18          22  JORDSKRED Jelling  Ny prognose hedder at det tidligst er i orden o\n",
      " 1722         61          22  Skinnebrud. Vy. 4141 melder om muligt skinnebrud i km. 40,0 Ro-Vy. Eft\n",
      " 2274         24          25  Banedanmark     Stoppemaskinen har været ude at køre på svg banen.  bl\n",
      " 2454          3          23  Sporskiftet på Sts er stået af - plus Bdk har mistet kontrollen på sta\n",
      " 2943         17          24  Personpåkørsel Sorø !  Pågældende ramt af 44741 samt et godstog i nabo\n",
      " 3107          9          25  Skrevet 05:10 Sporskiftefejl... Trolje har skåret et sporskifte op, \n",
      " 3433          4          23  Øvrige BDK: fejl på et sporskifte ved kl: det betyder at 44xx aflyses \n",
      " 3786         24          24  Personpåkørsel mellem  SÅ - KL  2 Timer  10xx vendes på KH Buskø\n",
      " 3889         12          21  Sporskifte fejl i HJERM.        der er ingen prognose for hvornår det \n",
      " 3992         61          23  Udtynding i fb. med spsk Kk og nedbrud på Kysten:  13xx fjernes i ca\n",
      " 4026         32          25  Fjernstyringsfejl: Lillesyd ny prognose kl: 12:00. Øvrig Info se Fed k\n",
      " 4197         12          23  Sporskifte fejl i STS og Blok fejl i RE driller stadig.   28xx aflyses\n",
      " 4278          1          23  Har påkørt en person i Rg, spor 2. Politiet er endnu ikke fremme.\n",
      " 4499         27          23  Overgravet kabel Ky - FORTSAT.  Sidste melding er at det varer res\n",
      " 4609          8          24  Personer i sporet: der Kører Pt ingen tog igennem Gl. person har ringe\n",
      " 4815          4          22  Personpåkørsel i Sverige nord for Helsingborg\n",
      " 5173         45          24  Ingen kørestrøm mellem Odense og Årup.   køreledning ved Odense indkør\n",
      " 5419          5          21  Forsinkelser fra Øst til Vest grundet laskebrud mellem Ky-Rgf.\n",
      " 5461         67          24  Afsporet Godstog I Htå : Onsdag d 14/12 Aflysninger frem til kl 12:00\n",
      " 5640         12          20  Akut sporspærring mellem Bavnehøj og Kalvebod og i spor 2 i Kastrup.\n",
      " 5931          3          20  Der mangler et par MF´ere, hvilket betyder skarpe vendinger og deraf f\n",
      " 6457         19          22  Ringe st. Der er fundet en bombe ligende ting på Ringe station. De\n",
      " 6660         38          25  Personpåkørsel Stog  Nordhavnens station. Politiet indstiller alt traf\n",
      " 7154          6          24  Bump i sporet mellem Vy og Bo sporvagten tilkaldt. vi kører over med 4\n",
      " 7934         21          23  Signalfejl Nørreport, rykket fram fra kl 18:00\n",
      " 8490         33          22  Aflysninger og vendinger, pga forsinkelserne..\n",
      " 8500          2          21  Sporskiftefejl. Vy. Akut sporarbejde i sporskifte 04a pga. svelleudski\n",
      " 8588         11          25  Er gået på maskinen i Se   Strategi: 1 time  Lagt til kl.08:20\n",
      " 9144          3          24  Udkoblet kørestrøm mellem Kolding  og Taulov.  Der køres v.spor mellem\n",
      " 9725          4          23  OP: ABs-DD-DD-DD-ME 1530-(DD)-(DD)-(DD)-(DD)-(DD)-ME 1522 ¤ME 1530 t\n",
      " 9840          1          23  Øvrige Bdk, Lastbil har påkørt bro ved Sno, så trafikken pt. indstille\n",
      "10170          5          23  Vi har mistet kontrollen ved OL. Vi kan afvikle trafikken som normalt \n",
      "10277          3          20  (Skrevet 01:00) Der mangler stadig et enkelt BR-sæt i Danmark... Det\n",
      "10405         29          21  Signalfejl HK - PE : fstfejl mellem HK-PE\n",
      "10416          5          24  Der mangler lidt ER-sæt hist og her. Derfor disse ændringer... (skreve\n",
      "10560          5          23  Alt trafik standset mellem Gl-Htå (både Nær og Fjern). Politiet skal i\n",
      "10593          4          20  Banedanmark har mistede kontrollen på et sporskifte i RG\n",
      "10772         42          24  Signalfejl, Banedanmark oplyser at de har en blokfejl i blok 2277 i an\n",
      "11203          6          22  Personpåkørsel: Kl, C og U vagt underrettes\n",
      "11424         58          25  Sporskiftefejl. Kun 1 spor mellem GL-HTÅ (skrevet i FED kl. 13.17, fre\n",
      "11799         86          23  Køreledningsnedfald ved KL, 20xx-systemet, frem til ca. 16.30 (sket ca\n",
      "11886         19          24  G 36346 nedbrudt I Sg, Sp 2  Strategi:  •\tTrafikal vurdering: \n",
      "12082          6          25  Disponeirng af ET i CPH som efterveer af de aflyste 13xx fra og til Sv\n",
      "12423         45          21  Personpåkørsel i HL\n",
      "12463          1          23  Holder i KA. en person står foran toget, Lkf kan ikke fjerne ham, der \n",
      "12653         10          22  Personpåkørsel, har påkørt en cyklist mellem Kv og Fh i ovk. 173\n",
      "12716         12          23  Person i sporene mellem Bet og Bk, politiet har indstillet trafikken. \n",
      "12935         17          22  Disponering DSB : L + Ic kobles  pga. udbedring af nedfalden køreledni\n",
      "13031          5          23  Signalfejl RD-HB : BDK kan ikke se togene på denne strækning (skrevet \n",
      "13765          2          23  Disponering Bdk, kørestrømsafbrydelse ved Ka fra kl. 01.40-06.00, og d\n",
      "13889          9          25  Signalfejl mellem HB og RD.           Vagten på vej.    ( Kl 00:00 trå\n",
      "13942         11          21  For at frigive fire (4) MF´ere frem til torsdag formiddag..\n",
      "14202         23          25  Forsinkelser fra Øst til Vest... Dette er skrevet kl. 14.20 (se kl. 08\n",
      "14247          9          21  blokfejl mellem HTÅ-GL sorf fra HTÅ mod kh\n",
      "14390         27          24  Fyn bliver ikke frigivet til drift og ingen prognose. Denne omhandler \n",
      "14509         30          25  Laskebrud ved HL i nordgående retning, sporet lukket. Bdk melder, be\n",
      "14548         10          24  Tif PCCall 08-10 Oss-Svg En fejl på et signal ved Ringe giver fors\n",
      "14685         42          24  Skinnebrud på Orehoved, standardprognose på 5 timer - dvs til ca. kl 1\n",
      "14756         26          23  Personpåkørsel i Hif. Uvagt og chefvagt underrettet i samme moment.\n",
      "14994         20          25  Personpåkørsel, 4644 har ramt en person ved Oss  Standardprognose \n",
      "15229          2          21  Godstog er taget i profilkontrollen ved Øre. Alt trafik holder pt stil\n",
      "15233         23          24  Ændringer, aflysninger og tillysninger gældende d 3/2 udsendt af VHA :\n",
      "15374         44          23  Banedanmark       Der er blevet aflåst et sporskifte, hvilket betyder \n",
      "15807         58          24  Skinnebrud : Skinnebrud ved Kn.\n",
      "15818         27          23  Har ramt et eller andet ved udkørsel Kd. Lkf. er gået ud tjekke.  \n",
      "16372         38          20  Banedanmark oplyser at der stadig ikke er kontrol på spsk på Kk. Progn\n",
      "16394         83          24  Trafikken stoppet mellem Glostrup og Høje Tåstrup. S-tog har en person\n",
      "16439         12          21  Øvrige Bdk. Skinnebrud Ørestad, kun et spor.\n",
      "16505          2          22  Øvrige Bdk. Først var det et sporskifte der var stået af og nu har FC \n",
      "16762          2          20  Fjernstyringsfejl, kontrolanlægget i Kalvebod har indikeret at Godstog\n",
      "16972          4          22  Leverandørsvigt.. Der mangler adskillige ER-sæt til eftermiddagstrafik\n",
      "17154          4          25  Sporskiftefejl i Kværndrup. Prognose 1 time:  •\tTrafikal vurdering\n",
      "17551         12          24  Disponering DSB : opstart af 14xx system  da 13xx er aflyst resten a\n",
      "17558         16          20  der er tabt kemikalier på Rampen i Pu så tog kan ikke overføres. Flytt\n",
      "17997         30          21  Skinnebrud mellem Hl og Hgl\n",
      "18370          2          22  Signalfejl i Stevnstrup, syd for Rd. Der er folk på vej til understati\n",
      "18457         14          23  G-tog 57151 holder lige foran Kastrup og er gået i stå i sporskiftet C\n",
      "18547         23          22  HO:Personpåkørsel i ovk 361 (Arrivatog) Se Drap.1965668\n",
      "18835         53          20  Sporskiftefejl i KL. Fastlægning af sporskifte.\n",
      "18851         33          24  HQ: Blokuorden Hq-Vn + Vn-Hq SE DRAP.1970528  •                 \n",
      "18876         21          21  Personpåkørsel i Hx.\n",
      "18905          4          23  Ingen kørestrøm mellem Borup og Kværkeby VEST Disponeringer\n",
      "18994          6          23  Fjernstyring stået af og der kan ikke tilkaldes vagter før kl 7 ( ny a\n",
      "19011          8          20  Signalfejl Lillesyd igen, Ol stået af\n",
      "19078          7          20  Fjernstyringen er gået ned i Klv. Alt holder stille og der er en vagt \n",
      "19628          4          23  Disponering DSb: lastbil påkørt bro i bjerringbro. der er lukket for t\n",
      "19790          5          24  Strategi ifb. med køreledningsnedfald Ky, lagt frem til 12.00. Pt. ing\n",
      "19916          8          21  Nedbrudt MQ i Od. Vil ikke modtage fremmednet. Der sendes hvk til Od n\n",
      "20032         18          21  Disponeringer i vest efter personpåkørsel\n",
      "20370          2          21  Signalfejl Gl (2094) besat, chefvagt underrettet.\n",
      "20548          3          20  Scandlndes        En defekt færge har lagt sig i leje 2 i RF.    hvilk\n"
     ]
    }
   ],
   "source": [
    "# prøver at forstå de linjer som modellen mener er store (predict > 20)\n",
    "print('linje   SkalVære  Prediction  Tekst')\n",
    "for i in range(1,len(predictions)):\n",
    "    if predictions[i]>20:\n",
    "        PrtStr = (('%5.0f' % i) + '       ' + \n",
    "                  ('%4.0f' % NumLines_test[i]) + '        ' + \n",
    "                  ('%4.0f' % predictions[i]) + '  ' + \n",
    "                  texts_test[i][:70].replace('\\n', ' ').replace('\\r', ''))\n",
    "        print(PrtStr)"
   ]
  }
 ],
 "metadata": {
  "kernelspec": {
   "display_name": "Python 3",
   "language": "python",
   "name": "python3"
  },
  "language_info": {
   "codemirror_mode": {
    "name": "ipython",
    "version": 3
   },
   "file_extension": ".py",
   "mimetype": "text/x-python",
   "name": "python",
   "nbconvert_exporter": "python",
   "pygments_lexer": "ipython3",
   "version": "3.6.4"
  }
 },
 "nbformat": 4,
 "nbformat_minor": 2
}
