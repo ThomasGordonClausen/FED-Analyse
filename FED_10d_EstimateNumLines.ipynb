{
 "cells": [
  {
   "cell_type": "markdown",
   "metadata": {},
   "source": [
    "# Lineær regression - Kan vi estimere antallet af linjer\n",
    "\n",
    "- **Problem:** Kan jeg med ML estimere antallet af linjer en FED overskrift giver anledning til? Mine input data er FED data, hvor jeg har samlet en overskrift og det tilhørende *antal* linjer strategi hørende til overskriften. Dette er et lineært problem\n",
    "- **Succes er** Jeg vil undersøge om en *lidt mere avaneret model* kan finde sammenhængen.Her forsøger jeg mig med EMBEDDING; CONV og recurrent GRU, bare for at vise, at jeg kan få det til at virke\n",
    "- **Evaluering** Modellen evalueres ved at jeg deler data op i train, validering og test. train og validering opdeles atomatisk af Keras. Modellen valideres på *test*: Jeg plotter faktisk værdi ift predicted værdi. \n",
    "- **Data** hentes ud af FED i en tekst-fil. Den videre behandling sker i en Access-database og i et regneark. Input gemmes til sidst i et regneark\n",
    "- **Baseline** Selv den bedste model har ikke rigtigt gjort det godt ind til nu, der er nok ikke system i data?\n",
    "- **Optimering vs generalisering** Den får vi se på ...\n",
    "- **Tuning hyper pametre** Den får vi se på ... \n",
    "\n",
    "Nedenfor er et par eksempler på hvordan data rigtigt ser ud. I eksemplet er en kort tekst med otte strategilinjer. Og den timsvarende omsættelse til inddata til modellen.\n",
    "\n",
    "![title](FEDentry.GIF)\n",
    "\n",
    "### Evaluering af forsøg\n",
    "\n",
    "- Første kører, men den har svært ved at afvise de små\n",
    "- Retter lidt i lagene, men det virker ikke bedre\n",
    "\n",
    "### Konklusion\n",
    "\n",
    "- Jeg Kan få EMBEDDING; CONV og recurrent GRU til at virke\n",
    "- Model 10b er - alt andet lige - den som virker bedst"
   ]
  },
  {
   "cell_type": "code",
   "execution_count": 1,
   "metadata": {},
   "outputs": [],
   "source": [
    "# henter data og lægger pænt i tabeller\n",
    "\n",
    "# vi sætter stien til data\n",
    "import os\n",
    "import pandas as pd\n",
    "import numpy as np\n",
    "os.chdir('/Users/ThomasGordon/Documents/PythonScripts/FED')\n",
    "\n",
    "# Excel-filen med tekster åbnes og indlæses\n",
    "xl = pd.ExcelFile('FEDAll.xlsx')\n",
    "df = xl.parse('FEDlinjer')       # siden i arket\n",
    "\n",
    "# læs overskrifter i FED\n",
    "texts  = df.loc[:,'FEDtext']\n",
    "texts  = texts.values\n",
    "\n",
    "# læs antal linjer og omsæt til \"stor hændelse\" eller \"lille hændelse\"\n",
    "NumLines = df.loc[:,'FEDlinjer']\n",
    "NumLines = NumLines.values\n",
    "\n",
    "# vi rafler data rundt tilfældigt (vi laver et tilfældigt index)\n",
    "indices = np.arange(texts.shape[0])\n",
    "np.random.shuffle(indices)\n",
    "texts   = texts[indices]\n",
    "NumLines = NumLines[indices]\n",
    "\n",
    "# opdeling i training data og test data\n",
    "i = 80000  # antal linjer afsat til træning, resten er test\n",
    "texts_train = texts[:i]\n",
    "texts_test  = texts[i:] \n",
    "NumLines_train = NumLines[:i]\n",
    "NumLines_test  = NumLines[i:]"
   ]
  },
  {
   "cell_type": "code",
   "execution_count": 2,
   "metadata": {},
   "outputs": [
    {
     "name": "stderr",
     "output_type": "stream",
     "text": [
      "C:\\Users\\ThomasGordon\\Anaconda3\\lib\\site-packages\\h5py\\__init__.py:36: FutureWarning: Conversion of the second argument of issubdtype from `float` to `np.floating` is deprecated. In future, it will be treated as `np.float64 == np.dtype(float).type`.\n",
      "  from ._conv import register_converters as _register_converters\n",
      "Using TensorFlow backend.\n"
     ]
    },
    {
     "name": "stdout",
     "output_type": "stream",
     "text": [
      "Fandt 21158 unikke tokens.\n"
     ]
    }
   ],
   "source": [
    "# TOKENIZER - laver tekst om til vektor, henter text processing modul\n",
    "\n",
    "from keras.preprocessing.text import Tokenizer\n",
    "from keras.preprocessing.sequence import pad_sequences\n",
    "\n",
    "max_words = 10000  # Vi ser kun på de 10.000 mest almindelige ord\n",
    "\n",
    "# vi laver ordene i FED om til tilsvarende tal (som nedenfor laves til en \"one-hot\")\n",
    "tokenizer = Tokenizer(num_words=max_words)\n",
    "tokenizer.fit_on_texts(texts)\n",
    "word_index = tokenizer.word_index\n",
    "print('Fandt %s unikke tokens.' % len(word_index))"
   ]
  },
  {
   "cell_type": "code",
   "execution_count": 3,
   "metadata": {},
   "outputs": [
    {
     "name": "stdout",
     "output_type": "stream",
     "text": [
      "(80000, 50)\n",
      "(20867, 50)\n",
      "(80000,)\n",
      "(20867,)\n"
     ]
    }
   ],
   "source": [
    "# Stop sætninger efter dette antal ord\n",
    "maxlen = 50\n",
    "\n",
    "# sætninger laves til tekst-vektor og der \"paddes\"\n",
    "sequences = tokenizer.texts_to_sequences(texts_train)\n",
    "data_train = pad_sequences(sequences, maxlen=maxlen)\n",
    "sequences = tokenizer.texts_to_sequences(texts_test)\n",
    "data_test = pad_sequences(sequences, maxlen=maxlen)\n",
    "\n",
    "# labels laves til vektor\n",
    "NumLines_train = np.asarray(NumLines_train).astype('float32')\n",
    "NumLines_test = np.asarray(NumLines_test).astype('float32')\n",
    "\n",
    "# print størrelsen på train og test data\n",
    "print(data_train.shape)\n",
    "print(data_test.shape)\n",
    "print(NumLines_train.shape)\n",
    "print(NumLines_test.shape)"
   ]
  },
  {
   "cell_type": "code",
   "execution_count": 4,
   "metadata": {},
   "outputs": [
    {
     "name": "stdout",
     "output_type": "stream",
     "text": [
      "_________________________________________________________________\n",
      "Layer (type)                 Output Shape              Param #   \n",
      "=================================================================\n",
      "embedding_1 (Embedding)      (None, 50, 8)             80000     \n",
      "_________________________________________________________________\n",
      "conv1d_1 (Conv1D)            (None, 42, 32)            2336      \n",
      "_________________________________________________________________\n",
      "max_pooling1d_1 (MaxPooling1 (None, 14, 32)            0         \n",
      "_________________________________________________________________\n",
      "gru_1 (GRU)                  (None, 32)                6240      \n",
      "_________________________________________________________________\n",
      "dense_1 (Dense)              (None, 1)                 33        \n",
      "=================================================================\n",
      "Total params: 88,609\n",
      "Trainable params: 88,609\n",
      "Non-trainable params: 0\n",
      "_________________________________________________________________\n"
     ]
    }
   ],
   "source": [
    "from keras.models import Sequential\n",
    "from keras.layers import Embedding\n",
    "from keras import layers\n",
    "\n",
    "model = Sequential()\n",
    "model.add(Embedding(10000, 8, input_length=maxlen))\n",
    "model.add(layers.Conv1D(32, 9, activation='relu'))\n",
    "#model.add(layers.Conv1D(32, 5, activation='relu'))\n",
    "model.add(layers.MaxPooling1D(3))\n",
    "#model.add(layers.Conv1D(32, 5, activation='relu'))\n",
    "model.add(layers.GRU(32, dropout=0.2, recurrent_dropout=0.2))\n",
    "model.add(layers.Dense(1))\n",
    "\n",
    "model.compile(optimizer='rmsprop',    # standard-optimizer\n",
    "              loss='mse',             # mean square error\n",
    "              metrics=['mae'])        # mean absolute error\n",
    "\n",
    "model.summary()"
   ]
  },
  {
   "cell_type": "code",
   "execution_count": 5,
   "metadata": {},
   "outputs": [
    {
     "name": "stdout",
     "output_type": "stream",
     "text": [
      "Train on 64000 samples, validate on 16000 samples\n",
      "Epoch 1/10\n",
      "64000/64000 [==============================] - 8s 125us/step - loss: 22.0572 - mean_absolute_error: 2.1342 - val_loss: 24.7867 - val_mean_absolute_error: 2.1293\n",
      "Epoch 2/10\n",
      "64000/64000 [==============================] - 5s 76us/step - loss: 19.6683 - mean_absolute_error: 1.9735 - val_loss: 22.8408 - val_mean_absolute_error: 2.0279\n",
      "Epoch 3/10\n",
      "64000/64000 [==============================] - 5s 77us/step - loss: 18.2065 - mean_absolute_error: 1.8895 - val_loss: 21.9874 - val_mean_absolute_error: 1.9662\n",
      "Epoch 4/10\n",
      "64000/64000 [==============================] - 5s 77us/step - loss: 17.2643 - mean_absolute_error: 1.8391 - val_loss: 21.4629 - val_mean_absolute_error: 1.9940\n",
      "Epoch 5/10\n",
      "64000/64000 [==============================] - 5s 77us/step - loss: 16.5303 - mean_absolute_error: 1.8093 - val_loss: 21.2088 - val_mean_absolute_error: 1.9550\n",
      "Epoch 6/10\n",
      "64000/64000 [==============================] - 5s 78us/step - loss: 15.9602 - mean_absolute_error: 1.7830 - val_loss: 21.2716 - val_mean_absolute_error: 1.8683\n",
      "Epoch 7/10\n",
      "64000/64000 [==============================] - 5s 77us/step - loss: 15.5160 - mean_absolute_error: 1.7603 - val_loss: 21.2519 - val_mean_absolute_error: 1.8777\n",
      "Epoch 8/10\n",
      "64000/64000 [==============================] - 5s 77us/step - loss: 15.0508 - mean_absolute_error: 1.7409 - val_loss: 21.2158 - val_mean_absolute_error: 1.9925\n",
      "Epoch 9/10\n",
      "64000/64000 [==============================] - 5s 77us/step - loss: 14.7513 - mean_absolute_error: 1.7237 - val_loss: 21.5053 - val_mean_absolute_error: 2.0961\n",
      "Epoch 10/10\n",
      "64000/64000 [==============================] - 5s 78us/step - loss: 14.4022 - mean_absolute_error: 1.7095 - val_loss: 21.4258 - val_mean_absolute_error: 1.9684\n"
     ]
    }
   ],
   "source": [
    "NumEpochs = 10\n",
    "history = model.fit(data_train, NumLines_train,\n",
    "                    epochs=NumEpochs,\n",
    "                    batch_size=512,\n",
    "                    validation_split=0.2)"
   ]
  },
  {
   "cell_type": "code",
   "execution_count": 6,
   "metadata": {},
   "outputs": [
    {
     "data": {
      "text/plain": [
       "dict_keys(['val_loss', 'val_mean_absolute_error', 'loss', 'mean_absolute_error'])"
      ]
     },
     "execution_count": 6,
     "metadata": {},
     "output_type": "execute_result"
    }
   ],
   "source": [
    "history_dict = history.history\n",
    "history_dict.keys()"
   ]
  },
  {
   "cell_type": "code",
   "execution_count": 7,
   "metadata": {},
   "outputs": [],
   "source": [
    "import matplotlib.pyplot as plt\n",
    "plt.show()"
   ]
  },
  {
   "cell_type": "code",
   "execution_count": 8,
   "metadata": {},
   "outputs": [
    {
     "data": {
      "image/png": "[encoded data removed]",
      "text/plain": [
       "<matplotlib.figure.Figure at 0x2b0fd7d5f60>"
      ]
     },
     "metadata": {},
     "output_type": "display_data"
    },
    {
     "data": {
      "image/png": "[encoded data removed]",
      "text/plain": [
       "<matplotlib.figure.Figure at 0x2b0fd807940>"
      ]
     },
     "metadata": {},
     "output_type": "display_data"
    }
   ],
   "source": [
    "# plotter historikken for 'loss'\n",
    "loss     = history.history['loss']\n",
    "val_loss = history.history['val_loss']\n",
    "mae      = history.history['mean_absolute_error']\n",
    "val_mae  = history.history['val_mean_absolute_error']\n",
    "\n",
    "epochs = range(1, NumEpochs+1)\n",
    "\n",
    "plt.plot(epochs, loss, 'bo', label='Training loss')       # bo = \"blue dot\"\n",
    "plt.plot(epochs, val_loss, 'b', label='Validation loss')  # b  = \"solid blue line\"\n",
    "plt.title('Training and validation loss')\n",
    "plt.legend()\n",
    "plt.show()\n",
    "\n",
    "plt.plot(epochs, mae, 'bo', label='Training mae')\n",
    "plt.plot(epochs, val_mae, 'b', label='Validation mae')\n",
    "plt.title('Training and validation *mean absolute error*, mae')\n",
    "plt.legend()\n",
    "plt.show()"
   ]
  },
  {
   "cell_type": "markdown",
   "metadata": {},
   "source": [
    "# Validering af modellen på test data\n",
    "Her indlæser vi så test data, helt nye data til test"
   ]
  },
  {
   "cell_type": "code",
   "execution_count": 9,
   "metadata": {},
   "outputs": [
    {
     "name": "stdout",
     "output_type": "stream",
     "text": [
      "3.5732\n",
      "2.2295\n",
      "2.3033\n",
      "3.1256\n",
      "3.1196\n",
      "2.6614\n",
      "2.1654\n",
      "1.9162\n",
      "2.8888\n"
     ]
    }
   ],
   "source": [
    "# vi prøver modellen på test-data\n",
    "predictions = model.predict(data_test)\n",
    "for i in range(1,10):\n",
    "    print(('%1.4f' % predictions[i]))"
   ]
  },
  {
   "cell_type": "code",
   "execution_count": 10,
   "metadata": {},
   "outputs": [
    {
     "data": {
      "image/png": "[encoded data removed]",
      "text/plain": [
       "<matplotlib.figure.Figure at 0x2b0fd7d5400>"
      ]
     },
     "metadata": {},
     "output_type": "display_data"
    }
   ],
   "source": [
    "# plotter predictions vs 'hvad den faktisk skal være'\n",
    "plt.figure(figsize=(8, 6), dpi=80)\n",
    "plt.plot(NumLines_test, predictions, '.', label='Training loss')       # bo = \"blue dot\"\n",
    "plt.xlabel('Fra datasæt')\n",
    "plt.ylabel('Predictions')\n",
    "plt.title('Training and validation loss')\n",
    "plt.legend()\n",
    "plt.show()"
   ]
  },
  {
   "cell_type": "code",
   "execution_count": 11,
   "metadata": {},
   "outputs": [
    {
     "name": "stdout",
     "output_type": "stream",
     "text": [
      "linje   SkalVære  Prediction  Tekst\n",
      "   87          2        10.5  Spærring på Kong Kristian d IX´s bro bevirker at 8303 aflyses Nf-Rf og\n",
      "  395          1        20.4  Ingen trafik imellem NI og HG pga. nedfaldet træer og kørerledning\n",
      "  514          2        19.8  Fjernstyringen gået ned mellem Hobro og Randers\n",
      "  635          1        12.3  G 8733 er gået I stå mellem Trk-Ro. IC 149 er fanget bagved.\n",
      " 1829          1        16.8  Signalfejl. Blokken er nede mellem Nykøbing F Vest og Rødby F. Tgl kan\n",
      " 2122          1        12.9  Kh. 1xME. Nedbrudt. Varmt førerrum.\n",
      " 2891          2        19.1  Nedbrudt i Nørre Alslev, løber omkring\n",
      " 3320          1        13.6  Laskebrud i spor 3 på Høje Taastrup. Pt kører vi alle tog\n",
      " 3349          2        11.6  Person i tunnel mellem Danmark og Sverige, trafikken stoppet\n",
      " 3912          2        15.2  Disponering DSB. Eftermiddagens trafik i Næ.\n",
      " 3933          1        13.7  K -12 g Pe.. Signalfejl efter sporspærring..\n",
      " 4672          2        19.4  Defekt stød mellem Tp - Hp. BDK vil lave det omkring kl 11:30-12:00. D\n",
      " 4766          1        11.6  Fejl på sporskifte ved Kalvebod.\n",
      " 5946          1        10.2  Disponering DSB: 4411 til rep HGL\n",
      " 6004          1        11.5  Akut eftersyn af kørestrøm Roskilde sp 2 og 3\n",
      " 6102          2        12.3  Lkf er ikke tryg ved at køre MR.\n",
      " 6325          1        14.9  S-tog har en personpåkørsel på Østerport.\n",
      " 6526          1        10.2  Signalfejl på Østerport spor 4 og spor 12, giver forsinkelser på 5-8 m\n",
      " 6694          2        11.2  Signalfejl mellem Vj og Hed.\n",
      " 7877          1        16.7  Signalfejl Kh - Kn, falsk besættelse.\n",
      " 8727          2        14.2  Manglende korrigering af materieltog, i forbindelse med udtyndning af \n",
      " 8813          1        10.3  Holder stille mellem Hjørring og Sindal . LKF kontakter iC/4 vagten\n",
      " 8877          2        16.8  Godstog er taget i profilkontrollen ved Øre. Alt trafik holder pt stil\n",
      " 8971          2        10.6  Manglende MF i det østlige, to stk. Værkstedet på Kh har lovet tre mer\n",
      " 9102          2        10.9  Banedanmark, defekt stød , 5 km/t over 100 meter. Skrevet 08.36, men f\n",
      " 9142          1        12.0  Politiet arbejder i Hyllie\n",
      " 9707          2        13.1  holder på kn og kan ikke køre\n",
      " 9809          2        22.5  Skinnebrud ved Kn. Sporvagt tilkaldt\n",
      "10474          1        18.0  Standser ekstra i Viby Sj. og Borup.. 4273 har figureret som aflyst \n",
      "10524          2        10.6  Signalfejl falsk besat blok\n",
      "10533          2        16.1  Signalfejl mellem Th og Hf\n",
      "10824          2        21.1  Strejke blandt tyske Lkf.\n",
      "10880          1        17.3  Der kan ikke samtales mellem 4F4 og resten af toget\n",
      "11005          1        12.8  Person i citytunnel Malmø\n",
      "11020          1        11.5  Øvrige Bdk. Signalfejl på Kk. Vi kan kun bruge spor 3 og 4.\n",
      "11435          2        17.0  Kørerstrøm : der er ikke noget strøm mellem Ru- NI\n",
      "11490          2        10.5  Trafik DK / Tyskland\n",
      "11535          1        14.9  E N K E L S P O R S D R I F T  KY - RG Der er fejlretningspersonale \n",
      "11597          1        10.5  FOKUSTOG      ( skrevet Kl. 17:11 )\n",
      "11691          1        13.3  Signalfejl. Blokfejl mellem Gadbjerg og Jelling.\n",
      "11858          1        13.2  Forsinkelser. Ophobning på Kh pga mange forsinkelser fra vest.\n",
      "12134          1        10.6  Materielfejl. Begge toiletter ude af drift. Ene aflåst stoppet og det \n",
      "12231          1        13.3  Forsinket 17 min. fra Kk, var ellers kørt til tiden fra Cph, men blev \n",
      "12278          2        10.0  2xME.. Prøvekørsler..\n",
      "12413          1        22.7  materieeldisponering: 43xx,43xx, 43xx\n",
      "12686          1        10.3  Forsinkelser på Kysten, 2071 overhaler 1371 undervejs\n",
      "12812          1        16.9  Fjernstyringen gået ned mellem Lg - Str\n",
      "12894          2        10.8  Bremsefejl JÆT+HL\n",
      "12920          2        15.5  NF fjernstyringen er gået ned.  der kan ikke stilles signal.\n",
      "12948          2        10.3  Falskbesættelse ved Gl\n",
      "13061          1        11.0  Signalfejl øresundstunnelen : PHM: AM 1144 og AM 1162 spor 1 Cph-Phm b\n",
      "13545          1        11.6  Bystrøm forsvundet, signaler og kørestrøm OK, men ingen strøm til skil\n",
      "13819          2        14.1  Togstop i citytunnlen i Malmø personer i sporet\n",
      "13971          2        10.2  Nedformeret fra Malmø, også skrevet 14.18\n",
      "13992          2        14.1  DB: forsinket 100 minutter fra Hmb. skrevet 20:59 fremskrevet til 03:0\n",
      "14474          2        11.4  Kalvebod er stået af melder Bdk.\n",
      "14914          1        20.8  Disponering BDK mistænkelig kuffert i spor 1 CPH\n",
      "15054          2        13.6  der er sporskiftefejl i  KV  ingen underretnig fra BDK\n",
      "15246          2        10.9  forsinkelser i nord Jylland\n",
      "15470          1        10.3  Påkørsel. Har ramt en ko ved Hb og er nu smurt ind i dyrerester. Chefv\n",
      "15671          2        13.3  Materielfejl ME : holder på Kn og har mistet luften\n",
      "15743          1        10.4  Der er sporskifte fejl i Køge.\n",
      "16178          1        10.1  Nedbrudt Kn..\n",
      "16184          1        11.4  Signalfejl i Jelling\n",
      "16225          1        10.2  Er PT lukket inde I 30'er gruppen på Kk. Vagten er bestilt, prognose u\n",
      "16810          1        12.5  MR erstatter MG i 3224-3229-3258-3257-3220-3227-3256-3247-3276-3101-32\n",
      "16835          2        10.5  Disponering Transdew. Toget nedformeret hvilket er sendt på mail kl 07\n",
      "16860          2        13.5  Signalfejl på Nørreport blok 1012 første hovedspor.\n",
      "18335          2        11.5  Signalfejl Htå, fastlægning mellem PU-er til spor 4 mod vest. Vagt til\n",
      "18586          2        11.2  fejl på sporskiftet i sts\n",
      "19136          2        10.5  PCCall Kh-Kk 19-21  Info. Der er folk på perrontaget ved spor 3/4 \n",
      "19143          2        10.8  Forkert mads ajourføring. I MADS er 1505 sat til at koble til 1F i tog\n",
      "19245          1        14.9  Nedreven køreledning I Malmø\n",
      "19413          2        15.1  Materielfejl. Magnetbremse. Holder ind i Vy og fejlsøger.\n",
      "19650          2        18.1  Bane danmark: Der er væltet et træ mellem Lundby og Vordingborg. Chefv\n",
      "19963          1        12.6  Rengøring. Ikke rengjort på Kk mellem 6543/95920. Togsættet flyder med\n",
      "20084          2        19.2  Heste på sporet, står ved Bilka syd for Aarhus To heste set af en bi\n",
      "20143          2        11.1  Kørsel med nedbrud fra VY. MG 5650\n",
      "20280          1        21.6  Muligt skinnebrud spor 1 Cph.\n",
      "20411          2        14.8  Vejrforhold, glatte skinner på Svendborgbanen efter kraftig regn\n",
      "20703          1        13.1  Sporspærringen mellem Tp-Hp bliver ikke færdig til tiden, måske 10 min\n"
     ]
    }
   ],
   "source": [
    "# prøver at forstå de linjer som er små, men som får en stor prediction\n",
    "print('linje   SkalVære  Prediction  Tekst')\n",
    "for i in range(1,len(predictions)):\n",
    "    if NumLines_test[i]<3 and predictions[i]>10:\n",
    "        PrtStr = (('%5.0f' % i) + '       ' + \n",
    "                  ('%4.0f' % NumLines_test[i]) + '        ' + \n",
    "                  ('%4.1f' % predictions[i]) + '  ' + \n",
    "                  texts_test[i][:70].replace('\\n', ' ').replace('\\r', ''))\n",
    "        print(PrtStr)"
   ]
  },
  {
   "cell_type": "code",
   "execution_count": 12,
   "metadata": {},
   "outputs": [
    {
     "name": "stdout",
     "output_type": "stream",
     "text": [
      "linje   SkalVære  Prediction  Tekst\n",
      "   34         32          21  Øresundsbroen er lukket pga. storm. skrevet 03:32\n",
      "  395          1          20  Ingen trafik imellem NI og HG pga. nedfaldet træer og kørerledning\n",
      " 1149         52          21  Øvrige BDK Skinnebrud mellem Sø og Hb\n",
      " 1302         45          21  Kørerstrøm : Manglende kørerstrøm mellem Ro og Rg 28/12. Disponeringer\n",
      " 1527         27          23  Bane: Skinnebrud mellem Lg o Hd, Standartprocnose iværksat kl 04:00 fo\n",
      " 2101         11          22  Vi får flere fejl  på infrastruktur mellem Lk og Es, så vi indstiller \n",
      " 2198          3          22  Der er skinnebrud ved Vk. Standardprognose 5 timer.\n",
      " 2410         25          21  Overgravet Kabel Ky: Alle 41xx tog vendes i Bo indtil kl 15\n",
      " 2593          9          22  Holder i Vi med fejl, lki på sagen  Strategi:  •\tTrafikal vurd\n",
      " 2812          6          23  •\tTrafikal vurdering: Forsinkelser 5-10 min fra Kk-Kh •\tPlan for ind\n",
      " 3281         38          20  Sporskiftefejl i Hellerup spor 1 udkørsels skiftet (laskebrud i/ved sp\n",
      " 3396        103          21  Personpåkørsel Tre U-vagten og Ch-vagten u\n",
      " 3699         22          21  44-systemet i egne linjer\n",
      " 3951         34          23  Od. Godstog gået i stå på vej ud af stationen. Skrevet kl. 07.55, frem\n",
      " 4020          3          21  Sporskiftet på Sts er stået af - plus Bdk har mistet kontrollen på sta\n",
      " 4084         12          20  Disponering DSB : opstart af 14xx system  da 13xx er aflyst resten a\n",
      " 4262          5          20  Disponering DSB, mgl ER Kk samt andet pga. personpåkørslen ved Md:\n",
      " 4478          4          20  Personpåkørsel i Sverige nord for Helsingborg\n",
      " 4899          4          22  Der er strejke blandt det de tyske Lkf. Chefvagten underettet\n",
      " 5180         19          22  G 36346 nedbrudt I Sg, Sp 2  Strategi:  •\tTrafikal vurdering: \n",
      " 5565         13          23  Prognose til kl. 13 Sporskiftefejl Rg, så 1228 må af v-spor Rg - Ky.\n",
      " 5630         10          21  Skinnebrud Øre. Det ene spor spærres i 2 timer\n",
      " 6478          5          22  muligt skinnebrud mellem  HQ-VN\n",
      " 7115         53          22  Sporskiftefejl. Kun et spor mellem Klampenborg og Hellerup. 20xx syste\n",
      " 7980         18          21  personpåkørsel i HK spor 2\n",
      " 8015         13          22  Alt fjernstyring på Lille Syd er død. Skrevet kl. 18.45.\n",
      " 8917         12          21  Akut sporspærring mellem Bavnehøj og Kalvebod og i spor 2 i Kastrup.\n",
      " 8923         56          20  Sporskiftefejl mellem Rungsted og Nivå. Chefvagt underrettet\n",
      " 9045         13          23  Standardprognose til klokken 08:00 ny prognose klokken 05:45 til klokk\n",
      " 9168         53          23  Skinnebrud 2 Hsp mellem KK og Kh.  15xx og 25xx  40xx   41xx  22 xx  s\n",
      " 9679         19          21  Signalfejl GD : fjernstyringsfejl begge retninger   Se Drap.192659\n",
      " 9704         45          21  Fremdateret fra kl. 9.21. Signalfejlen Ro - Vy. Det er defekte kabler,\n",
      " 9809          2          22  Skinnebrud ved Kn. Sporvagt tilkaldt\n",
      "10130         45          20  Der er observeret folk i spor 5 KH se drap.1793701\n",
      "10824          2          21  Strejke blandt tyske Lkf.\n",
      "11152          5          21  Vi mangler adskillige MF´ere pga forsinkelserne fra vest.. Derfor:\n",
      "11161         17          21  Fjernstyring nedbrud Kh-Cph, Chefvagt underrettet Tiden rettet fra 09:\n",
      "11416          8          20  Holder i MD, der er ingen kørestrøm, det menes i KA. at køreledningen \n",
      "11915         20          21  Skinnebrud Ky spor 2 så V-sporskørsel Ky - Rg, varer indtil kl. 15. (S\n",
      "12109         30          21  Ændret vendinger Kh, pga. beskadiget sporskifte spor 8 Kh.\n",
      "12244          5          21  Fjernstyringsfejl i Tyskland betyder vi ikke kan køre mellem Flb og Hm\n",
      "12333         15          23  Fp-Rd. Sydgående spor er spærret af sporvagten, grundet mistanke om en\n",
      "12413          1          23  materieeldisponering: 43xx,43xx, 43xx\n",
      "12555          3          21  Personpåkørsel spor 7 Kh\n",
      "12758         27          21  Har ramt et eller andet ved udkørsel Kd. Lkf. er gået ud tjekke.  \n",
      "13320          8          21  Mellem Gl-Hif efter nødopløsning til 6002.\n",
      "13595          4          21  Køreledning der hænger en vimpel i køreledningen i HH\n",
      "13833         85          22  Ingen kørestrøm mellem Odense og Årup.   køreledning ved Odense indkør\n",
      "14393         28          22  Falsk besættelse. Vagt er tilkaldt kl ca 03:40. Evt skal 41xx systemet\n",
      "14667         29          23  Laskebrud Ky-Bo  Standardprognose 2 timer til 19.30  Folænget \n",
      "14701          3          21  Bane: Mistet kontrollen på sporskiftet i Kalvebod, Vagten tilkaldt\n",
      "14721          6          20  Disponering DSB/BDK pga. dæmningsskred spærres nordgående spor Hinneru\n",
      "14914          1          21  Disponering BDK mistænkelig kuffert i spor 1 CPH\n",
      "15233          9          22  Skinnebrud mellem KH og Østerport\n",
      "16077          4          21  Skinnebrud i FJ. Sporvagt på vej\n",
      "16236          4          22  Skinnebrud i Klampenborg mod nord - foreløbing prognose 3 timer\n",
      "16313         14          20  Signalfejl. Kh. To faste blokke mellem Kk og Kh. Der forbirangeres. Si\n",
      "17090         19          21  Køreledning Dybbelsbro og Person i sporet\n",
      "17323         42          21  Skinnebrud på Orehoved, standardprognose på 5 timer - dvs til ca. kl 1\n",
      "17491         37          22  Sporskiftefejl, Sporskifteproblemer på Østerport vi kan ikke køre både\n",
      "17530         36          22  kl 08:13- Personpåkørsel mellem Slagelse og Sorø\n",
      "17707         32          20  Spærringen mellem SQ-NI, kan ikke ophæves før kl 6.\n",
      "17945          5          21  Der mangler lidt ER-sæt hist og her. Derfor disse ændringer... (skreve\n",
      "18305         22          23  Personpåkørsel øst for Borup.. Chefvagt u..\n",
      "18363         17          22  Disponering DSB : L + Ic kobles  pga. udbedring af nedfalden køreledni\n",
      "19575         68          21  Personpåkørsel ved HL. U_vagt er underrettet\n",
      "19577         20          22  Signalfejl: der er signalfejl mellem sts og Svg Skrevet 5:40\n",
      "19848         86          20  Køreledningsnedfald ved KL, 20xx-systemet, frem til ca. 16.30 (sket ca\n",
      "19988          3          20  Laske brud ved HGL. anden hovedspor mod KK.\n",
      "20148          5          23  Et godstog er gået i stå i Vy  Strategi:  •\tTrafikal vurdering\n",
      "20280          1          22  Muligt skinnebrud spor 1 Cph.\n",
      "20330          6          22  SIGNALFEJL: Mistet kontrollen på sporskifterne i TP i Vest enden\n"
     ]
    }
   ],
   "source": [
    "# prøver at forstå de linjer som modellen mener er store (predict > 20)\n",
    "print('linje   SkalVære  Prediction  Tekst')\n",
    "for i in range(1,len(predictions)):\n",
    "    if predictions[i]>20:\n",
    "        PrtStr = (('%5.0f' % i) + '       ' + \n",
    "                  ('%4.0f' % NumLines_test[i]) + '        ' + \n",
    "                  ('%4.0f' % predictions[i]) + '  ' + \n",
    "                  texts_test[i][:70].replace('\\n', ' ').replace('\\r', ''))\n",
    "        print(PrtStr)"
   ]
  }
 ],
 "metadata": {
  "kernelspec": {
   "display_name": "Python 3",
   "language": "python",
   "name": "python3"
  },
  "language_info": {
   "codemirror_mode": {
    "name": "ipython",
    "version": 3
   },
   "file_extension": ".py",
   "mimetype": "text/x-python",
   "name": "python",
   "nbconvert_exporter": "python",
   "pygments_lexer": "ipython3",
   "version": "3.6.4"
  }
 },
 "nbformat": 4,
 "nbformat_minor": 2
}
