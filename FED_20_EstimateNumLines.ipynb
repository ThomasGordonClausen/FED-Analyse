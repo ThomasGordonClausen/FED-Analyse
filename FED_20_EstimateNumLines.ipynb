{
 "cells": [
  {
   "cell_type": "markdown",
   "metadata": {},
   "source": [
    "# Lineær regression - Kan vi estimere antallet af linjer\n",
    "\n",
    "- **Problem:** Kan jeg med ML estimere antallet af linjer en FED overskrift giver anledning til? Mine input data er FED data, hvor jeg har samlet en overskrift og det tilhørende *antal* linjer strategi hørende til overskriften. Dette er et lineært problem\n",
    "- **Succes er** Jeg vil undersøge om en simpel model kan finde sammenhængen. Jeg håber på det bedste, men er skeptisk, for jeg kan ikke selv se et klart mønster ...\n",
    "- **Evaluering** Modellen evalueres ved at jeg deler data op i train, validering og test. train og validering opdeles atomatisk af Keras\n",
    "- **Data** hentes ud af FED i en tekst-fil. Den videre behandling sker i en Access-database og i et regneark. Input gemmes til sidst i et regneark\n",
    "- **Baseline** Selv den bedste model har ikke rigtigt gjort det godt ind til nu, der er nok ikke system i data?\n",
    "- **Optimering vs generalisering** Den får vi se på ...\n",
    "- **Tuning hyper pametre** Den får vi se på ... \n",
    "\n",
    "Nedenfor er et par eksempler på hvordan data rigtigt ser ud. I eksemplet er en kort tekst med otte strategilinjer. Og den timsvarende omsættelse til inddata til modellen.\n",
    "\n",
    "![title](FEDentry.GIF)\n",
    "![title](FEDentry2.GIF)\n",
    "\n",
    "### Konklusion\n",
    "1. forsøg: Jeg har nok 'Imbalanced Classes', så algoritmen har alt at vinde ved altid at gætte på 1?"
   ]
  },
  {
   "cell_type": "code",
   "execution_count": 1,
   "metadata": {},
   "outputs": [],
   "source": [
    "# vi sætter stien til data\n",
    "import os\n",
    "import pandas as pd\n",
    "import numpy as np\n",
    "os.chdir('/Users/ThomasGordon/Documents/PythonScripts/FED')\n"
   ]
  },
  {
   "cell_type": "code",
   "execution_count": 2,
   "metadata": {},
   "outputs": [],
   "source": [
    "# Excel-filen med tekster åbnes og indlæses\n",
    "xl = pd.ExcelFile('FED_test.xlsx')\n",
    "df = xl.parse('FEDlinjer')       # siden i arket\n",
    "\n",
    "# læs overskrifter i FED\n",
    "texts  = df.loc[:,'FEDtext']\n",
    "texts  = texts.values\n",
    "\n",
    "# læs antal linjer og omsæt til \"stor hændelse\" eller \"lille hændelse\"\n",
    "NumLines = df.loc[:,'FEDlinjer']\n",
    "NumLines = NumLines.values\n",
    "\n",
    "# vi rafler data rundt tilfældigt (vi laver et tilfældigt index)\n",
    "indices = np.arange(texts.shape[0])\n",
    "np.random.shuffle(indices)\n",
    "texts   = texts[indices]\n",
    "NumLines = NumLines[indices]\n",
    "\n",
    "# opdeling i training data og test data\n",
    "i = 15000  # antal linjer afsat til træning, resten er test\n",
    "texts_train = texts[:i]\n",
    "texts_test  = texts[i:] \n",
    "NumLines_train = NumLines[:i]\n",
    "NumLines_test  = NumLines[i:]"
   ]
  },
  {
   "cell_type": "code",
   "execution_count": 3,
   "metadata": {},
   "outputs": [
    {
     "name": "stderr",
     "output_type": "stream",
     "text": [
      "C:\\Users\\ThomasGordon\\Anaconda3\\lib\\site-packages\\h5py\\__init__.py:36: FutureWarning: Conversion of the second argument of issubdtype from `float` to `np.floating` is deprecated. In future, it will be treated as `np.float64 == np.dtype(float).type`.\n",
      "  from ._conv import register_converters as _register_converters\n",
      "Using TensorFlow backend.\n"
     ]
    },
    {
     "name": "stdout",
     "output_type": "stream",
     "text": [
      "Fandt 10426 unikke tokens.\n"
     ]
    }
   ],
   "source": [
    "# TOKENIZER - laver tekst om til vektor, henter text processing modul\n",
    "\n",
    "from keras.preprocessing.text import Tokenizer\n",
    "from keras.preprocessing.sequence import pad_sequences\n",
    "\n",
    "max_words = 10000  # Vi ser kun på de 10.000 mest almindelige ord\n",
    "\n",
    "# vi laver ordene i FED om til tilsvarende tal (som nedenfor laves til en \"one-hot\")\n",
    "tokenizer = Tokenizer(num_words=max_words)\n",
    "tokenizer.fit_on_texts(texts)\n",
    "word_index = tokenizer.word_index\n",
    "print('Fandt %s unikke tokens.' % len(word_index))"
   ]
  },
  {
   "cell_type": "code",
   "execution_count": 4,
   "metadata": {},
   "outputs": [
    {
     "name": "stdout",
     "output_type": "stream",
     "text": [
      "(15000, 10000)\n",
      "(6148, 10000)\n",
      "(15000,)\n",
      "(6148,)\n"
     ]
    }
   ],
   "source": [
    "# sætninger laves om til en \"one hot\" data vektor\n",
    "# tester ...\n",
    "data_train = tokenizer.texts_to_matrix(texts_train, mode='binary')\n",
    "data_test  = tokenizer.texts_to_matrix(texts_test,  mode='binary')\n",
    "\n",
    "# labels laves til vektor\n",
    "NumLines_train = np.asarray(NumLines_train).astype('float32')\n",
    "NumLines_test = np.asarray(NumLines_test).astype('float32')\n",
    "\n",
    "# print størrelsen på train og test data\n",
    "print(data_train.shape)\n",
    "print(data_test.shape)\n",
    "print(NumLines_train.shape)\n",
    "print(NumLines_test.shape)"
   ]
  },
  {
   "cell_type": "code",
   "execution_count": 5,
   "metadata": {},
   "outputs": [
    {
     "name": "stdout",
     "output_type": "stream",
     "text": [
      "_________________________________________________________________\n",
      "Layer (type)                 Output Shape              Param #   \n",
      "=================================================================\n",
      "dense_1 (Dense)              (None, 16)                160016    \n",
      "_________________________________________________________________\n",
      "dense_2 (Dense)              (None, 16)                272       \n",
      "_________________________________________________________________\n",
      "dropout_1 (Dropout)          (None, 16)                0         \n",
      "_________________________________________________________________\n",
      "dense_3 (Dense)              (None, 1)                 17        \n",
      "=================================================================\n",
      "Total params: 160,305\n",
      "Trainable params: 160,305\n",
      "Non-trainable params: 0\n",
      "_________________________________________________________________\n"
     ]
    }
   ],
   "source": [
    "from keras import models\n",
    "from keras import layers\n",
    "\n",
    "model = models.Sequential()\n",
    "model.add(layers.Dense(16, activation='relu', input_shape=(10000,)))\n",
    "model.add(layers.Dense(16, activation='relu'))\n",
    "model.add(layers.Dropout(0.5))\n",
    "model.add(layers.Dense(1, activation='sigmoid'))\n",
    "\n",
    "model.compile(optimizer='rmsprop',\n",
    "              loss='mse',\n",
    "              metrics=['mae'])\n",
    "\n",
    "model.summary()"
   ]
  },
  {
   "cell_type": "code",
   "execution_count": 6,
   "metadata": {},
   "outputs": [
    {
     "name": "stdout",
     "output_type": "stream",
     "text": [
      "Train on 12000 samples, validate on 3000 samples\n",
      "Epoch 1/10\n",
      "12000/12000 [==============================] - 4s 324us/step - loss: 125.6366 - mean_absolute_error: 7.4148 - val_loss: 132.7383 - val_mean_absolute_error: 7.4043\n",
      "Epoch 2/10\n",
      "12000/12000 [==============================] - 2s 128us/step - loss: 123.6734 - mean_absolute_error: 7.2831 - val_loss: 130.7283 - val_mean_absolute_error: 7.2701\n",
      "Epoch 3/10\n",
      "12000/12000 [==============================] - 2s 125us/step - loss: 122.1602 - mean_absolute_error: 7.1774 - val_loss: 129.3625 - val_mean_absolute_error: 7.1741\n",
      "Epoch 4/10\n",
      "12000/12000 [==============================] - 1s 124us/step - loss: 121.1389 - mean_absolute_error: 7.1034 - val_loss: 128.6008 - val_mean_absolute_error: 7.1181\n",
      "Epoch 5/10\n",
      "12000/12000 [==============================] - 1s 124us/step - loss: 120.4547 - mean_absolute_error: 7.0577 - val_loss: 128.2045 - val_mean_absolute_error: 7.0876\n",
      "Epoch 6/10\n",
      "12000/12000 [==============================] - 1s 120us/step - loss: 120.1057 - mean_absolute_error: 7.0310 - val_loss: 128.0111 - val_mean_absolute_error: 7.0721\n",
      "Epoch 7/10\n",
      "12000/12000 [==============================] - 1s 122us/step - loss: 119.8826 - mean_absolute_error: 7.0149 - val_loss: 127.9185 - val_mean_absolute_error: 7.0644\n",
      "Epoch 8/10\n",
      "12000/12000 [==============================] - 1s 122us/step - loss: 119.7500 - mean_absolute_error: 7.0056 - val_loss: 127.8754 - val_mean_absolute_error: 7.0608\n",
      "Epoch 9/10\n",
      "12000/12000 [==============================] - 1s 123us/step - loss: 119.6747 - mean_absolute_error: 6.9994 - val_loss: 127.8555 - val_mean_absolute_error: 7.0591\n",
      "Epoch 10/10\n",
      "12000/12000 [==============================] - 2s 125us/step - loss: 119.6181 - mean_absolute_error: 6.9959 - val_loss: 127.8463 - val_mean_absolute_error: 7.0584\n"
     ]
    }
   ],
   "source": [
    "NumEpochs = 10\n",
    "history = model.fit(data_train, NumLines_train,\n",
    "                    epochs=NumEpochs,\n",
    "                    batch_size=512,\n",
    "                    validation_split=0.2)"
   ]
  },
  {
   "cell_type": "code",
   "execution_count": 7,
   "metadata": {},
   "outputs": [
    {
     "data": {
      "text/plain": [
       "dict_keys(['val_loss', 'val_mean_absolute_error', 'loss', 'mean_absolute_error'])"
      ]
     },
     "execution_count": 7,
     "metadata": {},
     "output_type": "execute_result"
    }
   ],
   "source": [
    "history_dict = history.history\n",
    "history_dict.keys()"
   ]
  },
  {
   "cell_type": "code",
   "execution_count": 8,
   "metadata": {},
   "outputs": [],
   "source": [
    "import matplotlib.pyplot as plt\n",
    "plt.show()"
   ]
  },
  {
   "cell_type": "code",
   "execution_count": 9,
   "metadata": {},
   "outputs": [
    {
     "data": {
      "image/png": "[encoded data removed]",
      "text/plain": [
       "<matplotlib.figure.Figure at 0x2009235d710>"
      ]
     },
     "metadata": {},
     "output_type": "display_data"
    }
   ],
   "source": [
    "# plotter historikken for 'loss'\n",
    "loss = history.history['loss']\n",
    "val_loss = history.history['val_loss']\n",
    "epochs = range(1, NumEpochs+1)\n",
    "\n",
    "plt.plot(epochs, loss, 'bo', label='Training loss')       # bo = \"blue dot\"\n",
    "plt.plot(epochs, val_loss, 'b', label='Validation loss')  # b  = \"solid blue line\"\n",
    "plt.title('Training and validation loss')\n",
    "plt.xlabel('Epochs')\n",
    "plt.ylabel('Loss')\n",
    "plt.legend()\n",
    "\n",
    "plt.show()"
   ]
  },
  {
   "cell_type": "code",
   "execution_count": 10,
   "metadata": {},
   "outputs": [
    {
     "data": {
      "image/png": "[encoded data removed]",
      "text/plain": [
       "<matplotlib.figure.Figure at 0x20092389160>"
      ]
     },
     "metadata": {},
     "output_type": "display_data"
    }
   ],
   "source": [
    "# plotter historikken for mae\n",
    "plt.clf()   # clear figure\n",
    "\n",
    "mae = history.history['mean_absolute_error']\n",
    "val_mae = history.history['val_mean_absolute_error']\n",
    "\n",
    "\n",
    "#acc_values = history_dict['acc']\n",
    "#val_acc_values = history_dict['val_acc']\n",
    "\n",
    "plt.plot(epochs, mae, 'bo', label='Training acc')\n",
    "plt.plot(epochs, val_mae, 'b', label='Validation acc')\n",
    "plt.title('Training and validation accuracy')\n",
    "plt.xlabel('Epochs')\n",
    "plt.ylabel('Loss')\n",
    "plt.legend()\n",
    "\n",
    "plt.show()"
   ]
  },
  {
   "cell_type": "markdown",
   "metadata": {},
   "source": [
    "# Validering af modellen på test data\n",
    "Her indlæser vi så test data, helt nye data til test"
   ]
  },
  {
   "cell_type": "code",
   "execution_count": 11,
   "metadata": {},
   "outputs": [
    {
     "name": "stdout",
     "output_type": "stream",
     "text": [
      "1.0000\n",
      "0.9997\n",
      "1.0000\n",
      "1.0000\n",
      "0.9999\n",
      "1.0000\n",
      "1.0000\n",
      "0.9994\n",
      "1.0000\n",
      "1.0000\n",
      "1.0000\n",
      "0.9999\n",
      "1.0000\n",
      "1.0000\n",
      "0.9997\n",
      "1.0000\n",
      "1.0000\n",
      "0.9996\n",
      "1.0000\n",
      "1.0000\n",
      "1.0000\n",
      "1.0000\n",
      "0.9961\n",
      "0.9991\n",
      "1.0000\n",
      "0.9961\n",
      "1.0000\n",
      "0.9996\n",
      "0.9997\n",
      "1.0000\n",
      "0.9995\n",
      "1.0000\n",
      "0.9986\n",
      "1.0000\n",
      "1.0000\n",
      "1.0000\n",
      "1.0000\n",
      "1.0000\n",
      "1.0000\n",
      "1.0000\n",
      "0.9943\n",
      "1.0000\n",
      "1.0000\n",
      "1.0000\n",
      "1.0000\n",
      "1.0000\n",
      "1.0000\n",
      "0.9994\n",
      "0.9962\n",
      "1.0000\n",
      "0.9997\n",
      "1.0000\n",
      "0.9968\n",
      "1.0000\n",
      "0.9914\n",
      "1.0000\n",
      "1.0000\n",
      "0.9996\n",
      "1.0000\n",
      "0.9961\n",
      "1.0000\n",
      "1.0000\n",
      "1.0000\n",
      "1.0000\n",
      "1.0000\n",
      "1.0000\n",
      "1.0000\n",
      "0.9991\n",
      "1.0000\n",
      "0.9998\n",
      "0.9999\n",
      "1.0000\n",
      "0.9996\n",
      "1.0000\n",
      "1.0000\n",
      "1.0000\n",
      "0.9962\n",
      "0.9998\n",
      "1.0000\n",
      "1.0000\n",
      "1.0000\n",
      "1.0000\n",
      "1.0000\n",
      "1.0000\n",
      "0.9994\n",
      "1.0000\n",
      "1.0000\n",
      "1.0000\n",
      "1.0000\n",
      "1.0000\n",
      "1.0000\n",
      "1.0000\n",
      "1.0000\n",
      "1.0000\n",
      "0.9975\n",
      "1.0000\n",
      "1.0000\n",
      "0.9999\n",
      "1.0000\n"
     ]
    }
   ],
   "source": [
    "# vi prøver modellen på test-data\n",
    "\n",
    "predictions = model.predict(data_test)\n",
    "\n",
    "for i in range(1,100):\n",
    "    print(('%1.4f' % predictions[i]))"
   ]
  },
  {
   "cell_type": "code",
   "execution_count": null,
   "metadata": {},
   "outputs": [],
   "source": [
    "# finder ud af hvor stor en del store, som er fundet\n",
    "\n",
    "print('Antal store i datasættet:    ', sum(labels_test))\n",
    "NumEstimated = 0\n",
    "for i in range(1,6000):\n",
    "    if predictions[i]>0.4 and labels_test[i]:\n",
    "        NumEstimated += 1\n",
    "print('antal estimeret af modellen: ', NumEstimated)\n",
    "print('Modellens præcision:         ', round(NumEstimated/sum(labels_test)*100), '%')"
   ]
  },
  {
   "cell_type": "code",
   "execution_count": null,
   "metadata": {},
   "outputs": [],
   "source": [
    "# Gennemsnittet for rigtig og forkert\n",
    "\n",
    "print(' Gennemsnit for test stor og lille')\n",
    "print(np.average([x for i, x in enumerate(predictions) if labels_test[i]]))\n",
    "print(np.average([x for i, x in enumerate(predictions) if not labels_test[i]]))"
   ]
  },
  {
   "cell_type": "code",
   "execution_count": null,
   "metadata": {},
   "outputs": [],
   "source": [
    "# jeg prøver at printe linjenummer, prediction og tekststreng for dem som er store = \"rigtige\"\n",
    "\n",
    "print('Jeg printer nogle liner som er sande i test data:')\n",
    "for i in range(1,300):\n",
    "    if labels_test[i]==1:\n",
    "        PrtStr = ('%4.0f' % i) + '  ' + ('%1.4f' % predictions[i]) + '  ' + texts_test[i][:100].replace('\\n', ' ').replace('\\r', '')\n",
    "        print(PrtStr) "
   ]
  },
  {
   "cell_type": "code",
   "execution_count": null,
   "metadata": {},
   "outputs": [],
   "source": [
    "# jeg prøver lige at plotte \"predictions i et histogram\n",
    "\n",
    "# hent data for store og små i to arrays, lav til et np array, så plotteren kan forstå data\n",
    "PlotDataSand = [x for i, x in enumerate(predictions) if labels_test[i]]\n",
    "PlotDataSand = np.array(PlotDataSand)\n",
    "PlotDataFalsk = [x for i, x in enumerate(predictions) if not labels_test[i]]\n",
    "PlotDataFalsk = np.array(PlotDataFalsk)\n",
    "\n",
    "plt.clf()  # clear figure\n",
    "plt.hist(PlotDataSand, bins=50, alpha=0.6, label='store')  # 50 bins, halv hennemsigtig\n",
    "plt.hist(PlotDataFalsk, bins=50, alpha=0.6, label='små')\n",
    "plt.legend(loc='upper right')\n",
    "plt.ylim([0, 200])\n",
    "\n",
    "plt.show()"
   ]
  },
  {
   "cell_type": "markdown",
   "metadata": {},
   "source": [
    "UHA UHA, alt for mange af de sande har en værdi tæt på 0 ..."
   ]
  },
  {
   "cell_type": "markdown",
   "metadata": {},
   "source": [
    "### Modellen er ikke specielt præcis. jeg checker lige efter på træninsdata, dem kan man håbe den har lært bedre at kende???"
   ]
  },
  {
   "cell_type": "code",
   "execution_count": null,
   "metadata": {},
   "outputs": [],
   "source": [
    "# vi prøver modellen på test-data\n",
    "\n",
    "predictions = model.predict(data_train)\n",
    "\n",
    "# print de første predictions\n",
    "for i in range(1,10):\n",
    "    print(('%1.4f' % predictions[i]))"
   ]
  },
  {
   "cell_type": "code",
   "execution_count": null,
   "metadata": {},
   "outputs": [],
   "source": [
    "# finder ud af hvor stor en del store, som er fundet\n",
    "\n",
    "print('Antal store i datasættet:    ', sum(labels_train))\n",
    "NumEstimated = 0\n",
    "for i in range(1,len(labels_train)):\n",
    "    if predictions[i]>0.4 and labels_train[i]:\n",
    "        NumEstimated += 1\n",
    "print('antal estimeret af modellen: ', NumEstimated)\n",
    "print('Modellens præcision:         ', round(NumEstimated/sum(labels_train)*100), '%')"
   ]
  },
  {
   "cell_type": "code",
   "execution_count": null,
   "metadata": {},
   "outputs": [],
   "source": [
    "# jeg prøver at printe linjenummer, prediction og tekststreng, som er RIGTIGE (store)\n",
    "\n",
    "print('Nogle linjer som er SANDE i train data:')\n",
    "for i in range(1,300):\n",
    "    if labels_train[i]==1:\n",
    "        PrtStr = ('%4.0f' % i) + '  ' + ('%1.4f' % predictions[i]) + '  ' + texts[i][:100].replace('\\n', ' ').replace('\\r', '')\n",
    "        print(PrtStr) "
   ]
  },
  {
   "cell_type": "code",
   "execution_count": null,
   "metadata": {},
   "outputs": [],
   "source": [
    "# jeg prøver at printe linjenummer, prediction og tekststreng, som er FORKERTE (små)\n",
    "\n",
    "print('Nogle linjer som er FALSKE i train data:')\n",
    "for i in range(1,200):\n",
    "    if labels[i]==0:\n",
    "        PrtStr = ('%4.0f' % i) + '  ' + ('%1.4f' % predictions[i]) + '  ' + texts[i][:100].replace('\\n', ' ').replace('\\r', '')\n",
    "        print(PrtStr) "
   ]
  },
  {
   "cell_type": "code",
   "execution_count": null,
   "metadata": {},
   "outputs": [],
   "source": [
    "# finder gennemsnittet for dem som er rigtige og forkerte\n",
    "\n",
    "print(' Gennemsnit for ttrain stor og lille')\n",
    "print(np.average([x for i, x in enumerate(predictions) if labels[i]]))\n",
    "print(np.average([x for i, x in enumerate(predictions) if not labels[i]]))"
   ]
  },
  {
   "cell_type": "code",
   "execution_count": null,
   "metadata": {},
   "outputs": [],
   "source": [
    "# jeg prøver lige at plotte \"predictions i et histogram\n",
    "\n",
    "# hent data for store og små i to arrays, lav til et np array, så plotteren kan forstå data\n",
    "PlotDataSand = [x for i, x in enumerate(predictions) if labels_train[i]]\n",
    "PlotDataSand = np.array(PlotDataSand)\n",
    "PlotDataFalsk = [x for i, x in enumerate(predictions) if not labels_train[i]]\n",
    "PlotDataFalsk = np.array(PlotDataFalsk)\n",
    "\n",
    "plt.clf()  # clear figure\n",
    "plt.hist(PlotDataSand, bins=50, alpha=0.6, label='store train')  # 50 bins, halv hennemsigtig\n",
    "plt.hist(PlotDataFalsk, bins=50, alpha=0.6, label='små train')\n",
    "plt.legend(loc='upper right')\n",
    "plt.ylim([0, 1000])\n",
    "\n",
    "plt.show()"
   ]
  },
  {
   "cell_type": "code",
   "execution_count": null,
   "metadata": {},
   "outputs": [],
   "source": [
    "# vi rafler data rundt tilfældigt (vi laver et tilfældigt index)\n",
    "indices = np.arange(texts.shape[0])\n",
    "np.random.shuffle(indices)\n",
    "texts   = texts[indices]\n",
    "labels = labels[indices]"
   ]
  }
 ],
 "metadata": {
  "kernelspec": {
   "display_name": "Python 3",
   "language": "python",
   "name": "python3"
  },
  "language_info": {
   "codemirror_mode": {
    "name": "ipython",
    "version": 3
   },
   "file_extension": ".py",
   "mimetype": "text/x-python",
   "name": "python",
   "nbconvert_exporter": "python",
   "pygments_lexer": "ipython3",
   "version": "3.6.4"
  }
 },
 "nbformat": 4,
 "nbformat_minor": 2
}
